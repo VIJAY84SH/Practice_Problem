{
 "cells": [
  {
   "cell_type": "markdown",
   "id": "461f7342",
   "metadata": {},
   "source": [
    "## While Loop"
   ]
  },
  {
   "cell_type": "markdown",
   "id": "2f7b5c90",
   "metadata": {},
   "source": [
    "\n",
    "- While loop is a conditional loop which executed only\n",
    "\n",
    "  till the condition is \"True\" once the condition is \n",
    "  \"False\" the loop will terminated"
   ]
  },
  {
   "cell_type": "markdown",
   "id": "7335a327",
   "metadata": {},
   "source": [
    "### Q.1 Take 10 integers from keyboard using loop and print their average value on the screen"
   ]
  },
  {
   "cell_type": "code",
   "execution_count": 1,
   "id": "cb9694fd",
   "metadata": {},
   "outputs": [
    {
     "name": "stdout",
     "output_type": "stream",
     "text": [
      "5\n",
      "5\n",
      "5\n",
      "5\n",
      "5\n",
      "5\n",
      "5\n",
      "5\n",
      "5\n",
      "5\n",
      "Average =  5.0\n"
     ]
    }
   ],
   "source": [
    "\n",
    "a = 10\n",
    "sum = 0\n",
    "while a>0:\n",
    "    b =int(input())\n",
    "    a=a-1\n",
    "    sum=sum +b\n",
    "print(\"Average = \",sum/10)\n"
   ]
  },
  {
   "cell_type": "markdown",
   "id": "9c4d1c49",
   "metadata": {},
   "source": [
    "## Q.2 Print multiplication table of 24, 50 and 29 using loop."
   ]
  },
  {
   "cell_type": "code",
   "execution_count": 3,
   "id": "6f6a9fec",
   "metadata": {},
   "outputs": [
    {
     "name": "stdout",
     "output_type": "stream",
     "text": [
      "24 * 1 = 24\n",
      "24 * 2 = 48\n",
      "24 * 3 = 72\n",
      "24 * 4 = 96\n",
      "24 * 5 = 120\n",
      "24 * 6 = 144\n",
      "24 * 7 = 168\n",
      "24 * 8 = 192\n",
      "24 * 9 = 216\n",
      "24 * 10 = 240\n"
     ]
    }
   ],
   "source": [
    "a =24\n",
    "b =1\n",
    "while b<=10:\n",
    "    print(a,\"*\",b,\"=\",a*b)\n",
    "    b = b+1\n"
   ]
  },
  {
   "cell_type": "code",
   "execution_count": 4,
   "id": "050f984f",
   "metadata": {},
   "outputs": [
    {
     "name": "stdout",
     "output_type": "stream",
     "text": [
      "50 * 1 = 50\n",
      "50 * 2 = 100\n",
      "50 * 3 = 150\n",
      "50 * 4 = 200\n",
      "50 * 5 = 250\n",
      "50 * 6 = 300\n",
      "50 * 7 = 350\n",
      "50 * 8 = 400\n",
      "50 * 9 = 450\n",
      "50 * 10 = 500\n"
     ]
    }
   ],
   "source": [
    "a = 50\n",
    "b = 1\n",
    "while b<=10:\n",
    "    print(a,\"*\",b,\"=\",a*b)\n",
    "    b = b+1"
   ]
  },
  {
   "cell_type": "code",
   "execution_count": 5,
   "id": "6d5f3c59",
   "metadata": {},
   "outputs": [
    {
     "name": "stdout",
     "output_type": "stream",
     "text": [
      "29 * 1 = 29\n",
      "29 * 2 = 58\n",
      "29 * 3 = 87\n",
      "29 * 4 = 116\n",
      "29 * 5 = 145\n",
      "29 * 6 = 174\n",
      "29 * 7 = 203\n",
      "29 * 8 = 232\n",
      "29 * 9 = 261\n",
      "29 * 10 = 290\n"
     ]
    }
   ],
   "source": [
    "a = 29\n",
    "b = 1\n",
    "while b<=10:\n",
    "    print(a,\"*\",b,\"=\",a*b)\n",
    "    b = b+1"
   ]
  },
  {
   "cell_type": "markdown",
   "id": "422dfa31",
   "metadata": {},
   "source": [
    "#### Write an infinite loop.\n",
    "A inifinte loop never ends. Condition is always true."
   ]
  },
  {
   "cell_type": "markdown",
   "id": "2c3c8a8c",
   "metadata": {},
   "source": [
    "#### Ans : "
   ]
  },
  {
   "cell_type": "markdown",
   "id": "9af3ac6c",
   "metadata": {},
   "source": [
    "#while True:\n",
    "\n",
    "    print(\"infinite\")"
   ]
  },
  {
   "cell_type": "markdown",
   "id": "f8f855eb",
   "metadata": {},
   "source": [
    "### Q. 3 Factorial of any number n is represented by n! and is equal to 1*2*3*....*(n-1)*n.\n",
    "E.g.-\n",
    "\n",
    "4! = 1*2*3*4 = 24\n",
    "\n",
    "3! = 3*2*1 = 6\n",
    "\n",
    "2! = 2*1 = 2\n",
    "\n",
    "Also,\n",
    "\n",
    "1! = 1\n",
    "\n",
    "0! = 1\n",
    "\n",
    "Write a program to calculate factorial of a number."
   ]
  },
  {
   "cell_type": "code",
   "execution_count": 14,
   "id": "ac4a3c4a",
   "metadata": {},
   "outputs": [
    {
     "name": "stdout",
     "output_type": "stream",
     "text": [
      "Enter the number : 0\n",
      "1\n"
     ]
    }
   ],
   "source": [
    "n = int(input(\"Enter the number : \"))\n",
    "fac = 1\n",
    "if n ==0:\n",
    "    print(1)\n",
    "else:\n",
    "    while n>=1:\n",
    "        fac=fac*n\n",
    "        n = n-1\n",
    "    print(fac)"
   ]
  },
  {
   "cell_type": "code",
   "execution_count": 9,
   "id": "8a768d1c",
   "metadata": {},
   "outputs": [
    {
     "name": "stdout",
     "output_type": "stream",
     "text": [
      "5\n",
      "120\n"
     ]
    }
   ],
   "source": []
  },
  {
   "cell_type": "code",
   "execution_count": 23,
   "id": "3334c74c",
   "metadata": {},
   "outputs": [
    {
     "name": "stdout",
     "output_type": "stream",
     "text": [
      "Enter first number : \n",
      "7\n",
      "Enter second number\n",
      "13\n",
      "1\n"
     ]
    }
   ],
   "source": []
  },
  {
   "cell_type": "code",
   "execution_count": null,
   "id": "9bf87fbd",
   "metadata": {},
   "outputs": [],
   "source": []
  }
 ],
 "metadata": {
  "kernelspec": {
   "display_name": "Python 3 (ipykernel)",
   "language": "python",
   "name": "python3"
  },
  "language_info": {
   "codemirror_mode": {
    "name": "ipython",
    "version": 3
   },
   "file_extension": ".py",
   "mimetype": "text/x-python",
   "name": "python",
   "nbconvert_exporter": "python",
   "pygments_lexer": "ipython3",
   "version": "3.9.13"
  }
 },
 "nbformat": 4,
 "nbformat_minor": 5
}
