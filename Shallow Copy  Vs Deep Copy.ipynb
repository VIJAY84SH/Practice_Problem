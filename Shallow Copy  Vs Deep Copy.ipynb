{
 "cells": [
  {
   "cell_type": "code",
   "execution_count": 77,
   "id": "dace85fe",
   "metadata": {},
   "outputs": [],
   "source": [
    "lst1 = [1,2,3,4]\n",
    "lst2 = lst1"
   ]
  },
  {
   "cell_type": "code",
   "execution_count": 78,
   "id": "8279d4c8",
   "metadata": {},
   "outputs": [
    {
     "data": {
      "text/plain": [
       "[1, 2, 3, 4]"
      ]
     },
     "execution_count": 78,
     "metadata": {},
     "output_type": "execute_result"
    }
   ],
   "source": [
    "lst1"
   ]
  },
  {
   "cell_type": "code",
   "execution_count": 79,
   "id": "e6438475",
   "metadata": {},
   "outputs": [
    {
     "data": {
      "text/plain": [
       "[1, 2, 3, 4]"
      ]
     },
     "execution_count": 79,
     "metadata": {},
     "output_type": "execute_result"
    }
   ],
   "source": [
    "lst2"
   ]
  },
  {
   "cell_type": "code",
   "execution_count": 80,
   "id": "4845feed",
   "metadata": {},
   "outputs": [],
   "source": [
    "lst2[1] = 1000 "
   ]
  },
  {
   "cell_type": "code",
   "execution_count": 81,
   "id": "9ee071b6",
   "metadata": {},
   "outputs": [
    {
     "data": {
      "text/plain": [
       "[1, 1000, 3, 4]"
      ]
     },
     "execution_count": 81,
     "metadata": {},
     "output_type": "execute_result"
    }
   ],
   "source": [
    "lst1 "
   ]
  },
  {
   "cell_type": "code",
   "execution_count": 82,
   "id": "17798837",
   "metadata": {},
   "outputs": [
    {
     "data": {
      "text/plain": [
       "[1, 1000, 3, 4]"
      ]
     },
     "execution_count": 82,
     "metadata": {},
     "output_type": "execute_result"
    }
   ],
   "source": [
    "lst2    "
   ]
  },
  {
   "cell_type": "code",
   "execution_count": 85,
   "id": "062f2494",
   "metadata": {},
   "outputs": [
    {
     "data": {
      "text/plain": [
       "1879431782464"
      ]
     },
     "execution_count": 85,
     "metadata": {},
     "output_type": "execute_result"
    }
   ],
   "source": [
    "id(lst1) # lst1 location"
   ]
  },
  {
   "cell_type": "code",
   "execution_count": 86,
   "id": "3fc81cfd",
   "metadata": {},
   "outputs": [
    {
     "data": {
      "text/plain": [
       "1879431782464"
      ]
     },
     "execution_count": 86,
     "metadata": {},
     "output_type": "execute_result"
    }
   ],
   "source": [
    "id(lst2) # lst2 location"
   ]
  },
  {
   "cell_type": "code",
   "execution_count": null,
   "id": "5e33bea7",
   "metadata": {},
   "outputs": [],
   "source": [
    " # if we change lst1 index that affect on lst2 also.\n",
    "# bcz same id(location) as shown above"
   ]
  },
  {
   "cell_type": "markdown",
   "id": "cfe02e59",
   "metadata": {},
   "source": [
    "**Here lst1 is also going to affect bcz both list uses same memory location**"
   ]
  },
  {
   "cell_type": "markdown",
   "id": "3ac1983f",
   "metadata": {},
   "source": [
    "## Copy Operation"
   ]
  },
  {
   "cell_type": "code",
   "execution_count": 87,
   "id": "ff702c3d",
   "metadata": {},
   "outputs": [],
   "source": [
    "lst1 = [1,2,3,4]\n",
    "lst2 = lst1.copy() # Shallow Copy\n",
    "# And here it refer to different memory location"
   ]
  },
  {
   "cell_type": "code",
   "execution_count": 88,
   "id": "07870f1d",
   "metadata": {},
   "outputs": [
    {
     "data": {
      "text/plain": [
       "[1, 2, 3, 4]"
      ]
     },
     "execution_count": 88,
     "metadata": {},
     "output_type": "execute_result"
    }
   ],
   "source": [
    "lst1"
   ]
  },
  {
   "cell_type": "code",
   "execution_count": 89,
   "id": "02c78811",
   "metadata": {},
   "outputs": [
    {
     "data": {
      "text/plain": [
       "[1, 2, 3, 4]"
      ]
     },
     "execution_count": 89,
     "metadata": {},
     "output_type": "execute_result"
    }
   ],
   "source": [
    "lst2"
   ]
  },
  {
   "cell_type": "code",
   "execution_count": 90,
   "id": "01787961",
   "metadata": {},
   "outputs": [],
   "source": [
    "lst1[1] = 1000"
   ]
  },
  {
   "cell_type": "code",
   "execution_count": 91,
   "id": "1aa78207",
   "metadata": {},
   "outputs": [
    {
     "data": {
      "text/plain": [
       "([1, 2, 3, 4], [1, 1000, 3, 4])"
      ]
     },
     "execution_count": 91,
     "metadata": {},
     "output_type": "execute_result"
    }
   ],
   "source": [
    "lst2,lst1"
   ]
  },
  {
   "cell_type": "code",
   "execution_count": 92,
   "id": "a431f67d",
   "metadata": {},
   "outputs": [
    {
     "data": {
      "text/plain": [
       "1879432520576"
      ]
     },
     "execution_count": 92,
     "metadata": {},
     "output_type": "execute_result"
    }
   ],
   "source": [
    "id(lst1)"
   ]
  },
  {
   "cell_type": "code",
   "execution_count": 93,
   "id": "a74a9b4d",
   "metadata": {},
   "outputs": [
    {
     "data": {
      "text/plain": [
       "1879432496064"
      ]
     },
     "execution_count": 93,
     "metadata": {},
     "output_type": "execute_result"
    }
   ],
   "source": [
    "id(lst2)"
   ]
  },
  {
   "cell_type": "markdown",
   "id": "a57bc3a3",
   "metadata": {},
   "source": [
    "## Nested list"
   ]
  },
  {
   "cell_type": "code",
   "execution_count": 35,
   "id": "87c56fa8",
   "metadata": {},
   "outputs": [
    {
     "data": {
      "text/plain": [
       "[[1, 2, 3], [4, 5, 6]]"
      ]
     },
     "execution_count": 35,
     "metadata": {},
     "output_type": "execute_result"
    }
   ],
   "source": [
    "lst1= [[1,2,3],[4,5,6]]\n",
    "lst1"
   ]
  },
  {
   "cell_type": "code",
   "execution_count": 36,
   "id": "f315444e",
   "metadata": {},
   "outputs": [
    {
     "data": {
      "text/plain": [
       "[[7, 8, 9], [10, 22, 12]]"
      ]
     },
     "execution_count": 36,
     "metadata": {},
     "output_type": "execute_result"
    }
   ],
   "source": [
    "lst2= [[7,8,9],[10,22,12]]\n",
    "lst2"
   ]
  },
  {
   "cell_type": "code",
   "execution_count": 37,
   "id": "19af26d2",
   "metadata": {},
   "outputs": [],
   "source": [
    "lst2 = lst1.copy()"
   ]
  },
  {
   "cell_type": "code",
   "execution_count": 38,
   "id": "fb4652ac",
   "metadata": {},
   "outputs": [
    {
     "data": {
      "text/plain": [
       "[[1, 2, 3], [4, 5, 6]]"
      ]
     },
     "execution_count": 38,
     "metadata": {},
     "output_type": "execute_result"
    }
   ],
   "source": [
    "lst2"
   ]
  },
  {
   "cell_type": "code",
   "execution_count": 39,
   "id": "39bb33e5",
   "metadata": {},
   "outputs": [],
   "source": [
    "lst1[1][0] = 100"
   ]
  },
  {
   "cell_type": "code",
   "execution_count": 41,
   "id": "73f79eb9",
   "metadata": {},
   "outputs": [
    {
     "data": {
      "text/plain": [
       "[[1, 2, 3], [100, 5, 6]]"
      ]
     },
     "execution_count": 41,
     "metadata": {},
     "output_type": "execute_result"
    }
   ],
   "source": [
    "lst1"
   ]
  },
  {
   "cell_type": "code",
   "execution_count": 42,
   "id": "695c6a40",
   "metadata": {},
   "outputs": [
    {
     "data": {
      "text/plain": [
       "[[1, 2, 3], [100, 5, 6]]"
      ]
     },
     "execution_count": 42,
     "metadata": {},
     "output_type": "execute_result"
    }
   ],
   "source": [
    "lst2 \n",
    "# if we are going to change object that is present inside the list and it will be change"
   ]
  },
  {
   "cell_type": "code",
   "execution_count": 43,
   "id": "2df1a1cc",
   "metadata": {},
   "outputs": [],
   "source": [
    "lst1.append([\"a,\" \"b\", \"c\"])\n",
    "# And we have adding something item, that time it will not affect there."
   ]
  },
  {
   "cell_type": "code",
   "execution_count": 44,
   "id": "78e5f02d",
   "metadata": {},
   "outputs": [
    {
     "data": {
      "text/plain": [
       "[[1, 2, 3], [100, 5, 6], ['a,b', 'c']]"
      ]
     },
     "execution_count": 44,
     "metadata": {},
     "output_type": "execute_result"
    }
   ],
   "source": [
    "lst1"
   ]
  },
  {
   "cell_type": "code",
   "execution_count": 45,
   "id": "be609c08",
   "metadata": {},
   "outputs": [
    {
     "data": {
      "text/plain": [
       "[[1, 2, 3], [100, 5, 6]]"
      ]
     },
     "execution_count": 45,
     "metadata": {},
     "output_type": "execute_result"
    }
   ],
   "source": [
    "lst2"
   ]
  },
  {
   "cell_type": "code",
   "execution_count": null,
   "id": "2b69a39e",
   "metadata": {},
   "outputs": [],
   "source": []
  },
  {
   "cell_type": "markdown",
   "id": "0fc5c3bf",
   "metadata": {},
   "source": [
    "## Deep Copy"
   ]
  },
  {
   "cell_type": "code",
   "execution_count": 46,
   "id": "6b6f7c13",
   "metadata": {},
   "outputs": [],
   "source": [
    "import copy\n",
    "lst1 = [1,2,3,4]\n",
    "lst2 = copy.deepcopy(lst1)"
   ]
  },
  {
   "cell_type": "code",
   "execution_count": 47,
   "id": "bfe65f45",
   "metadata": {},
   "outputs": [
    {
     "data": {
      "text/plain": [
       "[1, 2, 3, 4]"
      ]
     },
     "execution_count": 47,
     "metadata": {},
     "output_type": "execute_result"
    }
   ],
   "source": [
    "lst1"
   ]
  },
  {
   "cell_type": "code",
   "execution_count": 48,
   "id": "2902b21d",
   "metadata": {},
   "outputs": [
    {
     "data": {
      "text/plain": [
       "[1, 2, 3, 4]"
      ]
     },
     "execution_count": 48,
     "metadata": {},
     "output_type": "execute_result"
    }
   ],
   "source": [
    "lst2"
   ]
  },
  {
   "cell_type": "code",
   "execution_count": 49,
   "id": "e7d32242",
   "metadata": {},
   "outputs": [],
   "source": [
    "lst1[1] = 1000"
   ]
  },
  {
   "cell_type": "code",
   "execution_count": 50,
   "id": "da503c69",
   "metadata": {},
   "outputs": [
    {
     "data": {
      "text/plain": [
       "[1, 1000, 3, 4]"
      ]
     },
     "execution_count": 50,
     "metadata": {},
     "output_type": "execute_result"
    }
   ],
   "source": [
    "lst1"
   ]
  },
  {
   "cell_type": "code",
   "execution_count": 51,
   "id": "1dc7a3dc",
   "metadata": {},
   "outputs": [
    {
     "data": {
      "text/plain": [
       "[1, 2, 3, 4]"
      ]
     },
     "execution_count": 51,
     "metadata": {},
     "output_type": "execute_result"
    }
   ],
   "source": [
    "lst2"
   ]
  },
  {
   "cell_type": "code",
   "execution_count": null,
   "id": "17d24bd2",
   "metadata": {},
   "outputs": [],
   "source": []
  },
  {
   "cell_type": "code",
   "execution_count": 68,
   "id": "a3089f71",
   "metadata": {},
   "outputs": [],
   "source": [
    "lst1=[[1,2,3],[3,4,5,],[5,6,7]]\n",
    "lst2=lst1.copy()"
   ]
  },
  {
   "cell_type": "code",
   "execution_count": 69,
   "id": "c2754460",
   "metadata": {},
   "outputs": [],
   "source": [
    "lst2[1][0]=100"
   ]
  },
  {
   "cell_type": "code",
   "execution_count": 70,
   "id": "c6d79a5e",
   "metadata": {},
   "outputs": [
    {
     "data": {
      "text/plain": [
       "[[1, 2, 3], [100, 4, 5], [5, 6, 7]]"
      ]
     },
     "execution_count": 70,
     "metadata": {},
     "output_type": "execute_result"
    }
   ],
   "source": [
    "lst2"
   ]
  },
  {
   "cell_type": "code",
   "execution_count": 71,
   "id": "43cc3589",
   "metadata": {},
   "outputs": [
    {
     "data": {
      "text/plain": [
       "[[1, 2, 3], [100, 4, 5], [5, 6, 7]]"
      ]
     },
     "execution_count": 71,
     "metadata": {},
     "output_type": "execute_result"
    }
   ],
   "source": [
    "lst1"
   ]
  },
  {
   "cell_type": "code",
   "execution_count": null,
   "id": "66c249f0",
   "metadata": {},
   "outputs": [],
   "source": []
  }
 ],
 "metadata": {
  "kernelspec": {
   "display_name": "Python 3 (ipykernel)",
   "language": "python",
   "name": "python3"
  },
  "language_info": {
   "codemirror_mode": {
    "name": "ipython",
    "version": 3
   },
   "file_extension": ".py",
   "mimetype": "text/x-python",
   "name": "python",
   "nbconvert_exporter": "python",
   "pygments_lexer": "ipython3",
   "version": "3.9.7"
  }
 },
 "nbformat": 4,
 "nbformat_minor": 5
}
