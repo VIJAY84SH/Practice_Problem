{
 "cells": [
  {
   "cell_type": "markdown",
   "id": "2762e9e4",
   "metadata": {},
   "source": [
    "## List Comprehension"
   ]
  },
  {
   "cell_type": "markdown",
   "id": "2c90bdcf",
   "metadata": {},
   "source": [
    " - List comprehension offers a shorter syntax when you want to create a new list based on the values of an existing list."
   ]
  },
  {
   "cell_type": "markdown",
   "id": "5bce3ed9",
   "metadata": {},
   "source": [
    "### Syntax"
   ]
  },
  {
   "cell_type": "markdown",
   "id": "8197625d",
   "metadata": {},
   "source": [
    "newlist = [expression **for** item **in** iterable **if** condition == **True**]"
   ]
  },
  {
   "cell_type": "markdown",
   "id": "fb980c5e",
   "metadata": {},
   "source": [
    "#### 1. Try to go through list and try to add 2 in each element and return list."
   ]
  },
  {
   "cell_type": "code",
   "execution_count": 2,
   "id": "ced36cdd",
   "metadata": {},
   "outputs": [],
   "source": [
    "l = [2,3,4,5,6]"
   ]
  },
  {
   "cell_type": "code",
   "execution_count": 6,
   "id": "f001f4ae",
   "metadata": {},
   "outputs": [
    {
     "data": {
      "text/plain": [
       "[4, 5, 6, 7, 8]"
      ]
     },
     "execution_count": 6,
     "metadata": {},
     "output_type": "execute_result"
    }
   ],
   "source": [
    "l1 = [i+2 for i in l]\n",
    "l1"
   ]
  },
  {
   "cell_type": "markdown",
   "id": "68d1f64a",
   "metadata": {},
   "source": [
    "####  2. Return element square and add 1 in each element"
   ]
  },
  {
   "cell_type": "code",
   "execution_count": 7,
   "id": "4df7979b",
   "metadata": {},
   "outputs": [
    {
     "data": {
      "text/plain": [
       "[(4, 3), (9, 4), (16, 5), (25, 6), (36, 7)]"
      ]
     },
     "execution_count": 7,
     "metadata": {},
     "output_type": "execute_result"
    }
   ],
   "source": [
    "[(i**2,i+1) for i in l]"
   ]
  },
  {
   "cell_type": "markdown",
   "id": "f56f6d71",
   "metadata": {},
   "source": [
    "####  3. if element is less than 4 make square and return in list"
   ]
  },
  {
   "cell_type": "code",
   "execution_count": 8,
   "id": "9a5cfa4c",
   "metadata": {},
   "outputs": [
    {
     "data": {
      "text/plain": [
       "[4, 9]"
      ]
     },
     "execution_count": 8,
     "metadata": {},
     "output_type": "execute_result"
    }
   ],
   "source": [
    "[i**2 for i in l if i<4]"
   ]
  },
  {
   "cell_type": "markdown",
   "id": "b204a5de",
   "metadata": {},
   "source": [
    "####  4. Return only the fruits with the letter \"a\" in the name."
   ]
  },
  {
   "cell_type": "code",
   "execution_count": 9,
   "id": "5760cc43",
   "metadata": {},
   "outputs": [],
   "source": [
    "fruits = [\"apple\", \"banana\", \"cherry\", \"kiwi\", \"mango\"]"
   ]
  },
  {
   "cell_type": "code",
   "execution_count": 13,
   "id": "8625075b",
   "metadata": {},
   "outputs": [
    {
     "data": {
      "text/plain": [
       "['apple', 'banana', 'mango']"
      ]
     },
     "execution_count": 13,
     "metadata": {},
     "output_type": "execute_result"
    }
   ],
   "source": [
    "[i for i in fruits if \"a\" in i]"
   ]
  },
  {
   "cell_type": "markdown",
   "id": "877325ea",
   "metadata": {},
   "source": [
    "#### 5.  Only accept items that are not \"apple\":"
   ]
  },
  {
   "cell_type": "code",
   "execution_count": 14,
   "id": "18feab7a",
   "metadata": {},
   "outputs": [
    {
     "data": {
      "text/plain": [
       "['banana', 'cherry', 'kiwi', 'mango']"
      ]
     },
     "execution_count": 14,
     "metadata": {},
     "output_type": "execute_result"
    }
   ],
   "source": [
    "[i for i in fruits if i != \"apple\"]"
   ]
  },
  {
   "cell_type": "markdown",
   "id": "faa9086d",
   "metadata": {},
   "source": [
    "#### 6. Insert value in new_list to upper case of fruits"
   ]
  },
  {
   "cell_type": "code",
   "execution_count": 23,
   "id": "81ccfb20",
   "metadata": {},
   "outputs": [
    {
     "data": {
      "text/plain": [
       "['APPLE', 'BANANA', 'CHERRY', 'KIWI', 'MANGO']"
      ]
     },
     "execution_count": 23,
     "metadata": {},
     "output_type": "execute_result"
    }
   ],
   "source": [
    "new_list = [i.upper() for i in fruits]\n",
    "new_list"
   ]
  },
  {
   "cell_type": "markdown",
   "id": "cd398166",
   "metadata": {},
   "source": [
    "####  7. Return List which contain 1 to 10 numbers"
   ]
  },
  {
   "cell_type": "code",
   "execution_count": 16,
   "id": "5d0703f5",
   "metadata": {},
   "outputs": [
    {
     "data": {
      "text/plain": [
       "[1, 2, 3, 4, 5, 6, 7, 8, 9, 10]"
      ]
     },
     "execution_count": 16,
     "metadata": {},
     "output_type": "execute_result"
    }
   ],
   "source": [
    "[i for i in range(1,11)]"
   ]
  },
  {
   "cell_type": "markdown",
   "id": "c51462fe",
   "metadata": {},
   "source": [
    "####  8. Return number loweer than 12 from 1 to 50"
   ]
  },
  {
   "cell_type": "code",
   "execution_count": 17,
   "id": "c3fc2889",
   "metadata": {},
   "outputs": [
    {
     "data": {
      "text/plain": [
       "[1, 2, 3, 4, 5, 6, 7, 8, 9, 10, 11]"
      ]
     },
     "execution_count": 17,
     "metadata": {},
     "output_type": "execute_result"
    }
   ],
   "source": [
    "[i for i in range(1,51) if i<12]"
   ]
  },
  {
   "cell_type": "markdown",
   "id": "eea3d70d",
   "metadata": {},
   "source": [
    "####  9. Even list using list comprehension upto 20"
   ]
  },
  {
   "cell_type": "code",
   "execution_count": 24,
   "id": "5d875d60",
   "metadata": {},
   "outputs": [
    {
     "data": {
      "text/plain": [
       "[0, 2, 4, 6, 8, 10, 12, 14, 16, 18, 20]"
      ]
     },
     "execution_count": 24,
     "metadata": {},
     "output_type": "execute_result"
    }
   ],
   "source": [
    "[i for i in range(0,21) if i%2 == 0]"
   ]
  },
  {
   "cell_type": "markdown",
   "id": "a5127184",
   "metadata": {},
   "source": [
    "#### 10.  Return Matrix using list comprehension"
   ]
  },
  {
   "cell_type": "code",
   "execution_count": 26,
   "id": "1819310e",
   "metadata": {},
   "outputs": [
    {
     "data": {
      "text/plain": [
       "[[0, 1, 2], [0, 1, 2], [0, 1, 2]]"
      ]
     },
     "execution_count": 26,
     "metadata": {},
     "output_type": "execute_result"
    }
   ],
   "source": [
    "[[j for j in range(3)] for i in range(3)]"
   ]
  },
  {
   "cell_type": "markdown",
   "id": "f1960c89",
   "metadata": {},
   "source": [
    "#### 11. Display square of numbers from 1 to 10."
   ]
  },
  {
   "cell_type": "code",
   "execution_count": 36,
   "id": "313fbd95",
   "metadata": {},
   "outputs": [
    {
     "data": {
      "text/plain": [
       "[1, 4, 9, 16, 25, 36, 49, 64, 81, 100]"
      ]
     },
     "execution_count": 36,
     "metadata": {},
     "output_type": "execute_result"
    }
   ],
   "source": [
    "[i**2 for i in range(1,11)]"
   ]
  },
  {
   "cell_type": "markdown",
   "id": "d4bfae76",
   "metadata": {},
   "source": [
    "#### 12. Reverse each string"
   ]
  },
  {
   "cell_type": "code",
   "execution_count": 37,
   "id": "11fc3bbe",
   "metadata": {},
   "outputs": [
    {
     "data": {
      "text/plain": [
       "['yajiv', 'litap']"
      ]
     },
     "execution_count": 37,
     "metadata": {},
     "output_type": "execute_result"
    }
   ],
   "source": [
    "[i[: : -1] for i in (\"vijay\",\"patil\")]"
   ]
  },
  {
   "cell_type": "code",
   "execution_count": null,
   "id": "f8ab06ea",
   "metadata": {},
   "outputs": [],
   "source": []
  }
 ],
 "metadata": {
  "kernelspec": {
   "display_name": "Python 3 (ipykernel)",
   "language": "python",
   "name": "python3"
  },
  "language_info": {
   "codemirror_mode": {
    "name": "ipython",
    "version": 3
   },
   "file_extension": ".py",
   "mimetype": "text/x-python",
   "name": "python",
   "nbconvert_exporter": "python",
   "pygments_lexer": "ipython3",
   "version": "3.9.13"
  }
 },
 "nbformat": 4,
 "nbformat_minor": 5
}
