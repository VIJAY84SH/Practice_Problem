{
 "cells": [
  {
   "cell_type": "markdown",
   "id": "9ea48c34",
   "metadata": {},
   "source": [
    "## Function"
   ]
  },
  {
   "cell_type": "markdown",
   "id": "d83e1c94",
   "metadata": {},
   "source": [
    " - Function are a block of organised & reusable code which can be used for some task/operation"
   ]
  },
  {
   "cell_type": "code",
   "execution_count": 1,
   "id": "dcb0e5c6",
   "metadata": {},
   "outputs": [
    {
     "data": {
      "text/plain": [
       "4"
      ]
     },
     "execution_count": 1,
     "metadata": {},
     "output_type": "execute_result"
    }
   ],
   "source": [
    "len(\"viju\")"
   ]
  },
  {
   "cell_type": "code",
   "execution_count": 2,
   "id": "fe0fc886",
   "metadata": {},
   "outputs": [
    {
     "name": "stdout",
     "output_type": "stream",
     "text": [
      "vijay\n"
     ]
    }
   ],
   "source": [
    "print(\"vijay\")"
   ]
  },
  {
   "cell_type": "code",
   "execution_count": 5,
   "id": "83df9759",
   "metadata": {},
   "outputs": [],
   "source": [
    "def test():\n",
    "    pass\n",
    "        \n",
    "        "
   ]
  },
  {
   "cell_type": "code",
   "execution_count": 6,
   "id": "b2c9ff52",
   "metadata": {},
   "outputs": [],
   "source": [
    "def test1():\n",
    "    print(\"this is my first fun\")"
   ]
  },
  {
   "cell_type": "code",
   "execution_count": 10,
   "id": "8c039cae",
   "metadata": {},
   "outputs": [
    {
     "name": "stdout",
     "output_type": "stream",
     "text": [
      "this is my first fun\n"
     ]
    }
   ],
   "source": [
    "test1()"
   ]
  },
  {
   "cell_type": "code",
   "execution_count": 21,
   "id": "244142f7",
   "metadata": {},
   "outputs": [
    {
     "name": "stdout",
     "output_type": "stream",
     "text": [
      "this is my first fun\n"
     ]
    }
   ],
   "source": [
    "a = test1()"
   ]
  },
  {
   "cell_type": "code",
   "execution_count": 22,
   "id": "13f51922",
   "metadata": {},
   "outputs": [],
   "source": [
    "a"
   ]
  },
  {
   "cell_type": "markdown",
   "id": "1d63fb05",
   "metadata": {},
   "source": [
    "### Type(fun)"
   ]
  },
  {
   "cell_type": "markdown",
   "id": "3253aaa2",
   "metadata": {},
   "source": [
    " - inside fun if there is print only, that output type is None type"
   ]
  },
  {
   "cell_type": "code",
   "execution_count": 24,
   "id": "95e0c891",
   "metadata": {
    "scrolled": true
   },
   "outputs": [
    {
     "name": "stdout",
     "output_type": "stream",
     "text": [
      "this is my first fun\n"
     ]
    },
    {
     "data": {
      "text/plain": [
       "NoneType"
      ]
     },
     "execution_count": 24,
     "metadata": {},
     "output_type": "execute_result"
    }
   ],
   "source": [
    "type(test1())"
   ]
  },
  {
   "cell_type": "code",
   "execution_count": 20,
   "id": "2706a3e9",
   "metadata": {},
   "outputs": [
    {
     "name": "stdout",
     "output_type": "stream",
     "text": [
      "this is my first fun\n"
     ]
    },
    {
     "data": {
      "text/plain": [
       "'None'"
      ]
     },
     "execution_count": 20,
     "metadata": {},
     "output_type": "execute_result"
    }
   ],
   "source": [
    "str(test1())"
   ]
  },
  {
   "cell_type": "code",
   "execution_count": 15,
   "id": "ba4b16e0",
   "metadata": {},
   "outputs": [
    {
     "ename": "TypeError",
     "evalue": "unsupported operand type(s) for +: 'NoneType' and 'str'",
     "output_type": "error",
     "traceback": [
      "\u001b[1;31m---------------------------------------------------------------------------\u001b[0m",
      "\u001b[1;31mTypeError\u001b[0m                                 Traceback (most recent call last)",
      "\u001b[1;32m~\\AppData\\Local\\Temp\\ipykernel_3824\\3932793987.py\u001b[0m in \u001b[0;36m<module>\u001b[1;34m\u001b[0m\n\u001b[1;32m----> 1\u001b[1;33m \u001b[0ma\u001b[0m \u001b[1;33m+\u001b[0m\u001b[1;34m\"vjy\"\u001b[0m\u001b[1;33m\u001b[0m\u001b[1;33m\u001b[0m\u001b[0m\n\u001b[0m",
      "\u001b[1;31mTypeError\u001b[0m: unsupported operand type(s) for +: 'NoneType' and 'str'"
     ]
    }
   ],
   "source": [
    "a +\"vjy\"   # print always give none type of o/p"
   ]
  },
  {
   "cell_type": "code",
   "execution_count": 26,
   "id": "a9cfa90e",
   "metadata": {},
   "outputs": [
    {
     "name": "stdout",
     "output_type": "stream",
     "text": [
      "this is my first fun\n"
     ]
    },
    {
     "ename": "TypeError",
     "evalue": "unsupported operand type(s) for +: 'NoneType' and 'str'",
     "output_type": "error",
     "traceback": [
      "\u001b[1;31m---------------------------------------------------------------------------\u001b[0m",
      "\u001b[1;31mTypeError\u001b[0m                                 Traceback (most recent call last)",
      "\u001b[1;32m~\\AppData\\Local\\Temp\\ipykernel_3824\\1648674556.py\u001b[0m in \u001b[0;36m<module>\u001b[1;34m\u001b[0m\n\u001b[1;32m----> 1\u001b[1;33m \u001b[0mtest1\u001b[0m\u001b[1;33m(\u001b[0m\u001b[1;33m)\u001b[0m \u001b[1;33m+\u001b[0m\u001b[1;34m\"vjy\"\u001b[0m\u001b[1;33m\u001b[0m\u001b[1;33m\u001b[0m\u001b[0m\n\u001b[0m",
      "\u001b[1;31mTypeError\u001b[0m: unsupported operand type(s) for +: 'NoneType' and 'str'"
     ]
    }
   ],
   "source": [
    "test1() +\"vjy\""
   ]
  },
  {
   "cell_type": "code",
   "execution_count": 27,
   "id": "c6d06e49",
   "metadata": {},
   "outputs": [],
   "source": [
    "def test2():\n",
    "    return \"this is my first fun\""
   ]
  },
  {
   "cell_type": "code",
   "execution_count": 29,
   "id": "0bfef5b1",
   "metadata": {},
   "outputs": [
    {
     "data": {
      "text/plain": [
       "'this is my first fun'"
      ]
     },
     "execution_count": 29,
     "metadata": {},
     "output_type": "execute_result"
    }
   ],
   "source": [
    "test2()"
   ]
  },
  {
   "cell_type": "code",
   "execution_count": 31,
   "id": "7680e74f",
   "metadata": {},
   "outputs": [],
   "source": [
    "a= test2()"
   ]
  },
  {
   "cell_type": "code",
   "execution_count": 32,
   "id": "5004d221",
   "metadata": {},
   "outputs": [
    {
     "data": {
      "text/plain": [
       "'this is my first fun'"
      ]
     },
     "execution_count": 32,
     "metadata": {},
     "output_type": "execute_result"
    }
   ],
   "source": [
    "a"
   ]
  },
  {
   "cell_type": "code",
   "execution_count": 33,
   "id": "93aef0c6",
   "metadata": {},
   "outputs": [],
   "source": [
    "def test3():\n",
    "    return 1234"
   ]
  },
  {
   "cell_type": "code",
   "execution_count": 34,
   "id": "5870501a",
   "metadata": {},
   "outputs": [
    {
     "data": {
      "text/plain": [
       "int"
      ]
     },
     "execution_count": 34,
     "metadata": {},
     "output_type": "execute_result"
    }
   ],
   "source": [
    "type(test3())"
   ]
  },
  {
   "cell_type": "code",
   "execution_count": 35,
   "id": "7c71e8f5",
   "metadata": {},
   "outputs": [],
   "source": [
    "def test4():\n",
    "    return 3,4,\"vjy\",[1,2,34]"
   ]
  },
  {
   "cell_type": "code",
   "execution_count": 36,
   "id": "d472dd9b",
   "metadata": {},
   "outputs": [
    {
     "data": {
      "text/plain": [
       "(3, 4, 'vjy', [1, 2, 34])"
      ]
     },
     "execution_count": 36,
     "metadata": {},
     "output_type": "execute_result"
    }
   ],
   "source": [
    "test4()"
   ]
  },
  {
   "cell_type": "code",
   "execution_count": 37,
   "id": "cc006ca4",
   "metadata": {},
   "outputs": [
    {
     "data": {
      "text/plain": [
       "tuple"
      ]
     },
     "execution_count": 37,
     "metadata": {},
     "output_type": "execute_result"
    }
   ],
   "source": [
    "type(test4())"
   ]
  },
  {
   "cell_type": "code",
   "execution_count": 38,
   "id": "9d695cbd",
   "metadata": {},
   "outputs": [],
   "source": [
    "b = test4()"
   ]
  },
  {
   "cell_type": "code",
   "execution_count": 39,
   "id": "af1e3013",
   "metadata": {},
   "outputs": [
    {
     "data": {
      "text/plain": [
       "(3, 4, 'vjy', [1, 2, 34])"
      ]
     },
     "execution_count": 39,
     "metadata": {},
     "output_type": "execute_result"
    }
   ],
   "source": [
    "b"
   ]
  },
  {
   "cell_type": "code",
   "execution_count": 40,
   "id": "15aa5f5e",
   "metadata": {},
   "outputs": [
    {
     "data": {
      "text/plain": [
       "[1, 2, 34]"
      ]
     },
     "execution_count": 40,
     "metadata": {},
     "output_type": "execute_result"
    }
   ],
   "source": [
    "b[3]"
   ]
  },
  {
   "cell_type": "code",
   "execution_count": 41,
   "id": "3ec8b594",
   "metadata": {},
   "outputs": [
    {
     "data": {
      "text/plain": [
       "'vjy'"
      ]
     },
     "execution_count": 41,
     "metadata": {},
     "output_type": "execute_result"
    }
   ],
   "source": [
    "b[2]"
   ]
  },
  {
   "cell_type": "code",
   "execution_count": 42,
   "id": "01488fb7",
   "metadata": {},
   "outputs": [],
   "source": [
    " a,b,c,d=test4()"
   ]
  },
  {
   "cell_type": "code",
   "execution_count": 43,
   "id": "8a69f248",
   "metadata": {},
   "outputs": [
    {
     "data": {
      "text/plain": [
       "3"
      ]
     },
     "execution_count": 43,
     "metadata": {},
     "output_type": "execute_result"
    }
   ],
   "source": [
    "a"
   ]
  },
  {
   "cell_type": "code",
   "execution_count": 44,
   "id": "db574f93",
   "metadata": {},
   "outputs": [
    {
     "data": {
      "text/plain": [
       "4"
      ]
     },
     "execution_count": 44,
     "metadata": {},
     "output_type": "execute_result"
    }
   ],
   "source": [
    "b"
   ]
  },
  {
   "cell_type": "code",
   "execution_count": 45,
   "id": "1576885a",
   "metadata": {},
   "outputs": [
    {
     "data": {
      "text/plain": [
       "'vjy'"
      ]
     },
     "execution_count": 45,
     "metadata": {},
     "output_type": "execute_result"
    }
   ],
   "source": [
    "c"
   ]
  },
  {
   "cell_type": "code",
   "execution_count": 46,
   "id": "72fdd517",
   "metadata": {},
   "outputs": [
    {
     "ename": "ValueError",
     "evalue": "too many values to unpack (expected 3)",
     "output_type": "error",
     "traceback": [
      "\u001b[1;31m---------------------------------------------------------------------------\u001b[0m",
      "\u001b[1;31mValueError\u001b[0m                                Traceback (most recent call last)",
      "\u001b[1;32m~\\AppData\\Local\\Temp\\ipykernel_3824\\493621187.py\u001b[0m in \u001b[0;36m<module>\u001b[1;34m\u001b[0m\n\u001b[1;32m----> 1\u001b[1;33m \u001b[0mx\u001b[0m\u001b[1;33m,\u001b[0m\u001b[0my\u001b[0m\u001b[1;33m,\u001b[0m\u001b[0mz\u001b[0m\u001b[1;33m=\u001b[0m\u001b[0mtest4\u001b[0m\u001b[1;33m(\u001b[0m\u001b[1;33m)\u001b[0m\u001b[1;33m\u001b[0m\u001b[1;33m\u001b[0m\u001b[0m\n\u001b[0m",
      "\u001b[1;31mValueError\u001b[0m: too many values to unpack (expected 3)"
     ]
    }
   ],
   "source": [
    "x,y,z=test4()"
   ]
  },
  {
   "cell_type": "code",
   "execution_count": 47,
   "id": "4617def3",
   "metadata": {},
   "outputs": [],
   "source": [
    "def test5():\n",
    "    a=6*7/6\n",
    "    return a"
   ]
  },
  {
   "cell_type": "code",
   "execution_count": 48,
   "id": "a28d6263",
   "metadata": {},
   "outputs": [
    {
     "data": {
      "text/plain": [
       "7.0"
      ]
     },
     "execution_count": 48,
     "metadata": {},
     "output_type": "execute_result"
    }
   ],
   "source": [
    "test5()"
   ]
  },
  {
   "cell_type": "code",
   "execution_count": 49,
   "id": "a78eabf4",
   "metadata": {},
   "outputs": [],
   "source": [
    "l = [3,5,2,\"vjy\",[4,7,8,50]]"
   ]
  },
  {
   "cell_type": "markdown",
   "id": "7b7dfe91",
   "metadata": {},
   "source": [
    "### Fun - Which will give Int item only"
   ]
  },
  {
   "cell_type": "code",
   "execution_count": 54,
   "id": "7ddbea98",
   "metadata": {},
   "outputs": [],
   "source": [
    "def test6(a):\n",
    "    n = []\n",
    "    if type(a) == list:\n",
    "        for i in a:\n",
    "            if type(i) == int:\n",
    "                n.append(i)\n",
    "    return n\n",
    "        "
   ]
  },
  {
   "cell_type": "code",
   "execution_count": 55,
   "id": "a223f0ce",
   "metadata": {},
   "outputs": [
    {
     "data": {
      "text/plain": [
       "[3, 5, 2]"
      ]
     },
     "execution_count": 55,
     "metadata": {},
     "output_type": "execute_result"
    }
   ],
   "source": [
    "test6(l)"
   ]
  },
  {
   "cell_type": "code",
   "execution_count": 59,
   "id": "6f5061a3",
   "metadata": {},
   "outputs": [
    {
     "data": {
      "text/plain": [
       "[]"
      ]
     },
     "execution_count": 59,
     "metadata": {},
     "output_type": "execute_result"
    }
   ],
   "source": [
    "test6((1,2,3))"
   ]
  },
  {
   "cell_type": "code",
   "execution_count": 60,
   "id": "6ad13e78",
   "metadata": {},
   "outputs": [
    {
     "data": {
      "text/plain": [
       "[3, 5, 2]"
      ]
     },
     "execution_count": 60,
     "metadata": {},
     "output_type": "execute_result"
    }
   ],
   "source": [
    "test6( [3,5,2,\"vjy\",[4,7,8,50]])"
   ]
  },
  {
   "cell_type": "markdown",
   "id": "d97acc2a",
   "metadata": {},
   "source": [
    "### Fun - which will give all int value"
   ]
  },
  {
   "cell_type": "code",
   "execution_count": 63,
   "id": "e02b7866",
   "metadata": {},
   "outputs": [],
   "source": [
    "def test7(a):\n",
    "    n = []\n",
    "    if type(a) == list:\n",
    "        for i in a:\n",
    "            if type(i) == int:\n",
    "                n.append(i)\n",
    "            elif type(i) == list:\n",
    "                    for j in i:\n",
    "                        if type(j) == int:\n",
    "                            n.append(j)\n",
    "    return n\n",
    "        "
   ]
  },
  {
   "cell_type": "code",
   "execution_count": 64,
   "id": "2ad86c06",
   "metadata": {},
   "outputs": [
    {
     "data": {
      "text/plain": [
       "[3, 5, 2, 4, 7, 8, 50]"
      ]
     },
     "execution_count": 64,
     "metadata": {},
     "output_type": "execute_result"
    }
   ],
   "source": [
    "test7(l)"
   ]
  },
  {
   "cell_type": "markdown",
   "id": "d7d97b63",
   "metadata": {},
   "source": [
    "### Fun - Which will give keys if you pass dict only"
   ]
  },
  {
   "cell_type": "code",
   "execution_count": 66,
   "id": "d5ecfa16",
   "metadata": {},
   "outputs": [],
   "source": [
    "def test8(c):\n",
    "    if type(c) == dict:\n",
    "        return c.keys()\n",
    "    else:\n",
    "        return \"you have not passed a dict\""
   ]
  },
  {
   "cell_type": "code",
   "execution_count": 67,
   "id": "336dc05a",
   "metadata": {},
   "outputs": [
    {
     "data": {
      "text/plain": [
       "'you have not passed a dict'"
      ]
     },
     "execution_count": 67,
     "metadata": {},
     "output_type": "execute_result"
    }
   ],
   "source": [
    "test8('vijy')"
   ]
  },
  {
   "cell_type": "code",
   "execution_count": 68,
   "id": "981f0df3",
   "metadata": {},
   "outputs": [
    {
     "data": {
      "text/plain": [
       "dict_keys(['a', 'b', 'vjy'])"
      ]
     },
     "execution_count": 68,
     "metadata": {},
     "output_type": "execute_result"
    }
   ],
   "source": [
    "test8({\"a\":1,\"b\":'vjy',c:[1,2,3]})"
   ]
  },
  {
   "cell_type": "markdown",
   "id": "9c8c3524",
   "metadata": {},
   "source": [
    "### Fun- which will give extended list when pass two list"
   ]
  },
  {
   "cell_type": "code",
   "execution_count": 69,
   "id": "066f8c6b",
   "metadata": {},
   "outputs": [],
   "source": [
    "def test9(a,b):\n",
    "    if type(a)==list and type(b) ==list:\n",
    "        a.extend(b)\n",
    "        return a\n",
    "    else:\n",
    "        return \"your data is not a list\""
   ]
  },
  {
   "cell_type": "code",
   "execution_count": 71,
   "id": "eb24a0bf",
   "metadata": {},
   "outputs": [
    {
     "data": {
      "text/plain": [
       "[1, 2, 3, 'vjy', [1, 2, 3], (1, 2, 3), [23, 34]]"
      ]
     },
     "execution_count": 71,
     "metadata": {},
     "output_type": "execute_result"
    }
   ],
   "source": [
    "l1 = [1,2,3,\"vjy\",[1,2,3]]\n",
    "l2 = [(1,2,3),[23,34]]\n",
    "test9(l1,l2)"
   ]
  },
  {
   "cell_type": "markdown",
   "id": "b1cf574c",
   "metadata": {},
   "source": [
    "### Fun - Which will give triangle as you enter the num- that will be row"
   ]
  },
  {
   "cell_type": "code",
   "execution_count": 109,
   "id": "76007df0",
   "metadata": {},
   "outputs": [],
   "source": [
    "def test10(a):\n",
    "    \"\"\"This fun will give you triangle however you give number that no. will be row\"\"\"\n",
    "    if type(a) == int:\n",
    "        for i in range(a):\n",
    "            for j in range(i+1):\n",
    "                print(\"*\", end = \" \")\n",
    "            print()"
   ]
  },
  {
   "cell_type": "code",
   "execution_count": 110,
   "id": "1b8bf1b4",
   "metadata": {},
   "outputs": [
    {
     "name": "stdout",
     "output_type": "stream",
     "text": [
      "* \n",
      "* * \n",
      "* * * \n"
     ]
    }
   ],
   "source": [
    "test10(3)"
   ]
  },
  {
   "cell_type": "code",
   "execution_count": 112,
   "id": "3ad59ef7",
   "metadata": {},
   "outputs": [
    {
     "name": "stdout",
     "output_type": "stream",
     "text": [
      "Help on function test10 in module __main__:\n",
      "\n",
      "test10(a)\n",
      "    This fun will give you triangle however you give number that no. will be row\n",
      "\n"
     ]
    }
   ],
   "source": [
    "help(test10)"
   ]
  },
  {
   "cell_type": "markdown",
   "id": "4856ee5b",
   "metadata": {},
   "source": [
    "### Fun - Which will give length of string when you pass string only"
   ]
  },
  {
   "cell_type": "code",
   "execution_count": 95,
   "id": "1c12f3d6",
   "metadata": {},
   "outputs": [],
   "source": [
    "def test11(a):\n",
    "    b = 0\n",
    "    if type(a) == str:\n",
    "        for i in a:\n",
    "            b =b+1\n",
    "        print(\"total length of string\",a,\"is :\",b)\n",
    "            "
   ]
  },
  {
   "cell_type": "code",
   "execution_count": 98,
   "id": "243b1ab4",
   "metadata": {},
   "outputs": [
    {
     "name": "stdout",
     "output_type": "stream",
     "text": [
      "total length of string vijay is : 5\n"
     ]
    }
   ],
   "source": [
    "test11(\"vijay\")"
   ]
  },
  {
   "cell_type": "markdown",
   "id": "d19ded78",
   "metadata": {},
   "source": [
    "### Fun - Which will print index of elements when we pass only str or tuple"
   ]
  },
  {
   "cell_type": "code",
   "execution_count": 114,
   "id": "f17bafcb",
   "metadata": {},
   "outputs": [],
   "source": [
    "def test12(b):\n",
    "    if type(b)== str or type(b) == tuple:\n",
    "        for i in range(len(b)):\n",
    "            print(i,b[i])\n",
    "        \n",
    "        "
   ]
  },
  {
   "cell_type": "code",
   "execution_count": 115,
   "id": "261cfb87",
   "metadata": {},
   "outputs": [
    {
     "name": "stdout",
     "output_type": "stream",
     "text": [
      "0 v\n",
      "1 i\n",
      "2 j\n",
      "3 a\n",
      "4 y\n"
     ]
    }
   ],
   "source": [
    "test12(\"vijay\")"
   ]
  },
  {
   "cell_type": "code",
   "execution_count": 116,
   "id": "094ebfc6",
   "metadata": {},
   "outputs": [
    {
     "name": "stdout",
     "output_type": "stream",
     "text": [
      "0 1\n",
      "1 4\n",
      "2 5\n",
      "3 6\n",
      "4 7\n",
      "5 8\n",
      "6 9\n"
     ]
    }
   ],
   "source": [
    "test12((1,4,5,6,7,8,9))"
   ]
  },
  {
   "cell_type": "code",
   "execution_count": null,
   "id": "a424473d",
   "metadata": {},
   "outputs": [],
   "source": []
  }
 ],
 "metadata": {
  "kernelspec": {
   "display_name": "Python 3 (ipykernel)",
   "language": "python",
   "name": "python3"
  },
  "language_info": {
   "codemirror_mode": {
    "name": "ipython",
    "version": 3
   },
   "file_extension": ".py",
   "mimetype": "text/x-python",
   "name": "python",
   "nbconvert_exporter": "python",
   "pygments_lexer": "ipython3",
   "version": "3.9.13"
  }
 },
 "nbformat": 4,
 "nbformat_minor": 5
}
