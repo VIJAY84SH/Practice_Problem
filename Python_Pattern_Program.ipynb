{
 "cells": [
  {
   "cell_type": "code",
   "execution_count": 10,
   "id": "720b8f05",
   "metadata": {},
   "outputs": [
    {
     "name": "stdout",
     "output_type": "stream",
     "text": [
      "5\n"
     ]
    }
   ],
   "source": [
    "n=int(input())"
   ]
  },
  {
   "cell_type": "code",
   "execution_count": 11,
   "id": "2b3355f1",
   "metadata": {},
   "outputs": [
    {
     "name": "stdout",
     "output_type": "stream",
     "text": [
      "*****\n"
     ]
    }
   ],
   "source": [
    "n = 5\n",
    "print(\"*\"*n)"
   ]
  },
  {
   "cell_type": "code",
   "execution_count": 19,
   "id": "cad22348",
   "metadata": {},
   "outputs": [
    {
     "data": {
      "text/plain": [
       "[0, 1, 2, 3, 4]"
      ]
     },
     "execution_count": 19,
     "metadata": {},
     "output_type": "execute_result"
    }
   ],
   "source": [
    "list(range(0,n))"
   ]
  },
  {
   "cell_type": "code",
   "execution_count": 14,
   "id": "37ceed47",
   "metadata": {},
   "outputs": [
    {
     "name": "stdout",
     "output_type": "stream",
     "text": [
      "*\n",
      "*\n",
      "*\n",
      "*\n",
      "*\n"
     ]
    }
   ],
   "source": [
    "for j in range(0,n):\n",
    "    print(\"*\")"
   ]
  },
  {
   "cell_type": "code",
   "execution_count": 30,
   "id": "2ec98a15",
   "metadata": {},
   "outputs": [
    {
     "name": "stdout",
     "output_type": "stream",
     "text": [
      "* * * * * "
     ]
    }
   ],
   "source": [
    "for j in range(0,n):\n",
    "    print(\"*\", end = \" \")"
   ]
  },
  {
   "cell_type": "code",
   "execution_count": 22,
   "id": "fe1fe628",
   "metadata": {},
   "outputs": [
    {
     "data": {
      "text/plain": [
       "[0, 1, 2, 3, 4]"
      ]
     },
     "execution_count": 22,
     "metadata": {},
     "output_type": "execute_result"
    }
   ],
   "source": [
    "list(range(n))"
   ]
  },
  {
   "cell_type": "code",
   "execution_count": 17,
   "id": "080cc687",
   "metadata": {},
   "outputs": [
    {
     "name": "stdout",
     "output_type": "stream",
     "text": [
      "* * * * * * * * * * * * * * * * * * * * * * * * * "
     ]
    }
   ],
   "source": [
    "for i in range(n):\n",
    "    for j in range(0,n):\n",
    "        print(\"*\", end = \" \")"
   ]
  },
  {
   "cell_type": "markdown",
   "id": "7671aacf",
   "metadata": {},
   "source": [
    "# * * * * * * * * * * * * * * * * * * * * * * * * *\n",
    "<----i0-----> <--i1----> <--i2----> <----i3---> <---i4----> printing stars belonging"
   ]
  },
  {
   "cell_type": "markdown",
   "id": "23abc4f5",
   "metadata": {},
   "source": [
    "## Square pattern"
   ]
  },
  {
   "cell_type": "code",
   "execution_count": 23,
   "id": "af39bb44",
   "metadata": {},
   "outputs": [
    {
     "name": "stdout",
     "output_type": "stream",
     "text": [
      "* * * * * \n",
      "* * * * * \n",
      "* * * * * \n",
      "* * * * * \n",
      "* * * * * \n"
     ]
    }
   ],
   "source": [
    "for i in range(n):\n",
    "    for j in range(0,n):\n",
    "        print(\"*\", end = \" \")\n",
    "    print()"
   ]
  },
  {
   "cell_type": "code",
   "execution_count": 28,
   "id": "77ebb693",
   "metadata": {},
   "outputs": [
    {
     "name": "stdout",
     "output_type": "stream",
     "text": [
      "* * * * * \n",
      "* * * * * \n",
      "* * * * * \n",
      "* * * * * \n",
      "* * * * * \n"
     ]
    }
   ],
   "source": [
    "for i in range(0,n):\n",
    "    for j in range(0,n):\n",
    "        print(\"*\", end = \" \")\n",
    "    print()"
   ]
  },
  {
   "cell_type": "markdown",
   "id": "cfac0187",
   "metadata": {},
   "source": [
    "## Increment Triangle(Pattern-1)"
   ]
  },
  {
   "cell_type": "code",
   "execution_count": 32,
   "id": "75dab0bd",
   "metadata": {},
   "outputs": [
    {
     "name": "stdout",
     "output_type": "stream",
     "text": [
      "* \n",
      "* * \n",
      "* * * \n",
      "* * * * \n",
      "* * * * * \n"
     ]
    }
   ],
   "source": [
    "for i in range(0,n):\n",
    "    for j in range(i+1):\n",
    "        print(\"*\", end = \" \")\n",
    "    print()"
   ]
  },
  {
   "cell_type": "markdown",
   "id": "2ba348ce",
   "metadata": {},
   "source": [
    "## Decrement Triangle(Pattern-1)"
   ]
  },
  {
   "cell_type": "code",
   "execution_count": 36,
   "id": "8d6bfe9c",
   "metadata": {},
   "outputs": [
    {
     "name": "stdout",
     "output_type": "stream",
     "text": [
      "* * * * * \n",
      "* * * * \n",
      "* * * \n",
      "* * \n",
      "* \n"
     ]
    }
   ],
   "source": [
    "for i in range(n):\n",
    "    for j in range(i,n):\n",
    "        print(\"*\", end = \" \")\n",
    "    print()"
   ]
  },
  {
   "cell_type": "markdown",
   "id": "84e826a1",
   "metadata": {},
   "source": [
    "## Increment Triangle(Pattern-2)"
   ]
  },
  {
   "cell_type": "code",
   "execution_count": 50,
   "id": "849556ee",
   "metadata": {},
   "outputs": [
    {
     "name": "stdout",
     "output_type": "stream",
     "text": [
      "     *\n",
      "    **\n",
      "   ***\n",
      "  ****\n",
      " *****\n"
     ]
    }
   ],
   "source": [
    " for i in range(n):\n",
    "        for j in range(i,n):\n",
    "            print(\"\", end = \" \")\n",
    "            \n",
    "        for j in range (i+1):\n",
    "            print(\"*\", end = \"\")\n",
    "        print()\n",
    "        \n",
    "        "
   ]
  },
  {
   "cell_type": "markdown",
   "id": "0ad769e2",
   "metadata": {},
   "source": [
    "## Decrement Triangle(Pattern-2)"
   ]
  },
  {
   "cell_type": "code",
   "execution_count": 58,
   "id": "27b37bd4",
   "metadata": {},
   "outputs": [
    {
     "name": "stdout",
     "output_type": "stream",
     "text": [
      " *****\n",
      "  ****\n",
      "   ***\n",
      "    **\n",
      "     *\n"
     ]
    }
   ],
   "source": [
    "for i in range(n):\n",
    "    for j in range(i+1):\n",
    "        print(\"\", end = \" \")\n",
    "        \n",
    "    for j in range(i,n):\n",
    "        print(\"*\", end = \"\")\n",
    "    print()\n"
   ]
  },
  {
   "cell_type": "code",
   "execution_count": 65,
   "id": "85eddd54",
   "metadata": {},
   "outputs": [
    {
     "name": "stdout",
     "output_type": "stream",
     "text": [
      "     **\n",
      "    ****\n",
      "   ******\n",
      "  ********\n",
      " **********\n"
     ]
    }
   ],
   "source": [
    " for i in range(n):\n",
    "        for j in range(i,n):\n",
    "            print(\"\", end = \" \")\n",
    "            \n",
    "        for j in range (i+1):\n",
    "            print(\"*\", end = \"\")\n",
    "       \n",
    "        \n",
    "        for j in range (i+1):\n",
    "            print(\"*\", end = \"\")\n",
    "       \n",
    "        print()\n",
    "    \n",
    "  # In the result exact triangle is not there      "
   ]
  },
  {
   "cell_type": "markdown",
   "id": "7cebbc1d",
   "metadata": {},
   "source": [
    "## Exact Triangle"
   ]
  },
  {
   "cell_type": "code",
   "execution_count": 66,
   "id": "79f3898d",
   "metadata": {},
   "outputs": [
    {
     "name": "stdout",
     "output_type": "stream",
     "text": [
      "     *\n",
      "    ***\n",
      "   *****\n",
      "  *******\n",
      " *********\n"
     ]
    }
   ],
   "source": [
    " for i in range(n):\n",
    "        for j in range(i,n):\n",
    "            print(\"\", end = \" \")\n",
    "            \n",
    "        for j in range (i):\n",
    "            print(\"*\", end = \"\")\n",
    "       \n",
    "        \n",
    "        for j in range (i+1):\n",
    "            print(\"*\", end = \"\")\n",
    "       \n",
    "        print()\n",
    "        \n",
    "        # In the result we got exact triangle by removing one column"
   ]
  },
  {
   "cell_type": "code",
   "execution_count": 79,
   "id": "f148756d",
   "metadata": {},
   "outputs": [
    {
     "name": "stdout",
     "output_type": "stream",
     "text": [
      " **********\n",
      "  ********\n",
      "   ******\n",
      "    ****\n",
      "     **\n"
     ]
    }
   ],
   "source": [
    "for i in range(n):\n",
    "    for j in range(i+1):\n",
    "        print(\"\", end = \" \")\n",
    "        \n",
    "    for j in range(i,n):\n",
    "        print(\"*\", end = \"\")\n",
    "        \n",
    "    for j in range(i,n):\n",
    "        print(\"*\",end = \"\")\n",
    "    \n",
    "    print()"
   ]
  },
  {
   "cell_type": "markdown",
   "id": "4184970d",
   "metadata": {},
   "source": [
    "## Exact Reverse Triangle:"
   ]
  },
  {
   "cell_type": "code",
   "execution_count": 80,
   "id": "3ec6d459",
   "metadata": {},
   "outputs": [
    {
     "name": "stdout",
     "output_type": "stream",
     "text": [
      " *********\n",
      "  *******\n",
      "   *****\n",
      "    ***\n",
      "     *\n"
     ]
    }
   ],
   "source": [
    "for i in range(n):\n",
    "    for j in range(i+1):\n",
    "        print(\"\", end = \" \")\n",
    "        \n",
    "    for j in range(i,n-1):\n",
    "        print(\"*\", end = \"\")\n",
    "        \n",
    "    for j in range(i,n):\n",
    "        print(\"*\",end = \"\")\n",
    "    \n",
    "    print()"
   ]
  },
  {
   "cell_type": "code",
   "execution_count": 77,
   "id": "00fb086d",
   "metadata": {},
   "outputs": [
    {
     "name": "stdout",
     "output_type": "stream",
     "text": [
      "     *\n",
      "    ***\n",
      "   *****\n",
      "  *******\n",
      " *********\n",
      " *********\n",
      "  *******\n",
      "   *****\n",
      "    ***\n",
      "     *\n"
     ]
    }
   ],
   "source": [
    " for i in range(n):\n",
    "        for j in range(i,n):\n",
    "            print(\"\", end = \" \")\n",
    "            \n",
    "        for j in range (i):\n",
    "            print(\"*\", end = \"\")\n",
    "       \n",
    "        \n",
    "        for j in range (i+1):\n",
    "            print(\"*\", end = \"\")\n",
    "       \n",
    "        print()\n",
    "\n",
    "for i in range(n):\n",
    "    for j in range(i+1):\n",
    "        print(\"\", end = \" \")\n",
    "        \n",
    "    for j in range(i,n-1):\n",
    "        print(\"*\", end = \"\")\n",
    "        \n",
    "    for j in range(i,n):\n",
    "        print(\"*\",end = \"\")\n",
    "    \n",
    "    print()"
   ]
  },
  {
   "cell_type": "markdown",
   "id": "7b25eae7",
   "metadata": {},
   "source": [
    "## Exact Diamond pattern"
   ]
  },
  {
   "cell_type": "code",
   "execution_count": 78,
   "id": "daed38aa",
   "metadata": {},
   "outputs": [
    {
     "name": "stdout",
     "output_type": "stream",
     "text": [
      "     *\n",
      "    ***\n",
      "   *****\n",
      "  *******\n",
      " *********\n",
      "  *******\n",
      "   *****\n",
      "    ***\n",
      "     *\n"
     ]
    }
   ],
   "source": [
    " for i in range(n-1):\n",
    "        for j in range(i,n):\n",
    "            print(\"\", end = \" \")\n",
    "            \n",
    "        for j in range (i):\n",
    "            print(\"*\", end = \"\")\n",
    "       \n",
    "        \n",
    "        for j in range (i+1):\n",
    "            print(\"*\", end = \"\")\n",
    "       \n",
    "        print()\n",
    "\n",
    "for i in range(n):\n",
    "    for j in range(i+1):\n",
    "        print(\"\", end = \" \")\n",
    "        \n",
    "    for j in range(i,n-1):\n",
    "        print(\"*\", end = \"\")\n",
    "        \n",
    "    for j in range(i,n):\n",
    "        print(\"*\",end = \"\")\n",
    "    \n",
    "    print()"
   ]
  },
  {
   "cell_type": "code",
   "execution_count": null,
   "id": "08d2535b",
   "metadata": {},
   "outputs": [],
   "source": []
  }
 ],
 "metadata": {
  "kernelspec": {
   "display_name": "Python 3 (ipykernel)",
   "language": "python",
   "name": "python3"
  },
  "language_info": {
   "codemirror_mode": {
    "name": "ipython",
    "version": 3
   },
   "file_extension": ".py",
   "mimetype": "text/x-python",
   "name": "python",
   "nbconvert_exporter": "python",
   "pygments_lexer": "ipython3",
   "version": "3.9.13"
  }
 },
 "nbformat": 4,
 "nbformat_minor": 5
}
