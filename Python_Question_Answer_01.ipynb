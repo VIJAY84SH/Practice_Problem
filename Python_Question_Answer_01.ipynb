{
 "cells": [
  {
   "cell_type": "markdown",
   "id": "8e3eb138",
   "metadata": {},
   "source": [
    "### 1.  Calculate the multiplication and sum of two numbers"
   ]
  },
  {
   "cell_type": "markdown",
   "id": "82d90654",
   "metadata": {},
   "source": [
    "#### Given two integer numbers return their product only if the product is equal to or lower than 1000, else return their sum."
   ]
  },
  {
   "cell_type": "code",
   "execution_count": 1,
   "id": "dabf26a2",
   "metadata": {},
   "outputs": [],
   "source": [
    "def mul_sum(a,b):\n",
    "    if a*b <= 1000:\n",
    "        print(\"The multiplication is : \",a*b)\n",
    "    else:\n",
    "        print(\"The Addition is :\",a+b)"
   ]
  },
  {
   "cell_type": "code",
   "execution_count": 2,
   "id": "6d7512df",
   "metadata": {},
   "outputs": [
    {
     "name": "stdout",
     "output_type": "stream",
     "text": [
      "The multiplication is :  200\n"
     ]
    }
   ],
   "source": [
    "mul_sum(100,2)"
   ]
  },
  {
   "cell_type": "code",
   "execution_count": 3,
   "id": "10aa76e4",
   "metadata": {},
   "outputs": [
    {
     "name": "stdout",
     "output_type": "stream",
     "text": [
      "The Addition is : 100\n"
     ]
    }
   ],
   "source": [
    "mul_sum(60,40)"
   ]
  },
  {
   "cell_type": "markdown",
   "id": "68ae023e",
   "metadata": {},
   "source": [
    "### 2.  Print the sum of the current number and the previous number"
   ]
  },
  {
   "cell_type": "markdown",
   "id": "14c8588c",
   "metadata": {},
   "source": [
    "#### Write a program to iterate the first 10 numbers and in each iteration, print the sum of the current and previous number."
   ]
  },
  {
   "cell_type": "code",
   "execution_count": 4,
   "id": "23113747",
   "metadata": {},
   "outputs": [
    {
     "name": "stdout",
     "output_type": "stream",
     "text": [
      "0 sum with previous =  0\n",
      "1 sum with previous =  1\n",
      "2 sum with previous =  3\n",
      "3 sum with previous =  5\n",
      "4 sum with previous =  7\n",
      "5 sum with previous =  9\n",
      "6 sum with previous =  11\n",
      "7 sum with previous =  13\n",
      "8 sum with previous =  15\n",
      "9 sum with previous =  17\n"
     ]
    }
   ],
   "source": [
    "previous = 0\n",
    "for i in range(0,10):\n",
    "    sum = previous+i\n",
    "    print(i,\"sum with previous = \",sum)\n",
    "    previous = i"
   ]
  },
  {
   "cell_type": "markdown",
   "id": "e2ee6cab",
   "metadata": {},
   "source": [
    "### 3. Print characters from a string that are present at an even index number"
   ]
  },
  {
   "cell_type": "markdown",
   "id": "a21dc1b9",
   "metadata": {},
   "source": [
    "#### Write a program to accept a string from the user and display characters that are present at an even index number.\n",
    "\n",
    "For example, str = \"Imarticus\" so you should display ‘I’, ‘a’, ‘t’, ‘c’,'s'."
   ]
  },
  {
   "cell_type": "code",
   "execution_count": 5,
   "id": "157f8e8f",
   "metadata": {},
   "outputs": [
    {
     "name": "stdout",
     "output_type": "stream",
     "text": [
      "I\n",
      "a\n",
      "t\n",
      "c\n",
      "s\n"
     ]
    }
   ],
   "source": [
    "e = 'Imarticus'  \n",
    "for i in e[::2]:      # For even index\n",
    "    print(i)                   "
   ]
  },
  {
   "cell_type": "code",
   "execution_count": 6,
   "id": "d438f9f4",
   "metadata": {},
   "outputs": [
    {
     "name": "stdout",
     "output_type": "stream",
     "text": [
      "m\n",
      "r\n",
      "i\n",
      "u\n"
     ]
    }
   ],
   "source": [
    "e = 'Imarticus'\n",
    "for i in e[1::2]:       # For odd index\n",
    "    print(i)"
   ]
  },
  {
   "cell_type": "markdown",
   "id": "4c0f16f2",
   "metadata": {},
   "source": [
    "### 4 . Write a program to remove characters from a string starting from zero up to n and return a new string."
   ]
  },
  {
   "cell_type": "code",
   "execution_count": 7,
   "id": "4b4399a6",
   "metadata": {},
   "outputs": [],
   "source": [
    "def remove_chr(a,n):\n",
    "    print(a[n:len(a)])"
   ]
  },
  {
   "cell_type": "code",
   "execution_count": 8,
   "id": "e8e10bd7",
   "metadata": {},
   "outputs": [
    {
     "name": "stdout",
     "output_type": "stream",
     "text": [
      "acters\n"
     ]
    }
   ],
   "source": [
    "remove_chr('characters',4)"
   ]
  },
  {
   "cell_type": "code",
   "execution_count": 9,
   "id": "58bc8824",
   "metadata": {},
   "outputs": [
    {
     "name": "stdout",
     "output_type": "stream",
     "text": [
      "ay\n"
     ]
    }
   ],
   "source": [
    "remove_chr('vijay',3)"
   ]
  },
  {
   "cell_type": "markdown",
   "id": "baf02896",
   "metadata": {},
   "source": [
    "### 5. Check if the first and last number of a list is the same"
   ]
  },
  {
   "cell_type": "markdown",
   "id": "7bd3874b",
   "metadata": {},
   "source": [
    "#### Write a function to return True if the first and last number of a given list is same. If numbers are different then return False."
   ]
  },
  {
   "cell_type": "code",
   "execution_count": 10,
   "id": "e261829e",
   "metadata": {},
   "outputs": [],
   "source": [
    "def check_num(a):\n",
    "    if a[0] == a[-1]:\n",
    "        print(\"fisrt and last number is True\")\n",
    "    else:\n",
    "        print(\"first and last number is not True\")"
   ]
  },
  {
   "cell_type": "code",
   "execution_count": 11,
   "id": "0cb85640",
   "metadata": {},
   "outputs": [
    {
     "name": "stdout",
     "output_type": "stream",
     "text": [
      "fisrt and last number is True\n"
     ]
    }
   ],
   "source": [
    "check_num([12,23,23,4,45,665,12])"
   ]
  },
  {
   "cell_type": "code",
   "execution_count": 12,
   "id": "c6f8e95f",
   "metadata": {},
   "outputs": [],
   "source": [
    "l =[84,4,6,6,75,45,34]"
   ]
  },
  {
   "cell_type": "code",
   "execution_count": 13,
   "id": "9ddcfa09",
   "metadata": {},
   "outputs": [
    {
     "name": "stdout",
     "output_type": "stream",
     "text": [
      "first and last number is not True\n"
     ]
    }
   ],
   "source": [
    "check_num(l)"
   ]
  },
  {
   "cell_type": "markdown",
   "id": "fb7f8915",
   "metadata": {},
   "source": [
    "### 6.  Display numbers divisible by 5 from a list"
   ]
  },
  {
   "cell_type": "markdown",
   "id": "334e43ca",
   "metadata": {},
   "source": [
    "#### Iterate the given list of numbers and print only those numbers which are divisible by 5\n",
    "\n",
    "Given list is [10, 20, 33, 46, 55]"
   ]
  },
  {
   "cell_type": "code",
   "execution_count": 14,
   "id": "a27f26e0",
   "metadata": {},
   "outputs": [
    {
     "name": "stdout",
     "output_type": "stream",
     "text": [
      "10\n",
      "20\n",
      "55\n"
     ]
    }
   ],
   "source": [
    "l = [10,20,33,46,55]\n",
    "for i  in l:\n",
    "    if i%5 == 0:\n",
    "        print(i)\n",
    "    \n",
    "        \n",
    "        "
   ]
  },
  {
   "cell_type": "code",
   "execution_count": 15,
   "id": "9ecff2d8",
   "metadata": {},
   "outputs": [
    {
     "data": {
      "text/plain": [
       "[10, 20, 55]"
      ]
     },
     "execution_count": 15,
     "metadata": {},
     "output_type": "execute_result"
    }
   ],
   "source": [
    "[i for i in l if i%5 == 0]"
   ]
  },
  {
   "cell_type": "markdown",
   "id": "20614906",
   "metadata": {},
   "source": [
    "### 7. Return the count of a given substring from a string"
   ]
  },
  {
   "cell_type": "markdown",
   "id": "8b6b99bf",
   "metadata": {},
   "source": [
    "#### Write a program to find how many times substring “Jeevan” appears in the given string"
   ]
  },
  {
   "cell_type": "markdown",
   "id": "fc3f1088",
   "metadata": {},
   "source": [
    "str_x = \"Jeevan is Data Scientist. And Jeevan is Data science coach as well\""
   ]
  },
  {
   "cell_type": "code",
   "execution_count": 16,
   "id": "11fbb1af",
   "metadata": {},
   "outputs": [],
   "source": [
    "str = \"Jeevan is Data Scientist. And Jeevan is Data science coach as well\""
   ]
  },
  {
   "cell_type": "code",
   "execution_count": 17,
   "id": "b4b425e4",
   "metadata": {},
   "outputs": [
    {
     "data": {
      "text/plain": [
       "2"
      ]
     },
     "execution_count": 17,
     "metadata": {},
     "output_type": "execute_result"
    }
   ],
   "source": [
    "str.count('Jeevan')"
   ]
  },
  {
   "cell_type": "code",
   "execution_count": 18,
   "id": "97f46972",
   "metadata": {},
   "outputs": [
    {
     "name": "stdout",
     "output_type": "stream",
     "text": [
      "2\n"
     ]
    }
   ],
   "source": [
    "count = 0\n",
    "for i in str.split(' '):\n",
    "    if i ==  'Jeevan':\n",
    "        count = count+1\n",
    "        \n",
    "print(count)\n",
    "    "
   ]
  },
  {
   "cell_type": "markdown",
   "id": "d100ce4c",
   "metadata": {},
   "source": [
    "### 8. Print the following pattern"
   ]
  },
  {
   "cell_type": "markdown",
   "id": "73b6b8c8",
   "metadata": {},
   "source": [
    "1 \n",
    "\n",
    "2 2 \n",
    "\n",
    "3 3 3 \n",
    "\n",
    "4 4 4 4 \n",
    "\n",
    "5 5 5 5 5"
   ]
  },
  {
   "cell_type": "code",
   "execution_count": 27,
   "id": "654281ac",
   "metadata": {},
   "outputs": [
    {
     "name": "stdout",
     "output_type": "stream",
     "text": [
      "1 \n",
      "2 2 \n",
      "3 3 3 \n",
      "4 4 4 4 \n",
      "5 5 5 5 5 \n"
     ]
    }
   ],
   "source": [
    "n = 5\n",
    "for i in range(0,n):\n",
    "    for j in range(i+1):\n",
    "        print(i+1,end =' ')\n",
    "    print()"
   ]
  },
  {
   "cell_type": "markdown",
   "id": "07419fde",
   "metadata": {},
   "source": [
    "### 9 . Check Palindrome Number"
   ]
  },
  {
   "cell_type": "markdown",
   "id": "f02e6687",
   "metadata": {},
   "source": [
    "Write a program to check if the given number is a palindrome number.\n",
    "\n",
    "A palindrome number is a number that is same after reverse. For example 545, is the palindrome numbers"
   ]
  },
  {
   "cell_type": "code",
   "execution_count": 12,
   "id": "2b66d25d",
   "metadata": {},
   "outputs": [],
   "source": [
    "b = 545\n",
    "def palindrome(b):\n",
    "    if int(st\n",
    "           \n",
    "           r(b)[::-1])== b:\n",
    "        print(\"number is palindrome\")\n",
    "    else:\n",
    "        print(\"number is not palindrome\")\n",
    "    \n",
    "    \n",
    "    "
   ]
  },
  {
   "cell_type": "code",
   "execution_count": 13,
   "id": "a0e8f452",
   "metadata": {},
   "outputs": [
    {
     "name": "stdout",
     "output_type": "stream",
     "text": [
      "number is not palindrome\n"
     ]
    }
   ],
   "source": [
    "palindrome(154)"
   ]
  },
  {
   "cell_type": "code",
   "execution_count": 14,
   "id": "4d2fa2aa",
   "metadata": {},
   "outputs": [
    {
     "name": "stdout",
     "output_type": "stream",
     "text": [
      "number is palindrome\n"
     ]
    }
   ],
   "source": [
    "palindrome(212)"
   ]
  },
  {
   "cell_type": "code",
   "execution_count": 15,
   "id": "0a225ec5",
   "metadata": {},
   "outputs": [
    {
     "name": "stdout",
     "output_type": "stream",
     "text": [
      "number is palindrome\n"
     ]
    }
   ],
   "source": [
    "palindrome(121)"
   ]
  },
  {
   "cell_type": "markdown",
   "id": "ac2b7841",
   "metadata": {},
   "source": [
    "### 10. Create a new list from a two list using the following condition\n",
    "    \n",
    "Create a new list from a two list using the following condition\n",
    "\n",
    "Given a two list of numbers, write a program to create a new list such that\n",
    "\n",
    "the new list should contain <b>odd numbers from the first list<b>  and  <b>even numbers from the second list.<b>"
   ]
  },
  {
   "cell_type": "code",
   "execution_count": 24,
   "id": "cd468955",
   "metadata": {},
   "outputs": [],
   "source": [
    "l1 = [23,34,45,27,87,56]\n",
    "l2 = [56,78,49,39,76,87]\n",
    "new_list = []\n",
    "for i in l1:\n",
    "    if i%2 != 0:\n",
    "        new_list.append(i)\n",
    "for i in l2:\n",
    "    if i%2 == 0:\n",
    "        new_list.append(i)"
   ]
  },
  {
   "cell_type": "code",
   "execution_count": 27,
   "id": "cd2af446",
   "metadata": {},
   "outputs": [
    {
     "data": {
      "text/plain": [
       "[23, 45, 27, 87, 56, 78, 76]"
      ]
     },
     "execution_count": 27,
     "metadata": {},
     "output_type": "execute_result"
    }
   ],
   "source": [
    "new_list"
   ]
  },
  {
   "cell_type": "markdown",
   "id": "227cb6b3",
   "metadata": {},
   "source": [
    "###  11.  Write a Program to extract each digit from an integer in the reverse order.\n",
    "For example, If the given int is 7536, the output shall be “6 3 5 7“, with a space separating the digits."
   ]
  },
  {
   "cell_type": "code",
   "execution_count": 28,
   "id": "df674844",
   "metadata": {},
   "outputs": [
    {
     "data": {
      "text/plain": [
       "'6 3 5 7'"
      ]
     },
     "execution_count": 28,
     "metadata": {},
     "output_type": "execute_result"
    }
   ],
   "source": [
    "a = 7536\n",
    "b = str(a)[::-1]\n",
    "' '.join(b)"
   ]
  },
  {
   "cell_type": "markdown",
   "id": "98034be1",
   "metadata": {},
   "source": [
    "### 12. Print multiplication table form 1 to 10"
   ]
  },
  {
   "cell_type": "code",
   "execution_count": 39,
   "id": "a311cddb",
   "metadata": {},
   "outputs": [
    {
     "name": "stdout",
     "output_type": "stream",
     "text": [
      "1 2 3 4 5 6 7 8 9 10 \n",
      "2 4 6 8 10 12 14 16 18 20 \n",
      "3 6 9 12 15 18 21 24 27 30 \n",
      "4 8 12 16 20 24 28 32 36 40 \n",
      "5 10 15 20 25 30 35 40 45 50 \n",
      "6 12 18 24 30 36 42 48 54 60 \n",
      "7 14 21 28 35 42 49 56 63 70 \n",
      "8 16 24 32 40 48 56 64 72 80 \n",
      "9 18 27 36 45 54 63 72 81 90 \n",
      "10 20 30 40 50 60 70 80 90 100 \n"
     ]
    }
   ],
   "source": [
    "for i in range(1,11):\n",
    "    for j in range(1,11):\n",
    "        print(i*j, end = ' ')\n",
    "    print()"
   ]
  },
  {
   "cell_type": "markdown",
   "id": "e70024a0",
   "metadata": {},
   "source": [
    "### 13.  Print downward Half-Pyramid Pattern with Star (asterisk)"
   ]
  },
  {
   "cell_type": "raw",
   "id": "c56a4f8a",
   "metadata": {},
   "source": [
    "* * * * * \n",
    "* * * * \n",
    "* * * \n",
    "* * \n",
    "*"
   ]
  },
  {
   "cell_type": "code",
   "execution_count": 44,
   "id": "a6474a79",
   "metadata": {},
   "outputs": [
    {
     "name": "stdout",
     "output_type": "stream",
     "text": [
      "* * * * * \n",
      "* * * * \n",
      "* * * \n",
      "* * \n",
      "* \n"
     ]
    }
   ],
   "source": [
    "n=5\n",
    "for i in range(0,n):\n",
    "    for j in range(n-i):\n",
    "        print(\"*\",end = ' ')\n",
    "    print()"
   ]
  },
  {
   "cell_type": "markdown",
   "id": "fb13b305",
   "metadata": {},
   "source": [
    "### 15 . Write a function called exponent(base, exp) that returns an int value of base raises to the power of exp"
   ]
  },
  {
   "cell_type": "code",
   "execution_count": 47,
   "id": "609b95a4",
   "metadata": {},
   "outputs": [],
   "source": [
    "def exponent(b,e):\n",
    "    res = b**e\n",
    "    print(b,'raise to the power of',e,'=',res)"
   ]
  },
  {
   "cell_type": "code",
   "execution_count": 48,
   "id": "e6f701fe",
   "metadata": {},
   "outputs": [
    {
     "name": "stdout",
     "output_type": "stream",
     "text": [
      "2 raise to the power of 3 = 8\n"
     ]
    }
   ],
   "source": [
    "exponent(2,3)"
   ]
  },
  {
   "cell_type": "markdown",
   "id": "7532ab79",
   "metadata": {},
   "source": [
    "### 16. Accept numbers from a user\n",
    "Write a program to accept two numbers from the user and calculate multiplication"
   ]
  },
  {
   "cell_type": "code",
   "execution_count": 49,
   "id": "0dda8243",
   "metadata": {},
   "outputs": [
    {
     "name": "stdout",
     "output_type": "stream",
     "text": [
      "enter the number1 : 5\n",
      "enter the number2 : 2\n",
      "5 multiply by 2 = 10\n"
     ]
    }
   ],
   "source": [
    "num1 = int(input('enter the number1 : '))\n",
    "num2  = int(input('enter the number2 : '))\n",
    "print(num1,'multiply by',num2,'=',num1*num2)"
   ]
  },
  {
   "cell_type": "markdown",
   "id": "fb504c9a",
   "metadata": {},
   "source": [
    "### 17 . Display three string “Name”, “Is”, “Jeevan” as “Name** Is **Jeevan”"
   ]
  },
  {
   "cell_type": "code",
   "execution_count": 53,
   "id": "180bd3f4",
   "metadata": {},
   "outputs": [],
   "source": [
    "l = ['Name', 'Is', 'Jeevan']"
   ]
  },
  {
   "cell_type": "code",
   "execution_count": 54,
   "id": "1e30dab2",
   "metadata": {},
   "outputs": [
    {
     "data": {
      "text/plain": [
       "'Name**Is**Jeevan'"
      ]
     },
     "execution_count": 54,
     "metadata": {},
     "output_type": "execute_result"
    }
   ],
   "source": [
    "'**'.join(l)"
   ]
  },
  {
   "cell_type": "markdown",
   "id": "9ff31533",
   "metadata": {},
   "source": [
    "### 18. Convert Decimal number to octal using print() output formatting"
   ]
  },
  {
   "cell_type": "code",
   "execution_count": 55,
   "id": "1cbee0e0",
   "metadata": {},
   "outputs": [
    {
     "data": {
      "text/plain": [
       "'0o10'"
      ]
     },
     "execution_count": 55,
     "metadata": {},
     "output_type": "execute_result"
    }
   ],
   "source": [
    "num = 8\n",
    "oct(num)"
   ]
  },
  {
   "cell_type": "markdown",
   "id": "3146f038",
   "metadata": {},
   "source": [
    "### 19. Accept a list of 5 float numbers as an input from the user"
   ]
  },
  {
   "cell_type": "code",
   "execution_count": 57,
   "id": "c4743409",
   "metadata": {},
   "outputs": [
    {
     "name": "stdout",
     "output_type": "stream",
     "text": [
      "enter float number1\n",
      "enter float number5\n",
      "enter float number5\n",
      "enter float number55\n",
      "enter float number55\n",
      "[1.0, 5.0, 5.0, 55.0, 55.0]\n"
     ]
    }
   ],
   "source": [
    "l = []\n",
    "for i in range(5):\n",
    "    l.append(float(input('enter float number')))\n",
    "print(l)"
   ]
  },
  {
   "cell_type": "markdown",
   "id": "38830dae",
   "metadata": {},
   "source": [
    "### 20. Accept any three string from one input() call"
   ]
  },
  {
   "cell_type": "code",
   "execution_count": 66,
   "id": "172d4216",
   "metadata": {},
   "outputs": [
    {
     "name": "stdout",
     "output_type": "stream",
     "text": [
      "Enter Three stringvijay,jagannath,patil\n",
      "string 1 is :  vijay\n",
      "string 2 is :  jagannath\n",
      "string 3 is :  patil\n"
     ]
    }
   ],
   "source": [
    "str1,str2,str3 = str(input('Enter Three string')).split(',')\n",
    "print('string 1 is : ',str1)\n",
    "print('string 2 is : ',str2)\n",
    "print('string 3 is : ',str3)"
   ]
  },
  {
   "cell_type": "code",
   "execution_count": null,
   "id": "4c9b1924",
   "metadata": {},
   "outputs": [],
   "source": []
  }
 ],
 "metadata": {
  "kernelspec": {
   "display_name": "Python 3 (ipykernel)",
   "language": "python",
   "name": "python3"
  },
  "language_info": {
   "codemirror_mode": {
    "name": "ipython",
    "version": 3
   },
   "file_extension": ".py",
   "mimetype": "text/x-python",
   "name": "python",
   "nbconvert_exporter": "python",
   "pygments_lexer": "ipython3",
   "version": "3.9.13"
  }
 },
 "nbformat": 4,
 "nbformat_minor": 5
}
