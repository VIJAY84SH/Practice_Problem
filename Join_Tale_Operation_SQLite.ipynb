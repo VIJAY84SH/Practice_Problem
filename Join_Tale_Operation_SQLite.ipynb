{
 "cells": [
  {
   "cell_type": "code",
   "execution_count": 26,
   "id": "8493bb22",
   "metadata": {},
   "outputs": [],
   "source": [
    "import sqlite3"
   ]
  },
  {
   "cell_type": "code",
   "execution_count": 27,
   "id": "494c4026",
   "metadata": {},
   "outputs": [],
   "source": [
    "db = sqlite3.connect('jointable.db')\n",
    "# creating database and name of database is jointable"
   ]
  },
  {
   "cell_type": "code",
   "execution_count": 4,
   "id": "5aa62a02",
   "metadata": {},
   "outputs": [],
   "source": [
    "c = db.cursor()\n",
    "# it is a connction variable"
   ]
  },
  {
   "cell_type": "code",
   "execution_count": 6,
   "id": "78907e06",
   "metadata": {},
   "outputs": [
    {
     "data": {
      "text/plain": [
       "<sqlite3.Cursor at 0x2293b1a67a0>"
      ]
     },
     "execution_count": 6,
     "metadata": {},
     "output_type": "execute_result"
    }
   ],
   "source": [
    "c.execute('create table student(student_id int, student_name text, marks int)')\n",
    "# creating table 1 that is bydefault left table"
   ]
  },
  {
   "cell_type": "code",
   "execution_count": 21,
   "id": "d8754388",
   "metadata": {},
   "outputs": [
    {
     "data": {
      "text/plain": [
       "<sqlite3.Cursor at 0x2293b1a67a0>"
      ]
     },
     "execution_count": 21,
     "metadata": {},
     "output_type": "execute_result"
    }
   ],
   "source": [
    "c.execute('create table address(student_id int, location text, phone_no text)')\n",
    "# creating table 2 that is right table"
   ]
  },
  {
   "cell_type": "code",
   "execution_count": 9,
   "id": "223a6f20",
   "metadata": {},
   "outputs": [
    {
     "data": {
      "text/plain": [
       "<sqlite3.Cursor at 0x2293b1a67a0>"
      ]
     },
     "execution_count": 9,
     "metadata": {},
     "output_type": "execute_result"
    }
   ],
   "source": [
    "c.execute(\"insert into student values(121, 'sudhanshu', 144)\")\n",
    "c.execute(\"insert into student values(122, 'vijay', 145)\")\n",
    "c.execute(\"insert into student values(123, 'krish', 445)\")\n",
    "c.execute(\"insert into student values(124, 'srd', 440)\")"
   ]
  },
  {
   "cell_type": "code",
   "execution_count": 11,
   "id": "811c38f6",
   "metadata": {},
   "outputs": [
    {
     "name": "stdout",
     "output_type": "stream",
     "text": [
      "(121, 'sudhanshu', 144)\n",
      "(122, 'vijay', 145)\n",
      "(123, 'krish', 445)\n",
      "(124, 'srd', 440)\n"
     ]
    }
   ],
   "source": [
    "for i in c.execute(\"select * from student \"):\n",
    "    print(i)"
   ]
  },
  {
   "cell_type": "code",
   "execution_count": 22,
   "id": "deb903df",
   "metadata": {},
   "outputs": [
    {
     "data": {
      "text/plain": [
       "<sqlite3.Cursor at 0x2293b1a67a0>"
      ]
     },
     "execution_count": 22,
     "metadata": {},
     "output_type": "execute_result"
    }
   ],
   "source": [
    "c.execute(\"insert into address values(121, 'pune', 830883)\")\n",
    "c.execute(\"insert into address values(122, 'pune', 848484)\")\n",
    "c.execute(\"insert into address values(125, 'banglore', 832121)\")\n",
    "c.execute(\"insert into address values(124, 'pune', 914696)\")"
   ]
  },
  {
   "cell_type": "code",
   "execution_count": 23,
   "id": "e32009c7",
   "metadata": {},
   "outputs": [
    {
     "name": "stdout",
     "output_type": "stream",
     "text": [
      "(121, 'pune', '830883')\n",
      "(122, 'pune', '848484')\n",
      "(125, 'banglore', '832121')\n",
      "(124, 'pune', '914696')\n"
     ]
    }
   ],
   "source": [
    "for i in c.execute(\"select * from address\"):\n",
    "    print(i)"
   ]
  },
  {
   "cell_type": "code",
   "execution_count": 24,
   "id": "14ee036c",
   "metadata": {},
   "outputs": [],
   "source": [
    "data = c.execute(\"select * from student s left join address a on s.student_id = a.student_id\")"
   ]
  },
  {
   "cell_type": "code",
   "execution_count": 25,
   "id": "07409117",
   "metadata": {},
   "outputs": [
    {
     "name": "stdout",
     "output_type": "stream",
     "text": [
      "(121, 'sudhanshu', 144, 121, 'pune', '830883')\n",
      "(122, 'vijay', 145, 122, 'pune', '848484')\n",
      "(123, 'krish', 445, None, None, None)\n",
      "(124, 'srd', 440, 124, 'pune', '914696')\n"
     ]
    }
   ],
   "source": [
    "for i in data:\n",
    "    print(i)"
   ]
  },
  {
   "cell_type": "code",
   "execution_count": null,
   "id": "18b142ea",
   "metadata": {},
   "outputs": [],
   "source": [
    "Above shown the operation of left join where table A(student) and table B(Address)\n",
    "it will combine with common factor that is stuent_id \n",
    "In this case left table will fetch everything."
   ]
  }
 ],
 "metadata": {
  "kernelspec": {
   "display_name": "Python 3 (ipykernel)",
   "language": "python",
   "name": "python3"
  },
  "language_info": {
   "codemirror_mode": {
    "name": "ipython",
    "version": 3
   },
   "file_extension": ".py",
   "mimetype": "text/x-python",
   "name": "python",
   "nbconvert_exporter": "python",
   "pygments_lexer": "ipython3",
   "version": "3.9.7"
  }
 },
 "nbformat": 4,
 "nbformat_minor": 5
}
