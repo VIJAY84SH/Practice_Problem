{
 "cells": [
  {
   "cell_type": "code",
   "execution_count": 1,
   "id": "6ba6d3ec",
   "metadata": {},
   "outputs": [],
   "source": [
    "s = \"this is basic python class\""
   ]
  },
  {
   "cell_type": "code",
   "execution_count": 2,
   "id": "00d2ff6b",
   "metadata": {},
   "outputs": [
    {
     "name": "stdout",
     "output_type": "stream",
     "text": [
      "Total count of this string is :  26\n"
     ]
    }
   ],
   "source": [
    "count = 0\n",
    "for i in s:\n",
    "    count = count+1\n",
    "print(\"Total count of this string is : \", count)"
   ]
  },
  {
   "cell_type": "code",
   "execution_count": 3,
   "id": "9a74d5c6",
   "metadata": {},
   "outputs": [
    {
     "data": {
      "text/plain": [
       "'ssalc nohtyp cisab si siht'"
      ]
     },
     "execution_count": 3,
     "metadata": {},
     "output_type": "execute_result"
    }
   ],
   "source": [
    "s[::-1]"
   ]
  },
  {
   "cell_type": "code",
   "execution_count": 4,
   "id": "b06f307b",
   "metadata": {},
   "outputs": [
    {
     "name": "stdout",
     "output_type": "stream",
     "text": [
      "s\n",
      "s\n",
      "a\n",
      "l\n",
      "c\n",
      " \n",
      "n\n",
      "o\n",
      "h\n",
      "t\n",
      "y\n",
      "p\n",
      " \n",
      "c\n",
      "i\n",
      "s\n",
      "a\n",
      "b\n",
      " \n",
      "s\n",
      "i\n",
      " \n",
      "s\n",
      "i\n",
      "h\n",
      "t\n"
     ]
    }
   ],
   "source": [
    "for i in range(len(s)-1,-1,-1):\n",
    "    print(s[i])"
   ]
  },
  {
   "cell_type": "code",
   "execution_count": 5,
   "id": "6cc459f7",
   "metadata": {},
   "outputs": [
    {
     "data": {
      "text/plain": [
       "'this is basic python class'"
      ]
     },
     "execution_count": 5,
     "metadata": {},
     "output_type": "execute_result"
    }
   ],
   "source": [
    "s"
   ]
  },
  {
   "cell_type": "code",
   "execution_count": 6,
   "id": "4334af56",
   "metadata": {},
   "outputs": [
    {
     "data": {
      "text/plain": [
       "26"
      ]
     },
     "execution_count": 6,
     "metadata": {},
     "output_type": "execute_result"
    }
   ],
   "source": [
    "len(s)"
   ]
  },
  {
   "cell_type": "code",
   "execution_count": 7,
   "id": "de1db110",
   "metadata": {},
   "outputs": [
    {
     "ename": "IndexError",
     "evalue": "string index out of range",
     "output_type": "error",
     "traceback": [
      "\u001b[1;31m---------------------------------------------------------------------------\u001b[0m",
      "\u001b[1;31mIndexError\u001b[0m                                Traceback (most recent call last)",
      "\u001b[1;32m~\\AppData\\Local\\Temp\\ipykernel_8120\\1456488325.py\u001b[0m in \u001b[0;36m<module>\u001b[1;34m\u001b[0m\n\u001b[1;32m----> 1\u001b[1;33m \u001b[0ms\u001b[0m\u001b[1;33m[\u001b[0m\u001b[1;36m26\u001b[0m\u001b[1;33m]\u001b[0m\u001b[1;33m\u001b[0m\u001b[1;33m\u001b[0m\u001b[0m\n\u001b[0m",
      "\u001b[1;31mIndexError\u001b[0m: string index out of range"
     ]
    }
   ],
   "source": [
    "s[26]"
   ]
  },
  {
   "cell_type": "code",
   "execution_count": 8,
   "id": "7039a70b",
   "metadata": {},
   "outputs": [
    {
     "data": {
      "text/plain": [
       "'s'"
      ]
     },
     "execution_count": 8,
     "metadata": {},
     "output_type": "execute_result"
    }
   ],
   "source": [
    "s[25]"
   ]
  },
  {
   "cell_type": "code",
   "execution_count": 9,
   "id": "29543009",
   "metadata": {},
   "outputs": [
    {
     "name": "stdout",
     "output_type": "stream",
     "text": [
      "s s a l c   n o h t y p   c i s a b   s i   s i h t "
     ]
    }
   ],
   "source": [
    "i = len(s)-1\n",
    "while (i>=0):\n",
    "    print(s[i], end = \" \")\n",
    "    i = i-1"
   ]
  },
  {
   "cell_type": "markdown",
   "id": "97d5abec",
   "metadata": {},
   "source": [
    "### Check Vowel"
   ]
  },
  {
   "cell_type": "code",
   "execution_count": 10,
   "id": "b44e7e5e",
   "metadata": {},
   "outputs": [
    {
     "name": "stdout",
     "output_type": "stream",
     "text": [
      "i  it is vowel\n",
      "m its not vowel\n",
      "a  it is vowel\n",
      "r its not vowel\n",
      "t its not vowel\n",
      "i  it is vowel\n",
      "c its not vowel\n",
      "s its not vowel\n"
     ]
    }
   ],
   "source": [
    "a1 = \"imartics\"\n",
    "b = \"AaEeIiOoUu\"\n",
    "for i in a1:\n",
    "    if i in b:\n",
    "        print(i,\" it is vowel\")\n",
    "    else:\n",
    "        print(i,\"its not vowel\")"
   ]
  },
  {
   "cell_type": "markdown",
   "id": "8f03af95",
   "metadata": {},
   "source": [
    "### Palindrome"
   ]
  },
  {
   "cell_type": "code",
   "execution_count": 11,
   "id": "ee255cf2",
   "metadata": {},
   "outputs": [
    {
     "name": "stdout",
     "output_type": "stream",
     "text": [
      "\n",
      " is Palindrome\n"
     ]
    }
   ],
   "source": [
    "a = str(input())\n",
    "b = a[: : -1]\n",
    "if a == b:\n",
    "    print(a,\"is Palindrome\")\n",
    "else:\n",
    "    print(a,\"is not a palindrome\")"
   ]
  },
  {
   "cell_type": "code",
   "execution_count": 12,
   "id": "095751d4",
   "metadata": {},
   "outputs": [
    {
     "name": "stdout",
     "output_type": "stream",
     "text": [
      "palindrome\n"
     ]
    }
   ],
   "source": [
    "b = \"eye\"\n",
    "for  i in range(len(b)):\n",
    "    if b[i]!=b[len(b)-i-1]:\n",
    "        print(\" not a palindrome\")\n",
    "        break\n",
    "else:\n",
    "    print(\"palindrome\")"
   ]
  },
  {
   "cell_type": "code",
   "execution_count": 13,
   "id": "d44a0ab8",
   "metadata": {},
   "outputs": [
    {
     "name": "stdout",
     "output_type": "stream",
     "text": [
      "palindrome\n"
     ]
    }
   ],
   "source": [
    "p = \"eye\"\n",
    "f = \"\"\n",
    "i = len(p)-1\n",
    "while(i>=0):\n",
    "    f = f+p[i]\n",
    "    i = i-1\n",
    "if(p==f):\n",
    "    print(\"palindrome\")\n",
    "else:\n",
    "    print(\"not palindrome\")"
   ]
  },
  {
   "cell_type": "code",
   "execution_count": 14,
   "id": "0fef22e7",
   "metadata": {},
   "outputs": [],
   "source": [
    "d = {\"india\" : \"IN\",\n",
    "     \"canada\" : \" CA\",\n",
    "    \"china\" : \"CH\",\n",
    "    \"united state\" : \"US\"}"
   ]
  },
  {
   "cell_type": "code",
   "execution_count": 15,
   "id": "bf6266b7",
   "metadata": {},
   "outputs": [
    {
     "data": {
      "text/plain": [
       "{'india': 'IN', 'canada': ' CA', 'china': 'CH', 'united state': 'US'}"
      ]
     },
     "execution_count": 15,
     "metadata": {},
     "output_type": "execute_result"
    }
   ],
   "source": [
    "d"
   ]
  },
  {
   "cell_type": "code",
   "execution_count": 16,
   "id": "ddb48d38",
   "metadata": {},
   "outputs": [
    {
     "data": {
      "text/plain": [
       "True"
      ]
     },
     "execution_count": 16,
     "metadata": {},
     "output_type": "execute_result"
    }
   ],
   "source": [
    "\"india\" in d"
   ]
  },
  {
   "cell_type": "code",
   "execution_count": 17,
   "id": "9c02c439",
   "metadata": {},
   "outputs": [
    {
     "data": {
      "text/plain": [
       "False"
      ]
     },
     "execution_count": 17,
     "metadata": {},
     "output_type": "execute_result"
    }
   ],
   "source": [
    "\"IN\" in d"
   ]
  },
  {
   "cell_type": "code",
   "execution_count": 18,
   "id": "8672b5b1",
   "metadata": {},
   "outputs": [],
   "source": [
    "l1=[]\n",
    "l2=[]\n",
    "for i in d:\n",
    "    if len(i) <=5:\n",
    "        l1.append(i)\n",
    "    else:\n",
    "        l2.append(i)"
   ]
  },
  {
   "cell_type": "code",
   "execution_count": 19,
   "id": "06f70940",
   "metadata": {},
   "outputs": [
    {
     "data": {
      "text/plain": [
       "['india', 'china']"
      ]
     },
     "execution_count": 19,
     "metadata": {},
     "output_type": "execute_result"
    }
   ],
   "source": [
    "l1"
   ]
  },
  {
   "cell_type": "code",
   "execution_count": 20,
   "id": "54feb175",
   "metadata": {},
   "outputs": [
    {
     "data": {
      "text/plain": [
       "['canada', 'united state']"
      ]
     },
     "execution_count": 20,
     "metadata": {},
     "output_type": "execute_result"
    }
   ],
   "source": [
    "l2"
   ]
  },
  {
   "cell_type": "code",
   "execution_count": 21,
   "id": "8293b989",
   "metadata": {},
   "outputs": [],
   "source": [
    "d_1 ={\"ineuron\" :{\"a\" : 14,\n",
    "                  \"b\" : 10,\n",
    "                  \"c\" : 4},\n",
    "      \n",
    "      \"course\"   :{\"d\" : 45,\n",
    "                   \"e\" : 34,\n",
    "                    \"f\" : 1}\n",
    "     }"
   ]
  },
  {
   "cell_type": "code",
   "execution_count": 22,
   "id": "fcf8fda6",
   "metadata": {},
   "outputs": [
    {
     "data": {
      "text/plain": [
       "{'ineuron': {'a': 14, 'b': 10, 'c': 4}, 'course': {'d': 45, 'e': 34, 'f': 1}}"
      ]
     },
     "execution_count": 22,
     "metadata": {},
     "output_type": "execute_result"
    }
   ],
   "source": [
    "d_1"
   ]
  },
  {
   "cell_type": "code",
   "execution_count": 23,
   "id": "caa3239a",
   "metadata": {},
   "outputs": [
    {
     "name": "stdout",
     "output_type": "stream",
     "text": [
      "{'a': 14, 'b': 10, 'c': 4}\n",
      "{'d': 45, 'e': 34, 'f': 1}\n"
     ]
    }
   ],
   "source": [
    "lst = []\n",
    "for i in d_1.values():\n",
    "    print(i)\n",
    "    "
   ]
  },
  {
   "cell_type": "code",
   "execution_count": 24,
   "id": "1edd609d",
   "metadata": {},
   "outputs": [
    {
     "name": "stdout",
     "output_type": "stream",
     "text": [
      "14\n",
      "10\n",
      "4\n",
      "45\n",
      "34\n",
      "1\n"
     ]
    }
   ],
   "source": [
    "for i in d_1.values():\n",
    "    for j in i.values():\n",
    "        print(j)\n",
    "        "
   ]
  },
  {
   "cell_type": "code",
   "execution_count": 27,
   "id": "8e466779",
   "metadata": {},
   "outputs": [
    {
     "name": "stdout",
     "output_type": "stream",
     "text": [
      "14\n",
      "45\n"
     ]
    }
   ],
   "source": [
    "l1 = []\n",
    "for i in d_1.values():\n",
    "    for j in i.values():\n",
    "        l1.append(j)\n",
    "    print(max(l1))"
   ]
  },
  {
   "cell_type": "code",
   "execution_count": 30,
   "id": "9b046f2a",
   "metadata": {},
   "outputs": [
    {
     "name": "stdout",
     "output_type": "stream",
     "text": [
      "14\n",
      "45\n"
     ]
    }
   ],
   "source": [
    "for i in d_1.values():\n",
    "    mx = 0\n",
    "    for j in i.values():\n",
    "        if mx <j:\n",
    "            mx = j\n",
    "    print(mx)"
   ]
  },
  {
   "cell_type": "code",
   "execution_count": 32,
   "id": "16fa7167",
   "metadata": {},
   "outputs": [
    {
     "name": "stdout",
     "output_type": "stream",
     "text": [
      "14\n",
      "45\n"
     ]
    }
   ],
   "source": [
    "for i in d_1.values():\n",
    "    print(max(i.values()))"
   ]
  },
  {
   "cell_type": "code",
   "execution_count": 33,
   "id": "58812f27",
   "metadata": {},
   "outputs": [],
   "source": [
    "d_2 = {\"inueron\" :{\"a\" : 14, \"b\" : 10, \"c\" : 4},\n",
    "       \"course\" : {\"d\" : 45, \"e\" : 34, \"f\" : 1},\n",
    "       \"g\" : 34 ,\n",
    "       \"h\" : [45, 6, 7.8, 9.3],\n",
    "       \"i\" : (45, 30, 2),\n",
    "       \"k\" : \"viju\"}"
   ]
  },
  {
   "cell_type": "code",
   "execution_count": 34,
   "id": "fcc2ef12",
   "metadata": {},
   "outputs": [
    {
     "data": {
      "text/plain": [
       "{'inueron': {'a': 14, 'b': 10, 'c': 4},\n",
       " 'course': {'d': 45, 'e': 34, 'f': 1},\n",
       " 'g': 34,\n",
       " 'h': [45, 6, 7.8, 9.3],\n",
       " 'i': (45, 30, 2),\n",
       " 'k': 'viju'}"
      ]
     },
     "execution_count": 34,
     "metadata": {},
     "output_type": "execute_result"
    }
   ],
   "source": [
    "d_2"
   ]
  },
  {
   "cell_type": "code",
   "execution_count": 37,
   "id": "3148652f",
   "metadata": {},
   "outputs": [
    {
     "name": "stdout",
     "output_type": "stream",
     "text": [
      "45\n"
     ]
    }
   ],
   "source": [
    "l2 = []\n",
    "for i in d_2.values():\n",
    "    if type(i) == dict:\n",
    "        l2.append(max(i.values()))\n",
    "    elif type(i) == list:\n",
    "        l2.append(max(i))\n",
    "    elif type(i) == tuple:\n",
    "        l2.append(max(i))\n",
    "    elif type(i) == str:\n",
    "        pass\n",
    "    else:\n",
    "        l2.append(i)\n",
    "        \n",
    "print(max(l2))"
   ]
  },
  {
   "cell_type": "code",
   "execution_count": null,
   "id": "a9df10a4",
   "metadata": {},
   "outputs": [],
   "source": []
  }
 ],
 "metadata": {
  "kernelspec": {
   "display_name": "Python 3 (ipykernel)",
   "language": "python",
   "name": "python3"
  },
  "language_info": {
   "codemirror_mode": {
    "name": "ipython",
    "version": 3
   },
   "file_extension": ".py",
   "mimetype": "text/x-python",
   "name": "python",
   "nbconvert_exporter": "python",
   "pygments_lexer": "ipython3",
   "version": "3.9.13"
  }
 },
 "nbformat": 4,
 "nbformat_minor": 5
}
