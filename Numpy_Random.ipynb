{
 "cells": [
  {
   "cell_type": "code",
   "execution_count": 4,
   "id": "0641668f",
   "metadata": {},
   "outputs": [],
   "source": [
    "import numpy as np"
   ]
  },
  {
   "cell_type": "markdown",
   "id": "50db65db",
   "metadata": {},
   "source": [
    "### Random"
   ]
  },
  {
   "cell_type": "markdown",
   "id": "c3599d35",
   "metadata": {},
   "source": [
    "#### rand()"
   ]
  },
  {
   "cell_type": "markdown",
   "id": "664e8acc",
   "metadata": {},
   "source": [
    " - the function is used to generate a random value between 0 to 1\n",
    "    \n",
    "     "
   ]
  },
  {
   "cell_type": "code",
   "execution_count": 5,
   "id": "9ebd6752",
   "metadata": {},
   "outputs": [
    {
     "data": {
      "text/plain": [
       "array([0.49135284, 0.63782687, 0.71024974, 0.18676653])"
      ]
     },
     "execution_count": 5,
     "metadata": {},
     "output_type": "execute_result"
    }
   ],
   "source": [
    "x = np.random.rand(4)\n",
    "x"
   ]
  },
  {
   "cell_type": "code",
   "execution_count": 7,
   "id": "2da2b4ef",
   "metadata": {},
   "outputs": [
    {
     "data": {
      "text/plain": [
       "array([0.82111069, 0.97270254, 0.4045389 , 0.18375101])"
      ]
     },
     "execution_count": 7,
     "metadata": {},
     "output_type": "execute_result"
    }
   ],
   "source": [
    "x1 = np.random.rand(4)\n",
    "x1"
   ]
  },
  {
   "cell_type": "code",
   "execution_count": 11,
   "id": "2a98bbc0",
   "metadata": {},
   "outputs": [
    {
     "data": {
      "text/plain": [
       "array([[0.65741383, 0.12487126, 0.13269014],\n",
       "       [0.74153246, 0.64394779, 0.26296652],\n",
       "       [0.65753643, 0.07336913, 0.2216868 ]])"
      ]
     },
     "execution_count": 11,
     "metadata": {},
     "output_type": "execute_result"
    }
   ],
   "source": [
    "x2 = np.random.rand(3,3)\n",
    "x2"
   ]
  },
  {
   "cell_type": "markdown",
   "id": "94c41191",
   "metadata": {},
   "source": [
    "#### randn()"
   ]
  },
  {
   "cell_type": "markdown",
   "id": "8b3ffa7a",
   "metadata": {},
   "source": [
    " - the function is used to generate a random value close to zero. this may return **positive or negative** numbers as well."
   ]
  },
  {
   "cell_type": "code",
   "execution_count": 15,
   "id": "32943d6d",
   "metadata": {},
   "outputs": [
    {
     "data": {
      "text/plain": [
       "array([-0.15863263, -0.26903815, -2.63718756])"
      ]
     },
     "execution_count": 15,
     "metadata": {},
     "output_type": "execute_result"
    }
   ],
   "source": [
    "x3 = np.random.randn(3)\n",
    "x3"
   ]
  },
  {
   "cell_type": "code",
   "execution_count": 17,
   "id": "a0fbb1c4",
   "metadata": {},
   "outputs": [
    {
     "data": {
      "text/plain": [
       "array([[ 0.58063926,  1.09705301, -2.21580932],\n",
       "       [-1.72165327,  1.87819151, -0.17328454],\n",
       "       [-0.61440152, -0.7773911 ,  1.1231792 ]])"
      ]
     },
     "execution_count": 17,
     "metadata": {},
     "output_type": "execute_result"
    }
   ],
   "source": [
    "x4 = np.random.randn(3,3)\n",
    "x4"
   ]
  },
  {
   "cell_type": "markdown",
   "id": "f8b75b31",
   "metadata": {},
   "source": [
    "#### ranf()"
   ]
  },
  {
   "cell_type": "markdown",
   "id": "8c3e6807",
   "metadata": {},
   "source": [
    " - the function for doing random sampling  in numpy, it returns an array of specified shape and fills it with random floats in the half open interval [0.0,1.0)\n",
    " \n",
    " \n",
    " - it will give Excluding 1.0"
   ]
  },
  {
   "cell_type": "code",
   "execution_count": 23,
   "id": "4c38019f",
   "metadata": {},
   "outputs": [
    {
     "data": {
      "text/plain": [
       "array([0.89733484, 0.7963729 , 0.79524299])"
      ]
     },
     "execution_count": 23,
     "metadata": {},
     "output_type": "execute_result"
    }
   ],
   "source": [
    "x5 = np.random.ranf(3)\n",
    "x5"
   ]
  },
  {
   "cell_type": "markdown",
   "id": "cdcea090",
   "metadata": {},
   "source": [
    "#### randint()"
   ]
  },
  {
   "cell_type": "markdown",
   "id": "2537a648",
   "metadata": {},
   "source": [
    " - the function is used to generate a random number between a given range"
   ]
  },
  {
   "cell_type": "markdown",
   "id": "704f5a27",
   "metadata": {},
   "source": [
    "#### Syntax"
   ]
  },
  {
   "cell_type": "markdown",
   "id": "d69f50a5",
   "metadata": {},
   "source": [
    " - np.random.randint( min, max, size,dtype )"
   ]
  },
  {
   "cell_type": "code",
   "execution_count": 29,
   "id": "439bc8aa",
   "metadata": {},
   "outputs": [
    {
     "data": {
      "text/plain": [
       "5"
      ]
     },
     "execution_count": 29,
     "metadata": {},
     "output_type": "execute_result"
    }
   ],
   "source": [
    "x6 = np.random.randint(23) # it will generate number below 23\n",
    "x6"
   ]
  },
  {
   "cell_type": "code",
   "execution_count": 33,
   "id": "dd98d1ba",
   "metadata": {},
   "outputs": [
    {
     "data": {
      "text/plain": [
       "12"
      ]
     },
     "execution_count": 33,
     "metadata": {},
     "output_type": "execute_result"
    }
   ],
   "source": [
    "x7 = np.random.randint(10,20)  # it will generate number between 10 to 20\n",
    "x7"
   ]
  },
  {
   "cell_type": "code",
   "execution_count": 37,
   "id": "6fe35820",
   "metadata": {},
   "outputs": [
    {
     "data": {
      "text/plain": [
       "array([18, 12, 19, 11])"
      ]
     },
     "execution_count": 37,
     "metadata": {},
     "output_type": "execute_result"
    }
   ],
   "source": [
    "x8 = np.random.randint(10,20,4)  # it will generate '4' number between 10 to 20\n",
    "x8"
   ]
  },
  {
   "cell_type": "code",
   "execution_count": 47,
   "id": "c0c161c7",
   "metadata": {},
   "outputs": [
    {
     "data": {
      "text/plain": [
       "array([[47, 19, 22],\n",
       "       [16, 12, 35],\n",
       "       [30, 43, 16]])"
      ]
     },
     "execution_count": 47,
     "metadata": {},
     "output_type": "execute_result"
    }
   ],
   "source": [
    "x9 = np.random.randint(5,50, size = (3,3))\n",
    "x9"
   ]
  },
  {
   "cell_type": "code",
   "execution_count": 58,
   "id": "bef7cf9a",
   "metadata": {},
   "outputs": [
    {
     "data": {
      "text/plain": [
       "array([[21, 10, 21],\n",
       "       [22, 44, 16],\n",
       "       [19, 43, 28],\n",
       "       [47, 45, 16]])"
      ]
     },
     "execution_count": 58,
     "metadata": {},
     "output_type": "execute_result"
    }
   ],
   "source": [
    "x10 = np.random.randint(5,50,size = (4,3))\n",
    "x10"
   ]
  },
  {
   "cell_type": "markdown",
   "id": "ed059122",
   "metadata": {},
   "source": [
    "### Choice"
   ]
  },
  {
   "cell_type": "code",
   "execution_count": 59,
   "id": "fe65121e",
   "metadata": {},
   "outputs": [
    {
     "data": {
      "text/plain": [
       "9"
      ]
     },
     "execution_count": 59,
     "metadata": {},
     "output_type": "execute_result"
    }
   ],
   "source": [
    "x11=np.random.choice([3,5,7,9])\n",
    "x11"
   ]
  },
  {
   "cell_type": "code",
   "execution_count": 61,
   "id": "00deeb51",
   "metadata": {},
   "outputs": [
    {
     "data": {
      "text/plain": [
       "array([[7, 7, 9],\n",
       "       [7, 3, 9],\n",
       "       [3, 9, 7],\n",
       "       [9, 5, 3]])"
      ]
     },
     "execution_count": 61,
     "metadata": {},
     "output_type": "execute_result"
    }
   ],
   "source": [
    "x12 = np.random.choice([3,5,7,9],size = (4,3))\n",
    "x12"
   ]
  },
  {
   "cell_type": "code",
   "execution_count": null,
   "id": "ba072eae",
   "metadata": {},
   "outputs": [],
   "source": []
  }
 ],
 "metadata": {
  "kernelspec": {
   "display_name": "Python 3 (ipykernel)",
   "language": "python",
   "name": "python3"
  },
  "language_info": {
   "codemirror_mode": {
    "name": "ipython",
    "version": 3
   },
   "file_extension": ".py",
   "mimetype": "text/x-python",
   "name": "python",
   "nbconvert_exporter": "python",
   "pygments_lexer": "ipython3",
   "version": "3.9.13"
  }
 },
 "nbformat": 4,
 "nbformat_minor": 5
}
