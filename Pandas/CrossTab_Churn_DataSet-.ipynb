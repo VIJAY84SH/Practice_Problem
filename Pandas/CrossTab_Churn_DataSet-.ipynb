{
 "cells": [
  {
   "cell_type": "code",
   "execution_count": 1,
   "id": "9039d31c",
   "metadata": {},
   "outputs": [],
   "source": [
    "import pandas as pd"
   ]
  },
  {
   "cell_type": "code",
   "execution_count": 2,
   "id": "fc329f68",
   "metadata": {},
   "outputs": [],
   "source": [
    "ch = pd.read_csv('Churn.csv')"
   ]
  },
  {
   "cell_type": "code",
   "execution_count": 3,
   "id": "3829db3f",
   "metadata": {},
   "outputs": [
    {
     "data": {
      "text/html": [
       "<div>\n",
       "<style scoped>\n",
       "    .dataframe tbody tr th:only-of-type {\n",
       "        vertical-align: middle;\n",
       "    }\n",
       "\n",
       "    .dataframe tbody tr th {\n",
       "        vertical-align: top;\n",
       "    }\n",
       "\n",
       "    .dataframe thead th {\n",
       "        text-align: right;\n",
       "    }\n",
       "</style>\n",
       "<table border=\"1\" class=\"dataframe\">\n",
       "  <thead>\n",
       "    <tr style=\"text-align: right;\">\n",
       "      <th></th>\n",
       "      <th>customerID</th>\n",
       "      <th>gender</th>\n",
       "      <th>SeniorCitizen</th>\n",
       "      <th>Partner</th>\n",
       "      <th>Dependents</th>\n",
       "      <th>tenure</th>\n",
       "      <th>PhoneService</th>\n",
       "      <th>MultipleLines</th>\n",
       "      <th>InternetService</th>\n",
       "      <th>OnlineSecurity</th>\n",
       "      <th>...</th>\n",
       "      <th>DeviceProtection</th>\n",
       "      <th>TechSupport</th>\n",
       "      <th>StreamingTV</th>\n",
       "      <th>StreamingMovies</th>\n",
       "      <th>Contract</th>\n",
       "      <th>PaperlessBilling</th>\n",
       "      <th>PaymentMethod</th>\n",
       "      <th>MonthlyCharges</th>\n",
       "      <th>TotalCharges</th>\n",
       "      <th>Churn</th>\n",
       "    </tr>\n",
       "  </thead>\n",
       "  <tbody>\n",
       "    <tr>\n",
       "      <th>0</th>\n",
       "      <td>7590-VHVEG</td>\n",
       "      <td>Female</td>\n",
       "      <td>0</td>\n",
       "      <td>Yes</td>\n",
       "      <td>No</td>\n",
       "      <td>1</td>\n",
       "      <td>No</td>\n",
       "      <td>No phone service</td>\n",
       "      <td>DSL</td>\n",
       "      <td>No</td>\n",
       "      <td>...</td>\n",
       "      <td>No</td>\n",
       "      <td>No</td>\n",
       "      <td>No</td>\n",
       "      <td>No</td>\n",
       "      <td>Month-to-month</td>\n",
       "      <td>Yes</td>\n",
       "      <td>Electronic check</td>\n",
       "      <td>29.85</td>\n",
       "      <td>29.85</td>\n",
       "      <td>No</td>\n",
       "    </tr>\n",
       "    <tr>\n",
       "      <th>1</th>\n",
       "      <td>5575-GNVDE</td>\n",
       "      <td>Male</td>\n",
       "      <td>0</td>\n",
       "      <td>No</td>\n",
       "      <td>No</td>\n",
       "      <td>34</td>\n",
       "      <td>Yes</td>\n",
       "      <td>No</td>\n",
       "      <td>DSL</td>\n",
       "      <td>Yes</td>\n",
       "      <td>...</td>\n",
       "      <td>Yes</td>\n",
       "      <td>No</td>\n",
       "      <td>No</td>\n",
       "      <td>No</td>\n",
       "      <td>One year</td>\n",
       "      <td>No</td>\n",
       "      <td>Mailed check</td>\n",
       "      <td>56.95</td>\n",
       "      <td>1889.5</td>\n",
       "      <td>No</td>\n",
       "    </tr>\n",
       "    <tr>\n",
       "      <th>2</th>\n",
       "      <td>3668-QPYBK</td>\n",
       "      <td>Male</td>\n",
       "      <td>0</td>\n",
       "      <td>No</td>\n",
       "      <td>No</td>\n",
       "      <td>2</td>\n",
       "      <td>Yes</td>\n",
       "      <td>No</td>\n",
       "      <td>DSL</td>\n",
       "      <td>Yes</td>\n",
       "      <td>...</td>\n",
       "      <td>No</td>\n",
       "      <td>No</td>\n",
       "      <td>No</td>\n",
       "      <td>No</td>\n",
       "      <td>Month-to-month</td>\n",
       "      <td>Yes</td>\n",
       "      <td>Mailed check</td>\n",
       "      <td>53.85</td>\n",
       "      <td>108.15</td>\n",
       "      <td>Yes</td>\n",
       "    </tr>\n",
       "  </tbody>\n",
       "</table>\n",
       "<p>3 rows × 21 columns</p>\n",
       "</div>"
      ],
      "text/plain": [
       "   customerID  gender  SeniorCitizen Partner Dependents  tenure PhoneService  \\\n",
       "0  7590-VHVEG  Female              0     Yes         No       1           No   \n",
       "1  5575-GNVDE    Male              0      No         No      34          Yes   \n",
       "2  3668-QPYBK    Male              0      No         No       2          Yes   \n",
       "\n",
       "      MultipleLines InternetService OnlineSecurity  ... DeviceProtection  \\\n",
       "0  No phone service             DSL             No  ...               No   \n",
       "1                No             DSL            Yes  ...              Yes   \n",
       "2                No             DSL            Yes  ...               No   \n",
       "\n",
       "  TechSupport StreamingTV StreamingMovies        Contract PaperlessBilling  \\\n",
       "0          No          No              No  Month-to-month              Yes   \n",
       "1          No          No              No        One year               No   \n",
       "2          No          No              No  Month-to-month              Yes   \n",
       "\n",
       "      PaymentMethod MonthlyCharges  TotalCharges Churn  \n",
       "0  Electronic check          29.85         29.85    No  \n",
       "1      Mailed check          56.95        1889.5    No  \n",
       "2      Mailed check          53.85        108.15   Yes  \n",
       "\n",
       "[3 rows x 21 columns]"
      ]
     },
     "execution_count": 3,
     "metadata": {},
     "output_type": "execute_result"
    }
   ],
   "source": [
    "ch.head(3)"
   ]
  },
  {
   "cell_type": "code",
   "execution_count": 4,
   "id": "7d377acb",
   "metadata": {},
   "outputs": [
    {
     "data": {
      "text/plain": [
       "(7043, 21)"
      ]
     },
     "execution_count": 4,
     "metadata": {},
     "output_type": "execute_result"
    }
   ],
   "source": [
    "ch.shape"
   ]
  },
  {
   "cell_type": "markdown",
   "id": "0a68fb32",
   "metadata": {},
   "source": [
    "### Gender and Churn"
   ]
  },
  {
   "cell_type": "code",
   "execution_count": 5,
   "id": "34ce47e3",
   "metadata": {},
   "outputs": [
    {
     "data": {
      "text/html": [
       "<div>\n",
       "<style scoped>\n",
       "    .dataframe tbody tr th:only-of-type {\n",
       "        vertical-align: middle;\n",
       "    }\n",
       "\n",
       "    .dataframe tbody tr th {\n",
       "        vertical-align: top;\n",
       "    }\n",
       "\n",
       "    .dataframe thead th {\n",
       "        text-align: right;\n",
       "    }\n",
       "</style>\n",
       "<table border=\"1\" class=\"dataframe\">\n",
       "  <thead>\n",
       "    <tr style=\"text-align: right;\">\n",
       "      <th>Churn</th>\n",
       "      <th>No</th>\n",
       "      <th>Yes</th>\n",
       "    </tr>\n",
       "    <tr>\n",
       "      <th>gender</th>\n",
       "      <th></th>\n",
       "      <th></th>\n",
       "    </tr>\n",
       "  </thead>\n",
       "  <tbody>\n",
       "    <tr>\n",
       "      <th>Female</th>\n",
       "      <td>2549</td>\n",
       "      <td>939</td>\n",
       "    </tr>\n",
       "    <tr>\n",
       "      <th>Male</th>\n",
       "      <td>2625</td>\n",
       "      <td>930</td>\n",
       "    </tr>\n",
       "  </tbody>\n",
       "</table>\n",
       "</div>"
      ],
      "text/plain": [
       "Churn     No  Yes\n",
       "gender           \n",
       "Female  2549  939\n",
       "Male    2625  930"
      ]
     },
     "execution_count": 5,
     "metadata": {},
     "output_type": "execute_result"
    }
   ],
   "source": [
    "pd.crosstab(ch.gender,ch.Churn,)"
   ]
  },
  {
   "cell_type": "code",
   "execution_count": 6,
   "id": "c6dd4eae",
   "metadata": {},
   "outputs": [
    {
     "data": {
      "text/plain": [
       "73.07912844036697"
      ]
     },
     "execution_count": 6,
     "metadata": {},
     "output_type": "execute_result"
    }
   ],
   "source": [
    "(2549/(2549+939))*100    # 73% Female customer not churned subscription"
   ]
  },
  {
   "cell_type": "code",
   "execution_count": 7,
   "id": "00eee7a3",
   "metadata": {},
   "outputs": [
    {
     "data": {
      "text/plain": [
       "26.920871559633024"
      ]
     },
     "execution_count": 7,
     "metadata": {},
     "output_type": "execute_result"
    }
   ],
   "source": [
    "(939/(2549 +939))*100  # around 27% Female customer churned subscription"
   ]
  },
  {
   "cell_type": "code",
   "execution_count": 8,
   "id": "a9ddf813",
   "metadata": {},
   "outputs": [
    {
     "data": {
      "text/plain": [
       "73.83966244725738"
      ]
     },
     "execution_count": 8,
     "metadata": {},
     "output_type": "execute_result"
    }
   ],
   "source": [
    "(2625/(2625+930))*100   # around 74% of male customer not churned subscription"
   ]
  },
  {
   "cell_type": "code",
   "execution_count": 9,
   "id": "00ff6e5b",
   "metadata": {},
   "outputs": [
    {
     "data": {
      "text/plain": [
       "26.160337552742618"
      ]
     },
     "execution_count": 9,
     "metadata": {},
     "output_type": "execute_result"
    }
   ],
   "source": [
    "(930/(930+2625))*100  # 26 % of male customer churned subscription "
   ]
  },
  {
   "cell_type": "code",
   "execution_count": 10,
   "id": "3237e903",
   "metadata": {},
   "outputs": [
    {
     "data": {
      "text/plain": [
       "26.536987079369588"
      ]
     },
     "execution_count": 10,
     "metadata": {},
     "output_type": "execute_result"
    }
   ],
   "source": [
    "((939+930)/(939+930+2549+2625))*100  # around 27% churned customer subscription"
   ]
  },
  {
   "cell_type": "markdown",
   "id": "6fdace54",
   "metadata": {},
   "source": [
    "_____________________________________________________________________________________________"
   ]
  },
  {
   "cell_type": "markdown",
   "id": "fad2eda0",
   "metadata": {},
   "source": [
    "### Partner and Churn"
   ]
  },
  {
   "cell_type": "code",
   "execution_count": 11,
   "id": "e2e45a24",
   "metadata": {},
   "outputs": [
    {
     "data": {
      "text/html": [
       "<div>\n",
       "<style scoped>\n",
       "    .dataframe tbody tr th:only-of-type {\n",
       "        vertical-align: middle;\n",
       "    }\n",
       "\n",
       "    .dataframe tbody tr th {\n",
       "        vertical-align: top;\n",
       "    }\n",
       "\n",
       "    .dataframe thead th {\n",
       "        text-align: right;\n",
       "    }\n",
       "</style>\n",
       "<table border=\"1\" class=\"dataframe\">\n",
       "  <thead>\n",
       "    <tr style=\"text-align: right;\">\n",
       "      <th>Churn</th>\n",
       "      <th>No</th>\n",
       "      <th>Yes</th>\n",
       "    </tr>\n",
       "    <tr>\n",
       "      <th>Partner</th>\n",
       "      <th></th>\n",
       "      <th></th>\n",
       "    </tr>\n",
       "  </thead>\n",
       "  <tbody>\n",
       "    <tr>\n",
       "      <th>No</th>\n",
       "      <td>2441</td>\n",
       "      <td>1200</td>\n",
       "    </tr>\n",
       "    <tr>\n",
       "      <th>Yes</th>\n",
       "      <td>2733</td>\n",
       "      <td>669</td>\n",
       "    </tr>\n",
       "  </tbody>\n",
       "</table>\n",
       "</div>"
      ],
      "text/plain": [
       "Churn      No   Yes\n",
       "Partner            \n",
       "No       2441  1200\n",
       "Yes      2733   669"
      ]
     },
     "execution_count": 11,
     "metadata": {},
     "output_type": "execute_result"
    }
   ],
   "source": [
    "pd.crosstab(ch.Partner,ch.Churn)"
   ]
  },
  {
   "cell_type": "code",
   "execution_count": 12,
   "id": "73054319",
   "metadata": {},
   "outputs": [
    {
     "data": {
      "text/plain": [
       "67.04202142268608"
      ]
     },
     "execution_count": 12,
     "metadata": {},
     "output_type": "execute_result"
    }
   ],
   "source": [
    "(2441/(2441+1200))*100  # 67% of customers has no partners and they have not churned subscription"
   ]
  },
  {
   "cell_type": "code",
   "execution_count": 13,
   "id": "ec093fad",
   "metadata": {},
   "outputs": [
    {
     "data": {
      "text/plain": [
       "32.95797857731392"
      ]
     },
     "execution_count": 13,
     "metadata": {},
     "output_type": "execute_result"
    }
   ],
   "source": [
    "(1200/(1200+2441))*100   # around 33% of customers has no partners and they have churned subscription"
   ]
  },
  {
   "cell_type": "code",
   "execution_count": 14,
   "id": "72a14d2d",
   "metadata": {},
   "outputs": [
    {
     "data": {
      "text/plain": [
       "80.33509700176367"
      ]
     },
     "execution_count": 14,
     "metadata": {},
     "output_type": "execute_result"
    }
   ],
   "source": [
    "(2733/(2733+669))*100   # 80%  of customers has partners and they have not churnd subscription "
   ]
  },
  {
   "cell_type": "code",
   "execution_count": 15,
   "id": "53bc8d68",
   "metadata": {},
   "outputs": [
    {
     "data": {
      "text/plain": [
       "20.367132867132867"
      ]
     },
     "execution_count": 15,
     "metadata": {},
     "output_type": "execute_result"
    }
   ],
   "source": [
    "(699/(699+2733))*100   # 20 % of customers has partners and they have churned subscription"
   ]
  },
  {
   "cell_type": "code",
   "execution_count": 16,
   "id": "e9520106",
   "metadata": {},
   "outputs": [
    {
     "data": {
      "text/plain": [
       "48.30327985233565"
      ]
     },
     "execution_count": 16,
     "metadata": {},
     "output_type": "execute_result"
    }
   ],
   "source": [
    "((2733 + 669)/(2441+1200+2733+669))*100  # 48% customers has partners"
   ]
  },
  {
   "cell_type": "markdown",
   "id": "2e754308",
   "metadata": {},
   "source": [
    "________________________________________________________________________________________"
   ]
  },
  {
   "cell_type": "markdown",
   "id": "6f02c870",
   "metadata": {},
   "source": [
    "### Contract and churn"
   ]
  },
  {
   "cell_type": "code",
   "execution_count": 17,
   "id": "650b5056",
   "metadata": {},
   "outputs": [
    {
     "data": {
      "text/html": [
       "<div>\n",
       "<style scoped>\n",
       "    .dataframe tbody tr th:only-of-type {\n",
       "        vertical-align: middle;\n",
       "    }\n",
       "\n",
       "    .dataframe tbody tr th {\n",
       "        vertical-align: top;\n",
       "    }\n",
       "\n",
       "    .dataframe thead th {\n",
       "        text-align: right;\n",
       "    }\n",
       "</style>\n",
       "<table border=\"1\" class=\"dataframe\">\n",
       "  <thead>\n",
       "    <tr style=\"text-align: right;\">\n",
       "      <th>Churn</th>\n",
       "      <th>No</th>\n",
       "      <th>Yes</th>\n",
       "    </tr>\n",
       "    <tr>\n",
       "      <th>Contract</th>\n",
       "      <th></th>\n",
       "      <th></th>\n",
       "    </tr>\n",
       "  </thead>\n",
       "  <tbody>\n",
       "    <tr>\n",
       "      <th>Month-to-month</th>\n",
       "      <td>2220</td>\n",
       "      <td>1655</td>\n",
       "    </tr>\n",
       "    <tr>\n",
       "      <th>One year</th>\n",
       "      <td>1307</td>\n",
       "      <td>166</td>\n",
       "    </tr>\n",
       "    <tr>\n",
       "      <th>Two year</th>\n",
       "      <td>1647</td>\n",
       "      <td>48</td>\n",
       "    </tr>\n",
       "  </tbody>\n",
       "</table>\n",
       "</div>"
      ],
      "text/plain": [
       "Churn             No   Yes\n",
       "Contract                  \n",
       "Month-to-month  2220  1655\n",
       "One year        1307   166\n",
       "Two year        1647    48"
      ]
     },
     "execution_count": 17,
     "metadata": {},
     "output_type": "execute_result"
    }
   ],
   "source": [
    "pd.crosstab(ch.Contract,ch.Churn)"
   ]
  },
  {
   "cell_type": "code",
   "execution_count": 18,
   "id": "40bcfcdb",
   "metadata": {},
   "outputs": [
    {
     "data": {
      "text/plain": [
       "55.01916796819537"
      ]
     },
     "execution_count": 18,
     "metadata": {},
     "output_type": "execute_result"
    }
   ],
   "source": [
    "((2220 +1655)/(2220+1655+1307+166+1647+48))*100 # 55% of customers has month-to-month Contract"
   ]
  },
  {
   "cell_type": "code",
   "execution_count": 19,
   "id": "ad247078",
   "metadata": {},
   "outputs": [
    {
     "data": {
      "text/plain": [
       "57.29032258064516"
      ]
     },
     "execution_count": 19,
     "metadata": {},
     "output_type": "execute_result"
    }
   ],
   "source": [
    "(2220/(2220+1655))*100   # 57% of customers has month-to-month contract and they have not churned subscription"
   ]
  },
  {
   "cell_type": "code",
   "execution_count": 20,
   "id": "a11ce9a6",
   "metadata": {},
   "outputs": [
    {
     "data": {
      "text/plain": [
       "42.70967741935484"
      ]
     },
     "execution_count": 20,
     "metadata": {},
     "output_type": "execute_result"
    }
   ],
   "source": [
    "(1655/(2220+1655))*100  # 43% of customers has month-to month contract and they have churned subscription"
   ]
  },
  {
   "cell_type": "code",
   "execution_count": 21,
   "id": "bbfb175a",
   "metadata": {},
   "outputs": [
    {
     "data": {
      "text/plain": [
       "88.73048200950441"
      ]
     },
     "execution_count": 21,
     "metadata": {},
     "output_type": "execute_result"
    }
   ],
   "source": [
    "(1307/(1307+166))*100    # 89% of customers has one year contrsct and they have not churned subscription"
   ]
  },
  {
   "cell_type": "code",
   "execution_count": 22,
   "id": "920cbbca",
   "metadata": {},
   "outputs": [
    {
     "data": {
      "text/plain": [
       "11.269517990495586"
      ]
     },
     "execution_count": 22,
     "metadata": {},
     "output_type": "execute_result"
    }
   ],
   "source": [
    "(166/(1307+166))*100    # 11% of customers has one year contract and they have churned subscription"
   ]
  },
  {
   "cell_type": "code",
   "execution_count": 23,
   "id": "244387ed",
   "metadata": {},
   "outputs": [
    {
     "data": {
      "text/plain": [
       "97.16814159292035"
      ]
     },
     "execution_count": 23,
     "metadata": {},
     "output_type": "execute_result"
    }
   ],
   "source": [
    "(1647/(1647+48))*100    # 97% of customers has two year contract and they have not churned subscription"
   ]
  },
  {
   "cell_type": "code",
   "execution_count": 24,
   "id": "c3372f33",
   "metadata": {},
   "outputs": [
    {
     "data": {
      "text/plain": [
       "2.831858407079646"
      ]
     },
     "execution_count": 24,
     "metadata": {},
     "output_type": "execute_result"
    }
   ],
   "source": [
    "(48/(1647+48))*100    # 3% of customers has two year contract and they have churned subscription"
   ]
  },
  {
   "cell_type": "markdown",
   "id": "6d9fa7fa",
   "metadata": {},
   "source": [
    "____________________________________________________________________________________________________________"
   ]
  },
  {
   "cell_type": "markdown",
   "id": "7b6995f2",
   "metadata": {},
   "source": [
    "### Internet Service and churn  "
   ]
  },
  {
   "cell_type": "code",
   "execution_count": 25,
   "id": "5fae102f",
   "metadata": {},
   "outputs": [
    {
     "data": {
      "text/html": [
       "<div>\n",
       "<style scoped>\n",
       "    .dataframe tbody tr th:only-of-type {\n",
       "        vertical-align: middle;\n",
       "    }\n",
       "\n",
       "    .dataframe tbody tr th {\n",
       "        vertical-align: top;\n",
       "    }\n",
       "\n",
       "    .dataframe thead th {\n",
       "        text-align: right;\n",
       "    }\n",
       "</style>\n",
       "<table border=\"1\" class=\"dataframe\">\n",
       "  <thead>\n",
       "    <tr style=\"text-align: right;\">\n",
       "      <th>Churn</th>\n",
       "      <th>No</th>\n",
       "      <th>Yes</th>\n",
       "    </tr>\n",
       "    <tr>\n",
       "      <th>InternetService</th>\n",
       "      <th></th>\n",
       "      <th></th>\n",
       "    </tr>\n",
       "  </thead>\n",
       "  <tbody>\n",
       "    <tr>\n",
       "      <th>DSL</th>\n",
       "      <td>1962</td>\n",
       "      <td>459</td>\n",
       "    </tr>\n",
       "    <tr>\n",
       "      <th>Fiber optic</th>\n",
       "      <td>1799</td>\n",
       "      <td>1297</td>\n",
       "    </tr>\n",
       "    <tr>\n",
       "      <th>No</th>\n",
       "      <td>1413</td>\n",
       "      <td>113</td>\n",
       "    </tr>\n",
       "  </tbody>\n",
       "</table>\n",
       "</div>"
      ],
      "text/plain": [
       "Churn              No   Yes\n",
       "InternetService            \n",
       "DSL              1962   459\n",
       "Fiber optic      1799  1297\n",
       "No               1413   113"
      ]
     },
     "execution_count": 25,
     "metadata": {},
     "output_type": "execute_result"
    }
   ],
   "source": [
    "pd.crosstab(ch.InternetService,ch.Churn)"
   ]
  },
  {
   "cell_type": "code",
   "execution_count": 26,
   "id": "7705d1dc",
   "metadata": {},
   "outputs": [
    {
     "data": {
      "text/plain": [
       "81.04089219330855"
      ]
     },
     "execution_count": 26,
     "metadata": {},
     "output_type": "execute_result"
    }
   ],
   "source": [
    "(1962/(1962+459))*100   # 81% of customers has DSL Internet service and they have not churned subscription"
   ]
  },
  {
   "cell_type": "code",
   "execution_count": 27,
   "id": "1ad09ebb",
   "metadata": {},
   "outputs": [
    {
     "data": {
      "text/plain": [
       "18.95910780669145"
      ]
     },
     "execution_count": 27,
     "metadata": {},
     "output_type": "execute_result"
    }
   ],
   "source": [
    "(459/(1962+459))*100    # 19% of customers has DSL Internet service and they have churned subscription"
   ]
  },
  {
   "cell_type": "code",
   "execution_count": 28,
   "id": "08a0f8b1",
   "metadata": {},
   "outputs": [
    {
     "data": {
      "text/plain": [
       "58.10723514211886"
      ]
     },
     "execution_count": 28,
     "metadata": {},
     "output_type": "execute_result"
    }
   ],
   "source": [
    "(1799/(1799+1297))*100   # 58% of customers has Fiber optic internet service and they have not churned subscription"
   ]
  },
  {
   "cell_type": "code",
   "execution_count": 29,
   "id": "23b36410",
   "metadata": {},
   "outputs": [
    {
     "data": {
      "text/plain": [
       "41.89276485788114"
      ]
     },
     "execution_count": 29,
     "metadata": {},
     "output_type": "execute_result"
    }
   ],
   "source": [
    "(1297/(1799+1297))*100    # 42% of customers has fiber optic internet service and they have not churned subscription "
   ]
  },
  {
   "cell_type": "code",
   "execution_count": 30,
   "id": "93c56c32",
   "metadata": {},
   "outputs": [
    {
     "data": {
      "text/plain": [
       "92.59501965923984"
      ]
     },
     "execution_count": 30,
     "metadata": {},
     "output_type": "execute_result"
    }
   ],
   "source": [
    "(1413/(1413+113))*100     "
   ]
  },
  {
   "cell_type": "code",
   "execution_count": 31,
   "id": "a4b5c8c7",
   "metadata": {},
   "outputs": [
    {
     "data": {
      "text/plain": [
       "7.404980340760157"
      ]
     },
     "execution_count": 31,
     "metadata": {},
     "output_type": "execute_result"
    }
   ],
   "source": [
    "(113/(1413+113))*100"
   ]
  },
  {
   "cell_type": "code",
   "execution_count": null,
   "id": "d4df5b70",
   "metadata": {},
   "outputs": [],
   "source": []
  },
  {
   "cell_type": "code",
   "execution_count": null,
   "id": "b08f1bfb",
   "metadata": {},
   "outputs": [],
   "source": []
  },
  {
   "cell_type": "code",
   "execution_count": null,
   "id": "c684e20b",
   "metadata": {},
   "outputs": [],
   "source": [
    "\n",
    "\n"
   ]
  }
 ],
 "metadata": {
  "kernelspec": {
   "display_name": "Python 3 (ipykernel)",
   "language": "python",
   "name": "python3"
  },
  "language_info": {
   "codemirror_mode": {
    "name": "ipython",
    "version": 3
   },
   "file_extension": ".py",
   "mimetype": "text/x-python",
   "name": "python",
   "nbconvert_exporter": "python",
   "pygments_lexer": "ipython3",
   "version": "3.9.13"
  }
 },
 "nbformat": 4,
 "nbformat_minor": 5
}
