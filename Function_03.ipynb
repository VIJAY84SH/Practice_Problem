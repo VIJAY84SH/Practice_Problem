{
 "cells": [
  {
   "cell_type": "code",
   "execution_count": 1,
   "id": "08881be7",
   "metadata": {},
   "outputs": [],
   "source": [
    "f2 = lambda a,b:a+b"
   ]
  },
  {
   "cell_type": "code",
   "execution_count": 2,
   "id": "2b757ba6",
   "metadata": {},
   "outputs": [
    {
     "data": {
      "text/plain": [
       "3"
      ]
     },
     "execution_count": 2,
     "metadata": {},
     "output_type": "execute_result"
    }
   ],
   "source": [
    "f2(1,2)"
   ]
  },
  {
   "cell_type": "markdown",
   "id": "52c55fe3",
   "metadata": {},
   "source": [
    "### User Defined Function"
   ]
  },
  {
   "cell_type": "code",
   "execution_count": 3,
   "id": "e3d9db19",
   "metadata": {},
   "outputs": [],
   "source": [
    "def great():\n",
    "    print('welcome')\n",
    "    print('hello')"
   ]
  },
  {
   "cell_type": "code",
   "execution_count": 4,
   "id": "2c291d27",
   "metadata": {},
   "outputs": [
    {
     "name": "stdout",
     "output_type": "stream",
     "text": [
      "welcome\n",
      "hello\n"
     ]
    }
   ],
   "source": [
    "great()"
   ]
  },
  {
   "cell_type": "code",
   "execution_count": 5,
   "id": "2a1e27e9",
   "metadata": {},
   "outputs": [
    {
     "name": "stdout",
     "output_type": "stream",
     "text": [
      "welcome\n",
      "hello\n"
     ]
    }
   ],
   "source": [
    "out = great()"
   ]
  },
  {
   "cell_type": "code",
   "execution_count": 6,
   "id": "f404dcdc",
   "metadata": {},
   "outputs": [],
   "source": [
    "out"
   ]
  },
  {
   "cell_type": "code",
   "execution_count": 8,
   "id": "9c900e44",
   "metadata": {},
   "outputs": [],
   "source": [
    "def great1():\n",
    "    print('welcome')\n",
    "    print('hello')\n",
    "    return \"vijay\"         # return is used for store the outputInput"
   ]
  },
  {
   "cell_type": "code",
   "execution_count": 9,
   "id": "3e67cbc6",
   "metadata": {},
   "outputs": [
    {
     "name": "stdout",
     "output_type": "stream",
     "text": [
      "welcome\n",
      "hello\n"
     ]
    }
   ],
   "source": [
    "v = great1()"
   ]
  },
  {
   "cell_type": "code",
   "execution_count": 10,
   "id": "a9d6edac",
   "metadata": {},
   "outputs": [
    {
     "data": {
      "text/plain": [
       "'vijay'"
      ]
     },
     "execution_count": 10,
     "metadata": {},
     "output_type": "execute_result"
    }
   ],
   "source": [
    "v"
   ]
  },
  {
   "cell_type": "markdown",
   "id": "188583dd",
   "metadata": {},
   "source": [
    "### Input Variable"
   ]
  },
  {
   "cell_type": "markdown",
   "id": "6b4e8dec",
   "metadata": {},
   "source": []
  },
  {
   "cell_type": "code",
   "execution_count": 22,
   "id": "011c2cf4",
   "metadata": {},
   "outputs": [],
   "source": [
    "def greet2(name, address):\n",
    "    print('hellow', name,'!')\n",
    "    print('your Address is', address)"
   ]
  },
  {
   "cell_type": "code",
   "execution_count": 23,
   "id": "eb304318",
   "metadata": {},
   "outputs": [
    {
     "name": "stdout",
     "output_type": "stream",
     "text": [
      "hellow vijay !\n",
      "your Address is kolhapur\n"
     ]
    }
   ],
   "source": [
    "greet2('vijay','kolhapur')"
   ]
  },
  {
   "cell_type": "code",
   "execution_count": 24,
   "id": "de1040b0",
   "metadata": {},
   "outputs": [
    {
     "name": "stdout",
     "output_type": "stream",
     "text": [
      "hellow kolhapur !\n",
      "your Address is vijay\n"
     ]
    }
   ],
   "source": [
    "greet2('kolhapur','vijay') # position swapped "
   ]
  },
  {
   "cell_type": "code",
   "execution_count": 25,
   "id": "3e6718e0",
   "metadata": {},
   "outputs": [
    {
     "name": "stdout",
     "output_type": "stream",
     "text": [
      "hellow pratik !\n",
      "your Address is Satara\n"
     ]
    }
   ],
   "source": [
    "greet2(address = 'Satara', name = 'pratik')  # when input identifier is given, position does not matter"
   ]
  },
  {
   "cell_type": "markdown",
   "id": "d2996ddd",
   "metadata": {},
   "source": [
    "### Return Value"
   ]
  },
  {
   "cell_type": "code",
   "execution_count": 26,
   "id": "12871c42",
   "metadata": {},
   "outputs": [],
   "source": [
    "def greet3 (name, address):\n",
    "    return name + \"_\" + address"
   ]
  },
  {
   "cell_type": "code",
   "execution_count": 27,
   "id": "f8950ea1",
   "metadata": {},
   "outputs": [
    {
     "data": {
      "text/plain": [
       "'vijay_kolhapur'"
      ]
     },
     "execution_count": 27,
     "metadata": {},
     "output_type": "execute_result"
    }
   ],
   "source": [
    "greet3(\"vijay\", 'kolhapur')"
   ]
  },
  {
   "cell_type": "code",
   "execution_count": 31,
   "id": "dc5b5468",
   "metadata": {},
   "outputs": [],
   "source": [
    "out = greet3(\"vijay\", 'kolhapur')"
   ]
  },
  {
   "cell_type": "code",
   "execution_count": 32,
   "id": "caae3aa1",
   "metadata": {},
   "outputs": [
    {
     "data": {
      "text/plain": [
       "'vijay_kolhapur'"
      ]
     },
     "execution_count": 32,
     "metadata": {},
     "output_type": "execute_result"
    }
   ],
   "source": [
    "out"
   ]
  },
  {
   "cell_type": "markdown",
   "id": "667dd665",
   "metadata": {},
   "source": [
    "### Default Argument"
   ]
  },
  {
   "cell_type": "code",
   "execution_count": 33,
   "id": "13327743",
   "metadata": {},
   "outputs": [],
   "source": [
    "def greet4(name, address = 'Pune'):\n",
    "    return name + '_' +address"
   ]
  },
  {
   "cell_type": "code",
   "execution_count": 34,
   "id": "99d90e78",
   "metadata": {},
   "outputs": [
    {
     "data": {
      "text/plain": [
       "'vijay_Pune'"
      ]
     },
     "execution_count": 34,
     "metadata": {},
     "output_type": "execute_result"
    }
   ],
   "source": [
    "greet4('vijay')"
   ]
  },
  {
   "cell_type": "code",
   "execution_count": 35,
   "id": "0fef5c2a",
   "metadata": {},
   "outputs": [
    {
     "data": {
      "text/plain": [
       "'pratik_satara'"
      ]
     },
     "execution_count": 35,
     "metadata": {},
     "output_type": "execute_result"
    }
   ],
   "source": [
    "greet4('pratik','satara')"
   ]
  },
  {
   "cell_type": "code",
   "execution_count": 38,
   "id": "534e92f7",
   "metadata": {},
   "outputs": [
    {
     "data": {
      "text/plain": [
       "'ram_Pune'"
      ]
     },
     "execution_count": 38,
     "metadata": {},
     "output_type": "execute_result"
    }
   ],
   "source": [
    "greet4('ram')"
   ]
  },
  {
   "cell_type": "code",
   "execution_count": 41,
   "id": "40997124",
   "metadata": {},
   "outputs": [
    {
     "data": {
      "text/plain": [
       "'kolhapur_Pune'"
      ]
     },
     "execution_count": 41,
     "metadata": {},
     "output_type": "execute_result"
    }
   ],
   "source": [
    "greet4('kolhapur')"
   ]
  },
  {
   "cell_type": "markdown",
   "id": "003b62c8",
   "metadata": {},
   "source": [
    "### Variable Length Arguments"
   ]
  },
  {
   "cell_type": "code",
   "execution_count": 46,
   "id": "449b3afe",
   "metadata": {},
   "outputs": [],
   "source": [
    "def sum_fun(*numbers):\n",
    "    print(numbers)"
   ]
  },
  {
   "cell_type": "code",
   "execution_count": 47,
   "id": "e3b9b2b6",
   "metadata": {},
   "outputs": [
    {
     "name": "stdout",
     "output_type": "stream",
     "text": [
      "(1, 2, 3, 3, 2, 3)\n"
     ]
    }
   ],
   "source": [
    "sum_fun(1,2,3,3,2,3,)"
   ]
  },
  {
   "cell_type": "code",
   "execution_count": null,
   "id": "26e25185",
   "metadata": {},
   "outputs": [],
   "source": []
  },
  {
   "cell_type": "code",
   "execution_count": 52,
   "id": "65670652",
   "metadata": {},
   "outputs": [],
   "source": [
    "def sum_fun1(**numbers):\n",
    "    type(numbers)\n",
    "    for key,value in numbers.items():\n",
    "        print(key, value)"
   ]
  },
  {
   "cell_type": "code",
   "execution_count": 53,
   "id": "84014c2b",
   "metadata": {},
   "outputs": [
    {
     "name": "stdout",
     "output_type": "stream",
     "text": [
      "a 3\n",
      "b 5\n",
      "c 5\n"
     ]
    }
   ],
   "source": [
    " sum_fun1(a=3,b=5,c=5)"
   ]
  },
  {
   "cell_type": "code",
   "execution_count": 56,
   "id": "0d85ff8d",
   "metadata": {},
   "outputs": [],
   "source": [
    "def sum_fun1(**numbers):\n",
    "    print(\"format of inputs -\",type(numbers))\n",
    "    for key,value in numbers.items():\n",
    "        print(\"key - \",key,\"value - \", value)"
   ]
  },
  {
   "cell_type": "code",
   "execution_count": 57,
   "id": "92069c8b",
   "metadata": {},
   "outputs": [
    {
     "name": "stdout",
     "output_type": "stream",
     "text": [
      "format of inputs - <class 'dict'>\n",
      "key -  a value -  3\n",
      "key -  b value -  5\n",
      "key -  c value -  5\n"
     ]
    }
   ],
   "source": [
    "sum_fun1(a=3,b=5,c=5)"
   ]
  },
  {
   "cell_type": "code",
   "execution_count": 62,
   "id": "bb74a9a4",
   "metadata": {},
   "outputs": [],
   "source": [
    "def sum_fun1(**numbers):\n",
    "    print(\"format of inputs -\",type(numbers))\n",
    "    for key,value in numbers.items():\n",
    "       # print(\"key - \",key,\"value - \", value)\n",
    "        yield key,value"
   ]
  },
  {
   "cell_type": "code",
   "execution_count": 65,
   "id": "5a790d8c",
   "metadata": {},
   "outputs": [],
   "source": [
    "a = sum_fun1(a=1,b=1,c=2,d=5,e=5)"
   ]
  },
  {
   "cell_type": "code",
   "execution_count": 66,
   "id": "6975ee47",
   "metadata": {},
   "outputs": [
    {
     "data": {
      "text/plain": [
       "<generator object sum_fun1 at 0x00000170DADCFA50>"
      ]
     },
     "execution_count": 66,
     "metadata": {},
     "output_type": "execute_result"
    }
   ],
   "source": [
    "a"
   ]
  },
  {
   "cell_type": "markdown",
   "id": "9d688e05",
   "metadata": {},
   "source": [
    "### Lambda Function"
   ]
  },
  {
   "cell_type": "code",
   "execution_count": 67,
   "id": "c5987d03",
   "metadata": {},
   "outputs": [],
   "source": [
    "greater_fun = lambda num1, num2: num1 if num1>num2 else num2"
   ]
  },
  {
   "cell_type": "code",
   "execution_count": 68,
   "id": "904a7058",
   "metadata": {},
   "outputs": [
    {
     "data": {
      "text/plain": [
       "30"
      ]
     },
     "execution_count": 68,
     "metadata": {},
     "output_type": "execute_result"
    }
   ],
   "source": [
    "greater_fun (20,30)"
   ]
  },
  {
   "cell_type": "code",
   "execution_count": 69,
   "id": "7fcfbcea",
   "metadata": {},
   "outputs": [
    {
     "data": {
      "text/plain": [
       "30"
      ]
     },
     "execution_count": 69,
     "metadata": {},
     "output_type": "execute_result"
    }
   ],
   "source": [
    "greater_fun (30,20)"
   ]
  },
  {
   "cell_type": "markdown",
   "id": "4f66c4e4",
   "metadata": {},
   "source": [
    "### map(lambda function, sequence)"
   ]
  },
  {
   "cell_type": "code",
   "execution_count": 72,
   "id": "69eb6be1",
   "metadata": {},
   "outputs": [],
   "source": [
    "ol = list(map(lambda i: i**2, range(1,5)))"
   ]
  },
  {
   "cell_type": "code",
   "execution_count": 73,
   "id": "7f3312a8",
   "metadata": {},
   "outputs": [
    {
     "data": {
      "text/plain": [
       "[1, 4, 9, 16]"
      ]
     },
     "execution_count": 73,
     "metadata": {},
     "output_type": "execute_result"
    }
   ],
   "source": [
    "ol"
   ]
  },
  {
   "cell_type": "code",
   "execution_count": 79,
   "id": "74606aeb",
   "metadata": {},
   "outputs": [],
   "source": [
    "l = [1,2,3,4,5]\n",
    "ol1 = tuple(map(lambda i:i+4, l))"
   ]
  },
  {
   "cell_type": "code",
   "execution_count": 80,
   "id": "304c246e",
   "metadata": {},
   "outputs": [
    {
     "data": {
      "text/plain": [
       "(5, 6, 7, 8, 9)"
      ]
     },
     "execution_count": 80,
     "metadata": {},
     "output_type": "execute_result"
    }
   ],
   "source": [
    "ol1"
   ]
  },
  {
   "cell_type": "code",
   "execution_count": 88,
   "id": "154fb293",
   "metadata": {},
   "outputs": [],
   "source": [
    "ol2 = list(map(lambda i:i.lower().find('a'),['vijay','pratik','ram','vjy']))"
   ]
  },
  {
   "cell_type": "code",
   "execution_count": 89,
   "id": "ea8354ef",
   "metadata": {},
   "outputs": [
    {
     "data": {
      "text/plain": [
       "[3, 2, 1, -1]"
      ]
     },
     "execution_count": 89,
     "metadata": {},
     "output_type": "execute_result"
    }
   ],
   "source": [
    "ol2"
   ]
  },
  {
   "cell_type": "markdown",
   "id": "9cdb9826",
   "metadata": {},
   "source": [
    "### Lambda with Filter"
   ]
  },
  {
   "cell_type": "code",
   "execution_count": 86,
   "id": "03ead129",
   "metadata": {},
   "outputs": [],
   "source": [
    "ol3 = list(filter(lambda i:i.lower().find('a')>-1,['vijay','ram','pratik','vjy']))"
   ]
  },
  {
   "cell_type": "code",
   "execution_count": 87,
   "id": "3dfbbab2",
   "metadata": {},
   "outputs": [
    {
     "data": {
      "text/plain": [
       "['vijay', 'ram', 'pratik']"
      ]
     },
     "execution_count": 87,
     "metadata": {},
     "output_type": "execute_result"
    }
   ],
   "source": [
    "ol3"
   ]
  },
  {
   "cell_type": "code",
   "execution_count": 92,
   "id": "c9630809",
   "metadata": {},
   "outputs": [],
   "source": [
    "ol4 = list(filter(lambda i:i>5,[1,2,3,6,47,7,9,4,53,2,4,2,34]))"
   ]
  },
  {
   "cell_type": "code",
   "execution_count": 93,
   "id": "e52d87ae",
   "metadata": {},
   "outputs": [
    {
     "data": {
      "text/plain": [
       "[6, 47, 7, 9, 53, 34]"
      ]
     },
     "execution_count": 93,
     "metadata": {},
     "output_type": "execute_result"
    }
   ],
   "source": [
    "ol4"
   ]
  },
  {
   "cell_type": "markdown",
   "id": "e8b22b19",
   "metadata": {},
   "source": [
    "### Reduce"
   ]
  },
  {
   "cell_type": "code",
   "execution_count": 94,
   "id": "600d2a9d",
   "metadata": {},
   "outputs": [],
   "source": [
    "from functools import reduce"
   ]
  },
  {
   "cell_type": "code",
   "execution_count": 95,
   "id": "15af5120",
   "metadata": {},
   "outputs": [
    {
     "data": {
      "text/plain": [
       "600"
      ]
     },
     "execution_count": 95,
     "metadata": {},
     "output_type": "execute_result"
    }
   ],
   "source": [
    "reduce(lambda a,b: a*b,[1,2,3,4,5,5])"
   ]
  },
  {
   "cell_type": "code",
   "execution_count": null,
   "id": "142bab23",
   "metadata": {},
   "outputs": [],
   "source": []
  }
 ],
 "metadata": {
  "kernelspec": {
   "display_name": "Python 3 (ipykernel)",
   "language": "python",
   "name": "python3"
  },
  "language_info": {
   "codemirror_mode": {
    "name": "ipython",
    "version": 3
   },
   "file_extension": ".py",
   "mimetype": "text/x-python",
   "name": "python",
   "nbconvert_exporter": "python",
   "pygments_lexer": "ipython3",
   "version": "3.9.13"
  }
 },
 "nbformat": 4,
 "nbformat_minor": 5
}
