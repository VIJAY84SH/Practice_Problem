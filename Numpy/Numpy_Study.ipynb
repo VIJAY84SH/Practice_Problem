{
 "cells": [
  {
   "cell_type": "markdown",
   "id": "af36679c",
   "metadata": {},
   "source": [
    "## NumPy"
   ]
  },
  {
   "cell_type": "code",
   "execution_count": 197,
   "id": "255acc4f",
   "metadata": {},
   "outputs": [
    {
     "name": "stdout",
     "output_type": "stream",
     "text": [
      "Requirement already satisfied: numpy in c:\\users\\mr.godhade\\anaconda3\\lib\\site-packages (1.21.5)\n"
     ]
    }
   ],
   "source": [
    "! pip install numpy"
   ]
  },
  {
   "cell_type": "code",
   "execution_count": 198,
   "id": "b50c8142",
   "metadata": {},
   "outputs": [],
   "source": [
    "import numpy as np"
   ]
  },
  {
   "cell_type": "markdown",
   "id": "56341be7",
   "metadata": {},
   "source": [
    "#### Version of NumPy "
   ]
  },
  {
   "cell_type": "code",
   "execution_count": 199,
   "id": "15c7ba07",
   "metadata": {},
   "outputs": [
    {
     "name": "stdout",
     "output_type": "stream",
     "text": [
      "1.21.5\n"
     ]
    }
   ],
   "source": [
    "print(np.__version__)"
   ]
  },
  {
   "cell_type": "markdown",
   "id": "f121ce7b",
   "metadata": {},
   "source": [
    "## Array"
   ]
  },
  {
   "cell_type": "markdown",
   "id": "f77a2366",
   "metadata": {},
   "source": [
    "### Create Array by using array() Function"
   ]
  },
  {
   "cell_type": "markdown",
   "id": "ad3dcdbd",
   "metadata": {},
   "source": [
    " -  - To create an ndarray, we can pass a list, tuple or any array-like object into the array() method, and it will be converted into an ndarray:"
   ]
  },
  {
   "cell_type": "markdown",
   "id": "a5f9fa94",
   "metadata": {},
   "source": [
    "#### Array by passing List"
   ]
  },
  {
   "cell_type": "code",
   "execution_count": 200,
   "id": "81fff50a",
   "metadata": {},
   "outputs": [],
   "source": [
    "ar_list = np.array([1,2,3,4])\n"
   ]
  },
  {
   "cell_type": "code",
   "execution_count": 201,
   "id": "bcb9ffb8",
   "metadata": {},
   "outputs": [
    {
     "data": {
      "text/plain": [
       "array([1, 2, 3, 4])"
      ]
     },
     "execution_count": 201,
     "metadata": {},
     "output_type": "execute_result"
    }
   ],
   "source": [
    "ar_list"
   ]
  },
  {
   "cell_type": "code",
   "execution_count": 202,
   "id": "dce95de6",
   "metadata": {},
   "outputs": [
    {
     "data": {
      "text/plain": [
       "numpy.ndarray"
      ]
     },
     "execution_count": 202,
     "metadata": {},
     "output_type": "execute_result"
    }
   ],
   "source": [
    "type(ar_list)  # type of array is n dimentional array"
   ]
  },
  {
   "cell_type": "markdown",
   "id": "9502e665",
   "metadata": {},
   "source": [
    "#### Array by passing Tuple"
   ]
  },
  {
   "cell_type": "code",
   "execution_count": 203,
   "id": "b5a6738e",
   "metadata": {},
   "outputs": [],
   "source": [
    "ar_tuple = np.array((5,6,7,8))"
   ]
  },
  {
   "cell_type": "code",
   "execution_count": 204,
   "id": "6906f9d8",
   "metadata": {},
   "outputs": [
    {
     "data": {
      "text/plain": [
       "array([5, 6, 7, 8])"
      ]
     },
     "execution_count": 204,
     "metadata": {},
     "output_type": "execute_result"
    }
   ],
   "source": [
    "ar_tuple"
   ]
  },
  {
   "cell_type": "raw",
   "id": "ccf621df",
   "metadata": {},
   "source": [
    "type(ar_tuple)"
   ]
  },
  {
   "cell_type": "markdown",
   "id": "cab371e0",
   "metadata": {},
   "source": [
    "#### Array by passing array"
   ]
  },
  {
   "cell_type": "code",
   "execution_count": 205,
   "id": "f661f19c",
   "metadata": {},
   "outputs": [],
   "source": [
    "ar_array = np.array(ar_list)   # inside array function we have pass array"
   ]
  },
  {
   "cell_type": "code",
   "execution_count": 206,
   "id": "07654aff",
   "metadata": {},
   "outputs": [
    {
     "data": {
      "text/plain": [
       "array([1, 2, 3, 4])"
      ]
     },
     "execution_count": 206,
     "metadata": {},
     "output_type": "execute_result"
    }
   ],
   "source": [
    "ar_array"
   ]
  },
  {
   "cell_type": "markdown",
   "id": "78a80064",
   "metadata": {},
   "source": [
    "## Dimensions in Array:-"
   ]
  },
  {
   "cell_type": "markdown",
   "id": "5ea3ddbc",
   "metadata": {},
   "source": [
    "#### 0- D Array"
   ]
  },
  {
   "cell_type": "markdown",
   "id": "a2fd9b8c",
   "metadata": {},
   "source": [
    " - 0-D arrays are the elements in an array. Each value in an array is a 0-D array."
   ]
  },
  {
   "cell_type": "code",
   "execution_count": 207,
   "id": "5b0c94e5",
   "metadata": {},
   "outputs": [],
   "source": [
    "arr = np.array(84)"
   ]
  },
  {
   "cell_type": "code",
   "execution_count": 208,
   "id": "9eae0c5b",
   "metadata": {},
   "outputs": [
    {
     "name": "stdout",
     "output_type": "stream",
     "text": [
      "84\n"
     ]
    }
   ],
   "source": [
    "print(arr)"
   ]
  },
  {
   "cell_type": "code",
   "execution_count": 209,
   "id": "7f9019b6",
   "metadata": {},
   "outputs": [
    {
     "data": {
      "text/plain": [
       "array(84)"
      ]
     },
     "execution_count": 209,
     "metadata": {},
     "output_type": "execute_result"
    }
   ],
   "source": [
    "arr"
   ]
  },
  {
   "cell_type": "code",
   "execution_count": 210,
   "id": "5ff16670",
   "metadata": {},
   "outputs": [
    {
     "data": {
      "text/plain": [
       "numpy.ndarray"
      ]
     },
     "execution_count": 210,
     "metadata": {},
     "output_type": "execute_result"
    }
   ],
   "source": [
    "type(arr)"
   ]
  },
  {
   "cell_type": "code",
   "execution_count": 211,
   "id": "ac04f20a",
   "metadata": {},
   "outputs": [
    {
     "data": {
      "text/plain": [
       "0"
      ]
     },
     "execution_count": 211,
     "metadata": {},
     "output_type": "execute_result"
    }
   ],
   "source": [
    "arr.ndim "
   ]
  },
  {
   "cell_type": "markdown",
   "id": "7e58c959",
   "metadata": {},
   "source": [
    "### 1- D Array"
   ]
  },
  {
   "cell_type": "markdown",
   "id": "6f53a675",
   "metadata": {},
   "source": [
    " - An array that has 0-D arrays as its elements is called uni-dimensional or 1-D array."
   ]
  },
  {
   "cell_type": "code",
   "execution_count": 212,
   "id": "8198a248",
   "metadata": {},
   "outputs": [],
   "source": [
    "arr1 = np.array([1,2,3,4])"
   ]
  },
  {
   "cell_type": "code",
   "execution_count": 213,
   "id": "03544574",
   "metadata": {},
   "outputs": [
    {
     "name": "stdout",
     "output_type": "stream",
     "text": [
      "[1 2 3 4]\n"
     ]
    }
   ],
   "source": [
    "print(arr1)"
   ]
  },
  {
   "cell_type": "code",
   "execution_count": 214,
   "id": "0f29f290",
   "metadata": {},
   "outputs": [
    {
     "data": {
      "text/plain": [
       "1"
      ]
     },
     "execution_count": 214,
     "metadata": {},
     "output_type": "execute_result"
    }
   ],
   "source": [
    "arr1.ndim"
   ]
  },
  {
   "cell_type": "markdown",
   "id": "8cfa0e2a",
   "metadata": {},
   "source": [
    "### 2-D Array"
   ]
  },
  {
   "cell_type": "markdown",
   "id": "559824a5",
   "metadata": {},
   "source": [
    " - An array that has 1-D arrays as its elements is called a 2-D array.\n",
    " \n",
    " \n",
    "  - 2-D array containing two arrays"
   ]
  },
  {
   "cell_type": "markdown",
   "id": "5becca0f",
   "metadata": {},
   "source": [
    "#### Exmple_1"
   ]
  },
  {
   "cell_type": "code",
   "execution_count": 215,
   "id": "726feed0",
   "metadata": {},
   "outputs": [],
   "source": [
    "arr2 = np.array([[1,2,3],[4,5,6]])"
   ]
  },
  {
   "cell_type": "code",
   "execution_count": 216,
   "id": "1cbe3f40",
   "metadata": {},
   "outputs": [
    {
     "data": {
      "text/plain": [
       "array([[1, 2, 3],\n",
       "       [4, 5, 6]])"
      ]
     },
     "execution_count": 216,
     "metadata": {},
     "output_type": "execute_result"
    }
   ],
   "source": [
    "arr2"
   ]
  },
  {
   "cell_type": "code",
   "execution_count": 217,
   "id": "06fafef2",
   "metadata": {},
   "outputs": [
    {
     "name": "stdout",
     "output_type": "stream",
     "text": [
      "[[1 2 3]\n",
      " [4 5 6]]\n"
     ]
    }
   ],
   "source": [
    "print(arr2)"
   ]
  },
  {
   "cell_type": "code",
   "execution_count": 218,
   "id": "e05d10e5",
   "metadata": {},
   "outputs": [
    {
     "data": {
      "text/plain": [
       "2"
      ]
     },
     "execution_count": 218,
     "metadata": {},
     "output_type": "execute_result"
    }
   ],
   "source": [
    "arr2.ndim"
   ]
  },
  {
   "cell_type": "markdown",
   "id": "311481e0",
   "metadata": {},
   "source": [
    "#### Exmple_2"
   ]
  },
  {
   "cell_type": "code",
   "execution_count": 219,
   "id": "edf7b392",
   "metadata": {},
   "outputs": [],
   "source": [
    "arr2a = np.array(((1,2,3),(1,2,3)))"
   ]
  },
  {
   "cell_type": "code",
   "execution_count": 220,
   "id": "04e7d001",
   "metadata": {},
   "outputs": [
    {
     "data": {
      "text/plain": [
       "array([[1, 2, 3],\n",
       "       [1, 2, 3]])"
      ]
     },
     "execution_count": 220,
     "metadata": {},
     "output_type": "execute_result"
    }
   ],
   "source": [
    "arr2a"
   ]
  },
  {
   "cell_type": "code",
   "execution_count": 221,
   "id": "e729ee52",
   "metadata": {},
   "outputs": [
    {
     "name": "stdout",
     "output_type": "stream",
     "text": [
      "[[1 2 3]\n",
      " [1 2 3]]\n"
     ]
    }
   ],
   "source": [
    "print(arr2a)"
   ]
  },
  {
   "cell_type": "code",
   "execution_count": 222,
   "id": "c155aee6",
   "metadata": {},
   "outputs": [
    {
     "data": {
      "text/plain": [
       "2"
      ]
     },
     "execution_count": 222,
     "metadata": {},
     "output_type": "execute_result"
    }
   ],
   "source": [
    "arr2a.ndim"
   ]
  },
  {
   "cell_type": "markdown",
   "id": "9b21ccce",
   "metadata": {},
   "source": [
    "### 3-D Array"
   ]
  },
  {
   "cell_type": "markdown",
   "id": "a73a2da0",
   "metadata": {},
   "source": [
    " - An array that has 2-D arrays as its elements is called 3-D array.\n",
    "    \n",
    "    "
   ]
  },
  {
   "cell_type": "markdown",
   "id": "6f100938",
   "metadata": {},
   "source": [
    "##### Example_1"
   ]
  },
  {
   "cell_type": "code",
   "execution_count": 223,
   "id": "c446f1f2",
   "metadata": {},
   "outputs": [],
   "source": [
    "arr3 = np.array([[[1,2,3]],[[4,5,6]]])"
   ]
  },
  {
   "cell_type": "code",
   "execution_count": 224,
   "id": "a618ea3b",
   "metadata": {},
   "outputs": [
    {
     "data": {
      "text/plain": [
       "array([[[1, 2, 3]],\n",
       "\n",
       "       [[4, 5, 6]]])"
      ]
     },
     "execution_count": 224,
     "metadata": {},
     "output_type": "execute_result"
    }
   ],
   "source": [
    "arr3"
   ]
  },
  {
   "cell_type": "code",
   "execution_count": 225,
   "id": "f1164f28",
   "metadata": {},
   "outputs": [
    {
     "data": {
      "text/plain": [
       "3"
      ]
     },
     "execution_count": 225,
     "metadata": {},
     "output_type": "execute_result"
    }
   ],
   "source": [
    "arr3.ndim"
   ]
  },
  {
   "cell_type": "markdown",
   "id": "6e364f9c",
   "metadata": {},
   "source": [
    "#### Example_2"
   ]
  },
  {
   "cell_type": "code",
   "execution_count": 226,
   "id": "8c0c5c7c",
   "metadata": {},
   "outputs": [],
   "source": [
    "arr3a = np.array(([[1,2],[3,4]],[[5,6],[7,8]]))"
   ]
  },
  {
   "cell_type": "code",
   "execution_count": 227,
   "id": "24e69256",
   "metadata": {},
   "outputs": [
    {
     "data": {
      "text/plain": [
       "array([[[1, 2],\n",
       "        [3, 4]],\n",
       "\n",
       "       [[5, 6],\n",
       "        [7, 8]]])"
      ]
     },
     "execution_count": 227,
     "metadata": {},
     "output_type": "execute_result"
    }
   ],
   "source": [
    "arr3a"
   ]
  },
  {
   "cell_type": "code",
   "execution_count": 228,
   "id": "e023126a",
   "metadata": {},
   "outputs": [
    {
     "data": {
      "text/plain": [
       "3"
      ]
     },
     "execution_count": 228,
     "metadata": {},
     "output_type": "execute_result"
    }
   ],
   "source": [
    "arr3a.ndim"
   ]
  },
  {
   "cell_type": "code",
   "execution_count": 229,
   "id": "556a734f",
   "metadata": {},
   "outputs": [
    {
     "name": "stdout",
     "output_type": "stream",
     "text": [
      "42 dimension - 0 \n",
      "\n",
      "[1 2 3] dimension - 1 \n",
      "\n",
      "[[1 2]\n",
      " [3 4]] dimension - 2 \n",
      "\n",
      "[[[1 2 3]\n",
      "  [4 5 6]]] dimension - 3 \n",
      "\n"
     ]
    }
   ],
   "source": [
    "a = np.array(42)\n",
    "b = np.array([1, 2, 3])\n",
    "c = np.array([[1, 2], [3,4]])\n",
    "d = np.array([[[1, 2, 3], [4, 5, 6]]])\n",
    "\n",
    "print(a,\"dimension -\",a.ndim,\"\\n\")\n",
    "print(b,\"dimension -\",b.ndim,\"\\n\")\n",
    "print(c,\"dimension -\",c.ndim,\"\\n\")\n",
    "print(d,\"dimension -\",d.ndim,\"\\n\")"
   ]
  },
  {
   "cell_type": "markdown",
   "id": "15fb0bc8",
   "metadata": {},
   "source": [
    "#### Note : An array can have any number of dimensions."
   ]
  },
  {
   "cell_type": "markdown",
   "id": "0e999078",
   "metadata": {},
   "source": [
    "### Create array with Dimension"
   ]
  },
  {
   "cell_type": "code",
   "execution_count": 230,
   "id": "2b87e36d",
   "metadata": {},
   "outputs": [],
   "source": [
    "arr_d = np.array([1,2,3,4],ndmin = 5)"
   ]
  },
  {
   "cell_type": "code",
   "execution_count": 231,
   "id": "419173e0",
   "metadata": {},
   "outputs": [
    {
     "data": {
      "text/plain": [
       "array([[[[[1, 2, 3, 4]]]]])"
      ]
     },
     "execution_count": 231,
     "metadata": {},
     "output_type": "execute_result"
    }
   ],
   "source": [
    "arr_d"
   ]
  },
  {
   "cell_type": "code",
   "execution_count": 232,
   "id": "0bf2927f",
   "metadata": {},
   "outputs": [],
   "source": [
    "arr_d1 = np.array(([1,2,3],[4,5,6]),ndmin = 5)"
   ]
  },
  {
   "cell_type": "code",
   "execution_count": 233,
   "id": "8be846b7",
   "metadata": {},
   "outputs": [
    {
     "data": {
      "text/plain": [
       "array([[[[[1, 2, 3],\n",
       "          [4, 5, 6]]]]])"
      ]
     },
     "execution_count": 233,
     "metadata": {},
     "output_type": "execute_result"
    }
   ],
   "source": [
    "arr_d1"
   ]
  },
  {
   "cell_type": "markdown",
   "id": "06510ed7",
   "metadata": {},
   "source": [
    "### NumPy Array Indexing"
   ]
  },
  {
   "cell_type": "markdown",
   "id": "8ebf5060",
   "metadata": {},
   "source": [
    " - Array indexing is the same as accessing an array element.\n",
    "    \n",
    " - You can access an array element by referring to its index number.\n",
    "\n",
    " - The indexes in NumPy arrays start with 0, meaning that the first element has index 0, and the second has index 1\n",
    "    \n",
    "    "
   ]
  },
  {
   "cell_type": "code",
   "execution_count": 234,
   "id": "73e5e661",
   "metadata": {},
   "outputs": [],
   "source": [
    "arr_a = np.array([1,2,3,4])"
   ]
  },
  {
   "cell_type": "code",
   "execution_count": 235,
   "id": "5277da3d",
   "metadata": {},
   "outputs": [
    {
     "data": {
      "text/plain": [
       "array([1, 2, 3, 4])"
      ]
     },
     "execution_count": 235,
     "metadata": {},
     "output_type": "execute_result"
    }
   ],
   "source": [
    "arr_a"
   ]
  },
  {
   "cell_type": "code",
   "execution_count": 236,
   "id": "1adfd7c5",
   "metadata": {},
   "outputs": [
    {
     "data": {
      "text/plain": [
       "1"
      ]
     },
     "execution_count": 236,
     "metadata": {},
     "output_type": "execute_result"
    }
   ],
   "source": [
    "arr_a[0]"
   ]
  },
  {
   "cell_type": "code",
   "execution_count": 237,
   "id": "dc05550b",
   "metadata": {},
   "outputs": [
    {
     "data": {
      "text/plain": [
       "3"
      ]
     },
     "execution_count": 237,
     "metadata": {},
     "output_type": "execute_result"
    }
   ],
   "source": [
    "arr_a[2]"
   ]
  },
  {
   "cell_type": "code",
   "execution_count": 238,
   "id": "fdb57d40",
   "metadata": {},
   "outputs": [
    {
     "data": {
      "text/plain": [
       "5"
      ]
     },
     "execution_count": 238,
     "metadata": {},
     "output_type": "execute_result"
    }
   ],
   "source": [
    "arr_a[1] +arr_a[2]"
   ]
  },
  {
   "cell_type": "markdown",
   "id": "bdb64635",
   "metadata": {},
   "source": [
    "#### Access 2-D Arrays"
   ]
  },
  {
   "cell_type": "code",
   "execution_count": 239,
   "id": "946af7e2",
   "metadata": {},
   "outputs": [],
   "source": [
    "arr_b = np.array([[1,2,3],[4,5,6]],ndmin = 2)"
   ]
  },
  {
   "cell_type": "code",
   "execution_count": 240,
   "id": "9951418c",
   "metadata": {},
   "outputs": [
    {
     "data": {
      "text/plain": [
       "array([[1, 2, 3],\n",
       "       [4, 5, 6]])"
      ]
     },
     "execution_count": 240,
     "metadata": {},
     "output_type": "execute_result"
    }
   ],
   "source": [
    "arr_b"
   ]
  },
  {
   "cell_type": "code",
   "execution_count": 241,
   "id": "5b9e0391",
   "metadata": {},
   "outputs": [
    {
     "data": {
      "text/plain": [
       "1"
      ]
     },
     "execution_count": 241,
     "metadata": {},
     "output_type": "execute_result"
    }
   ],
   "source": [
    "arr_b[0,0]"
   ]
  },
  {
   "cell_type": "code",
   "execution_count": 242,
   "id": "3de202fe",
   "metadata": {},
   "outputs": [
    {
     "data": {
      "text/plain": [
       "3"
      ]
     },
     "execution_count": 242,
     "metadata": {},
     "output_type": "execute_result"
    }
   ],
   "source": [
    "arr_b[0,2]"
   ]
  },
  {
   "cell_type": "code",
   "execution_count": 243,
   "id": "5c3b9bc1",
   "metadata": {},
   "outputs": [
    {
     "data": {
      "text/plain": [
       "5"
      ]
     },
     "execution_count": 243,
     "metadata": {},
     "output_type": "execute_result"
    }
   ],
   "source": [
    "arr_b[1,1]"
   ]
  },
  {
   "cell_type": "code",
   "execution_count": 244,
   "id": "f19462d8",
   "metadata": {},
   "outputs": [
    {
     "data": {
      "text/plain": [
       "6"
      ]
     },
     "execution_count": 244,
     "metadata": {},
     "output_type": "execute_result"
    }
   ],
   "source": [
    "arr_b[1,2]"
   ]
  },
  {
   "cell_type": "markdown",
   "id": "5ae3ea56",
   "metadata": {},
   "source": [
    "### Access 3-D Arrays"
   ]
  },
  {
   "cell_type": "code",
   "execution_count": 245,
   "id": "1d70c382",
   "metadata": {},
   "outputs": [],
   "source": [
    "arr_c = np.array([[1,2,3,4],[5,6,7,8]],ndmin=3)"
   ]
  },
  {
   "cell_type": "code",
   "execution_count": 246,
   "id": "ac04034d",
   "metadata": {},
   "outputs": [
    {
     "name": "stdout",
     "output_type": "stream",
     "text": [
      "[[[1 2 3 4]\n",
      "  [5 6 7 8]]]\n"
     ]
    }
   ],
   "source": [
    "print(arr_c)"
   ]
  },
  {
   "cell_type": "code",
   "execution_count": 247,
   "id": "bf8107fe",
   "metadata": {},
   "outputs": [
    {
     "data": {
      "text/plain": [
       "array([1, 2, 3, 4])"
      ]
     },
     "execution_count": 247,
     "metadata": {},
     "output_type": "execute_result"
    }
   ],
   "source": [
    "arr_c[0,0]"
   ]
  },
  {
   "cell_type": "code",
   "execution_count": 248,
   "id": "690f4112",
   "metadata": {},
   "outputs": [
    {
     "data": {
      "text/plain": [
       "2"
      ]
     },
     "execution_count": 248,
     "metadata": {},
     "output_type": "execute_result"
    }
   ],
   "source": [
    "arr_c[0,0,1]"
   ]
  },
  {
   "cell_type": "code",
   "execution_count": 249,
   "id": "9b0e7a23",
   "metadata": {},
   "outputs": [
    {
     "data": {
      "text/plain": [
       "array([5, 6, 7, 8])"
      ]
     },
     "execution_count": 249,
     "metadata": {},
     "output_type": "execute_result"
    }
   ],
   "source": [
    "arr_c[0,1]"
   ]
  },
  {
   "cell_type": "code",
   "execution_count": 250,
   "id": "7179da9e",
   "metadata": {},
   "outputs": [
    {
     "data": {
      "text/plain": [
       "7"
      ]
     },
     "execution_count": 250,
     "metadata": {},
     "output_type": "execute_result"
    }
   ],
   "source": [
    "arr_c[0,1,2]"
   ]
  },
  {
   "cell_type": "code",
   "execution_count": 251,
   "id": "bcb6dfa9",
   "metadata": {},
   "outputs": [],
   "source": [
    "arr_d =np.array([[[1, 2, 3], [4, 5, 6]], [[7, 8, 9], [10, 11, 12]]])"
   ]
  },
  {
   "cell_type": "code",
   "execution_count": 252,
   "id": "f9a858bc",
   "metadata": {},
   "outputs": [
    {
     "data": {
      "text/plain": [
       "array([[[ 1,  2,  3],\n",
       "        [ 4,  5,  6]],\n",
       "\n",
       "       [[ 7,  8,  9],\n",
       "        [10, 11, 12]]])"
      ]
     },
     "execution_count": 252,
     "metadata": {},
     "output_type": "execute_result"
    }
   ],
   "source": [
    "arr_d"
   ]
  },
  {
   "cell_type": "code",
   "execution_count": 253,
   "id": "71eaa5de",
   "metadata": {},
   "outputs": [
    {
     "data": {
      "text/plain": [
       "8"
      ]
     },
     "execution_count": 253,
     "metadata": {},
     "output_type": "execute_result"
    }
   ],
   "source": [
    "arr_d[1,0,1]"
   ]
  },
  {
   "cell_type": "code",
   "execution_count": 254,
   "id": "6a65dc32",
   "metadata": {},
   "outputs": [
    {
     "data": {
      "text/plain": [
       "6"
      ]
     },
     "execution_count": 254,
     "metadata": {},
     "output_type": "execute_result"
    }
   ],
   "source": [
    "arr_d[0,1,2]"
   ]
  },
  {
   "cell_type": "code",
   "execution_count": 255,
   "id": "1b72fd1b",
   "metadata": {},
   "outputs": [
    {
     "data": {
      "text/plain": [
       "11"
      ]
     },
     "execution_count": 255,
     "metadata": {},
     "output_type": "execute_result"
    }
   ],
   "source": [
    "arr_d[1,1,1]"
   ]
  },
  {
   "cell_type": "markdown",
   "id": "8448a836",
   "metadata": {},
   "source": [
    "### NumPy Array Slicing"
   ]
  },
  {
   "cell_type": "markdown",
   "id": "47afe16e",
   "metadata": {},
   "source": [
    " \n",
    "  - Slicing in python means taking elements from one given index to another given index.\n",
    "    \n",
    "    - [start:end:step]\n",
    "    \n",
    " - If we don't pass start its considered 0\n",
    "\n",
    "\n",
    "\n",
    " - If we don't pass end its considered length of array in that dimension\n",
    "\n",
    "    \n",
    " - If we don't pass step its considered 1"
   ]
  },
  {
   "cell_type": "code",
   "execution_count": 256,
   "id": "ae527790",
   "metadata": {},
   "outputs": [],
   "source": [
    "arr_s = np.array([1,2,3,4,5,6])"
   ]
  },
  {
   "cell_type": "code",
   "execution_count": 257,
   "id": "bed464be",
   "metadata": {},
   "outputs": [
    {
     "data": {
      "text/plain": [
       "array([2, 3, 4, 5])"
      ]
     },
     "execution_count": 257,
     "metadata": {},
     "output_type": "execute_result"
    }
   ],
   "source": [
    "arr_s[1:5]"
   ]
  },
  {
   "cell_type": "code",
   "execution_count": 258,
   "id": "3939ec0b",
   "metadata": {},
   "outputs": [
    {
     "data": {
      "text/plain": [
       "array([5, 6])"
      ]
     },
     "execution_count": 258,
     "metadata": {},
     "output_type": "execute_result"
    }
   ],
   "source": [
    "arr_s[4:]"
   ]
  },
  {
   "cell_type": "code",
   "execution_count": 259,
   "id": "b2798c59",
   "metadata": {},
   "outputs": [
    {
     "data": {
      "text/plain": [
       "array([1, 2, 3, 4])"
      ]
     },
     "execution_count": 259,
     "metadata": {},
     "output_type": "execute_result"
    }
   ],
   "source": [
    "arr_s[:4]"
   ]
  },
  {
   "cell_type": "code",
   "execution_count": 260,
   "id": "da862520",
   "metadata": {},
   "outputs": [
    {
     "data": {
      "text/plain": [
       "array([4, 5])"
      ]
     },
     "execution_count": 260,
     "metadata": {},
     "output_type": "execute_result"
    }
   ],
   "source": [
    "arr_s[-3:-1]"
   ]
  },
  {
   "cell_type": "code",
   "execution_count": 261,
   "id": "0b3f7d67",
   "metadata": {},
   "outputs": [
    {
     "data": {
      "text/plain": [
       "array([4, 5])"
      ]
     },
     "execution_count": 261,
     "metadata": {},
     "output_type": "execute_result"
    }
   ],
   "source": [
    "arr_s[3:-1]"
   ]
  },
  {
   "cell_type": "code",
   "execution_count": 262,
   "id": "46dbc58f",
   "metadata": {},
   "outputs": [
    {
     "data": {
      "text/plain": [
       "array([1, 3, 5])"
      ]
     },
     "execution_count": 262,
     "metadata": {},
     "output_type": "execute_result"
    }
   ],
   "source": [
    "arr_s[: : 2]"
   ]
  },
  {
   "cell_type": "markdown",
   "id": "d64be08c",
   "metadata": {},
   "source": [
    "### Slicing 2-D Arrays"
   ]
  },
  {
   "cell_type": "code",
   "execution_count": 263,
   "id": "699f0de8",
   "metadata": {},
   "outputs": [],
   "source": [
    "arrs1 = np.array([[1,2,3,4],[5,6,7,8]])"
   ]
  },
  {
   "cell_type": "code",
   "execution_count": 264,
   "id": "a2ed9111",
   "metadata": {},
   "outputs": [
    {
     "data": {
      "text/plain": [
       "array([[1, 2, 3, 4],\n",
       "       [5, 6, 7, 8]])"
      ]
     },
     "execution_count": 264,
     "metadata": {},
     "output_type": "execute_result"
    }
   ],
   "source": [
    "arrs1"
   ]
  },
  {
   "cell_type": "code",
   "execution_count": 265,
   "id": "5a964474",
   "metadata": {},
   "outputs": [
    {
     "data": {
      "text/plain": [
       "array([2, 3])"
      ]
     },
     "execution_count": 265,
     "metadata": {},
     "output_type": "execute_result"
    }
   ],
   "source": [
    "arrs1[0,1:3]"
   ]
  },
  {
   "cell_type": "code",
   "execution_count": 266,
   "id": "c356e593",
   "metadata": {},
   "outputs": [
    {
     "data": {
      "text/plain": [
       "array([5, 6])"
      ]
     },
     "execution_count": 266,
     "metadata": {},
     "output_type": "execute_result"
    }
   ],
   "source": [
    "arrs1[1,0:2]"
   ]
  },
  {
   "cell_type": "code",
   "execution_count": 267,
   "id": "6b965325",
   "metadata": {},
   "outputs": [
    {
     "data": {
      "text/plain": [
       "array([2, 6])"
      ]
     },
     "execution_count": 267,
     "metadata": {},
     "output_type": "execute_result"
    }
   ],
   "source": [
    "arrs1[0:2,1]"
   ]
  },
  {
   "cell_type": "code",
   "execution_count": 268,
   "id": "526d6531",
   "metadata": {},
   "outputs": [
    {
     "data": {
      "text/plain": [
       "array([4, 8])"
      ]
     },
     "execution_count": 268,
     "metadata": {},
     "output_type": "execute_result"
    }
   ],
   "source": [
    "arrs1[0:2,3]"
   ]
  },
  {
   "cell_type": "code",
   "execution_count": 269,
   "id": "504434f1",
   "metadata": {},
   "outputs": [
    {
     "data": {
      "text/plain": [
       "array([[2, 3],\n",
       "       [6, 7]])"
      ]
     },
     "execution_count": 269,
     "metadata": {},
     "output_type": "execute_result"
    }
   ],
   "source": [
    "arrs1[0:2,1:3]"
   ]
  },
  {
   "cell_type": "markdown",
   "id": "3cdd42e4",
   "metadata": {},
   "source": [
    "### NumPy- Data Type"
   ]
  },
  {
   "cell_type": "markdown",
   "id": "d7ade008",
   "metadata": {},
   "source": [
    " - i - integer\n",
    "\n",
    " - b - boolean\n",
    "\n",
    " - u - unsigned integer\n",
    "\n",
    " - f - float\n",
    "\n",
    " - c - complex float\n",
    "\n",
    " - m - timedelta\n",
    "\n",
    " - M - datetime\n",
    "\n",
    " - O - object\n",
    "\n",
    " - S - string\n",
    "\n",
    " - U - unicode string\n",
    "\n",
    " - V - fixed chunk of memory for other type ( void )"
   ]
  },
  {
   "cell_type": "markdown",
   "id": "17305fca",
   "metadata": {},
   "source": [
    "#### dtype"
   ]
  },
  {
   "cell_type": "code",
   "execution_count": 270,
   "id": "d760f281",
   "metadata": {},
   "outputs": [],
   "source": [
    "arrt = np.array([1,2,3,4])"
   ]
  },
  {
   "cell_type": "code",
   "execution_count": 271,
   "id": "27a33a55",
   "metadata": {},
   "outputs": [
    {
     "data": {
      "text/plain": [
       "dtype('int32')"
      ]
     },
     "execution_count": 271,
     "metadata": {},
     "output_type": "execute_result"
    }
   ],
   "source": [
    "arrt.dtype"
   ]
  },
  {
   "cell_type": "code",
   "execution_count": 272,
   "id": "f316c77a",
   "metadata": {},
   "outputs": [],
   "source": [
    "arrt1 = np.array(['apple','banana','cherry'])"
   ]
  },
  {
   "cell_type": "code",
   "execution_count": 273,
   "id": "1d9f205a",
   "metadata": {},
   "outputs": [
    {
     "data": {
      "text/plain": [
       "dtype('<U6')"
      ]
     },
     "execution_count": 273,
     "metadata": {},
     "output_type": "execute_result"
    }
   ],
   "source": [
    "arrt1.dtype"
   ]
  },
  {
   "cell_type": "markdown",
   "id": "898f82fe",
   "metadata": {},
   "source": [
    "#### Creating Arrays With a Defined Data Type"
   ]
  },
  {
   "cell_type": "code",
   "execution_count": 274,
   "id": "beb948fb",
   "metadata": {},
   "outputs": [],
   "source": [
    "arrt2 = np.array([1,2,3,4],dtype = 'S')"
   ]
  },
  {
   "cell_type": "code",
   "execution_count": 275,
   "id": "72c6eab8",
   "metadata": {},
   "outputs": [
    {
     "data": {
      "text/plain": [
       "array([b'1', b'2', b'3', b'4'], dtype='|S1')"
      ]
     },
     "execution_count": 275,
     "metadata": {},
     "output_type": "execute_result"
    }
   ],
   "source": [
    "arrt2"
   ]
  },
  {
   "cell_type": "code",
   "execution_count": 276,
   "id": "a5fb116b",
   "metadata": {},
   "outputs": [
    {
     "data": {
      "text/plain": [
       "dtype('S1')"
      ]
     },
     "execution_count": 276,
     "metadata": {},
     "output_type": "execute_result"
    }
   ],
   "source": [
    "arrt2.dtype"
   ]
  },
  {
   "cell_type": "code",
   "execution_count": 277,
   "id": "b9850836",
   "metadata": {},
   "outputs": [],
   "source": [
    "arrt3 = np.array([1.2,2.2,4.1,3.2])"
   ]
  },
  {
   "cell_type": "markdown",
   "id": "8f406b6e",
   "metadata": {},
   "source": [
    "#### astype( ) - to change default data type into new data type"
   ]
  },
  {
   "cell_type": "code",
   "execution_count": 278,
   "id": "9df84409",
   "metadata": {},
   "outputs": [
    {
     "data": {
      "text/plain": [
       "array([1, 2, 4, 3], dtype=int32)"
      ]
     },
     "execution_count": 278,
     "metadata": {},
     "output_type": "execute_result"
    }
   ],
   "source": [
    "arrt3.astype('i')"
   ]
  },
  {
   "cell_type": "code",
   "execution_count": 279,
   "id": "688e2fbd",
   "metadata": {},
   "outputs": [],
   "source": [
    "arrt4 =np.array([1,0,3,4])"
   ]
  },
  {
   "cell_type": "code",
   "execution_count": 280,
   "id": "2c40b194",
   "metadata": {},
   "outputs": [
    {
     "data": {
      "text/plain": [
       "array([ True, False,  True,  True])"
      ]
     },
     "execution_count": 280,
     "metadata": {},
     "output_type": "execute_result"
    }
   ],
   "source": [
    "arrt4.astype(bool)"
   ]
  },
  {
   "cell_type": "markdown",
   "id": "be73e22e",
   "metadata": {},
   "source": [
    "### NumPy Array Copy V/S  View"
   ]
  },
  {
   "cell_type": "markdown",
   "id": "ae801b84",
   "metadata": {},
   "source": [
    "####  1. Copy"
   ]
  },
  {
   "cell_type": "code",
   "execution_count": 281,
   "id": "47e46508",
   "metadata": {},
   "outputs": [],
   "source": [
    "arrc = np.array([1,2,3,4])"
   ]
  },
  {
   "cell_type": "code",
   "execution_count": 282,
   "id": "6a622ee1",
   "metadata": {},
   "outputs": [
    {
     "data": {
      "text/plain": [
       "array([1, 2, 3, 4])"
      ]
     },
     "execution_count": 282,
     "metadata": {},
     "output_type": "execute_result"
    }
   ],
   "source": [
    "arrc"
   ]
  },
  {
   "cell_type": "code",
   "execution_count": 283,
   "id": "df1e089c",
   "metadata": {},
   "outputs": [],
   "source": [
    "x= arrc.copy()"
   ]
  },
  {
   "cell_type": "code",
   "execution_count": 284,
   "id": "ecb68703",
   "metadata": {},
   "outputs": [
    {
     "data": {
      "text/plain": [
       "array([1, 2, 3, 4])"
      ]
     },
     "execution_count": 284,
     "metadata": {},
     "output_type": "execute_result"
    }
   ],
   "source": [
    "x"
   ]
  },
  {
   "cell_type": "code",
   "execution_count": 285,
   "id": "b738fe39",
   "metadata": {},
   "outputs": [],
   "source": [
    "arrc[0]=43    # Assigning 42 value at 0th index in original array"
   ]
  },
  {
   "cell_type": "code",
   "execution_count": 286,
   "id": "89cf6ca8",
   "metadata": {},
   "outputs": [
    {
     "data": {
      "text/plain": [
       "array([43,  2,  3,  4])"
      ]
     },
     "execution_count": 286,
     "metadata": {},
     "output_type": "execute_result"
    }
   ],
   "source": [
    "arrc      # after assigning value"
   ]
  },
  {
   "cell_type": "code",
   "execution_count": 287,
   "id": "22b238b8",
   "metadata": {},
   "outputs": [
    {
     "data": {
      "text/plain": [
       "array([1, 2, 3, 4])"
      ]
     },
     "execution_count": 287,
     "metadata": {},
     "output_type": "execute_result"
    }
   ],
   "source": [
    "x           # copy of original array , which is not affected"
   ]
  },
  {
   "cell_type": "markdown",
   "id": "37ef526d",
   "metadata": {},
   "source": [
    "#### 2. View"
   ]
  },
  {
   "cell_type": "markdown",
   "id": "054ab160",
   "metadata": {},
   "source": [
    " - Which affect to original array"
   ]
  },
  {
   "cell_type": "code",
   "execution_count": 288,
   "id": "e5aa4630",
   "metadata": {},
   "outputs": [],
   "source": [
    "arrv = np.array([4,5,6,7])"
   ]
  },
  {
   "cell_type": "code",
   "execution_count": 289,
   "id": "1376f250",
   "metadata": {},
   "outputs": [],
   "source": [
    "x1 = arrv.view()  # creating view of array"
   ]
  },
  {
   "cell_type": "code",
   "execution_count": 290,
   "id": "c2699351",
   "metadata": {},
   "outputs": [
    {
     "data": {
      "text/plain": [
       "array([4, 5, 6, 7])"
      ]
     },
     "execution_count": 290,
     "metadata": {},
     "output_type": "execute_result"
    }
   ],
   "source": [
    "x1      # view"
   ]
  },
  {
   "cell_type": "code",
   "execution_count": 291,
   "id": "9aace425",
   "metadata": {},
   "outputs": [],
   "source": [
    "x1[0] = 84   # assigning value to view "
   ]
  },
  {
   "cell_type": "code",
   "execution_count": 292,
   "id": "a35f0ac4",
   "metadata": {},
   "outputs": [
    {
     "data": {
      "text/plain": [
       "array([84,  5,  6,  7])"
      ]
     },
     "execution_count": 292,
     "metadata": {},
     "output_type": "execute_result"
    }
   ],
   "source": [
    "arrv        # it has changed original array"
   ]
  },
  {
   "cell_type": "code",
   "execution_count": 293,
   "id": "a1080445",
   "metadata": {},
   "outputs": [
    {
     "data": {
      "text/plain": [
       "array([84,  5,  6,  7])"
      ]
     },
     "execution_count": 293,
     "metadata": {},
     "output_type": "execute_result"
    }
   ],
   "source": [
    "x1"
   ]
  },
  {
   "cell_type": "markdown",
   "id": "5bb2a757",
   "metadata": {},
   "source": [
    "### Check if Array Owns its Data"
   ]
  },
  {
   "cell_type": "markdown",
   "id": "3edf4b9f",
   "metadata": {},
   "source": [
    " - Every NumPy array has the attribute base that returns None if the array owns the data.\n",
    "    \n",
    "    \n",
    " - Otherwise, the base  attribute refers to the original object."
   ]
  },
  {
   "cell_type": "code",
   "execution_count": 294,
   "id": "e1aa0947",
   "metadata": {},
   "outputs": [],
   "source": [
    "arrcv = np.array([12,13,14,15])"
   ]
  },
  {
   "cell_type": "code",
   "execution_count": 295,
   "id": "347431da",
   "metadata": {},
   "outputs": [],
   "source": [
    "x = arrcv.copy()   # copy own the data\n",
    "y = arrcv.view()"
   ]
  },
  {
   "cell_type": "code",
   "execution_count": 296,
   "id": "998bc022",
   "metadata": {},
   "outputs": [
    {
     "name": "stdout",
     "output_type": "stream",
     "text": [
      "None\n",
      "[12 13 14 15]\n"
     ]
    }
   ],
   "source": [
    "print(x.base)\n",
    "print(y.base)"
   ]
  },
  {
   "cell_type": "markdown",
   "id": "c947afbb",
   "metadata": {},
   "source": [
    "### Shape"
   ]
  },
  {
   "cell_type": "markdown",
   "id": "1a0041d2",
   "metadata": {},
   "source": [
    " - The shape of an array is the number of element in each dimension"
   ]
  },
  {
   "cell_type": "code",
   "execution_count": 297,
   "id": "0446c080",
   "metadata": {},
   "outputs": [],
   "source": [
    "arrs = np.array([[1,2,3,4],[5,6,7,8]])"
   ]
  },
  {
   "cell_type": "code",
   "execution_count": 298,
   "id": "c60a1433",
   "metadata": {},
   "outputs": [
    {
     "data": {
      "text/plain": [
       "array([[1, 2, 3, 4],\n",
       "       [5, 6, 7, 8]])"
      ]
     },
     "execution_count": 298,
     "metadata": {},
     "output_type": "execute_result"
    }
   ],
   "source": [
    "arrs"
   ]
  },
  {
   "cell_type": "code",
   "execution_count": 299,
   "id": "484247dc",
   "metadata": {},
   "outputs": [
    {
     "data": {
      "text/plain": [
       "(2, 4)"
      ]
     },
     "execution_count": 299,
     "metadata": {},
     "output_type": "execute_result"
    }
   ],
   "source": [
    "arrs.shape"
   ]
  },
  {
   "cell_type": "code",
   "execution_count": 300,
   "id": "21cd4271",
   "metadata": {},
   "outputs": [],
   "source": [
    "arrs1 = np.array([1,2,3,4],ndmin =  5)"
   ]
  },
  {
   "cell_type": "code",
   "execution_count": 301,
   "id": "a57e559a",
   "metadata": {},
   "outputs": [
    {
     "data": {
      "text/plain": [
       "array([[[[[1, 2, 3, 4]]]]])"
      ]
     },
     "execution_count": 301,
     "metadata": {},
     "output_type": "execute_result"
    }
   ],
   "source": [
    "arrs1"
   ]
  },
  {
   "cell_type": "code",
   "execution_count": 302,
   "id": "b339f084",
   "metadata": {},
   "outputs": [
    {
     "data": {
      "text/plain": [
       "(1, 1, 1, 1, 4)"
      ]
     },
     "execution_count": 302,
     "metadata": {},
     "output_type": "execute_result"
    }
   ],
   "source": [
    "arrs1.shape"
   ]
  },
  {
   "cell_type": "markdown",
   "id": "a2625421",
   "metadata": {},
   "source": [
    "### Reshape"
   ]
  },
  {
   "cell_type": "code",
   "execution_count": 303,
   "id": "6c818251",
   "metadata": {},
   "outputs": [],
   "source": [
    "arrr = np.array([1,2,3,4,5,6,7,8,9,10,11,12])"
   ]
  },
  {
   "cell_type": "code",
   "execution_count": 304,
   "id": "014211cd",
   "metadata": {},
   "outputs": [
    {
     "data": {
      "text/plain": [
       "array([ 1,  2,  3,  4,  5,  6,  7,  8,  9, 10, 11, 12])"
      ]
     },
     "execution_count": 304,
     "metadata": {},
     "output_type": "execute_result"
    }
   ],
   "source": [
    "arrr"
   ]
  },
  {
   "cell_type": "code",
   "execution_count": 305,
   "id": "642d074b",
   "metadata": {},
   "outputs": [
    {
     "data": {
      "text/plain": [
       "1"
      ]
     },
     "execution_count": 305,
     "metadata": {},
     "output_type": "execute_result"
    }
   ],
   "source": [
    "arrr.ndim"
   ]
  },
  {
   "cell_type": "code",
   "execution_count": 306,
   "id": "f6b0ceb1",
   "metadata": {},
   "outputs": [
    {
     "data": {
      "text/plain": [
       "array([[ 1,  2,  3],\n",
       "       [ 4,  5,  6],\n",
       "       [ 7,  8,  9],\n",
       "       [10, 11, 12]])"
      ]
     },
     "execution_count": 306,
     "metadata": {},
     "output_type": "execute_result"
    }
   ],
   "source": [
    "arrr.reshape(4,3)"
   ]
  },
  {
   "cell_type": "code",
   "execution_count": 307,
   "id": "83e2c583",
   "metadata": {},
   "outputs": [
    {
     "data": {
      "text/plain": [
       "array([[[ 1,  2,  3],\n",
       "        [ 4,  5,  6]],\n",
       "\n",
       "       [[ 7,  8,  9],\n",
       "        [10, 11, 12]]])"
      ]
     },
     "execution_count": 307,
     "metadata": {},
     "output_type": "execute_result"
    }
   ],
   "source": [
    "arrr.reshape(2,2,3)"
   ]
  },
  {
   "cell_type": "code",
   "execution_count": 308,
   "id": "36973cd0",
   "metadata": {},
   "outputs": [],
   "source": [
    "ar = np.array([1,2,3,4,5,6,7,8])"
   ]
  },
  {
   "cell_type": "code",
   "execution_count": 309,
   "id": "74d4e452",
   "metadata": {},
   "outputs": [
    {
     "data": {
      "text/plain": [
       "array([[[1, 2],\n",
       "        [3, 4]],\n",
       "\n",
       "       [[5, 6],\n",
       "        [7, 8]]])"
      ]
     },
     "execution_count": 309,
     "metadata": {},
     "output_type": "execute_result"
    }
   ],
   "source": [
    "ar.reshape(2,2,-1)"
   ]
  },
  {
   "cell_type": "code",
   "execution_count": 310,
   "id": "392833f1",
   "metadata": {},
   "outputs": [
    {
     "data": {
      "text/plain": [
       "array([[[1, 2],\n",
       "        [3, 4]],\n",
       "\n",
       "       [[5, 6],\n",
       "        [7, 8]]])"
      ]
     },
     "execution_count": 310,
     "metadata": {},
     "output_type": "execute_result"
    }
   ],
   "source": [
    "ar.reshape(2,2,2)"
   ]
  },
  {
   "cell_type": "code",
   "execution_count": 311,
   "id": "3ec74a67",
   "metadata": {},
   "outputs": [],
   "source": [
    "a = ar.reshape(2,2,-1)"
   ]
  },
  {
   "cell_type": "code",
   "execution_count": 312,
   "id": "888c3506",
   "metadata": {},
   "outputs": [
    {
     "data": {
      "text/plain": [
       "3"
      ]
     },
     "execution_count": 312,
     "metadata": {},
     "output_type": "execute_result"
    }
   ],
   "source": [
    "a.ndim"
   ]
  },
  {
   "cell_type": "markdown",
   "id": "29fbff22",
   "metadata": {},
   "source": [
    "### Flattening the arrays"
   ]
  },
  {
   "cell_type": "markdown",
   "id": "5cb74fba",
   "metadata": {},
   "source": [
    " - Flattening array means converting a multidimensional array into a 1D array.\n",
    "\n",
    "    \n",
    " - We can use reshape(-1) to do this."
   ]
  },
  {
   "cell_type": "code",
   "execution_count": 313,
   "id": "9106545d",
   "metadata": {},
   "outputs": [
    {
     "data": {
      "text/plain": [
       "array([[[[[1, 2, 3, 4]]]]])"
      ]
     },
     "execution_count": 313,
     "metadata": {},
     "output_type": "execute_result"
    }
   ],
   "source": [
    "arrs1"
   ]
  },
  {
   "cell_type": "code",
   "execution_count": 314,
   "id": "68dabe6a",
   "metadata": {},
   "outputs": [
    {
     "data": {
      "text/plain": [
       "array([1, 2, 3, 4])"
      ]
     },
     "execution_count": 314,
     "metadata": {},
     "output_type": "execute_result"
    }
   ],
   "source": [
    "arrs1.reshape(-1)"
   ]
  },
  {
   "cell_type": "markdown",
   "id": "e41109a4",
   "metadata": {},
   "source": [
    "### NumPy Array Iterating"
   ]
  },
  {
   "cell_type": "code",
   "execution_count": 315,
   "id": "49db6cfc",
   "metadata": {},
   "outputs": [
    {
     "name": "stdout",
     "output_type": "stream",
     "text": [
      "1\n",
      "2\n",
      "3\n",
      "4\n"
     ]
    }
   ],
   "source": [
    "arrn = np.array([1,2,3,4])\n",
    "for i in arrn:\n",
    "    print(i)"
   ]
  },
  {
   "cell_type": "code",
   "execution_count": 316,
   "id": "bf5c7312",
   "metadata": {},
   "outputs": [],
   "source": [
    "arrn1 = np.array([[1,2,3],[4,5,6]])"
   ]
  },
  {
   "cell_type": "code",
   "execution_count": 317,
   "id": "98eedd6e",
   "metadata": {},
   "outputs": [
    {
     "data": {
      "text/plain": [
       "array([[1, 2, 3],\n",
       "       [4, 5, 6]])"
      ]
     },
     "execution_count": 317,
     "metadata": {},
     "output_type": "execute_result"
    }
   ],
   "source": [
    "arrn1"
   ]
  },
  {
   "cell_type": "code",
   "execution_count": 318,
   "id": "df455ae4",
   "metadata": {},
   "outputs": [
    {
     "name": "stdout",
     "output_type": "stream",
     "text": [
      "[1 2 3]\n",
      "[4 5 6]\n"
     ]
    }
   ],
   "source": [
    "for i in arrn1:\n",
    "    print(i)"
   ]
  },
  {
   "cell_type": "markdown",
   "id": "4b9d0a43",
   "metadata": {},
   "source": [
    "#### To iterate scalar element:"
   ]
  },
  {
   "cell_type": "code",
   "execution_count": 319,
   "id": "e375e207",
   "metadata": {},
   "outputs": [
    {
     "name": "stdout",
     "output_type": "stream",
     "text": [
      "1\n",
      "2\n",
      "3\n",
      "4\n",
      "5\n",
      "6\n"
     ]
    }
   ],
   "source": [
    "for i in arrn1:\n",
    "    for j in i:\n",
    "        print(j)"
   ]
  },
  {
   "cell_type": "markdown",
   "id": "a595bd1d",
   "metadata": {},
   "source": [
    "### nditer()"
   ]
  },
  {
   "cell_type": "markdown",
   "id": "b5e58249",
   "metadata": {},
   "source": [
    " - The function nditer() is a helping function that can be used from very basic to very advanced iterations.\n",
    "\n",
    " - It solves some basic issues which we face in iteration\n",
    "\n",
    " - In basic for loops, iterating through each scalar of an array we need to use n for loops\n",
    "    \n",
    "    which can be difficult to write for arrays with very high dimensionality."
   ]
  },
  {
   "cell_type": "code",
   "execution_count": 320,
   "id": "a376df13",
   "metadata": {},
   "outputs": [
    {
     "name": "stdout",
     "output_type": "stream",
     "text": [
      "1\n",
      "2\n",
      "3\n",
      "4\n",
      "5\n",
      "6\n"
     ]
    }
   ],
   "source": [
    "for i in np.nditer(arrn1):\n",
    "    print(i)"
   ]
  },
  {
   "cell_type": "markdown",
   "id": "447bcc3e",
   "metadata": {},
   "source": [
    "### NumPy Joining Array"
   ]
  },
  {
   "cell_type": "markdown",
   "id": "476c1c7f",
   "metadata": {},
   "source": [
    " - Joining means putting contents of two or more arrays in a single array.\n",
    "    \n",
    " - In SQL we join tables based on a key, whereas in NumPy we join arrays by axes."
   ]
  },
  {
   "cell_type": "markdown",
   "id": "a6140782",
   "metadata": {},
   "source": [
    "## concatenate()"
   ]
  },
  {
   "cell_type": "code",
   "execution_count": 321,
   "id": "a8c03000",
   "metadata": {},
   "outputs": [
    {
     "data": {
      "text/plain": [
       "array([1, 2, 3, 4, 5, 6])"
      ]
     },
     "execution_count": 321,
     "metadata": {},
     "output_type": "execute_result"
    }
   ],
   "source": [
    "arr1 = np.array([1,2,3])\n",
    "arr2 = np.array([4,5,6])\n",
    "arr = np.concatenate((arr1,arr2))\n",
    "arr\n"
   ]
  },
  {
   "cell_type": "markdown",
   "id": "c10a727d",
   "metadata": {},
   "source": [
    "### Concatenate 2'D array (axis=1):"
   ]
  },
  {
   "cell_type": "code",
   "execution_count": 322,
   "id": "89c4cf0d",
   "metadata": {},
   "outputs": [
    {
     "data": {
      "text/plain": [
       "array([[1, 2, 3, 3, 4, 5],\n",
       "       [4, 5, 6, 7, 8, 9]])"
      ]
     },
     "execution_count": 322,
     "metadata": {},
     "output_type": "execute_result"
    }
   ],
   "source": [
    "arrj1 = np.array([[1,2,3],[4,5,6]])\n",
    "arrj2 = np.array([[3,4,5],[7,8,9]])\n",
    "\n",
    "arrj = np.concatenate((arrj1,arrj2),axis = 1)\n",
    "arrj"
   ]
  },
  {
   "cell_type": "code",
   "execution_count": 323,
   "id": "f815cbb1",
   "metadata": {},
   "outputs": [
    {
     "data": {
      "text/plain": [
       "array([[1, 2, 3],\n",
       "       [4, 5, 6]])"
      ]
     },
     "execution_count": 323,
     "metadata": {},
     "output_type": "execute_result"
    }
   ],
   "source": [
    "arrj1"
   ]
  },
  {
   "cell_type": "markdown",
   "id": "c166568d",
   "metadata": {},
   "source": [
    "### Concatenate 2'D array"
   ]
  },
  {
   "cell_type": "code",
   "execution_count": 324,
   "id": "7a4be42e",
   "metadata": {
    "scrolled": false
   },
   "outputs": [
    {
     "data": {
      "text/plain": [
       "array([[1, 2, 3],\n",
       "       [4, 5, 6],\n",
       "       [3, 4, 5],\n",
       "       [7, 8, 9]])"
      ]
     },
     "execution_count": 324,
     "metadata": {},
     "output_type": "execute_result"
    }
   ],
   "source": [
    "arrj3 = np.array([[1,2,3],[4,5,6]])\n",
    "arrj4 = np.array([[3,4,5],[7,8,9]])\n",
    "\n",
    "arrj_1 = np.concatenate((arrj3,arrj4),axis = 0)\n",
    "arrj_1"
   ]
  },
  {
   "cell_type": "code",
   "execution_count": 325,
   "id": "8ddbbe80",
   "metadata": {},
   "outputs": [
    {
     "data": {
      "text/plain": [
       "2"
      ]
     },
     "execution_count": 325,
     "metadata": {},
     "output_type": "execute_result"
    }
   ],
   "source": [
    "arrj_1.ndim"
   ]
  },
  {
   "cell_type": "code",
   "execution_count": 326,
   "id": "1e6111d2",
   "metadata": {},
   "outputs": [
    {
     "data": {
      "text/plain": [
       "2"
      ]
     },
     "execution_count": 326,
     "metadata": {},
     "output_type": "execute_result"
    }
   ],
   "source": [
    "arrj3.ndim"
   ]
  },
  {
   "cell_type": "code",
   "execution_count": 327,
   "id": "20c3b5a8",
   "metadata": {},
   "outputs": [
    {
     "data": {
      "text/plain": [
       "array([[[1, 2, 3],\n",
       "        [4, 5, 6]],\n",
       "\n",
       "       [[3, 4, 5],\n",
       "        [7, 8, 9]]])"
      ]
     },
     "execution_count": 327,
     "metadata": {},
     "output_type": "execute_result"
    }
   ],
   "source": [
    "stk = np.stack((arrj3,arrj4))\n",
    "stk"
   ]
  },
  {
   "cell_type": "markdown",
   "id": "8a86864e",
   "metadata": {},
   "source": [
    "### Concatenate 3'D array"
   ]
  },
  {
   "cell_type": "code",
   "execution_count": 328,
   "id": "24fb5950",
   "metadata": {},
   "outputs": [
    {
     "data": {
      "text/plain": [
       "array([[[1, 2, 3],\n",
       "        [4, 5, 6]]])"
      ]
     },
     "execution_count": 328,
     "metadata": {},
     "output_type": "execute_result"
    }
   ],
   "source": [
    "arv = np.arange(1,7).reshape(1,2,3)\n",
    "arv"
   ]
  },
  {
   "cell_type": "code",
   "execution_count": 329,
   "id": "e97a7d5a",
   "metadata": {
    "scrolled": true
   },
   "outputs": [
    {
     "data": {
      "text/plain": [
       "array([[[ 7,  8,  9],\n",
       "        [10, 11, 12]]])"
      ]
     },
     "execution_count": 329,
     "metadata": {},
     "output_type": "execute_result"
    }
   ],
   "source": [
    "arv2 = np.arange(7,13).reshape(1,2,3)\n",
    "arv2"
   ]
  },
  {
   "cell_type": "code",
   "execution_count": 330,
   "id": "d1f5c93b",
   "metadata": {},
   "outputs": [
    {
     "data": {
      "text/plain": [
       "array([[[ 1,  2,  3],\n",
       "        [ 4,  5,  6]],\n",
       "\n",
       "       [[ 7,  8,  9],\n",
       "        [10, 11, 12]]])"
      ]
     },
     "execution_count": 330,
     "metadata": {},
     "output_type": "execute_result"
    }
   ],
   "source": [
    "arvv = np.concatenate((arv,arv2))\n",
    "arvv"
   ]
  },
  {
   "cell_type": "markdown",
   "id": "edaeef18",
   "metadata": {},
   "source": [
    "### Stack( )"
   ]
  },
  {
   "cell_type": "markdown",
   "id": "c462afa7",
   "metadata": {},
   "source": [
    " - Stacking is same as concatenation, the only difference is that stacking is done along a new axis.\n",
    " \n",
    "    \n",
    " - We pass a sequence of arrays that we want to join to the stack() method along with the axis.\n",
    "\n",
    " If axis is not explicitly passed it is taken as 0."
   ]
  },
  {
   "cell_type": "code",
   "execution_count": 396,
   "id": "7f16bf29",
   "metadata": {},
   "outputs": [
    {
     "data": {
      "text/plain": [
       "array([[1, 2, 3],\n",
       "       [4, 5, 6]])"
      ]
     },
     "execution_count": 396,
     "metadata": {},
     "output_type": "execute_result"
    }
   ],
   "source": [
    "arrs1 = np.array([1,2,3])\n",
    "arrs2 = np.array([4,5,6])\n",
    "arrs = np.stack((arrs1,arrs2),axis = 0)\n",
    "arrs"
   ]
  },
  {
   "cell_type": "code",
   "execution_count": 395,
   "id": "24ea0cba",
   "metadata": {},
   "outputs": [
    {
     "data": {
      "text/plain": [
       "array([1, 2, 3, 4, 5, 6])"
      ]
     },
     "execution_count": 395,
     "metadata": {},
     "output_type": "execute_result"
    }
   ],
   "source": [
    "np.concatenate((arrs1,arrs2))"
   ]
  },
  {
   "cell_type": "markdown",
   "id": "5d48439c",
   "metadata": {},
   "source": [
    "### H-stack"
   ]
  },
  {
   "cell_type": "code",
   "execution_count": 332,
   "id": "eaa4bda5",
   "metadata": {},
   "outputs": [
    {
     "data": {
      "text/plain": [
       "array([1, 2, 3, 4, 5, 6])"
      ]
     },
     "execution_count": 332,
     "metadata": {},
     "output_type": "execute_result"
    }
   ],
   "source": [
    "arrhs = np.hstack((arrs1,arrs2))\n",
    "arrhs"
   ]
  },
  {
   "cell_type": "markdown",
   "id": "fdfdc295",
   "metadata": {},
   "source": [
    "### V-stack"
   ]
  },
  {
   "cell_type": "code",
   "execution_count": 333,
   "id": "79adf9b7",
   "metadata": {},
   "outputs": [
    {
     "data": {
      "text/plain": [
       "array([[1, 2, 3],\n",
       "       [4, 5, 6]])"
      ]
     },
     "execution_count": 333,
     "metadata": {},
     "output_type": "execute_result"
    }
   ],
   "source": [
    "arrvs = np.vstack((arrs1,arrs2))\n",
    "arrvs"
   ]
  },
  {
   "cell_type": "markdown",
   "id": "5207db79",
   "metadata": {},
   "source": [
    "### Splitting NumPy Arrays"
   ]
  },
  {
   "cell_type": "markdown",
   "id": "bf113e0f",
   "metadata": {},
   "source": [
    " - Splitting is reverse operation of Joining.\n",
    " \n",
    " \n",
    " - Joining merges multiple arrays into one and Splitting breaks one array into multiple.\n",
    " \n",
    " \n",
    " - We use array_split() for splitting arrays, we pass it the array we want to split and the number of splits."
   ]
  },
  {
   "cell_type": "markdown",
   "id": "6df577b8",
   "metadata": {},
   "source": [
    "#### array_split()"
   ]
  },
  {
   "cell_type": "markdown",
   "id": "2f3ec19a",
   "metadata": {},
   "source": [
    "Syntax:\n",
    "    \n",
    "    array_split(array_name,spliting number)"
   ]
  },
  {
   "cell_type": "code",
   "execution_count": 334,
   "id": "4779a383",
   "metadata": {},
   "outputs": [],
   "source": [
    "sarr = np.arange(1,7)"
   ]
  },
  {
   "cell_type": "code",
   "execution_count": 335,
   "id": "1c558a18",
   "metadata": {},
   "outputs": [
    {
     "data": {
      "text/plain": [
       "array([1, 2, 3, 4, 5, 6])"
      ]
     },
     "execution_count": 335,
     "metadata": {},
     "output_type": "execute_result"
    }
   ],
   "source": [
    "sarr"
   ]
  },
  {
   "cell_type": "code",
   "execution_count": 336,
   "id": "7f2f7c9d",
   "metadata": {},
   "outputs": [
    {
     "data": {
      "text/plain": [
       "[array([1, 2]), array([3, 4]), array([5]), array([6])]"
      ]
     },
     "execution_count": 336,
     "metadata": {},
     "output_type": "execute_result"
    }
   ],
   "source": [
    "np.array_split(sarr,4)"
   ]
  },
  {
   "cell_type": "code",
   "execution_count": 337,
   "id": "967da5d2",
   "metadata": {},
   "outputs": [],
   "source": [
    "sarr2 = np.arange(2,20,2)"
   ]
  },
  {
   "cell_type": "code",
   "execution_count": 338,
   "id": "bbec0e90",
   "metadata": {},
   "outputs": [
    {
     "data": {
      "text/plain": [
       "array([ 2,  4,  6,  8, 10, 12, 14, 16, 18])"
      ]
     },
     "execution_count": 338,
     "metadata": {},
     "output_type": "execute_result"
    }
   ],
   "source": [
    "sarr2"
   ]
  },
  {
   "cell_type": "code",
   "execution_count": 339,
   "id": "a5da42e3",
   "metadata": {},
   "outputs": [
    {
     "data": {
      "text/plain": [
       "[array([2, 4, 6]), array([ 8, 10, 12]), array([14, 16, 18])]"
      ]
     },
     "execution_count": 339,
     "metadata": {},
     "output_type": "execute_result"
    }
   ],
   "source": [
    "np.array_split(sarr2,3)"
   ]
  },
  {
   "cell_type": "markdown",
   "id": "16e74887",
   "metadata": {},
   "source": [
    "#### Split with 2'D"
   ]
  },
  {
   "cell_type": "code",
   "execution_count": 340,
   "id": "5bc847f7",
   "metadata": {},
   "outputs": [],
   "source": [
    "arr_s = np.array([[ 1,  2,  3],  [4,  5,  6] ,[ 7,  8,  9], [10, 11, 12], [13, 14, 15], [16, 17,18]])"
   ]
  },
  {
   "cell_type": "code",
   "execution_count": 341,
   "id": "208efef5",
   "metadata": {},
   "outputs": [
    {
     "data": {
      "text/plain": [
       "array([[ 1,  2,  3],\n",
       "       [ 4,  5,  6],\n",
       "       [ 7,  8,  9],\n",
       "       [10, 11, 12],\n",
       "       [13, 14, 15],\n",
       "       [16, 17, 18]])"
      ]
     },
     "execution_count": 341,
     "metadata": {},
     "output_type": "execute_result"
    }
   ],
   "source": [
    "arr_s"
   ]
  },
  {
   "cell_type": "code",
   "execution_count": 342,
   "id": "aed162e1",
   "metadata": {},
   "outputs": [
    {
     "data": {
      "text/plain": [
       "[array([[1, 2, 3],\n",
       "        [4, 5, 6],\n",
       "        [7, 8, 9]]),\n",
       " array([[10, 11, 12],\n",
       "        [13, 14, 15],\n",
       "        [16, 17, 18]])]"
      ]
     },
     "execution_count": 342,
     "metadata": {},
     "output_type": "execute_result"
    }
   ],
   "source": [
    "np.array_split(arr_s,2)"
   ]
  },
  {
   "cell_type": "code",
   "execution_count": 343,
   "id": "bab29d70",
   "metadata": {},
   "outputs": [
    {
     "data": {
      "text/plain": [
       "[array([[ 1,  2],\n",
       "        [ 4,  5],\n",
       "        [ 7,  8],\n",
       "        [10, 11],\n",
       "        [13, 14],\n",
       "        [16, 17]]),\n",
       " array([[ 3],\n",
       "        [ 6],\n",
       "        [ 9],\n",
       "        [12],\n",
       "        [15],\n",
       "        [18]])]"
      ]
     },
     "execution_count": 343,
     "metadata": {},
     "output_type": "execute_result"
    }
   ],
   "source": [
    "np.array_split(arr_s,2,axis = 1)"
   ]
  },
  {
   "cell_type": "markdown",
   "id": "054d1721",
   "metadata": {},
   "source": [
    "### dstack()"
   ]
  },
  {
   "cell_type": "code",
   "execution_count": 344,
   "id": "2f57a3cc",
   "metadata": {},
   "outputs": [
    {
     "data": {
      "text/plain": [
       "array([[[1, 4],\n",
       "        [2, 5]]])"
      ]
     },
     "execution_count": 344,
     "metadata": {},
     "output_type": "execute_result"
    }
   ],
   "source": [
    "a = np.array([1, 2])\n",
    "b = np.array([4, 5])\n",
    "c = np.dstack((a,b))\n",
    "c"
   ]
  },
  {
   "cell_type": "markdown",
   "id": "9673d985",
   "metadata": {},
   "source": [
    "### Numpy Splitting Array"
   ]
  },
  {
   "cell_type": "code",
   "execution_count": 345,
   "id": "1d549ecb",
   "metadata": {},
   "outputs": [
    {
     "data": {
      "text/plain": [
       "[array([1, 2]), array([3, 4]), array([5, 6])]"
      ]
     },
     "execution_count": 345,
     "metadata": {},
     "output_type": "execute_result"
    }
   ],
   "source": [
    "arr = np.array([1,2,3,4,5,6])\n",
    "np.array_split(arr,3)"
   ]
  },
  {
   "cell_type": "markdown",
   "id": "0289138c",
   "metadata": {},
   "source": [
    "#### Splitting 2-D Arrays"
   ]
  },
  {
   "cell_type": "code",
   "execution_count": 346,
   "id": "037aab8b",
   "metadata": {},
   "outputs": [
    {
     "data": {
      "text/plain": [
       "[array([[1, 2],\n",
       "        [3, 4]]),\n",
       " array([[5, 6],\n",
       "        [7, 8]]),\n",
       " array([[ 9, 10],\n",
       "        [11, 12]])]"
      ]
     },
     "execution_count": 346,
     "metadata": {},
     "output_type": "execute_result"
    }
   ],
   "source": [
    "arr = np.array([[1, 2], [3, 4], [5, 6], [7, 8], [9, 10], [11, 12]])\n",
    "np.array_split(arr, 3)"
   ]
  },
  {
   "cell_type": "markdown",
   "id": "29e66577",
   "metadata": {},
   "source": [
    "#### Split the 2-D array into three 2-D arrays."
   ]
  },
  {
   "cell_type": "code",
   "execution_count": 347,
   "id": "2d57f8a1",
   "metadata": {},
   "outputs": [
    {
     "data": {
      "text/plain": [
       "[array([[1, 2, 3],\n",
       "        [4, 5, 6]]),\n",
       " array([[ 7,  8,  9],\n",
       "        [10, 11, 12]]),\n",
       " array([[13, 14, 15],\n",
       "        [16, 17, 18]])]"
      ]
     },
     "execution_count": 347,
     "metadata": {},
     "output_type": "execute_result"
    }
   ],
   "source": [
    "arr = np.array([[1, 2, 3], [4, 5, 6], [7, 8, 9], [10, 11, 12], [13, 14, 15], [16, 17, 18]])\n",
    "\n",
    "np.array_split(arr, 3)"
   ]
  },
  {
   "cell_type": "markdown",
   "id": "db54dc04",
   "metadata": {},
   "source": [
    "#### Split the 2-D array into three 2-D arrays along rows"
   ]
  },
  {
   "cell_type": "code",
   "execution_count": 348,
   "id": "5ef08dee",
   "metadata": {},
   "outputs": [
    {
     "data": {
      "text/plain": [
       "[array([[1],\n",
       "        [4],\n",
       "        [7]]),\n",
       " array([[2],\n",
       "        [5],\n",
       "        [8]]),\n",
       " array([[3],\n",
       "        [6],\n",
       "        [9]])]"
      ]
     },
     "execution_count": 348,
     "metadata": {},
     "output_type": "execute_result"
    }
   ],
   "source": [
    "\n",
    "arr = np.array([[1, 2, 3], [4, 5, 6], [7, 8, 9]])\n",
    "np.array_split(arr,3,axis = 1)"
   ]
  },
  {
   "cell_type": "markdown",
   "id": "79a29f2a",
   "metadata": {},
   "source": [
    "#### hsplit ( ) - "
   ]
  },
  {
   "cell_type": "code",
   "execution_count": 349,
   "id": "801a3bdc",
   "metadata": {},
   "outputs": [
    {
     "data": {
      "text/plain": [
       "[array([[ 1],\n",
       "        [ 4],\n",
       "        [ 7],\n",
       "        [10],\n",
       "        [13],\n",
       "        [16]]),\n",
       " array([[ 2],\n",
       "        [ 5],\n",
       "        [ 8],\n",
       "        [11],\n",
       "        [14],\n",
       "        [17]]),\n",
       " array([[ 3],\n",
       "        [ 6],\n",
       "        [ 9],\n",
       "        [12],\n",
       "        [15],\n",
       "        [18]])]"
      ]
     },
     "execution_count": 349,
     "metadata": {},
     "output_type": "execute_result"
    }
   ],
   "source": [
    "arr = np.array([[1, 2, 3], [4, 5, 6], [7, 8, 9], [10, 11, 12], [13, 14, 15], [16, 17, 18]])\n",
    "\n",
    "np.hsplit(arr, 3)"
   ]
  },
  {
   "cell_type": "markdown",
   "id": "e83eb1e9",
   "metadata": {},
   "source": [
    "### NumPy Searching Arrays"
   ]
  },
  {
   "cell_type": "markdown",
   "id": "e748978a",
   "metadata": {},
   "source": [
    "#### Find the indexes where the value is 4:"
   ]
  },
  {
   "cell_type": "code",
   "execution_count": 350,
   "id": "e18c4aa5",
   "metadata": {},
   "outputs": [
    {
     "data": {
      "text/plain": [
       "(array([3, 5, 6], dtype=int64),)"
      ]
     },
     "execution_count": 350,
     "metadata": {},
     "output_type": "execute_result"
    }
   ],
   "source": [
    "arr_srch = np.array([1, 2, 3, 4, 5, 4, 4])\n",
    "np.where(arr_srch == 4)\n"
   ]
  },
  {
   "cell_type": "markdown",
   "id": "fea33664",
   "metadata": {},
   "source": [
    "#### Find the indexes where the values are even:"
   ]
  },
  {
   "cell_type": "code",
   "execution_count": 351,
   "id": "5e2c30d7",
   "metadata": {},
   "outputs": [
    {
     "data": {
      "text/plain": [
       "(array([1, 3, 5, 7], dtype=int64),)"
      ]
     },
     "execution_count": 351,
     "metadata": {},
     "output_type": "execute_result"
    }
   ],
   "source": [
    "\n",
    "arr_evn = np.array([1, 2, 3, 4, 5, 6, 7, 8])\n",
    "np.where(arr_evn %2 == 0)"
   ]
  },
  {
   "cell_type": "markdown",
   "id": "36c610f8",
   "metadata": {},
   "source": [
    "#### Find the indexes where the values are odd:"
   ]
  },
  {
   "cell_type": "code",
   "execution_count": 352,
   "id": "35928f97",
   "metadata": {},
   "outputs": [
    {
     "data": {
      "text/plain": [
       "(array([0, 2, 4, 6], dtype=int64),)"
      ]
     },
     "execution_count": 352,
     "metadata": {},
     "output_type": "execute_result"
    }
   ],
   "source": [
    "arr_evn = np.array([1, 2, 3, 4, 5, 6, 7, 8])\n",
    "np.where(arr_evn %2 != 0)"
   ]
  },
  {
   "cell_type": "markdown",
   "id": "b6761f7e",
   "metadata": {},
   "source": [
    "______________________________________________________________"
   ]
  },
  {
   "cell_type": "markdown",
   "id": "0c5917d9",
   "metadata": {},
   "source": [
    "### searchsorted()"
   ]
  },
  {
   "cell_type": "markdown",
   "id": "071100fe",
   "metadata": {},
   "source": [
    "#### Find the indexes where the value 7 "
   ]
  },
  {
   "cell_type": "code",
   "execution_count": 353,
   "id": "6d88f62e",
   "metadata": {},
   "outputs": [
    {
     "data": {
      "text/plain": [
       "6"
      ]
     },
     "execution_count": 353,
     "metadata": {},
     "output_type": "execute_result"
    }
   ],
   "source": [
    "arr_ = np.array([1, 2, 3, 4, 5, 6, 7, 8])\n",
    "np.searchsorted(arr_,7)"
   ]
  },
  {
   "cell_type": "code",
   "execution_count": 354,
   "id": "c49d6d8b",
   "metadata": {},
   "outputs": [
    {
     "data": {
      "text/plain": [
       "array([2, 3, 6], dtype=int64)"
      ]
     },
     "execution_count": 354,
     "metadata": {},
     "output_type": "execute_result"
    }
   ],
   "source": [
    "arr_ = np.array([1, 2, 3, 4, 5, 6, 7, 8])\n",
    "np.searchsorted(arr_,[3,4,7])"
   ]
  },
  {
   "cell_type": "markdown",
   "id": "c7f5837f",
   "metadata": {},
   "source": [
    "____________________________________________________________________________________"
   ]
  },
  {
   "cell_type": "markdown",
   "id": "18db08de",
   "metadata": {},
   "source": [
    "### Sorting Array"
   ]
  },
  {
   "cell_type": "markdown",
   "id": "804bded7",
   "metadata": {},
   "source": [
    " - Sorting means putting elements in an ordered sequence.\n",
    "\n",
    "    \n",
    " - Ordered sequence is any sequence that has an order corresponding to elements, like numeric or alphabetical, ascending or descending."
   ]
  },
  {
   "cell_type": "markdown",
   "id": "c1dc81bb",
   "metadata": {},
   "source": [
    "### Sort()"
   ]
  },
  {
   "cell_type": "code",
   "execution_count": 355,
   "id": "c9003af2",
   "metadata": {},
   "outputs": [
    {
     "data": {
      "text/plain": [
       "array([ 1,  3,  3,  5,  5, 35])"
      ]
     },
     "execution_count": 355,
     "metadata": {},
     "output_type": "execute_result"
    }
   ],
   "source": [
    "arr_srt = np.array([1,3,5,3,35,5])\n",
    "np.sort(arr_srt)"
   ]
  },
  {
   "cell_type": "code",
   "execution_count": null,
   "id": "0283151d",
   "metadata": {},
   "outputs": [],
   "source": []
  },
  {
   "cell_type": "code",
   "execution_count": 356,
   "id": "1ef58011",
   "metadata": {},
   "outputs": [
    {
     "data": {
      "text/plain": [
       "array([[2, 3, 5],\n",
       "       [6, 8, 9]])"
      ]
     },
     "execution_count": 356,
     "metadata": {},
     "output_type": "execute_result"
    }
   ],
   "source": [
    "arr_srt1 = np.array([[2,5,3],[9,6,8]])\n",
    "np.sort(arr_srt1)"
   ]
  },
  {
   "cell_type": "code",
   "execution_count": 357,
   "id": "9d5ff627",
   "metadata": {},
   "outputs": [
    {
     "data": {
      "text/plain": [
       "array([False,  True,  True])"
      ]
     },
     "execution_count": 357,
     "metadata": {},
     "output_type": "execute_result"
    }
   ],
   "source": [
    "arr_srt2 = np.array([True,False,True])\n",
    "np.sort(arr_srt2)"
   ]
  },
  {
   "cell_type": "markdown",
   "id": "5b89f1a5",
   "metadata": {},
   "source": [
    "### Filtering Arrays"
   ]
  },
  {
   "cell_type": "code",
   "execution_count": 358,
   "id": "07f2aca1",
   "metadata": {},
   "outputs": [
    {
     "data": {
      "text/plain": [
       "array([41, 43])"
      ]
     },
     "execution_count": 358,
     "metadata": {},
     "output_type": "execute_result"
    }
   ],
   "source": [
    "arrF = np.array([41, 42, 43, 44])\n",
    "\n",
    "x = [True, False, True, False]\n",
    "\n",
    "x1= arrF[x]\n",
    "x1\n"
   ]
  },
  {
   "cell_type": "markdown",
   "id": "b88bd62e",
   "metadata": {},
   "source": [
    "______________________________________________________________________________________________________________"
   ]
  },
  {
   "cell_type": "markdown",
   "id": "22a2d685",
   "metadata": {},
   "source": [
    "## Random"
   ]
  },
  {
   "cell_type": "markdown",
   "id": "dc7de4c8",
   "metadata": {},
   "source": [
    " - Random number does NOT mean a different number every time. Random means something that can not be predicted logically."
   ]
  },
  {
   "cell_type": "markdown",
   "id": "077620b8",
   "metadata": {},
   "source": [
    "NumPy offers the **random** module to work with random numbers."
   ]
  },
  {
   "cell_type": "code",
   "execution_count": 359,
   "id": "8909346e",
   "metadata": {},
   "outputs": [
    {
     "data": {
      "text/plain": [
       "array([0.3164379 , 0.13598275, 0.92606873, 0.97044127, 0.83459248])"
      ]
     },
     "execution_count": 359,
     "metadata": {},
     "output_type": "execute_result"
    }
   ],
   "source": [
    "from numpy import random\n",
    "x = random.random(5)\n",
    "x"
   ]
  },
  {
   "cell_type": "code",
   "execution_count": 360,
   "id": "f943c35d",
   "metadata": {},
   "outputs": [
    {
     "data": {
      "text/plain": [
       "81"
      ]
     },
     "execution_count": 360,
     "metadata": {},
     "output_type": "execute_result"
    }
   ],
   "source": [
    "x1 = random.randint(80,90)\n",
    "x1"
   ]
  },
  {
   "cell_type": "code",
   "execution_count": 361,
   "id": "044c62e2",
   "metadata": {},
   "outputs": [
    {
     "data": {
      "text/plain": [
       "array([81, 81, 87, 87])"
      ]
     },
     "execution_count": 361,
     "metadata": {},
     "output_type": "execute_result"
    }
   ],
   "source": [
    "x2 = random.randint(80,90,size = 4)\n",
    "x2"
   ]
  },
  {
   "cell_type": "code",
   "execution_count": 362,
   "id": "14be5e5e",
   "metadata": {},
   "outputs": [
    {
     "data": {
      "text/plain": [
       "array([[ 3,  1, 12,  5],\n",
       "       [ 5,  7,  7,  1],\n",
       "       [ 1,  5, 18, 19]])"
      ]
     },
     "execution_count": 362,
     "metadata": {},
     "output_type": "execute_result"
    }
   ],
   "source": [
    "x3 = random.randint(1,30,size = (3,4))\n",
    "x3"
   ]
  },
  {
   "cell_type": "code",
   "execution_count": 363,
   "id": "18ea66fe",
   "metadata": {},
   "outputs": [
    {
     "data": {
      "text/plain": [
       "array([[0.78718614, 0.68403358, 0.32990997],\n",
       "       [0.65678979, 0.15974103, 0.78167609],\n",
       "       [0.44160507, 0.87738038, 0.80434342],\n",
       "       [0.35439159, 0.14887637, 0.43839989]])"
      ]
     },
     "execution_count": 363,
     "metadata": {},
     "output_type": "execute_result"
    }
   ],
   "source": [
    "x3 = random.rand(4,3)\n",
    "x3"
   ]
  },
  {
   "cell_type": "markdown",
   "id": "49c8ff2a",
   "metadata": {},
   "source": [
    "### Arange( )"
   ]
  },
  {
   "cell_type": "markdown",
   "id": "0ecfda5d",
   "metadata": {},
   "source": [
    " - np.arange() can also be used to create a numpy array\n",
    "\n",
    " - the numbers generated have same difference \n",
    "\n",
    " - the function generates as many possible numbers in the given range"
   ]
  },
  {
   "cell_type": "markdown",
   "id": "a26270f2",
   "metadata": {},
   "source": [
    " - arange(stop): Values are generated within the half-open interval [0, stop) (in other words, the interval including start but excluding stop).\n",
    " \n",
    "\n",
    " - arange(start, stop): Values are generated within the half-open interval [start, stop).\n",
    "\n",
    "\n",
    " - arange(start, stop, step) Values are generated within the half-open interval [start, stop), with spacing between values given by step."
   ]
  },
  {
   "cell_type": "markdown",
   "id": "20d89e12",
   "metadata": {},
   "source": [
    "![](arange.png)"
   ]
  },
  {
   "cell_type": "code",
   "execution_count": 364,
   "id": "7986a693",
   "metadata": {},
   "outputs": [
    {
     "data": {
      "text/plain": [
       "array([0, 1, 2, 3, 4])"
      ]
     },
     "execution_count": 364,
     "metadata": {},
     "output_type": "execute_result"
    }
   ],
   "source": [
    "np.arange(5)"
   ]
  },
  {
   "cell_type": "code",
   "execution_count": 365,
   "id": "98f49514",
   "metadata": {},
   "outputs": [
    {
     "data": {
      "text/plain": [
       "array([0., 1., 2., 3.])"
      ]
     },
     "execution_count": 365,
     "metadata": {},
     "output_type": "execute_result"
    }
   ],
   "source": [
    "np.arange(4.0)"
   ]
  },
  {
   "cell_type": "code",
   "execution_count": 366,
   "id": "4bd05a39",
   "metadata": {},
   "outputs": [
    {
     "data": {
      "text/plain": [
       "array([10, 11, 12, 13, 14, 15, 16, 17, 18, 19])"
      ]
     },
     "execution_count": 366,
     "metadata": {},
     "output_type": "execute_result"
    }
   ],
   "source": [
    "np.arange(10,20) # step is not given, it takes by default 1"
   ]
  },
  {
   "cell_type": "code",
   "execution_count": 367,
   "id": "7e3ba775",
   "metadata": {},
   "outputs": [
    {
     "data": {
      "text/plain": [
       "array([10, 12, 14, 16, 18])"
      ]
     },
     "execution_count": 367,
     "metadata": {},
     "output_type": "execute_result"
    }
   ],
   "source": [
    "np.arange(10,20,2)"
   ]
  },
  {
   "cell_type": "code",
   "execution_count": 368,
   "id": "e8dc9903",
   "metadata": {},
   "outputs": [
    {
     "data": {
      "text/plain": [
       "array([10. , 11.3, 12.6, 13.9, 15.2, 16.5, 17.8, 19.1])"
      ]
     },
     "execution_count": 368,
     "metadata": {},
     "output_type": "execute_result"
    }
   ],
   "source": [
    "np.arange(10,20,1.3)"
   ]
  },
  {
   "cell_type": "code",
   "execution_count": 369,
   "id": "244c9d1c",
   "metadata": {},
   "outputs": [
    {
     "data": {
      "text/plain": [
       "array([10., 11., 12., 13., 14., 15., 16., 17., 18., 19.], dtype=float32)"
      ]
     },
     "execution_count": 369,
     "metadata": {},
     "output_type": "execute_result"
    }
   ],
   "source": [
    "np.arange(10,20,1,dtype = 'f')"
   ]
  },
  {
   "cell_type": "code",
   "execution_count": 370,
   "id": "62c66f59",
   "metadata": {},
   "outputs": [
    {
     "data": {
      "text/plain": [
       "array([-3, -2, -1,  0,  1,  2])"
      ]
     },
     "execution_count": 370,
     "metadata": {},
     "output_type": "execute_result"
    }
   ],
   "source": [
    "np.arange(-3,3,1,dtype = int)"
   ]
  },
  {
   "cell_type": "code",
   "execution_count": 371,
   "id": "6ce4f084",
   "metadata": {},
   "outputs": [
    {
     "data": {
      "text/plain": [
       "array([-3, -2, -1,  0,  1,  2,  3,  4,  5,  6,  7,  8])"
      ]
     },
     "execution_count": 371,
     "metadata": {},
     "output_type": "execute_result"
    }
   ],
   "source": [
    "np.arange(-3,3,0.5,dtype = int)  #Precision loss can occur here, due to casting or due to using floating points when start is much larger than step. This can lead to unexpected behaviour. For example:"
   ]
  },
  {
   "cell_type": "markdown",
   "id": "a855d09f",
   "metadata": {},
   "source": [
    "__________________________________________________________________________________________________________________"
   ]
  },
  {
   "cell_type": "markdown",
   "id": "967996ef",
   "metadata": {},
   "source": [
    "### Linespace( )"
   ]
  },
  {
   "cell_type": "markdown",
   "id": "c2e2de1f",
   "metadata": {},
   "source": [
    " - linspace() generates a specified number of values in a specified range"
   ]
  },
  {
   "cell_type": "markdown",
   "id": "02cbd043",
   "metadata": {},
   "source": [
    "#### Syntax"
   ]
  },
  {
   "cell_type": "markdown",
   "id": "b084cfa0",
   "metadata": {},
   "source": [
    " - numpy.linspace(start, stop, num=50, endpoint=True, retstep=False, dtype=None, axis=0)"
   ]
  },
  {
   "cell_type": "markdown",
   "id": "50366f83",
   "metadata": {},
   "source": [
    "**start**\n",
    "\n",
    "The starting value of the sequence.\n",
    "\n",
    "**stop**\n",
    "\n",
    "The end value of the sequence, unless endpoint is set to False. In that case, the sequence consists of all but the last of num + 1 evenly spaced samples, so that stop is excluded. Note that the step size changes when endpoint is False.\n",
    "\n",
    "\n",
    "**num = ** int, optional\n",
    "\n",
    "Number of samples to generate. Default is 50. Must be non-negative.\n",
    "\n",
    "\n",
    "**endpoint** bool, optional\n",
    "If True, stop is the last sample. Otherwise, it is not included. Default is True.\n",
    "\n",
    "\n",
    "**retstep** bool, optional\n",
    "\n",
    "If True, return (samples, step), where step is the spacing between samples.\n",
    "\n",
    "\n",
    "**dtype**, optional\n",
    "\n",
    "The type of the output array. If dtype is not given, the data type is inferred from start and stop. The inferred dtype will never be an integer; float is chosen even if the arguments would produce an array of integers.\n",
    "\n",
    "\n",
    "**axis**  int, optional\n",
    "\n",
    "The axis in the result to store the samples. Relevant only if start or stop are array-like. By default (0), the samples will be along a new axis inserted at the beginning. Use -1 to get an axis at the end."
   ]
  },
  {
   "cell_type": "code",
   "execution_count": 372,
   "id": "019240fa",
   "metadata": {},
   "outputs": [
    {
     "data": {
      "text/plain": [
       "array([ 5., 20., 35., 50.])"
      ]
     },
     "execution_count": 372,
     "metadata": {},
     "output_type": "execute_result"
    }
   ],
   "source": [
    "np.linspace(5,50,4)"
   ]
  },
  {
   "cell_type": "code",
   "execution_count": 373,
   "id": "d37b3b22",
   "metadata": {},
   "outputs": [
    {
     "data": {
      "text/plain": [
       "array([ 5, 20, 35, 50])"
      ]
     },
     "execution_count": 373,
     "metadata": {},
     "output_type": "execute_result"
    }
   ],
   "source": [
    "np.linspace(5,50,4,dtype = int)"
   ]
  },
  {
   "cell_type": "code",
   "execution_count": 374,
   "id": "2059bdfb",
   "metadata": {},
   "outputs": [
    {
     "data": {
      "text/plain": [
       "(array([ 5., 20., 35., 50.]), 15.0)"
      ]
     },
     "execution_count": 374,
     "metadata": {},
     "output_type": "execute_result"
    }
   ],
   "source": [
    "np.linspace(5,50,4,retstep = True)   # it return (sample,step)"
   ]
  },
  {
   "cell_type": "code",
   "execution_count": 375,
   "id": "ad3212ef",
   "metadata": {},
   "outputs": [
    {
     "data": {
      "text/plain": [
       "array([  1.,  34.,  67., 100.])"
      ]
     },
     "execution_count": 375,
     "metadata": {},
     "output_type": "execute_result"
    }
   ],
   "source": [
    "np.linspace(1,100,4, endpoint=True)"
   ]
  },
  {
   "cell_type": "code",
   "execution_count": 376,
   "id": "958137ef",
   "metadata": {},
   "outputs": [
    {
     "data": {
      "text/plain": [
       "array([ 1.  , 25.75, 50.5 , 75.25])"
      ]
     },
     "execution_count": 376,
     "metadata": {},
     "output_type": "execute_result"
    }
   ],
   "source": [
    "np.linspace(1,100,4,endpoint=False) # endpoint false, it will not taking end value"
   ]
  },
  {
   "cell_type": "code",
   "execution_count": 377,
   "id": "bbfead19",
   "metadata": {},
   "outputs": [
    {
     "data": {
      "text/plain": [
       "array([ 1, 25, 50, 75], dtype=int32)"
      ]
     },
     "execution_count": 377,
     "metadata": {},
     "output_type": "execute_result"
    }
   ],
   "source": [
    "np.linspace(1,100,4,endpoint=False).astype('i')"
   ]
  },
  {
   "cell_type": "code",
   "execution_count": 378,
   "id": "1efae5b4",
   "metadata": {},
   "outputs": [
    {
     "data": {
      "text/plain": [
       "(array(['10.0', '18.0', '26.0', '34.0', '42.0'], dtype='<U32'), 8.0)"
      ]
     },
     "execution_count": 378,
     "metadata": {},
     "output_type": "execute_result"
    }
   ],
   "source": [
    "np.linspace(10,50,5,endpoint = False,retstep = True,dtype = str)"
   ]
  },
  {
   "cell_type": "markdown",
   "id": "82f8f73d",
   "metadata": {},
   "source": [
    "### Zeros( ) "
   ]
  },
  {
   "cell_type": "markdown",
   "id": "9c9bc079",
   "metadata": {},
   "source": [
    "#### Syntax : "
   ]
  },
  {
   "cell_type": "markdown",
   "id": "32880b50",
   "metadata": {},
   "source": [
    "**np.zeros**( shape, dtype = **float** , order = 'C', *, like = None )"
   ]
  },
  {
   "cell_type": "code",
   "execution_count": 379,
   "id": "b9ec0541",
   "metadata": {},
   "outputs": [
    {
     "data": {
      "text/plain": [
       "array([0., 0., 0., 0., 0.])"
      ]
     },
     "execution_count": 379,
     "metadata": {},
     "output_type": "execute_result"
    }
   ],
   "source": [
    "np.zeros(5)"
   ]
  },
  {
   "cell_type": "code",
   "execution_count": 380,
   "id": "9d9a9c94",
   "metadata": {},
   "outputs": [
    {
     "data": {
      "text/plain": [
       "array(['', '', '', ''], dtype='<U1')"
      ]
     },
     "execution_count": 380,
     "metadata": {},
     "output_type": "execute_result"
    }
   ],
   "source": [
    "np.zeros(4,str)"
   ]
  },
  {
   "cell_type": "code",
   "execution_count": 381,
   "id": "e341326c",
   "metadata": {},
   "outputs": [
    {
     "data": {
      "text/plain": [
       "array([0, 0, 0, 0])"
      ]
     },
     "execution_count": 381,
     "metadata": {},
     "output_type": "execute_result"
    }
   ],
   "source": [
    "np.zeros(4,int)"
   ]
  },
  {
   "cell_type": "code",
   "execution_count": 382,
   "id": "487347fe",
   "metadata": {},
   "outputs": [
    {
     "data": {
      "text/plain": [
       "array([[0, 0, 0, 0],\n",
       "       [0, 0, 0, 0],\n",
       "       [0, 0, 0, 0]])"
      ]
     },
     "execution_count": 382,
     "metadata": {},
     "output_type": "execute_result"
    }
   ],
   "source": [
    "np.zeros((3,4),int)"
   ]
  },
  {
   "cell_type": "markdown",
   "id": "ef9619f0",
   "metadata": {},
   "source": [
    "### Empty()"
   ]
  },
  {
   "cell_type": "code",
   "execution_count": 383,
   "id": "63b8c5bb",
   "metadata": {},
   "outputs": [
    {
     "data": {
      "text/plain": [
       "array([1.35465896e-311, 0.00000000e+000])"
      ]
     },
     "execution_count": 383,
     "metadata": {},
     "output_type": "execute_result"
    }
   ],
   "source": [
    "np.empty(2)"
   ]
  },
  {
   "cell_type": "code",
   "execution_count": 384,
   "id": "830a0ab0",
   "metadata": {},
   "outputs": [
    {
     "data": {
      "text/plain": [
       "array([[0., 0., 0.],\n",
       "       [0., 0., 0.]])"
      ]
     },
     "execution_count": 384,
     "metadata": {},
     "output_type": "execute_result"
    }
   ],
   "source": [
    "np.empty([2,3])"
   ]
  },
  {
   "cell_type": "code",
   "execution_count": 385,
   "id": "ba6952c0",
   "metadata": {},
   "outputs": [
    {
     "data": {
      "text/plain": [
       "array([[         0, 1072693248,          0],\n",
       "       [1073741824,          0, 1074266112]])"
      ]
     },
     "execution_count": 385,
     "metadata": {},
     "output_type": "execute_result"
    }
   ],
   "source": [
    "np.empty([2,3],dtype = int)"
   ]
  },
  {
   "cell_type": "markdown",
   "id": "338810c4",
   "metadata": {},
   "source": [
    "### Full"
   ]
  },
  {
   "cell_type": "code",
   "execution_count": 386,
   "id": "ed38f66f",
   "metadata": {},
   "outputs": [
    {
     "data": {
      "text/plain": [
       "array([['vijay', 'vijay'],\n",
       "       ['vijay', 'vijay'],\n",
       "       ['vijay', 'vijay']], dtype='<U5')"
      ]
     },
     "execution_count": 386,
     "metadata": {},
     "output_type": "execute_result"
    }
   ],
   "source": [
    "np.full((3,2),fill_value='vijay')"
   ]
  },
  {
   "cell_type": "code",
   "execution_count": 387,
   "id": "9acdc8b4",
   "metadata": {},
   "outputs": [
    {
     "data": {
      "text/plain": [
       "array([[84, 84],\n",
       "       [84, 84],\n",
       "       [84, 84]])"
      ]
     },
     "execution_count": 387,
     "metadata": {},
     "output_type": "execute_result"
    }
   ],
   "source": [
    "np.full((3,2),fill_value=84)"
   ]
  },
  {
   "cell_type": "markdown",
   "id": "e359cee6",
   "metadata": {},
   "source": [
    "### Identity()"
   ]
  },
  {
   "cell_type": "code",
   "execution_count": 388,
   "id": "f0d73586",
   "metadata": {},
   "outputs": [
    {
     "data": {
      "text/plain": [
       "array([[1., 0.],\n",
       "       [0., 1.]])"
      ]
     },
     "execution_count": 388,
     "metadata": {},
     "output_type": "execute_result"
    }
   ],
   "source": [
    "np.identity(2)"
   ]
  },
  {
   "cell_type": "code",
   "execution_count": 389,
   "id": "222ea3b2",
   "metadata": {},
   "outputs": [
    {
     "data": {
      "text/plain": [
       "array([[1, 0, 0],\n",
       "       [0, 1, 0],\n",
       "       [0, 0, 1]])"
      ]
     },
     "execution_count": 389,
     "metadata": {},
     "output_type": "execute_result"
    }
   ],
   "source": [
    "np.identity(3,dtype = int)"
   ]
  },
  {
   "cell_type": "markdown",
   "id": "f80eb64d",
   "metadata": {},
   "source": [
    "### Eye()"
   ]
  },
  {
   "cell_type": "markdown",
   "id": "4e9f6bf5",
   "metadata": {},
   "source": [
    "#### Syntax"
   ]
  },
  {
   "cell_type": "markdown",
   "id": "bd833ff1",
   "metadata": {},
   "source": [
    "numpy.eye( N, M = None, k = 0, dtype = <class 'float'>, order = 'C', *, like = None)\n"
   ]
  },
  {
   "cell_type": "code",
   "execution_count": 390,
   "id": "8f294d15",
   "metadata": {},
   "outputs": [
    {
     "data": {
      "text/plain": [
       "array([[0., 1., 0.],\n",
       "       [0., 0., 1.],\n",
       "       [0., 0., 0.]])"
      ]
     },
     "execution_count": 390,
     "metadata": {},
     "output_type": "execute_result"
    }
   ],
   "source": [
    "np.eye(3,3,1)"
   ]
  },
  {
   "cell_type": "code",
   "execution_count": 391,
   "id": "f22da681",
   "metadata": {},
   "outputs": [
    {
     "data": {
      "text/plain": [
       "array([[0, 1, 0],\n",
       "       [0, 0, 1],\n",
       "       [0, 0, 0]])"
      ]
     },
     "execution_count": 391,
     "metadata": {},
     "output_type": "execute_result"
    }
   ],
   "source": [
    "np.eye(3,3,1,dtype = int)"
   ]
  },
  {
   "cell_type": "code",
   "execution_count": 392,
   "id": "7a1f4999",
   "metadata": {},
   "outputs": [
    {
     "data": {
      "text/plain": [
       "array([[0, 0, 0],\n",
       "       [1, 0, 0],\n",
       "       [0, 1, 0]])"
      ]
     },
     "execution_count": 392,
     "metadata": {},
     "output_type": "execute_result"
    }
   ],
   "source": [
    "np.eye(3,3,-1,dtype = int)"
   ]
  },
  {
   "cell_type": "code",
   "execution_count": null,
   "id": "270e268b",
   "metadata": {},
   "outputs": [],
   "source": []
  }
 ],
 "metadata": {
  "kernelspec": {
   "display_name": "Python 3 (ipykernel)",
   "language": "python",
   "name": "python3"
  },
  "language_info": {
   "codemirror_mode": {
    "name": "ipython",
    "version": 3
   },
   "file_extension": ".py",
   "mimetype": "text/x-python",
   "name": "python",
   "nbconvert_exporter": "python",
   "pygments_lexer": "ipython3",
   "version": "3.9.13"
  }
 },
 "nbformat": 4,
 "nbformat_minor": 5
}
