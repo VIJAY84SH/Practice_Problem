{
 "cells": [
  {
   "cell_type": "code",
   "execution_count": 1,
   "id": "866963eb",
   "metadata": {},
   "outputs": [
    {
     "name": "stdout",
     "output_type": "stream",
     "text": [
      "Requirement already satisfied: numpy in c:\\users\\mr.godhade\\anaconda3\\lib\\site-packages (1.21.5)\n"
     ]
    }
   ],
   "source": [
    "! pip install numpy"
   ]
  },
  {
   "cell_type": "code",
   "execution_count": 2,
   "id": "77489174",
   "metadata": {},
   "outputs": [],
   "source": [
    "import numpy as np"
   ]
  },
  {
   "cell_type": "code",
   "execution_count": 3,
   "id": "693db98b",
   "metadata": {},
   "outputs": [],
   "source": [
    "na1 = np.array([1,2,3])   # creating array"
   ]
  },
  {
   "cell_type": "code",
   "execution_count": 4,
   "id": "416bd913",
   "metadata": {},
   "outputs": [
    {
     "data": {
      "text/plain": [
       "array([1, 2, 3])"
      ]
     },
     "execution_count": 4,
     "metadata": {},
     "output_type": "execute_result"
    }
   ],
   "source": [
    "na1"
   ]
  },
  {
   "cell_type": "code",
   "execution_count": 5,
   "id": "71a7b61d",
   "metadata": {},
   "outputs": [],
   "source": [
    "na2 = np.array([1,2,3.0])"
   ]
  },
  {
   "cell_type": "code",
   "execution_count": 6,
   "id": "ea9d6291",
   "metadata": {},
   "outputs": [
    {
     "data": {
      "text/plain": [
       "array([1., 2., 3.])"
      ]
     },
     "execution_count": 6,
     "metadata": {},
     "output_type": "execute_result"
    }
   ],
   "source": [
    "na2"
   ]
  },
  {
   "cell_type": "code",
   "execution_count": 7,
   "id": "4514a0d3",
   "metadata": {},
   "outputs": [],
   "source": [
    "na3 = np.array([1,2,3,\"a\"])"
   ]
  },
  {
   "cell_type": "code",
   "execution_count": 8,
   "id": "a6000463",
   "metadata": {},
   "outputs": [
    {
     "data": {
      "text/plain": [
       "array(['1', '2', '3', 'a'], dtype='<U11')"
      ]
     },
     "execution_count": 8,
     "metadata": {},
     "output_type": "execute_result"
    }
   ],
   "source": [
    "na3"
   ]
  },
  {
   "cell_type": "code",
   "execution_count": 9,
   "id": "457b07c6",
   "metadata": {},
   "outputs": [
    {
     "data": {
      "text/plain": [
       "array([0.91780256, 0.60847925, 0.42885506, 0.78009284, 0.57327851])"
      ]
     },
     "execution_count": 9,
     "metadata": {},
     "output_type": "execute_result"
    }
   ],
   "source": [
    "np.random.random(5)"
   ]
  },
  {
   "cell_type": "code",
   "execution_count": 10,
   "id": "21e391cd",
   "metadata": {},
   "outputs": [
    {
     "data": {
      "text/plain": [
       "array([[0.94361326, 0.56060519, 0.33708311, 0.87257603, 0.2225311 ],\n",
       "       [0.2408221 , 0.11303811, 0.41858328, 0.35483628, 0.70480314]])"
      ]
     },
     "execution_count": 10,
     "metadata": {},
     "output_type": "execute_result"
    }
   ],
   "source": [
    "np.random.rand(2,5)"
   ]
  },
  {
   "cell_type": "code",
   "execution_count": 11,
   "id": "d915aa9d",
   "metadata": {},
   "outputs": [
    {
     "data": {
      "text/plain": [
       "array([[ 0.50564183,  0.88342798,  1.07291908, -0.65055573,  0.7231115 ],\n",
       "       [-0.49282319, -1.48453157,  0.89400662,  0.3719501 ,  0.06600605]])"
      ]
     },
     "execution_count": 11,
     "metadata": {},
     "output_type": "execute_result"
    }
   ],
   "source": [
    "np.random.randn(2,5)  # value in standard deviation"
   ]
  },
  {
   "cell_type": "markdown",
   "id": "0f5bfb84",
   "metadata": {},
   "source": [
    "### Getting Values between 2 numbers"
   ]
  },
  {
   "cell_type": "code",
   "execution_count": 12,
   "id": "0ab762ba",
   "metadata": {},
   "outputs": [
    {
     "data": {
      "text/plain": [
       "array([16, 27, 35, 12, 17, 34, 70, 79, 92, 59, 53, 37, 87, 54, 55, 29, 74,\n",
       "       97, 60, 87])"
      ]
     },
     "execution_count": 12,
     "metadata": {},
     "output_type": "execute_result"
    }
   ],
   "source": [
    "np.random.randint(10,100,20)    # (start,end,count of values)"
   ]
  },
  {
   "cell_type": "markdown",
   "id": "f73c3a8a",
   "metadata": {},
   "source": [
    "### Arrange"
   ]
  },
  {
   "cell_type": "code",
   "execution_count": 13,
   "id": "72dde2a5",
   "metadata": {},
   "outputs": [
    {
     "data": {
      "text/plain": [
       "array([ 0.,  2.,  4.,  6.,  8., 10., 12., 14., 16., 18., 20., 22., 24.,\n",
       "       26., 28., 30., 32., 34., 36., 38., 40., 42., 44., 46., 48., 50.,\n",
       "       52., 54., 56., 58., 60., 62., 64., 66., 68., 70., 72., 74., 76.,\n",
       "       78., 80., 82., 84., 86., 88., 90., 92., 94., 96., 98.])"
      ]
     },
     "execution_count": 13,
     "metadata": {},
     "output_type": "execute_result"
    }
   ],
   "source": [
    "np.arange(0,100,2,float)   #(start, stop, step,dtype)"
   ]
  },
  {
   "cell_type": "markdown",
   "id": "f6bfaf8a",
   "metadata": {},
   "source": [
    "### linspace"
   ]
  },
  {
   "cell_type": "code",
   "execution_count": 14,
   "id": "f1c18f5b",
   "metadata": {},
   "outputs": [
    {
     "data": {
      "text/plain": [
       "array([  0,   5,  10,  15,  21,  26,  31,  36,  42,  47,  52,  57,  63,\n",
       "        68,  73,  78,  84,  89,  94, 100])"
      ]
     },
     "execution_count": 14,
     "metadata": {},
     "output_type": "execute_result"
    }
   ],
   "source": [
    "np.linspace(0,100,20).astype(int)   # (start, stop, number of values)"
   ]
  },
  {
   "cell_type": "markdown",
   "id": "2c534cb9",
   "metadata": {},
   "source": [
    "### Creating array of zeroes and ones"
   ]
  },
  {
   "cell_type": "code",
   "execution_count": 15,
   "id": "ea5e293c",
   "metadata": {},
   "outputs": [
    {
     "data": {
      "text/plain": [
       "array([0., 0., 0., 0., 0., 0., 0., 0., 0., 0.])"
      ]
     },
     "execution_count": 15,
     "metadata": {},
     "output_type": "execute_result"
    }
   ],
   "source": [
    "np.zeros(10)"
   ]
  },
  {
   "cell_type": "code",
   "execution_count": 16,
   "id": "81fa50fa",
   "metadata": {},
   "outputs": [
    {
     "data": {
      "text/plain": [
       "array([1., 1., 1., 1., 1., 1., 1., 1., 1., 1., 1., 1., 1., 1., 1., 1., 1.,\n",
       "       1., 1., 1.])"
      ]
     },
     "execution_count": 16,
     "metadata": {},
     "output_type": "execute_result"
    }
   ],
   "source": [
    "np.ones(20)"
   ]
  },
  {
   "cell_type": "markdown",
   "id": "fdf5fe40",
   "metadata": {},
   "source": [
    "### creating 2'D Array"
   ]
  },
  {
   "cell_type": "code",
   "execution_count": 17,
   "id": "4939e39c",
   "metadata": {},
   "outputs": [
    {
     "data": {
      "text/plain": [
       "array([[      0,       0,       0,       0],\n",
       "       [      0,       0,       0,       0],\n",
       "       [      0,       0,    1436,       0],\n",
       "       [      0, 7340097,       0, 7602273]])"
      ]
     },
     "execution_count": 17,
     "metadata": {},
     "output_type": "execute_result"
    }
   ],
   "source": [
    "np.empty((4,4),int)    # return an array of given shape with random numbers"
   ]
  },
  {
   "cell_type": "code",
   "execution_count": 18,
   "id": "c840efae",
   "metadata": {},
   "outputs": [
    {
     "data": {
      "text/plain": [
       "array([[10, 10, 10, 10],\n",
       "       [10, 10, 10, 10],\n",
       "       [10, 10, 10, 10],\n",
       "       [10, 10, 10, 10]])"
      ]
     },
     "execution_count": 18,
     "metadata": {},
     "output_type": "execute_result"
    }
   ],
   "source": [
    "np.full((4,4),fill_value = 10)"
   ]
  },
  {
   "cell_type": "code",
   "execution_count": 19,
   "id": "d7b58f2d",
   "metadata": {},
   "outputs": [
    {
     "data": {
      "text/plain": [
       "array([[1., 0., 0., 0., 0.],\n",
       "       [0., 1., 0., 0., 0.],\n",
       "       [0., 0., 1., 0., 0.],\n",
       "       [0., 0., 0., 1., 0.],\n",
       "       [0., 0., 0., 0., 1.]])"
      ]
     },
     "execution_count": 19,
     "metadata": {},
     "output_type": "execute_result"
    }
   ],
   "source": [
    "np.identity(5)"
   ]
  },
  {
   "cell_type": "code",
   "execution_count": 20,
   "id": "0d0595ce",
   "metadata": {},
   "outputs": [
    {
     "data": {
      "text/plain": [
       "array([[1, 0, 0, 0, 0],\n",
       "       [0, 1, 0, 0, 0],\n",
       "       [0, 0, 1, 0, 0],\n",
       "       [0, 0, 0, 1, 0],\n",
       "       [0, 0, 0, 0, 1]])"
      ]
     },
     "execution_count": 20,
     "metadata": {},
     "output_type": "execute_result"
    }
   ],
   "source": [
    "np.identity((5),dtype = int)"
   ]
  },
  {
   "cell_type": "code",
   "execution_count": 21,
   "id": "595b63af",
   "metadata": {},
   "outputs": [
    {
     "data": {
      "text/plain": [
       "array([[0., 0., 1., 0., 0.],\n",
       "       [0., 0., 0., 1., 0.],\n",
       "       [0., 0., 0., 0., 1.],\n",
       "       [0., 0., 0., 0., 0.],\n",
       "       [0., 0., 0., 0., 0.]])"
      ]
     },
     "execution_count": 21,
     "metadata": {},
     "output_type": "execute_result"
    }
   ],
   "source": [
    "np.eye(5,5,2)"
   ]
  },
  {
   "cell_type": "code",
   "execution_count": 22,
   "id": "4502523a",
   "metadata": {},
   "outputs": [
    {
     "data": {
      "text/plain": [
       "array([[0., 0., 0., 1., 0.],\n",
       "       [0., 0., 0., 0., 1.],\n",
       "       [0., 0., 0., 0., 0.],\n",
       "       [0., 0., 0., 0., 0.],\n",
       "       [0., 0., 0., 0., 0.]])"
      ]
     },
     "execution_count": 22,
     "metadata": {},
     "output_type": "execute_result"
    }
   ],
   "source": [
    "np.eye(5,5,3)"
   ]
  },
  {
   "cell_type": "code",
   "execution_count": 23,
   "id": "b08aaf6d",
   "metadata": {},
   "outputs": [
    {
     "data": {
      "text/plain": [
       "array([[0., 0., 0., 0., 0.],\n",
       "       [0., 0., 0., 0., 0.],\n",
       "       [1., 0., 0., 0., 0.],\n",
       "       [0., 1., 0., 0., 0.],\n",
       "       [0., 0., 1., 0., 0.]])"
      ]
     },
     "execution_count": 23,
     "metadata": {},
     "output_type": "execute_result"
    }
   ],
   "source": [
    "np.eye(5,5,-2)"
   ]
  },
  {
   "cell_type": "markdown",
   "id": "6d1ca989",
   "metadata": {},
   "source": [
    "### Array Attributes"
   ]
  },
  {
   "cell_type": "code",
   "execution_count": 24,
   "id": "ac086fe5",
   "metadata": {},
   "outputs": [],
   "source": [
    "na2 = np.eye(5,5,-2)"
   ]
  },
  {
   "cell_type": "code",
   "execution_count": 25,
   "id": "52b4ab6f",
   "metadata": {},
   "outputs": [
    {
     "data": {
      "text/plain": [
       "array([[0., 0., 0., 0., 0.],\n",
       "       [0., 0., 0., 0., 0.],\n",
       "       [1., 0., 0., 0., 0.],\n",
       "       [0., 1., 0., 0., 0.],\n",
       "       [0., 0., 1., 0., 0.]])"
      ]
     },
     "execution_count": 25,
     "metadata": {},
     "output_type": "execute_result"
    }
   ],
   "source": [
    "na2"
   ]
  },
  {
   "cell_type": "code",
   "execution_count": 26,
   "id": "097c1f76",
   "metadata": {},
   "outputs": [
    {
     "data": {
      "text/plain": [
       "(5, 5)"
      ]
     },
     "execution_count": 26,
     "metadata": {},
     "output_type": "execute_result"
    }
   ],
   "source": [
    "na2.shape"
   ]
  },
  {
   "cell_type": "code",
   "execution_count": 27,
   "id": "04450961",
   "metadata": {},
   "outputs": [
    {
     "data": {
      "text/plain": [
       "25"
      ]
     },
     "execution_count": 27,
     "metadata": {},
     "output_type": "execute_result"
    }
   ],
   "source": [
    "na2.size"
   ]
  },
  {
   "cell_type": "code",
   "execution_count": 28,
   "id": "fbf35481",
   "metadata": {},
   "outputs": [
    {
     "data": {
      "text/plain": [
       "dtype('float64')"
      ]
     },
     "execution_count": 28,
     "metadata": {},
     "output_type": "execute_result"
    }
   ],
   "source": [
    "na2.dtype"
   ]
  },
  {
   "cell_type": "code",
   "execution_count": 29,
   "id": "316176ab",
   "metadata": {},
   "outputs": [
    {
     "data": {
      "text/plain": [
       "2"
      ]
     },
     "execution_count": 29,
     "metadata": {},
     "output_type": "execute_result"
    }
   ],
   "source": [
    "na2.ndim"
   ]
  },
  {
   "cell_type": "markdown",
   "id": "aaa63587",
   "metadata": {},
   "source": [
    "### Reshape"
   ]
  },
  {
   "cell_type": "code",
   "execution_count": 30,
   "id": "ef6f25f8",
   "metadata": {},
   "outputs": [
    {
     "data": {
      "text/plain": [
       "array([[0.46190135, 0.59097681, 0.42868907, 0.89391979],\n",
       "       [0.63056638, 0.26914131, 0.92028669, 0.11584028]])"
      ]
     },
     "execution_count": 30,
     "metadata": {},
     "output_type": "execute_result"
    }
   ],
   "source": [
    "na3 = np.random.rand(2,4)\n",
    "na3"
   ]
  },
  {
   "cell_type": "code",
   "execution_count": 31,
   "id": "ea280216",
   "metadata": {},
   "outputs": [
    {
     "data": {
      "text/plain": [
       "array([[0.46190135, 0.59097681],\n",
       "       [0.42868907, 0.89391979],\n",
       "       [0.63056638, 0.26914131],\n",
       "       [0.92028669, 0.11584028]])"
      ]
     },
     "execution_count": 31,
     "metadata": {},
     "output_type": "execute_result"
    }
   ],
   "source": [
    "na3.reshape(4,2)"
   ]
  },
  {
   "cell_type": "code",
   "execution_count": 32,
   "id": "2b9ed23f",
   "metadata": {},
   "outputs": [],
   "source": [
    "na3 = na3.reshape(4,2)"
   ]
  },
  {
   "cell_type": "code",
   "execution_count": 33,
   "id": "95a46502",
   "metadata": {},
   "outputs": [
    {
     "data": {
      "text/plain": [
       "array([[0.46190135, 0.59097681],\n",
       "       [0.42868907, 0.89391979],\n",
       "       [0.63056638, 0.26914131],\n",
       "       [0.92028669, 0.11584028]])"
      ]
     },
     "execution_count": 33,
     "metadata": {},
     "output_type": "execute_result"
    }
   ],
   "source": [
    "na3"
   ]
  },
  {
   "cell_type": "markdown",
   "id": "8142fde0",
   "metadata": {},
   "source": [
    "### Array indexing"
   ]
  },
  {
   "cell_type": "code",
   "execution_count": 34,
   "id": "d7f9e30c",
   "metadata": {},
   "outputs": [
    {
     "data": {
      "text/plain": [
       "0.893919786529055"
      ]
     },
     "execution_count": 34,
     "metadata": {},
     "output_type": "execute_result"
    }
   ],
   "source": [
    "na3[1][1]"
   ]
  },
  {
   "cell_type": "code",
   "execution_count": 35,
   "id": "310fb7d6",
   "metadata": {},
   "outputs": [
    {
     "data": {
      "text/plain": [
       "0.2691413109039634"
      ]
     },
     "execution_count": 35,
     "metadata": {},
     "output_type": "execute_result"
    }
   ],
   "source": [
    "na3[2][1]"
   ]
  },
  {
   "cell_type": "code",
   "execution_count": 36,
   "id": "22723795",
   "metadata": {},
   "outputs": [
    {
     "data": {
      "text/plain": [
       "0.6305663777773048"
      ]
     },
     "execution_count": 36,
     "metadata": {},
     "output_type": "execute_result"
    }
   ],
   "source": [
    "na3[2][0]"
   ]
  },
  {
   "cell_type": "code",
   "execution_count": 37,
   "id": "fbdb2c75",
   "metadata": {},
   "outputs": [
    {
     "data": {
      "text/plain": [
       "0.9202866933695124"
      ]
     },
     "execution_count": 37,
     "metadata": {},
     "output_type": "execute_result"
    }
   ],
   "source": [
    "na3[3][0]"
   ]
  },
  {
   "cell_type": "markdown",
   "id": "11dd472f",
   "metadata": {},
   "source": [
    "### Array Sliciing"
   ]
  },
  {
   "cell_type": "markdown",
   "id": "045fe1d8",
   "metadata": {},
   "source": [
    " - array_name = [row_start:row_end, col_start:col_end]"
   ]
  },
  {
   "cell_type": "code",
   "execution_count": 38,
   "id": "cba5f2a2",
   "metadata": {},
   "outputs": [
    {
     "data": {
      "text/plain": [
       "array([[0.46190135, 0.59097681],\n",
       "       [0.42868907, 0.89391979],\n",
       "       [0.63056638, 0.26914131],\n",
       "       [0.92028669, 0.11584028]])"
      ]
     },
     "execution_count": 38,
     "metadata": {},
     "output_type": "execute_result"
    }
   ],
   "source": [
    "na3"
   ]
  },
  {
   "cell_type": "code",
   "execution_count": 39,
   "id": "5a95217e",
   "metadata": {},
   "outputs": [
    {
     "data": {
      "text/plain": [
       "array([0.46190135, 0.42868907, 0.63056638])"
      ]
     },
     "execution_count": 39,
     "metadata": {},
     "output_type": "execute_result"
    }
   ],
   "source": [
    "na3[0:3,0]      # array_name = [row_start:row_end, col_start:col_end]"
   ]
  },
  {
   "cell_type": "code",
   "execution_count": 40,
   "id": "38177342",
   "metadata": {},
   "outputs": [
    {
     "data": {
      "text/plain": [
       "array([[0.46190135, 0.59097681],\n",
       "       [0.42868907, 0.89391979],\n",
       "       [0.63056638, 0.26914131]])"
      ]
     },
     "execution_count": 40,
     "metadata": {},
     "output_type": "execute_result"
    }
   ],
   "source": [
    "na3[0:3,0:2]"
   ]
  },
  {
   "cell_type": "code",
   "execution_count": 41,
   "id": "bc298b43",
   "metadata": {},
   "outputs": [
    {
     "data": {
      "text/plain": [
       "array([[0.46190135],\n",
       "       [0.42868907],\n",
       "       [0.63056638]])"
      ]
     },
     "execution_count": 41,
     "metadata": {},
     "output_type": "execute_result"
    }
   ],
   "source": [
    "na3[0:3,0:1]"
   ]
  },
  {
   "cell_type": "code",
   "execution_count": 42,
   "id": "d9776cae",
   "metadata": {},
   "outputs": [
    {
     "data": {
      "text/plain": [
       "0.893919786529055"
      ]
     },
     "execution_count": 42,
     "metadata": {},
     "output_type": "execute_result"
    }
   ],
   "source": [
    "na3[1,1]"
   ]
  },
  {
   "cell_type": "markdown",
   "id": "ad42460d",
   "metadata": {},
   "source": [
    "### Creating 2'D Array"
   ]
  },
  {
   "cell_type": "code",
   "execution_count": 43,
   "id": "e2e9cde0",
   "metadata": {},
   "outputs": [],
   "source": [
    "na4 = np.array([(1,2,3),(4,5,6)])"
   ]
  },
  {
   "cell_type": "code",
   "execution_count": 44,
   "id": "a88133b3",
   "metadata": {},
   "outputs": [
    {
     "data": {
      "text/plain": [
       "array([[1, 2, 3],\n",
       "       [4, 5, 6]])"
      ]
     },
     "execution_count": 44,
     "metadata": {},
     "output_type": "execute_result"
    }
   ],
   "source": [
    "na4"
   ]
  },
  {
   "cell_type": "code",
   "execution_count": 45,
   "id": "0be08244",
   "metadata": {},
   "outputs": [
    {
     "data": {
      "text/plain": [
       "2"
      ]
     },
     "execution_count": 45,
     "metadata": {},
     "output_type": "execute_result"
    }
   ],
   "source": [
    "na4.ndim"
   ]
  },
  {
   "cell_type": "code",
   "execution_count": 46,
   "id": "95e0c9c4",
   "metadata": {},
   "outputs": [
    {
     "data": {
      "text/plain": [
       "array([1, 2, 3])"
      ]
     },
     "execution_count": 46,
     "metadata": {},
     "output_type": "execute_result"
    }
   ],
   "source": [
    "na4[0]"
   ]
  },
  {
   "cell_type": "code",
   "execution_count": 47,
   "id": "65e66563",
   "metadata": {},
   "outputs": [
    {
     "data": {
      "text/plain": [
       "6"
      ]
     },
     "execution_count": 47,
     "metadata": {},
     "output_type": "execute_result"
    }
   ],
   "source": [
    "na4[1,2]"
   ]
  },
  {
   "cell_type": "code",
   "execution_count": 48,
   "id": "77f1b884",
   "metadata": {},
   "outputs": [
    {
     "data": {
      "text/plain": [
       "5"
      ]
     },
     "execution_count": 48,
     "metadata": {},
     "output_type": "execute_result"
    }
   ],
   "source": [
    "na4[1][1]"
   ]
  },
  {
   "cell_type": "markdown",
   "id": "8614a270",
   "metadata": {},
   "source": [
    "### Arithmatic operation"
   ]
  },
  {
   "cell_type": "code",
   "execution_count": 49,
   "id": "436e3558",
   "metadata": {},
   "outputs": [],
   "source": [
    "na5 = np.array([[1,2,3],[4,5,6]])"
   ]
  },
  {
   "cell_type": "code",
   "execution_count": 50,
   "id": "a7cd7592",
   "metadata": {},
   "outputs": [],
   "source": [
    "na6 = np.array([[2,2,3],[4,4,6]])"
   ]
  },
  {
   "cell_type": "code",
   "execution_count": 51,
   "id": "c584df63",
   "metadata": {},
   "outputs": [
    {
     "data": {
      "text/plain": [
       "array([[1, 2, 3],\n",
       "       [4, 5, 6]])"
      ]
     },
     "execution_count": 51,
     "metadata": {},
     "output_type": "execute_result"
    }
   ],
   "source": [
    "na5"
   ]
  },
  {
   "cell_type": "code",
   "execution_count": 52,
   "id": "3ecaa2a9",
   "metadata": {},
   "outputs": [
    {
     "data": {
      "text/plain": [
       "array([[2, 2, 3],\n",
       "       [4, 4, 6]])"
      ]
     },
     "execution_count": 52,
     "metadata": {},
     "output_type": "execute_result"
    }
   ],
   "source": [
    "na6"
   ]
  },
  {
   "cell_type": "code",
   "execution_count": 53,
   "id": "9f001234",
   "metadata": {},
   "outputs": [
    {
     "data": {
      "text/plain": [
       "array([[ 3,  4,  6],\n",
       "       [ 8,  9, 12]])"
      ]
     },
     "execution_count": 53,
     "metadata": {},
     "output_type": "execute_result"
    }
   ],
   "source": [
    "na5 +na6"
   ]
  },
  {
   "cell_type": "code",
   "execution_count": 54,
   "id": "b8a0f9e3",
   "metadata": {},
   "outputs": [
    {
     "data": {
      "text/plain": [
       "array([[-1,  0,  0],\n",
       "       [ 0,  1,  0]])"
      ]
     },
     "execution_count": 54,
     "metadata": {},
     "output_type": "execute_result"
    }
   ],
   "source": [
    "na5 - na6"
   ]
  },
  {
   "cell_type": "code",
   "execution_count": 55,
   "id": "5a739e6d",
   "metadata": {},
   "outputs": [
    {
     "data": {
      "text/plain": [
       "array([[0.5 , 1.  , 1.  ],\n",
       "       [1.  , 1.25, 1.  ]])"
      ]
     },
     "execution_count": 55,
     "metadata": {},
     "output_type": "execute_result"
    }
   ],
   "source": [
    "na5/na6"
   ]
  },
  {
   "cell_type": "code",
   "execution_count": 56,
   "id": "fb319bb6",
   "metadata": {},
   "outputs": [
    {
     "data": {
      "text/plain": [
       "1"
      ]
     },
     "execution_count": 56,
     "metadata": {},
     "output_type": "execute_result"
    }
   ],
   "source": [
    "na5.min()"
   ]
  },
  {
   "cell_type": "code",
   "execution_count": 57,
   "id": "30a7a824",
   "metadata": {},
   "outputs": [
    {
     "data": {
      "text/plain": [
       "6"
      ]
     },
     "execution_count": 57,
     "metadata": {},
     "output_type": "execute_result"
    }
   ],
   "source": [
    "na5.max()"
   ]
  },
  {
   "cell_type": "code",
   "execution_count": 58,
   "id": "3767f2a4",
   "metadata": {},
   "outputs": [
    {
     "data": {
      "text/plain": [
       "array([[1, 2, 3],\n",
       "       [4, 5, 6]])"
      ]
     },
     "execution_count": 58,
     "metadata": {},
     "output_type": "execute_result"
    }
   ],
   "source": [
    "na5"
   ]
  },
  {
   "cell_type": "code",
   "execution_count": 59,
   "id": "4a050339",
   "metadata": {},
   "outputs": [
    {
     "data": {
      "text/plain": [
       "2.9166666666666665"
      ]
     },
     "execution_count": 59,
     "metadata": {},
     "output_type": "execute_result"
    }
   ],
   "source": [
    "na5.var()"
   ]
  },
  {
   "cell_type": "code",
   "execution_count": 60,
   "id": "6e70d2e3",
   "metadata": {},
   "outputs": [
    {
     "data": {
      "text/plain": [
       "1.707825127659933"
      ]
     },
     "execution_count": 60,
     "metadata": {},
     "output_type": "execute_result"
    }
   ],
   "source": [
    "na5.std()"
   ]
  },
  {
   "cell_type": "code",
   "execution_count": 61,
   "id": "365484ef",
   "metadata": {},
   "outputs": [],
   "source": [
    "na7 = np.array([50,60,70])"
   ]
  },
  {
   "cell_type": "code",
   "execution_count": 62,
   "id": "0ead9db9",
   "metadata": {},
   "outputs": [
    {
     "data": {
      "text/plain": [
       "60.0"
      ]
     },
     "execution_count": 62,
     "metadata": {},
     "output_type": "execute_result"
    }
   ],
   "source": [
    "na7.mean()"
   ]
  },
  {
   "cell_type": "code",
   "execution_count": 63,
   "id": "d18818f2",
   "metadata": {},
   "outputs": [
    {
     "data": {
      "text/plain": [
       "8.16496580927726"
      ]
     },
     "execution_count": 63,
     "metadata": {},
     "output_type": "execute_result"
    }
   ],
   "source": [
    "na7.std()"
   ]
  },
  {
   "cell_type": "code",
   "execution_count": 64,
   "id": "34fc594e",
   "metadata": {},
   "outputs": [
    {
     "data": {
      "text/plain": [
       "66.66666666666667"
      ]
     },
     "execution_count": 64,
     "metadata": {},
     "output_type": "execute_result"
    }
   ],
   "source": [
    "na7.var()"
   ]
  },
  {
   "cell_type": "code",
   "execution_count": 65,
   "id": "107d82e2",
   "metadata": {},
   "outputs": [
    {
     "data": {
      "text/plain": [
       "array([50, 60, 70])"
      ]
     },
     "execution_count": 65,
     "metadata": {},
     "output_type": "execute_result"
    }
   ],
   "source": [
    "na7"
   ]
  },
  {
   "cell_type": "code",
   "execution_count": 66,
   "id": "5f5fb669",
   "metadata": {},
   "outputs": [
    {
     "data": {
      "text/plain": [
       "array([2500, 3600, 4900], dtype=int32)"
      ]
     },
     "execution_count": 66,
     "metadata": {},
     "output_type": "execute_result"
    }
   ],
   "source": [
    "np.square(na7)"
   ]
  },
  {
   "cell_type": "code",
   "execution_count": 67,
   "id": "86f49396",
   "metadata": {},
   "outputs": [
    {
     "data": {
      "text/plain": [
       "array([[1, 2, 3],\n",
       "       [4, 5, 6]])"
      ]
     },
     "execution_count": 67,
     "metadata": {},
     "output_type": "execute_result"
    }
   ],
   "source": [
    "na5"
   ]
  },
  {
   "cell_type": "code",
   "execution_count": 68,
   "id": "586dd3df",
   "metadata": {},
   "outputs": [
    {
     "data": {
      "text/plain": [
       "array([[ 1,  4,  9],\n",
       "       [16, 25, 36]], dtype=int32)"
      ]
     },
     "execution_count": 68,
     "metadata": {},
     "output_type": "execute_result"
    }
   ],
   "source": [
    "np.square(na5)"
   ]
  },
  {
   "cell_type": "code",
   "execution_count": 69,
   "id": "42b433c4",
   "metadata": {},
   "outputs": [
    {
     "data": {
      "text/plain": [
       "array([[1, 4],\n",
       "       [2, 5],\n",
       "       [3, 6]])"
      ]
     },
     "execution_count": 69,
     "metadata": {},
     "output_type": "execute_result"
    }
   ],
   "source": [
    "na5.transpose()"
   ]
  },
  {
   "cell_type": "markdown",
   "id": "6012f406",
   "metadata": {},
   "source": [
    "### Concatenate"
   ]
  },
  {
   "cell_type": "code",
   "execution_count": 70,
   "id": "7a05763a",
   "metadata": {},
   "outputs": [
    {
     "data": {
      "text/plain": [
       "array([1, 2, 3, 3, 4, 5])"
      ]
     },
     "execution_count": 70,
     "metadata": {},
     "output_type": "execute_result"
    }
   ],
   "source": [
    "np.concatenate([[1,2,3],[3,4,5]]) # concat list1 and list2 into an array"
   ]
  },
  {
   "cell_type": "markdown",
   "id": "ec4f7822",
   "metadata": {},
   "source": [
    "### Flatten Array"
   ]
  },
  {
   "cell_type": "code",
   "execution_count": 71,
   "id": "fb9540ad",
   "metadata": {},
   "outputs": [
    {
     "data": {
      "text/plain": [
       "array([[1, 2, 3],\n",
       "       [4, 5, 6]])"
      ]
     },
     "execution_count": 71,
     "metadata": {},
     "output_type": "execute_result"
    }
   ],
   "source": [
    "na5"
   ]
  },
  {
   "cell_type": "code",
   "execution_count": 72,
   "id": "0148683f",
   "metadata": {},
   "outputs": [
    {
     "data": {
      "text/plain": [
       "array([1, 2, 3, 4, 5, 6])"
      ]
     },
     "execution_count": 72,
     "metadata": {},
     "output_type": "execute_result"
    }
   ],
   "source": [
    "np.ndarray.flatten(na5)  # which return 1'D array"
   ]
  },
  {
   "cell_type": "markdown",
   "id": "b452b6d2",
   "metadata": {},
   "source": [
    "### Iterating through array"
   ]
  },
  {
   "cell_type": "code",
   "execution_count": 73,
   "id": "6462ae42",
   "metadata": {},
   "outputs": [
    {
     "data": {
      "text/plain": [
       "array([[1, 2, 3],\n",
       "       [4, 5, 6]])"
      ]
     },
     "execution_count": 73,
     "metadata": {},
     "output_type": "execute_result"
    }
   ],
   "source": [
    "na5"
   ]
  },
  {
   "cell_type": "code",
   "execution_count": 74,
   "id": "b25a83da",
   "metadata": {},
   "outputs": [
    {
     "name": "stdout",
     "output_type": "stream",
     "text": [
      "[1 2 3]\n",
      "[4 5 6]\n"
     ]
    }
   ],
   "source": [
    "for i in na5:\n",
    "    print(i)"
   ]
  },
  {
   "cell_type": "code",
   "execution_count": 75,
   "id": "0ac84c5f",
   "metadata": {},
   "outputs": [
    {
     "name": "stdout",
     "output_type": "stream",
     "text": [
      "row 0 column num 0 value 1\n",
      "row 0 column num 1 value 2\n",
      "row 0 column num 2 value 3\n",
      "row 1 column num 0 value 4\n",
      "row 1 column num 1 value 5\n",
      "row 1 column num 2 value 6\n"
     ]
    }
   ],
   "source": [
    "for row_num,i in enumerate(na5):\n",
    "    for j in range(0,na5.shape[1]):\n",
    "        print(\"row\",row_num,\"column num\",j, \"value\",i[j])"
   ]
  },
  {
   "cell_type": "markdown",
   "id": "df7d6daf",
   "metadata": {},
   "source": [
    "### Enumerate"
   ]
  },
  {
   "cell_type": "code",
   "execution_count": 76,
   "id": "932d6d06",
   "metadata": {},
   "outputs": [
    {
     "name": "stdout",
     "output_type": "stream",
     "text": [
      "0 a\n",
      "1 b\n",
      "2 c\n"
     ]
    }
   ],
   "source": [
    "for position_num,i in enumerate([\"a\",\"b\",\"c\"]):\n",
    "    print(position_num,i)"
   ]
  },
  {
   "cell_type": "markdown",
   "id": "be22e82f",
   "metadata": {},
   "source": [
    "### practice_study"
   ]
  },
  {
   "cell_type": "code",
   "execution_count": 77,
   "id": "988b6b00",
   "metadata": {},
   "outputs": [],
   "source": [
    "sa = np.array([1,2,3,\"vijay\"])"
   ]
  },
  {
   "cell_type": "code",
   "execution_count": 79,
   "id": "94fa0f65",
   "metadata": {},
   "outputs": [
    {
     "data": {
      "text/plain": [
       "numpy.ndarray"
      ]
     },
     "execution_count": 79,
     "metadata": {},
     "output_type": "execute_result"
    }
   ],
   "source": [
    "type(sa)"
   ]
  },
  {
   "cell_type": "code",
   "execution_count": 80,
   "id": "fdfecfb2",
   "metadata": {},
   "outputs": [
    {
     "data": {
      "text/plain": [
       "array(['1', '2', '3', 'vijay'], dtype='<U11')"
      ]
     },
     "execution_count": 80,
     "metadata": {},
     "output_type": "execute_result"
    }
   ],
   "source": [
    "sa"
   ]
  },
  {
   "cell_type": "code",
   "execution_count": 82,
   "id": "99be6e18",
   "metadata": {},
   "outputs": [],
   "source": [
    "sa1= np.array([\"vijay\",123, 34.45,6+5j])"
   ]
  },
  {
   "cell_type": "code",
   "execution_count": 83,
   "id": "f77f1038",
   "metadata": {},
   "outputs": [
    {
     "data": {
      "text/plain": [
       "array(['vijay', '123', '34.45', '(6+5j)'], dtype='<U64')"
      ]
     },
     "execution_count": 83,
     "metadata": {},
     "output_type": "execute_result"
    }
   ],
   "source": [
    "sa1"
   ]
  },
  {
   "cell_type": "code",
   "execution_count": 84,
   "id": "800e58a2",
   "metadata": {},
   "outputs": [],
   "source": [
    "sa3 = np.array([1,2,3,4])"
   ]
  },
  {
   "cell_type": "code",
   "execution_count": 85,
   "id": "204fb23d",
   "metadata": {},
   "outputs": [
    {
     "data": {
      "text/plain": [
       "array([0.5, 1. , 1.5, 2. ])"
      ]
     },
     "execution_count": 85,
     "metadata": {},
     "output_type": "execute_result"
    }
   ],
   "source": [
    "sa3/2"
   ]
  },
  {
   "cell_type": "code",
   "execution_count": 86,
   "id": "bb6fb805",
   "metadata": {},
   "outputs": [],
   "source": [
    "ls=[1,2,3]"
   ]
  },
  {
   "cell_type": "code",
   "execution_count": 87,
   "id": "e40a1b3c",
   "metadata": {},
   "outputs": [
    {
     "ename": "TypeError",
     "evalue": "unsupported operand type(s) for /: 'list' and 'int'",
     "output_type": "error",
     "traceback": [
      "\u001b[1;31m---------------------------------------------------------------------------\u001b[0m",
      "\u001b[1;31mTypeError\u001b[0m                                 Traceback (most recent call last)",
      "\u001b[1;32m~\\AppData\\Local\\Temp\\ipykernel_11560\\160780197.py\u001b[0m in \u001b[0;36m<module>\u001b[1;34m\u001b[0m\n\u001b[1;32m----> 1\u001b[1;33m \u001b[0mls\u001b[0m\u001b[1;33m/\u001b[0m\u001b[1;36m3\u001b[0m\u001b[1;33m\u001b[0m\u001b[1;33m\u001b[0m\u001b[0m\n\u001b[0m",
      "\u001b[1;31mTypeError\u001b[0m: unsupported operand type(s) for /: 'list' and 'int'"
     ]
    }
   ],
   "source": [
    "ls/3"
   ]
  },
  {
   "cell_type": "code",
   "execution_count": null,
   "id": "b49ceb08",
   "metadata": {},
   "outputs": [],
   "source": []
  }
 ],
 "metadata": {
  "kernelspec": {
   "display_name": "Python 3 (ipykernel)",
   "language": "python",
   "name": "python3"
  },
  "language_info": {
   "codemirror_mode": {
    "name": "ipython",
    "version": 3
   },
   "file_extension": ".py",
   "mimetype": "text/x-python",
   "name": "python",
   "nbconvert_exporter": "python",
   "pygments_lexer": "ipython3",
   "version": "3.9.13"
  }
 },
 "nbformat": 4,
 "nbformat_minor": 5
}
