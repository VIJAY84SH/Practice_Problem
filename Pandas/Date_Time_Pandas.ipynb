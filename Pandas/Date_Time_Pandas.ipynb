{
 "cells": [
  {
   "cell_type": "code",
   "execution_count": 62,
   "id": "6b4366bd",
   "metadata": {},
   "outputs": [],
   "source": [
    "import pandas as pd"
   ]
  },
  {
   "cell_type": "code",
   "execution_count": 63,
   "id": "91026615",
   "metadata": {},
   "outputs": [],
   "source": [
    "df = pd.DataFrame({ \"date\" : (\"2018-12-28 12:24:59\" , \n",
    "                                       \"2019-05-9  2:10:25\" ,\n",
    "                                       \"2019-12-31  22:10:25\" ,\n",
    "                                       \"2017-01-01  9:01:20\",\n",
    "                                       \"2017-07-03  22:10:25\",\n",
    "                                        \"2023-04-23 14:20:20\") } )"
   ]
  },
  {
   "cell_type": "code",
   "execution_count": 64,
   "id": "7006f94a",
   "metadata": {},
   "outputs": [
    {
     "data": {
      "text/html": [
       "<div>\n",
       "<style scoped>\n",
       "    .dataframe tbody tr th:only-of-type {\n",
       "        vertical-align: middle;\n",
       "    }\n",
       "\n",
       "    .dataframe tbody tr th {\n",
       "        vertical-align: top;\n",
       "    }\n",
       "\n",
       "    .dataframe thead th {\n",
       "        text-align: right;\n",
       "    }\n",
       "</style>\n",
       "<table border=\"1\" class=\"dataframe\">\n",
       "  <thead>\n",
       "    <tr style=\"text-align: right;\">\n",
       "      <th></th>\n",
       "      <th>date</th>\n",
       "    </tr>\n",
       "  </thead>\n",
       "  <tbody>\n",
       "    <tr>\n",
       "      <th>0</th>\n",
       "      <td>2018-12-28 12:24:59</td>\n",
       "    </tr>\n",
       "    <tr>\n",
       "      <th>1</th>\n",
       "      <td>2019-05-9  2:10:25</td>\n",
       "    </tr>\n",
       "    <tr>\n",
       "      <th>2</th>\n",
       "      <td>2019-12-31  22:10:25</td>\n",
       "    </tr>\n",
       "    <tr>\n",
       "      <th>3</th>\n",
       "      <td>2017-01-01  9:01:20</td>\n",
       "    </tr>\n",
       "    <tr>\n",
       "      <th>4</th>\n",
       "      <td>2017-07-03  22:10:25</td>\n",
       "    </tr>\n",
       "    <tr>\n",
       "      <th>5</th>\n",
       "      <td>2023-04-23 14:20:20</td>\n",
       "    </tr>\n",
       "  </tbody>\n",
       "</table>\n",
       "</div>"
      ],
      "text/plain": [
       "                   date\n",
       "0   2018-12-28 12:24:59\n",
       "1    2019-05-9  2:10:25\n",
       "2  2019-12-31  22:10:25\n",
       "3   2017-01-01  9:01:20\n",
       "4  2017-07-03  22:10:25\n",
       "5   2023-04-23 14:20:20"
      ]
     },
     "execution_count": 64,
     "metadata": {},
     "output_type": "execute_result"
    }
   ],
   "source": [
    "df"
   ]
  },
  {
   "cell_type": "code",
   "execution_count": 65,
   "id": "2b5238e9",
   "metadata": {},
   "outputs": [
    {
     "name": "stdout",
     "output_type": "stream",
     "text": [
      "<class 'pandas.core.frame.DataFrame'>\n",
      "RangeIndex: 6 entries, 0 to 5\n",
      "Data columns (total 1 columns):\n",
      " #   Column  Non-Null Count  Dtype \n",
      "---  ------  --------------  ----- \n",
      " 0   date    6 non-null      object\n",
      "dtypes: object(1)\n",
      "memory usage: 176.0+ bytes\n"
     ]
    }
   ],
   "source": [
    "df.info()  # date and time is in object form"
   ]
  },
  {
   "cell_type": "code",
   "execution_count": 66,
   "id": "bb59a1d4",
   "metadata": {},
   "outputs": [],
   "source": [
    "df.date = pd.to_datetime(df.date)   # converted into datetime format"
   ]
  },
  {
   "cell_type": "code",
   "execution_count": 67,
   "id": "2cd1d708",
   "metadata": {},
   "outputs": [
    {
     "name": "stdout",
     "output_type": "stream",
     "text": [
      "<class 'pandas.core.frame.DataFrame'>\n",
      "RangeIndex: 6 entries, 0 to 5\n",
      "Data columns (total 1 columns):\n",
      " #   Column  Non-Null Count  Dtype         \n",
      "---  ------  --------------  -----         \n",
      " 0   date    6 non-null      datetime64[ns]\n",
      "dtypes: datetime64[ns](1)\n",
      "memory usage: 176.0 bytes\n"
     ]
    }
   ],
   "source": [
    "df.info()    "
   ]
  },
  {
   "cell_type": "code",
   "execution_count": 68,
   "id": "256553a7",
   "metadata": {},
   "outputs": [
    {
     "name": "stderr",
     "output_type": "stream",
     "text": [
      "C:\\Users\\MR.GODHADE\\AppData\\Local\\Temp\\ipykernel_8896\\2013674582.py:4: FutureWarning: Series.dt.weekofyear and Series.dt.week have been deprecated. Please use Series.dt.isocalendar().week instead.\n",
      "  df['week_of_year'] = df.date.dt.weekofyear\n"
     ]
    }
   ],
   "source": [
    "df['Name_of_the_day'] = df.date.dt.day_name()\n",
    "df['day_of_week'] = df.date.dt.day_of_week\n",
    "df['day_of_year'] = df.date.dt.day_of_year\n",
    "df['week_of_year'] = df.date.dt.weekofyear\n",
    "df['Hour'] = df.date.dt.hour\n",
    "df['Minute']  = df.date.dt.minute\n",
    "df['Month']  = df.date.dt.month\n",
    "df['Second'] = df.date.dt.second"
   ]
  },
  {
   "cell_type": "code",
   "execution_count": 69,
   "id": "83db4760",
   "metadata": {
    "scrolled": true
   },
   "outputs": [
    {
     "data": {
      "text/html": [
       "<div>\n",
       "<style scoped>\n",
       "    .dataframe tbody tr th:only-of-type {\n",
       "        vertical-align: middle;\n",
       "    }\n",
       "\n",
       "    .dataframe tbody tr th {\n",
       "        vertical-align: top;\n",
       "    }\n",
       "\n",
       "    .dataframe thead th {\n",
       "        text-align: right;\n",
       "    }\n",
       "</style>\n",
       "<table border=\"1\" class=\"dataframe\">\n",
       "  <thead>\n",
       "    <tr style=\"text-align: right;\">\n",
       "      <th></th>\n",
       "      <th>date</th>\n",
       "      <th>Name_of_the_day</th>\n",
       "      <th>day_of_week</th>\n",
       "      <th>day_of_year</th>\n",
       "      <th>week_of_year</th>\n",
       "      <th>Hour</th>\n",
       "      <th>Minute</th>\n",
       "      <th>Month</th>\n",
       "      <th>Second</th>\n",
       "    </tr>\n",
       "  </thead>\n",
       "  <tbody>\n",
       "    <tr>\n",
       "      <th>0</th>\n",
       "      <td>2018-12-28 12:24:59</td>\n",
       "      <td>Friday</td>\n",
       "      <td>4</td>\n",
       "      <td>362</td>\n",
       "      <td>52</td>\n",
       "      <td>12</td>\n",
       "      <td>24</td>\n",
       "      <td>12</td>\n",
       "      <td>59</td>\n",
       "    </tr>\n",
       "    <tr>\n",
       "      <th>1</th>\n",
       "      <td>2019-05-09 02:10:25</td>\n",
       "      <td>Thursday</td>\n",
       "      <td>3</td>\n",
       "      <td>129</td>\n",
       "      <td>19</td>\n",
       "      <td>2</td>\n",
       "      <td>10</td>\n",
       "      <td>5</td>\n",
       "      <td>25</td>\n",
       "    </tr>\n",
       "    <tr>\n",
       "      <th>2</th>\n",
       "      <td>2019-12-31 22:10:25</td>\n",
       "      <td>Tuesday</td>\n",
       "      <td>1</td>\n",
       "      <td>365</td>\n",
       "      <td>1</td>\n",
       "      <td>22</td>\n",
       "      <td>10</td>\n",
       "      <td>12</td>\n",
       "      <td>25</td>\n",
       "    </tr>\n",
       "    <tr>\n",
       "      <th>3</th>\n",
       "      <td>2017-01-01 09:01:20</td>\n",
       "      <td>Sunday</td>\n",
       "      <td>6</td>\n",
       "      <td>1</td>\n",
       "      <td>52</td>\n",
       "      <td>9</td>\n",
       "      <td>1</td>\n",
       "      <td>1</td>\n",
       "      <td>20</td>\n",
       "    </tr>\n",
       "    <tr>\n",
       "      <th>4</th>\n",
       "      <td>2017-07-03 22:10:25</td>\n",
       "      <td>Monday</td>\n",
       "      <td>0</td>\n",
       "      <td>184</td>\n",
       "      <td>27</td>\n",
       "      <td>22</td>\n",
       "      <td>10</td>\n",
       "      <td>7</td>\n",
       "      <td>25</td>\n",
       "    </tr>\n",
       "    <tr>\n",
       "      <th>5</th>\n",
       "      <td>2023-04-23 14:20:20</td>\n",
       "      <td>Sunday</td>\n",
       "      <td>6</td>\n",
       "      <td>113</td>\n",
       "      <td>16</td>\n",
       "      <td>14</td>\n",
       "      <td>20</td>\n",
       "      <td>4</td>\n",
       "      <td>20</td>\n",
       "    </tr>\n",
       "  </tbody>\n",
       "</table>\n",
       "</div>"
      ],
      "text/plain": [
       "                 date Name_of_the_day  day_of_week  day_of_year  week_of_year  \\\n",
       "0 2018-12-28 12:24:59          Friday            4          362            52   \n",
       "1 2019-05-09 02:10:25        Thursday            3          129            19   \n",
       "2 2019-12-31 22:10:25         Tuesday            1          365             1   \n",
       "3 2017-01-01 09:01:20          Sunday            6            1            52   \n",
       "4 2017-07-03 22:10:25          Monday            0          184            27   \n",
       "5 2023-04-23 14:20:20          Sunday            6          113            16   \n",
       "\n",
       "   Hour  Minute  Month  Second  \n",
       "0    12      24     12      59  \n",
       "1     2      10      5      25  \n",
       "2    22      10     12      25  \n",
       "3     9       1      1      20  \n",
       "4    22      10      7      25  \n",
       "5    14      20      4      20  "
      ]
     },
     "execution_count": 69,
     "metadata": {},
     "output_type": "execute_result"
    }
   ],
   "source": [
    "df"
   ]
  },
  {
   "cell_type": "markdown",
   "id": "0c7386ab",
   "metadata": {},
   "source": [
    "________________________________________________________________________________________________________"
   ]
  },
  {
   "cell_type": "markdown",
   "id": "38779ba0",
   "metadata": {},
   "source": [
    "## How to / what to do when we have Invalid date"
   ]
  },
  {
   "cell_type": "code",
   "execution_count": 70,
   "id": "91d97ec2",
   "metadata": {},
   "outputs": [],
   "source": [
    "invalid_time =  pd.DataFrame({ \"date\" : ( \n",
    "                                       \"20150112\" ,\n",
    "                                       \"457\" ,\n",
    "                                       \"201A/10/11\",\n",
    "                                       \"20160919\") } )"
   ]
  },
  {
   "cell_type": "code",
   "execution_count": null,
   "id": "386591d3",
   "metadata": {},
   "outputs": [],
   "source": []
  },
  {
   "cell_type": "code",
   "execution_count": 71,
   "id": "e98a2e80",
   "metadata": {},
   "outputs": [
    {
     "name": "stdout",
     "output_type": "stream",
     "text": [
      "<class 'pandas.core.frame.DataFrame'>\n",
      "RangeIndex: 4 entries, 0 to 3\n",
      "Data columns (total 1 columns):\n",
      " #   Column  Non-Null Count  Dtype \n",
      "---  ------  --------------  ----- \n",
      " 0   date    4 non-null      object\n",
      "dtypes: object(1)\n",
      "memory usage: 160.0+ bytes\n"
     ]
    }
   ],
   "source": [
    "invalid_time.info()"
   ]
  },
  {
   "cell_type": "code",
   "execution_count": 72,
   "id": "28727f35",
   "metadata": {},
   "outputs": [],
   "source": [
    "#invalid_time.date = pd.to_datetime(invalid_time.date)  # giving error when u pass invlid datetime\n",
    "\n",
    "#ValueError: Given date string not likely a datetime."
   ]
  },
  {
   "cell_type": "code",
   "execution_count": 73,
   "id": "5ed83c7b",
   "metadata": {},
   "outputs": [],
   "source": [
    "invalid_time.date = pd.to_datetime(invalid_time.date,errors ='ignore') # error will ignore but it is in object form"
   ]
  },
  {
   "cell_type": "code",
   "execution_count": 74,
   "id": "8e88fc41",
   "metadata": {},
   "outputs": [
    {
     "name": "stdout",
     "output_type": "stream",
     "text": [
      "<class 'pandas.core.frame.DataFrame'>\n",
      "RangeIndex: 4 entries, 0 to 3\n",
      "Data columns (total 1 columns):\n",
      " #   Column  Non-Null Count  Dtype \n",
      "---  ------  --------------  ----- \n",
      " 0   date    4 non-null      object\n",
      "dtypes: object(1)\n",
      "memory usage: 160.0+ bytes\n"
     ]
    }
   ],
   "source": [
    "invalid_time.info()"
   ]
  },
  {
   "cell_type": "code",
   "execution_count": 75,
   "id": "748cebee",
   "metadata": {},
   "outputs": [],
   "source": [
    "invalid_time.date = pd.to_datetime(invalid_time.date,errors ='coerce') # NaT is equivalnt to none value"
   ]
  },
  {
   "cell_type": "code",
   "execution_count": 76,
   "id": "1878563a",
   "metadata": {},
   "outputs": [
    {
     "data": {
      "text/html": [
       "<div>\n",
       "<style scoped>\n",
       "    .dataframe tbody tr th:only-of-type {\n",
       "        vertical-align: middle;\n",
       "    }\n",
       "\n",
       "    .dataframe tbody tr th {\n",
       "        vertical-align: top;\n",
       "    }\n",
       "\n",
       "    .dataframe thead th {\n",
       "        text-align: right;\n",
       "    }\n",
       "</style>\n",
       "<table border=\"1\" class=\"dataframe\">\n",
       "  <thead>\n",
       "    <tr style=\"text-align: right;\">\n",
       "      <th></th>\n",
       "      <th>date</th>\n",
       "    </tr>\n",
       "  </thead>\n",
       "  <tbody>\n",
       "    <tr>\n",
       "      <th>0</th>\n",
       "      <td>2015-01-12</td>\n",
       "    </tr>\n",
       "    <tr>\n",
       "      <th>1</th>\n",
       "      <td>NaT</td>\n",
       "    </tr>\n",
       "    <tr>\n",
       "      <th>2</th>\n",
       "      <td>NaT</td>\n",
       "    </tr>\n",
       "    <tr>\n",
       "      <th>3</th>\n",
       "      <td>2016-09-19</td>\n",
       "    </tr>\n",
       "  </tbody>\n",
       "</table>\n",
       "</div>"
      ],
      "text/plain": [
       "        date\n",
       "0 2015-01-12\n",
       "1        NaT\n",
       "2        NaT\n",
       "3 2016-09-19"
      ]
     },
     "execution_count": 76,
     "metadata": {},
     "output_type": "execute_result"
    }
   ],
   "source": [
    "invalid_time"
   ]
  },
  {
   "cell_type": "code",
   "execution_count": 77,
   "id": "163ea78d",
   "metadata": {},
   "outputs": [],
   "source": [
    "invalid_time.date = invalid_time.date.fillna(\"20230423\")"
   ]
  },
  {
   "cell_type": "code",
   "execution_count": 78,
   "id": "d424e308",
   "metadata": {},
   "outputs": [
    {
     "data": {
      "text/html": [
       "<div>\n",
       "<style scoped>\n",
       "    .dataframe tbody tr th:only-of-type {\n",
       "        vertical-align: middle;\n",
       "    }\n",
       "\n",
       "    .dataframe tbody tr th {\n",
       "        vertical-align: top;\n",
       "    }\n",
       "\n",
       "    .dataframe thead th {\n",
       "        text-align: right;\n",
       "    }\n",
       "</style>\n",
       "<table border=\"1\" class=\"dataframe\">\n",
       "  <thead>\n",
       "    <tr style=\"text-align: right;\">\n",
       "      <th></th>\n",
       "      <th>date</th>\n",
       "    </tr>\n",
       "  </thead>\n",
       "  <tbody>\n",
       "    <tr>\n",
       "      <th>0</th>\n",
       "      <td>2015-01-12</td>\n",
       "    </tr>\n",
       "    <tr>\n",
       "      <th>1</th>\n",
       "      <td>2023-04-23</td>\n",
       "    </tr>\n",
       "    <tr>\n",
       "      <th>2</th>\n",
       "      <td>2023-04-23</td>\n",
       "    </tr>\n",
       "    <tr>\n",
       "      <th>3</th>\n",
       "      <td>2016-09-19</td>\n",
       "    </tr>\n",
       "  </tbody>\n",
       "</table>\n",
       "</div>"
      ],
      "text/plain": [
       "        date\n",
       "0 2015-01-12\n",
       "1 2023-04-23\n",
       "2 2023-04-23\n",
       "3 2016-09-19"
      ]
     },
     "execution_count": 78,
     "metadata": {},
     "output_type": "execute_result"
    }
   ],
   "source": [
    "invalid_time"
   ]
  },
  {
   "cell_type": "code",
   "execution_count": null,
   "id": "c7728303",
   "metadata": {},
   "outputs": [],
   "source": []
  }
 ],
 "metadata": {
  "kernelspec": {
   "display_name": "Python 3 (ipykernel)",
   "language": "python",
   "name": "python3"
  },
  "language_info": {
   "codemirror_mode": {
    "name": "ipython",
    "version": 3
   },
   "file_extension": ".py",
   "mimetype": "text/x-python",
   "name": "python",
   "nbconvert_exporter": "python",
   "pygments_lexer": "ipython3",
   "version": "3.9.13"
  }
 },
 "nbformat": 4,
 "nbformat_minor": 5
}
