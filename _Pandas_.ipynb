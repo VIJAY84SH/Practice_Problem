{
 "cells": [
  {
   "cell_type": "code",
   "execution_count": 1,
   "id": "dff3de79",
   "metadata": {},
   "outputs": [],
   "source": [
    "import pandas as pd"
   ]
  },
  {
   "cell_type": "markdown",
   "id": "6e669fbc",
   "metadata": {},
   "source": [
    "## Creating a Series"
   ]
  },
  {
   "cell_type": "code",
   "execution_count": 3,
   "id": "c8dddcaa",
   "metadata": {},
   "outputs": [],
   "source": [
    "age_series = pd.Series([10,20,30,40])"
   ]
  },
  {
   "cell_type": "code",
   "execution_count": 4,
   "id": "c469de96",
   "metadata": {},
   "outputs": [
    {
     "data": {
      "text/plain": [
       "0    10\n",
       "1    20\n",
       "2    30\n",
       "3    40\n",
       "dtype: int64"
      ]
     },
     "execution_count": 4,
     "metadata": {},
     "output_type": "execute_result"
    }
   ],
   "source": [
    "age_series"
   ]
  },
  {
   "cell_type": "code",
   "execution_count": 5,
   "id": "38f21111",
   "metadata": {},
   "outputs": [],
   "source": [
    "age_series_1 = pd.Series([10,20,30,40], index = [\"a\",\"b\",\"c\",\"d\"])"
   ]
  },
  {
   "cell_type": "code",
   "execution_count": 6,
   "id": "523fdcde",
   "metadata": {},
   "outputs": [
    {
     "data": {
      "text/plain": [
       "a    10\n",
       "b    20\n",
       "c    30\n",
       "d    40\n",
       "dtype: int64"
      ]
     },
     "execution_count": 6,
     "metadata": {},
     "output_type": "execute_result"
    }
   ],
   "source": [
    "age_series_1"
   ]
  },
  {
   "cell_type": "code",
   "execution_count": 29,
   "id": "dae39f74",
   "metadata": {},
   "outputs": [
    {
     "data": {
      "text/plain": [
       "vijay     27\n",
       "pratik    23\n",
       "ram       27\n",
       "keshav    24\n",
       "akshay    25\n",
       "dtype: int64"
      ]
     },
     "execution_count": 29,
     "metadata": {},
     "output_type": "execute_result"
    }
   ],
   "source": [
    "name_age = {\"vijay\":27,\"pratik\":23,\"ram\":27,\"keshav\":24,\"akshay\":25}\n",
    "name_age_series = pd.Series(name_age)\n",
    "name_age_series"
   ]
  },
  {
   "cell_type": "markdown",
   "id": "ddaf3f20",
   "metadata": {},
   "source": [
    "### Access Values and index of series"
   ]
  },
  {
   "cell_type": "code",
   "execution_count": 30,
   "id": "9787f14c",
   "metadata": {},
   "outputs": [
    {
     "data": {
      "text/plain": [
       "Index(['vijay', 'pratik', 'ram', 'keshav', 'akshay'], dtype='object')"
      ]
     },
     "execution_count": 30,
     "metadata": {},
     "output_type": "execute_result"
    }
   ],
   "source": [
    "name_age_series.index"
   ]
  },
  {
   "cell_type": "code",
   "execution_count": 31,
   "id": "33134f89",
   "metadata": {},
   "outputs": [
    {
     "data": {
      "text/plain": [
       "array([27, 23, 27, 24, 25], dtype=int64)"
      ]
     },
     "execution_count": 31,
     "metadata": {},
     "output_type": "execute_result"
    }
   ],
   "source": [
    "name_age_series.values"
   ]
  },
  {
   "cell_type": "code",
   "execution_count": 32,
   "id": "7de71d87",
   "metadata": {},
   "outputs": [
    {
     "data": {
      "text/plain": [
       "pandas.core.series.Series"
      ]
     },
     "execution_count": 32,
     "metadata": {},
     "output_type": "execute_result"
    }
   ],
   "source": [
    "type(name_age_series)"
   ]
  },
  {
   "cell_type": "markdown",
   "id": "4065e529",
   "metadata": {},
   "source": [
    "### Access element in series"
   ]
  },
  {
   "cell_type": "code",
   "execution_count": 33,
   "id": "3e9fa777",
   "metadata": {},
   "outputs": [
    {
     "data": {
      "text/plain": [
       "vijay     27\n",
       "pratik    23\n",
       "ram       27\n",
       "keshav    24\n",
       "akshay    25\n",
       "dtype: int64"
      ]
     },
     "execution_count": 33,
     "metadata": {},
     "output_type": "execute_result"
    }
   ],
   "source": [
    "name_age_series"
   ]
  },
  {
   "cell_type": "code",
   "execution_count": 34,
   "id": "317f5c2d",
   "metadata": {},
   "outputs": [
    {
     "data": {
      "text/plain": [
       "27"
      ]
     },
     "execution_count": 34,
     "metadata": {},
     "output_type": "execute_result"
    }
   ],
   "source": [
    "name_age_series[0]"
   ]
  },
  {
   "cell_type": "code",
   "execution_count": 35,
   "id": "76114505",
   "metadata": {},
   "outputs": [
    {
     "data": {
      "text/plain": [
       "23"
      ]
     },
     "execution_count": 35,
     "metadata": {},
     "output_type": "execute_result"
    }
   ],
   "source": [
    "name_age_series[1]"
   ]
  },
  {
   "cell_type": "code",
   "execution_count": 36,
   "id": "9ad04db5",
   "metadata": {},
   "outputs": [
    {
     "data": {
      "text/plain": [
       "'pratik'"
      ]
     },
     "execution_count": 36,
     "metadata": {},
     "output_type": "execute_result"
    }
   ],
   "source": [
    "name_age_series.index[1]"
   ]
  },
  {
   "cell_type": "code",
   "execution_count": 37,
   "id": "f45a4051",
   "metadata": {},
   "outputs": [
    {
     "data": {
      "text/plain": [
       "vijay     27\n",
       "pratik    23\n",
       "dtype: int64"
      ]
     },
     "execution_count": 37,
     "metadata": {},
     "output_type": "execute_result"
    }
   ],
   "source": [
    "name_age_series[0:2]     #slicing"
   ]
  },
  {
   "cell_type": "code",
   "execution_count": 38,
   "id": "1c25ba16",
   "metadata": {},
   "outputs": [
    {
     "data": {
      "text/plain": [
       "akshay    25\n",
       "keshav    24\n",
       "ram       27\n",
       "pratik    23\n",
       "vijay     27\n",
       "dtype: int64"
      ]
     },
     "execution_count": 38,
     "metadata": {},
     "output_type": "execute_result"
    }
   ],
   "source": [
    "name_age_series[-1::-1]   # reverse"
   ]
  },
  {
   "cell_type": "code",
   "execution_count": 39,
   "id": "39511cf5",
   "metadata": {},
   "outputs": [
    {
     "data": {
      "text/plain": [
       "27"
      ]
     },
     "execution_count": 39,
     "metadata": {},
     "output_type": "execute_result"
    }
   ],
   "source": [
    "name_age_series[\"vijay\"]"
   ]
  },
  {
   "cell_type": "markdown",
   "id": "45bb2177",
   "metadata": {},
   "source": [
    "### Filter a series"
   ]
  },
  {
   "cell_type": "code",
   "execution_count": 41,
   "id": "01575418",
   "metadata": {},
   "outputs": [
    {
     "data": {
      "text/plain": [
       "vijay      True\n",
       "pratik    False\n",
       "ram        True\n",
       "keshav    False\n",
       "akshay     True\n",
       "dtype: bool"
      ]
     },
     "execution_count": 41,
     "metadata": {},
     "output_type": "execute_result"
    }
   ],
   "source": [
    "name_age_series >24"
   ]
  },
  {
   "cell_type": "code",
   "execution_count": 42,
   "id": "75e2c398",
   "metadata": {},
   "outputs": [
    {
     "data": {
      "text/plain": [
       "vijay     27\n",
       "ram       27\n",
       "akshay    25\n",
       "dtype: int64"
      ]
     },
     "execution_count": 42,
     "metadata": {},
     "output_type": "execute_result"
    }
   ],
   "source": [
    "name_age_series[(name_age_series > 24)]"
   ]
  },
  {
   "cell_type": "code",
   "execution_count": 43,
   "id": "ba1ffb67",
   "metadata": {},
   "outputs": [
    {
     "data": {
      "text/plain": [
       "pratik    23\n",
       "keshav    24\n",
       "dtype: int64"
      ]
     },
     "execution_count": 43,
     "metadata": {},
     "output_type": "execute_result"
    }
   ],
   "source": [
    "name_age_series[(name_age_series > 24)==False]   # series condition"
   ]
  },
  {
   "cell_type": "code",
   "execution_count": 44,
   "id": "f2af8f44",
   "metadata": {},
   "outputs": [
    {
     "data": {
      "text/plain": [
       "vijay     27\n",
       "pratik    23\n",
       "ram       27\n",
       "keshav    24\n",
       "akshay    25\n",
       "dtype: int64"
      ]
     },
     "execution_count": 44,
     "metadata": {},
     "output_type": "execute_result"
    }
   ],
   "source": [
    "name_age_series"
   ]
  },
  {
   "cell_type": "code",
   "execution_count": 45,
   "id": "7bb6a270",
   "metadata": {},
   "outputs": [
    {
     "data": {
      "text/plain": [
       "pratik    23\n",
       "keshav    24\n",
       "dtype: int64"
      ]
     },
     "execution_count": 45,
     "metadata": {},
     "output_type": "execute_result"
    }
   ],
   "source": [
    "name_age_series[(name_age_series>22)  & (name_age_series <25)]"
   ]
  },
  {
   "cell_type": "markdown",
   "id": "8bb32f34",
   "metadata": {},
   "source": [
    "### Arithmatic Opertaion"
   ]
  },
  {
   "cell_type": "code",
   "execution_count": 46,
   "id": "29823c01",
   "metadata": {},
   "outputs": [
    {
     "data": {
      "text/plain": [
       "vijay     54\n",
       "pratik    46\n",
       "ram       54\n",
       "keshav    48\n",
       "akshay    50\n",
       "dtype: int64"
      ]
     },
     "execution_count": 46,
     "metadata": {},
     "output_type": "execute_result"
    }
   ],
   "source": [
    "name_age_series*2"
   ]
  },
  {
   "cell_type": "code",
   "execution_count": 47,
   "id": "0bcb26aa",
   "metadata": {},
   "outputs": [
    {
     "data": {
      "text/plain": [
       "vijay     32\n",
       "pratik    28\n",
       "ram       32\n",
       "keshav    29\n",
       "akshay    30\n",
       "dtype: int64"
      ]
     },
     "execution_count": 47,
     "metadata": {},
     "output_type": "execute_result"
    }
   ],
   "source": [
    "name_age_series+5"
   ]
  },
  {
   "cell_type": "code",
   "execution_count": 48,
   "id": "797b3b23",
   "metadata": {},
   "outputs": [
    {
     "data": {
      "text/plain": [
       "vijay     22\n",
       "pratik    18\n",
       "ram       22\n",
       "keshav    19\n",
       "akshay    20\n",
       "dtype: int64"
      ]
     },
     "execution_count": 48,
     "metadata": {},
     "output_type": "execute_result"
    }
   ],
   "source": [
    "name_age_series-5"
   ]
  },
  {
   "cell_type": "code",
   "execution_count": 49,
   "id": "a1156994",
   "metadata": {},
   "outputs": [
    {
     "data": {
      "text/plain": [
       "vijay     27\n",
       "pratik    23\n",
       "ram       27\n",
       "keshav    24\n",
       "akshay    25\n",
       "dtype: int64"
      ]
     },
     "execution_count": 49,
     "metadata": {},
     "output_type": "execute_result"
    }
   ],
   "source": [
    "name_age_series"
   ]
  },
  {
   "cell_type": "code",
   "execution_count": 50,
   "id": "e575863a",
   "metadata": {},
   "outputs": [],
   "source": [
    "ns1 = pd.Series([1,2,3])\n",
    "ns2 = pd.Series([4,5,6])"
   ]
  },
  {
   "cell_type": "code",
   "execution_count": 51,
   "id": "bfbf6cee",
   "metadata": {},
   "outputs": [
    {
     "data": {
      "text/plain": [
       "0     4\n",
       "1    10\n",
       "2    18\n",
       "dtype: int64"
      ]
     },
     "execution_count": 51,
     "metadata": {},
     "output_type": "execute_result"
    }
   ],
   "source": [
    "ns1.multiply(ns2)"
   ]
  },
  {
   "cell_type": "code",
   "execution_count": 52,
   "id": "337748b2",
   "metadata": {},
   "outputs": [
    {
     "data": {
      "text/plain": [
       "0    5\n",
       "1    7\n",
       "2    9\n",
       "dtype: int64"
      ]
     },
     "execution_count": 52,
     "metadata": {},
     "output_type": "execute_result"
    }
   ],
   "source": [
    "ns1 + ns2"
   ]
  },
  {
   "cell_type": "markdown",
   "id": "6e813bef",
   "metadata": {},
   "source": [
    "### Series ranking and sorting"
   ]
  },
  {
   "cell_type": "code",
   "execution_count": 53,
   "id": "22d3eff6",
   "metadata": {},
   "outputs": [
    {
     "data": {
      "text/plain": [
       "vijay     4.5\n",
       "pratik    1.0\n",
       "ram       4.5\n",
       "keshav    2.0\n",
       "akshay    3.0\n",
       "dtype: float64"
      ]
     },
     "execution_count": 53,
     "metadata": {},
     "output_type": "execute_result"
    }
   ],
   "source": [
    "name_age_series.rank()"
   ]
  },
  {
   "cell_type": "code",
   "execution_count": 54,
   "id": "568b1c35",
   "metadata": {},
   "outputs": [
    {
     "data": {
      "text/plain": [
       "vijay     1.5\n",
       "pratik    5.0\n",
       "ram       1.5\n",
       "keshav    4.0\n",
       "akshay    3.0\n",
       "dtype: float64"
      ]
     },
     "execution_count": 54,
     "metadata": {},
     "output_type": "execute_result"
    }
   ],
   "source": [
    "name_age_series.rank(ascending=False)"
   ]
  },
  {
   "cell_type": "code",
   "execution_count": 55,
   "id": "27a42e73",
   "metadata": {},
   "outputs": [
    {
     "data": {
      "text/plain": [
       "akshay    25\n",
       "keshav    24\n",
       "pratik    23\n",
       "ram       27\n",
       "vijay     27\n",
       "dtype: int64"
      ]
     },
     "execution_count": 55,
     "metadata": {},
     "output_type": "execute_result"
    }
   ],
   "source": [
    "name_age_series.sort_index()"
   ]
  },
  {
   "cell_type": "code",
   "execution_count": 56,
   "id": "2f3cead6",
   "metadata": {},
   "outputs": [
    {
     "data": {
      "text/plain": [
       "vijay     27\n",
       "ram       27\n",
       "pratik    23\n",
       "keshav    24\n",
       "akshay    25\n",
       "dtype: int64"
      ]
     },
     "execution_count": 56,
     "metadata": {},
     "output_type": "execute_result"
    }
   ],
   "source": [
    "name_age_series.sort_index(ascending=False)"
   ]
  },
  {
   "cell_type": "code",
   "execution_count": 57,
   "id": "49bbaa49",
   "metadata": {},
   "outputs": [
    {
     "data": {
      "text/plain": [
       "pratik    23\n",
       "keshav    24\n",
       "akshay    25\n",
       "vijay     27\n",
       "ram       27\n",
       "dtype: int64"
      ]
     },
     "execution_count": 57,
     "metadata": {},
     "output_type": "execute_result"
    }
   ],
   "source": [
    "name_age_series.sort_values()"
   ]
  },
  {
   "cell_type": "code",
   "execution_count": 58,
   "id": "3d60c773",
   "metadata": {},
   "outputs": [
    {
     "data": {
      "text/plain": [
       "vijay     27\n",
       "ram       27\n",
       "akshay    25\n",
       "keshav    24\n",
       "pratik    23\n",
       "dtype: int64"
      ]
     },
     "execution_count": 58,
     "metadata": {},
     "output_type": "execute_result"
    }
   ],
   "source": [
    "name_age_series.sort_values(ascending= False)"
   ]
  },
  {
   "cell_type": "markdown",
   "id": "e57e5e83",
   "metadata": {},
   "source": [
    "### Checking Null Values"
   ]
  },
  {
   "cell_type": "code",
   "execution_count": 61,
   "id": "bf9d0737",
   "metadata": {},
   "outputs": [],
   "source": [
    "ns3 = pd.Series([1,2,3,None,5,6,None,8])"
   ]
  },
  {
   "cell_type": "code",
   "execution_count": 62,
   "id": "90951152",
   "metadata": {},
   "outputs": [
    {
     "data": {
      "text/plain": [
       "0    1.0\n",
       "1    2.0\n",
       "2    3.0\n",
       "3    NaN\n",
       "4    5.0\n",
       "5    6.0\n",
       "6    NaN\n",
       "7    8.0\n",
       "dtype: float64"
      ]
     },
     "execution_count": 62,
     "metadata": {},
     "output_type": "execute_result"
    }
   ],
   "source": [
    "ns3"
   ]
  },
  {
   "cell_type": "code",
   "execution_count": 63,
   "id": "34b9b4c4",
   "metadata": {},
   "outputs": [
    {
     "data": {
      "text/plain": [
       "0    1.0\n",
       "1    2.0\n",
       "2    3.0\n",
       "4    5.0\n",
       "5    6.0\n",
       "7    8.0\n",
       "3    NaN\n",
       "6    NaN\n",
       "dtype: float64"
      ]
     },
     "execution_count": 63,
     "metadata": {},
     "output_type": "execute_result"
    }
   ],
   "source": [
    "ns3.sort_values(na_position = \"last\")"
   ]
  },
  {
   "cell_type": "code",
   "execution_count": 64,
   "id": "ebde179f",
   "metadata": {},
   "outputs": [
    {
     "data": {
      "text/plain": [
       "3    NaN\n",
       "6    NaN\n",
       "0    1.0\n",
       "1    2.0\n",
       "2    3.0\n",
       "4    5.0\n",
       "5    6.0\n",
       "7    8.0\n",
       "dtype: float64"
      ]
     },
     "execution_count": 64,
     "metadata": {},
     "output_type": "execute_result"
    }
   ],
   "source": [
    "ns3.sort_values(na_position = \"first\")"
   ]
  },
  {
   "cell_type": "code",
   "execution_count": 66,
   "id": "3a4a9a48",
   "metadata": {},
   "outputs": [
    {
     "data": {
      "text/plain": [
       "0    False\n",
       "1    False\n",
       "2    False\n",
       "3     True\n",
       "4    False\n",
       "5    False\n",
       "6     True\n",
       "7    False\n",
       "dtype: bool"
      ]
     },
     "execution_count": 66,
     "metadata": {},
     "output_type": "execute_result"
    }
   ],
   "source": [
    "ns3.isnull()"
   ]
  },
  {
   "cell_type": "code",
   "execution_count": 67,
   "id": "af0d3a17",
   "metadata": {},
   "outputs": [
    {
     "data": {
      "text/plain": [
       "0    False\n",
       "1    False\n",
       "2    False\n",
       "3     True\n",
       "4    False\n",
       "5    False\n",
       "6     True\n",
       "7    False\n",
       "dtype: bool"
      ]
     },
     "execution_count": 67,
     "metadata": {},
     "output_type": "execute_result"
    }
   ],
   "source": [
    "ns3.isna()"
   ]
  },
  {
   "cell_type": "code",
   "execution_count": 69,
   "id": "355a0036",
   "metadata": {},
   "outputs": [
    {
     "data": {
      "text/plain": [
       "0    1.0\n",
       "1    2.0\n",
       "2    3.0\n",
       "4    5.0\n",
       "5    6.0\n",
       "7    8.0\n",
       "dtype: float64"
      ]
     },
     "execution_count": 69,
     "metadata": {},
     "output_type": "execute_result"
    }
   ],
   "source": [
    "ns3[ns3.isnull()==False]"
   ]
  },
  {
   "cell_type": "code",
   "execution_count": 68,
   "id": "22b4ceff",
   "metadata": {},
   "outputs": [
    {
     "data": {
      "text/plain": [
       "2"
      ]
     },
     "execution_count": 68,
     "metadata": {},
     "output_type": "execute_result"
    }
   ],
   "source": [
    "ns3.isna().sum()   # total count of missing values in series"
   ]
  },
  {
   "cell_type": "code",
   "execution_count": 70,
   "id": "a2aea3b2",
   "metadata": {},
   "outputs": [
    {
     "data": {
      "text/plain": [
       "0     True\n",
       "1     True\n",
       "2     True\n",
       "3    False\n",
       "4     True\n",
       "5     True\n",
       "6    False\n",
       "7     True\n",
       "dtype: bool"
      ]
     },
     "execution_count": 70,
     "metadata": {},
     "output_type": "execute_result"
    }
   ],
   "source": [
    "ns3.notnull()"
   ]
  },
  {
   "cell_type": "code",
   "execution_count": 71,
   "id": "44404e86",
   "metadata": {},
   "outputs": [
    {
     "data": {
      "text/plain": [
       "0     True\n",
       "1     True\n",
       "2     True\n",
       "3    False\n",
       "4     True\n",
       "5     True\n",
       "6    False\n",
       "7     True\n",
       "dtype: bool"
      ]
     },
     "execution_count": 71,
     "metadata": {},
     "output_type": "execute_result"
    }
   ],
   "source": [
    "ns3.notna()"
   ]
  },
  {
   "cell_type": "markdown",
   "id": "33a41444",
   "metadata": {},
   "source": [
    "### Append/Concat multiple series"
   ]
  },
  {
   "cell_type": "code",
   "execution_count": 74,
   "id": "548e06f9",
   "metadata": {},
   "outputs": [
    {
     "data": {
      "text/plain": [
       "0    1\n",
       "1    2\n",
       "2    3\n",
       "dtype: int64"
      ]
     },
     "execution_count": 74,
     "metadata": {},
     "output_type": "execute_result"
    }
   ],
   "source": [
    "ns1"
   ]
  },
  {
   "cell_type": "code",
   "execution_count": 75,
   "id": "da613bac",
   "metadata": {},
   "outputs": [
    {
     "data": {
      "text/plain": [
       "0    4\n",
       "1    5\n",
       "2    6\n",
       "dtype: int64"
      ]
     },
     "execution_count": 75,
     "metadata": {},
     "output_type": "execute_result"
    }
   ],
   "source": [
    "ns2"
   ]
  },
  {
   "cell_type": "code",
   "execution_count": 73,
   "id": "5532f2dc",
   "metadata": {},
   "outputs": [
    {
     "data": {
      "text/plain": [
       "0    1\n",
       "1    2\n",
       "2    3\n",
       "0    4\n",
       "1    5\n",
       "2    6\n",
       "dtype: int64"
      ]
     },
     "execution_count": 73,
     "metadata": {},
     "output_type": "execute_result"
    }
   ],
   "source": [
    "pd.concat([ns1,ns2])"
   ]
  },
  {
   "cell_type": "code",
   "execution_count": 78,
   "id": "17ac45cc",
   "metadata": {},
   "outputs": [
    {
     "data": {
      "text/plain": [
       "0    4\n",
       "1    5\n",
       "2    6\n",
       "dtype: int64"
      ]
     },
     "execution_count": 78,
     "metadata": {},
     "output_type": "execute_result"
    }
   ],
   "source": [
    "ns2"
   ]
  },
  {
   "cell_type": "code",
   "execution_count": 79,
   "id": "618c7208",
   "metadata": {},
   "outputs": [
    {
     "data": {
      "text/plain": [
       "0    1.0\n",
       "1    2.0\n",
       "2    3.0\n",
       "3    NaN\n",
       "4    5.0\n",
       "5    6.0\n",
       "6    NaN\n",
       "7    8.0\n",
       "dtype: float64"
      ]
     },
     "execution_count": 79,
     "metadata": {},
     "output_type": "execute_result"
    }
   ],
   "source": [
    "ns3"
   ]
  },
  {
   "cell_type": "code",
   "execution_count": 77,
   "id": "637229d1",
   "metadata": {},
   "outputs": [
    {
     "data": {
      "text/plain": [
       "0    4.0\n",
       "1    5.0\n",
       "2    6.0\n",
       "0    1.0\n",
       "1    2.0\n",
       "2    3.0\n",
       "3    NaN\n",
       "4    5.0\n",
       "5    6.0\n",
       "6    NaN\n",
       "7    8.0\n",
       "dtype: float64"
      ]
     },
     "execution_count": 77,
     "metadata": {},
     "output_type": "execute_result"
    }
   ],
   "source": [
    "pd.concat([ns2,ns3])"
   ]
  },
  {
   "cell_type": "code",
   "execution_count": 80,
   "id": "d685d1c7",
   "metadata": {},
   "outputs": [
    {
     "data": {
      "text/plain": [
       "cat      index1\n",
       "new_s_1  0         1\n",
       "         1         2\n",
       "         2         3\n",
       "new_s_2  0         4\n",
       "         1         5\n",
       "         2         6\n",
       "dtype: int64"
      ]
     },
     "execution_count": 80,
     "metadata": {},
     "output_type": "execute_result"
    }
   ],
   "source": [
    "pd.concat([ns1,ns2],keys = [\"new_s_1\",\"new_s_2\"], names = [\"cat\",\"index1\"])"
   ]
  },
  {
   "cell_type": "code",
   "execution_count": 82,
   "id": "3ca96b88",
   "metadata": {},
   "outputs": [
    {
     "data": {
      "text/plain": [
       "0    1\n",
       "1    2\n",
       "2    3\n",
       "dtype: int64"
      ]
     },
     "execution_count": 82,
     "metadata": {},
     "output_type": "execute_result"
    }
   ],
   "source": [
    "ns1"
   ]
  },
  {
   "cell_type": "code",
   "execution_count": 83,
   "id": "02d2be61",
   "metadata": {},
   "outputs": [
    {
     "data": {
      "text/plain": [
       "0    4\n",
       "1    5\n",
       "2    6\n",
       "dtype: int64"
      ]
     },
     "execution_count": 83,
     "metadata": {},
     "output_type": "execute_result"
    }
   ],
   "source": [
    "ns2"
   ]
  },
  {
   "cell_type": "code",
   "execution_count": 81,
   "id": "6f9eeca3",
   "metadata": {},
   "outputs": [
    {
     "data": {
      "text/plain": [
       "0    1\n",
       "1    2\n",
       "2    3\n",
       "3    4\n",
       "4    5\n",
       "5    6\n",
       "dtype: int64"
      ]
     },
     "execution_count": 81,
     "metadata": {},
     "output_type": "execute_result"
    }
   ],
   "source": [
    "pd.concat([ns1,ns2],ignore_index = True) # it will ignore previous index and assign new"
   ]
  },
  {
   "cell_type": "code",
   "execution_count": 85,
   "id": "927f9d11",
   "metadata": {},
   "outputs": [
    {
     "data": {
      "text/html": [
       "<div>\n",
       "<style scoped>\n",
       "    .dataframe tbody tr th:only-of-type {\n",
       "        vertical-align: middle;\n",
       "    }\n",
       "\n",
       "    .dataframe tbody tr th {\n",
       "        vertical-align: top;\n",
       "    }\n",
       "\n",
       "    .dataframe thead th {\n",
       "        text-align: right;\n",
       "    }\n",
       "</style>\n",
       "<table border=\"1\" class=\"dataframe\">\n",
       "  <thead>\n",
       "    <tr style=\"text-align: right;\">\n",
       "      <th></th>\n",
       "      <th>index</th>\n",
       "      <th>0</th>\n",
       "    </tr>\n",
       "  </thead>\n",
       "  <tbody>\n",
       "    <tr>\n",
       "      <th>0</th>\n",
       "      <td>0</td>\n",
       "      <td>1</td>\n",
       "    </tr>\n",
       "    <tr>\n",
       "      <th>1</th>\n",
       "      <td>1</td>\n",
       "      <td>2</td>\n",
       "    </tr>\n",
       "    <tr>\n",
       "      <th>2</th>\n",
       "      <td>2</td>\n",
       "      <td>3</td>\n",
       "    </tr>\n",
       "    <tr>\n",
       "      <th>3</th>\n",
       "      <td>0</td>\n",
       "      <td>4</td>\n",
       "    </tr>\n",
       "    <tr>\n",
       "      <th>4</th>\n",
       "      <td>1</td>\n",
       "      <td>5</td>\n",
       "    </tr>\n",
       "    <tr>\n",
       "      <th>5</th>\n",
       "      <td>2</td>\n",
       "      <td>6</td>\n",
       "    </tr>\n",
       "  </tbody>\n",
       "</table>\n",
       "</div>"
      ],
      "text/plain": [
       "   index  0\n",
       "0      0  1\n",
       "1      1  2\n",
       "2      2  3\n",
       "3      0  4\n",
       "4      1  5\n",
       "5      2  6"
      ]
     },
     "execution_count": 85,
     "metadata": {},
     "output_type": "execute_result"
    }
   ],
   "source": [
    "pd.concat([ns1,ns2]).reset_index()"
   ]
  },
  {
   "cell_type": "code",
   "execution_count": 86,
   "id": "3386180a",
   "metadata": {},
   "outputs": [
    {
     "data": {
      "text/html": [
       "<div>\n",
       "<style scoped>\n",
       "    .dataframe tbody tr th:only-of-type {\n",
       "        vertical-align: middle;\n",
       "    }\n",
       "\n",
       "    .dataframe tbody tr th {\n",
       "        vertical-align: top;\n",
       "    }\n",
       "\n",
       "    .dataframe thead th {\n",
       "        text-align: right;\n",
       "    }\n",
       "</style>\n",
       "<table border=\"1\" class=\"dataframe\">\n",
       "  <thead>\n",
       "    <tr style=\"text-align: right;\">\n",
       "      <th></th>\n",
       "      <th>index</th>\n",
       "      <th>0</th>\n",
       "    </tr>\n",
       "  </thead>\n",
       "  <tbody>\n",
       "    <tr>\n",
       "      <th>0</th>\n",
       "      <td>0</td>\n",
       "      <td>1</td>\n",
       "    </tr>\n",
       "    <tr>\n",
       "      <th>1</th>\n",
       "      <td>1</td>\n",
       "      <td>2</td>\n",
       "    </tr>\n",
       "    <tr>\n",
       "      <th>2</th>\n",
       "      <td>2</td>\n",
       "      <td>3</td>\n",
       "    </tr>\n",
       "    <tr>\n",
       "      <th>3</th>\n",
       "      <td>3</td>\n",
       "      <td>4</td>\n",
       "    </tr>\n",
       "    <tr>\n",
       "      <th>4</th>\n",
       "      <td>4</td>\n",
       "      <td>5</td>\n",
       "    </tr>\n",
       "    <tr>\n",
       "      <th>5</th>\n",
       "      <td>5</td>\n",
       "      <td>6</td>\n",
       "    </tr>\n",
       "  </tbody>\n",
       "</table>\n",
       "</div>"
      ],
      "text/plain": [
       "   index  0\n",
       "0      0  1\n",
       "1      1  2\n",
       "2      2  3\n",
       "3      3  4\n",
       "4      4  5\n",
       "5      5  6"
      ]
     },
     "execution_count": 86,
     "metadata": {},
     "output_type": "execute_result"
    }
   ],
   "source": [
    "pd.concat([ns1,ns2],ignore_index = True).reset_index()"
   ]
  },
  {
   "cell_type": "code",
   "execution_count": 87,
   "id": "36270e54",
   "metadata": {},
   "outputs": [
    {
     "name": "stderr",
     "output_type": "stream",
     "text": [
      "C:\\Users\\MR.GODHADE\\AppData\\Local\\Temp\\ipykernel_2712\\3476826403.py:1: FutureWarning: The series.append method is deprecated and will be removed from pandas in a future version. Use pandas.concat instead.\n",
      "  ns1.append(ns2)\n"
     ]
    },
    {
     "data": {
      "text/plain": [
       "0    1\n",
       "1    2\n",
       "2    3\n",
       "0    4\n",
       "1    5\n",
       "2    6\n",
       "dtype: int64"
      ]
     },
     "execution_count": 87,
     "metadata": {},
     "output_type": "execute_result"
    }
   ],
   "source": [
    "ns1.append(ns2)"
   ]
  },
  {
   "cell_type": "code",
   "execution_count": null,
   "id": "50e28bde",
   "metadata": {},
   "outputs": [],
   "source": []
  }
 ],
 "metadata": {
  "kernelspec": {
   "display_name": "Python 3 (ipykernel)",
   "language": "python",
   "name": "python3"
  },
  "language_info": {
   "codemirror_mode": {
    "name": "ipython",
    "version": 3
   },
   "file_extension": ".py",
   "mimetype": "text/x-python",
   "name": "python",
   "nbconvert_exporter": "python",
   "pygments_lexer": "ipython3",
   "version": "3.9.13"
  }
 },
 "nbformat": 4,
 "nbformat_minor": 5
}
