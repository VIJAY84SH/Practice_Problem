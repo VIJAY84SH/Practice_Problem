{
 "cells": [
  {
   "cell_type": "code",
   "execution_count": 1,
   "id": "23efd6c8",
   "metadata": {},
   "outputs": [],
   "source": [
    "import re"
   ]
  },
  {
   "cell_type": "markdown",
   "id": "3d8b98fb",
   "metadata": {},
   "source": [
    "# Search the string to see if it starts with \"The\" and ends with \"Spain\":"
   ]
  },
  {
   "cell_type": "code",
   "execution_count": 2,
   "id": "a276b9c8",
   "metadata": {},
   "outputs": [
    {
     "data": {
      "text/plain": [
       "<re.Match object; span=(0, 3), match='The'>"
      ]
     },
     "execution_count": 2,
     "metadata": {},
     "output_type": "execute_result"
    }
   ],
   "source": [
    "txt = \"The rain in spain\"\n",
    "x = re.search(\"^The\",txt)\n",
    "x"
   ]
  },
  {
   "cell_type": "markdown",
   "id": "117083ff",
   "metadata": {},
   "source": [
    "### [ ] A Set of Characters"
   ]
  },
  {
   "cell_type": "code",
   "execution_count": 8,
   "id": "6a4d76b7",
   "metadata": {},
   "outputs": [],
   "source": [
    "txt = \"Neuron offers affordable online courses, job guarantee programs, placement assistance\""
   ]
  },
  {
   "cell_type": "code",
   "execution_count": 17,
   "id": "d17d686c",
   "metadata": {},
   "outputs": [
    {
     "name": "stdout",
     "output_type": "stream",
     "text": [
      "['a', 'a', 'a', 'a', 'a', 'a', 'a', 'a']\n",
      "['online']\n",
      "['a', 'd', 'a', 'b', 'c', 'b', 'a', 'a', 'a', 'a', 'c', 'a', 'a', 'c']\n"
     ]
    }
   ],
   "source": [
    "a = re.findall('a',txt) # find all small 'a'\n",
    "print(a)\n",
    "b = re.findall('online',txt) # find 'online' string\n",
    "print(b)\n",
    "c = re.findall('[a-d]',txt) # find small characters between \"a\" and \"d\"\n",
    "print(c)"
   ]
  },
  {
   "cell_type": "markdown",
   "id": "0c1cd927",
   "metadata": {},
   "source": [
    "### ^ Strats With"
   ]
  },
  {
   "cell_type": "code",
   "execution_count": 25,
   "id": "6defe720",
   "metadata": {},
   "outputs": [
    {
     "name": "stdout",
     "output_type": "stream",
     "text": [
      "['Neuron']\n",
      "yes, it's startes.\n"
     ]
    }
   ],
   "source": [
    "d = re.findall('^Neuron',txt) #Check if the string starts with Neuron\n",
    "print(d)\n",
    "if d:\n",
    "    print(\"yes, it's startes.\")\n",
    "else:\n",
    "    print(\"not started with Neuron\")"
   ]
  },
  {
   "cell_type": "markdown",
   "id": "81f50c86",
   "metadata": {},
   "source": [
    "**$ Ends with**"
   ]
  },
  {
   "cell_type": "code",
   "execution_count": 27,
   "id": "49c4071b",
   "metadata": {},
   "outputs": [
    {
     "name": "stdout",
     "output_type": "stream",
     "text": [
      "['assistance']\n",
      "yes it's end with assistance\n"
     ]
    }
   ],
   "source": [
    "d = re.findall('assistance$',txt)\n",
    "print(d)\n",
    "if d:\n",
    "    print(\"yes it's end with assistance\")\n",
    "else:\n",
    "    print(\"its not end with assistance\")"
   ]
  },
  {
   "cell_type": "markdown",
   "id": "5ece9d25",
   "metadata": {},
   "source": [
    "**.  Any Character**"
   ]
  },
  {
   "cell_type": "code",
   "execution_count": 42,
   "id": "1b8f9f48",
   "metadata": {},
   "outputs": [
    {
     "data": {
      "text/plain": [
       "['pr', 'pl']"
      ]
     },
     "execution_count": 42,
     "metadata": {},
     "output_type": "execute_result"
    }
   ],
   "source": [
    "d = re.findall('p.',txt) #Search for a sequence that starts with \"p\"\n",
    "d"
   ]
  },
  {
   "cell_type": "code",
   "execution_count": 43,
   "id": "c4523aaf",
   "metadata": {},
   "outputs": [
    {
     "data": {
      "text/plain": [
       "['ses']"
      ]
     },
     "execution_count": 43,
     "metadata": {},
     "output_type": "execute_result"
    }
   ],
   "source": [
    "d1 = re.findall('.es',txt)\n",
    "d1"
   ]
  },
  {
   "cell_type": "markdown",
   "id": "80d5ab8c",
   "metadata": {},
   "source": [
    "# * Zero or more occurrences"
   ]
  },
  {
   "cell_type": "code",
   "execution_count": 74,
   "id": "7d77c3fa",
   "metadata": {},
   "outputs": [],
   "source": [
    "text1 = \"vijay jagannath patil mit collage pune \""
   ]
  },
  {
   "cell_type": "code",
   "execution_count": 75,
   "id": "2a52657c",
   "metadata": {},
   "outputs": [
    {
     "name": "stdout",
     "output_type": "stream",
     "text": [
      "['ja', 'ja']\n",
      "['', '', '', '', '', '', '', '', '', '', '', '', '', '', '', 'p', '', '', '', '', '', '', '', '', '', '', '', '', '', '', '', '', '', 'p', '', '', '', '']\n"
     ]
    }
   ],
   "source": [
    "e = re.findall('ja*',txt1)\n",
    "print(e)\n",
    "e1 = re.findall('p*',txt1)\n",
    "print(e1)\n"
   ]
  },
  {
   "cell_type": "markdown",
   "id": "afce7574",
   "metadata": {},
   "source": [
    "# + One or More Occurrences"
   ]
  },
  {
   "cell_type": "code",
   "execution_count": 76,
   "id": "b1d8a75c",
   "metadata": {},
   "outputs": [
    {
     "data": {
      "text/plain": [
       "['p', 'p']"
      ]
     },
     "execution_count": 76,
     "metadata": {},
     "output_type": "execute_result"
    }
   ],
   "source": [
    "f = re.findall('p+',txt1)\n",
    "f"
   ]
  },
  {
   "cell_type": "code",
   "execution_count": 82,
   "id": "3578cf6b",
   "metadata": {},
   "outputs": [],
   "source": [
    "txt2 = \"vijay jagannath patil vijay jagannath vijay \""
   ]
  },
  {
   "cell_type": "markdown",
   "id": "b2334c83",
   "metadata": {},
   "source": [
    "# ? Zero or one occurrences"
   ]
  },
  {
   "cell_type": "code",
   "execution_count": 83,
   "id": "36ca8e78",
   "metadata": {},
   "outputs": [
    {
     "data": {
      "text/plain": [
       "['vi', 'vi', 'vi']"
      ]
     },
     "execution_count": 83,
     "metadata": {},
     "output_type": "execute_result"
    }
   ],
   "source": [
    "g = re.findall('vi?',txt2)\n",
    "g"
   ]
  },
  {
   "cell_type": "code",
   "execution_count": 91,
   "id": "12240017",
   "metadata": {},
   "outputs": [
    {
     "data": {
      "text/plain": [
       "re.compile(r'vi{2}', re.UNICODE)"
      ]
     },
     "execution_count": 91,
     "metadata": {},
     "output_type": "execute_result"
    }
   ],
   "source": [
    "g1 = re.compile('vi{2}')\n",
    "g1"
   ]
  },
  {
   "cell_type": "code",
   "execution_count": null,
   "id": "3f64849b",
   "metadata": {},
   "outputs": [],
   "source": []
  }
 ],
 "metadata": {
  "kernelspec": {
   "display_name": "Python 3 (ipykernel)",
   "language": "python",
   "name": "python3"
  },
  "language_info": {
   "codemirror_mode": {
    "name": "ipython",
    "version": 3
   },
   "file_extension": ".py",
   "mimetype": "text/x-python",
   "name": "python",
   "nbconvert_exporter": "python",
   "pygments_lexer": "ipython3",
   "version": "3.9.7"
  }
 },
 "nbformat": 4,
 "nbformat_minor": 5
}
