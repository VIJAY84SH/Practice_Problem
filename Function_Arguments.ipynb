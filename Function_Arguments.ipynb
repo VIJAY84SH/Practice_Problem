{
 "cells": [
  {
   "cell_type": "markdown",
   "id": "7931e6d5",
   "metadata": {},
   "source": [
    "### 1. Required Arguments"
   ]
  },
  {
   "cell_type": "markdown",
   "id": "57ff4b2a",
   "metadata": {},
   "source": [
    "- Required arguments are the arguments passed to a function in correct positional order"
   ]
  },
  {
   "cell_type": "code",
   "execution_count": 1,
   "id": "45bc3f75",
   "metadata": {},
   "outputs": [],
   "source": [
    "def req_arg(num1,num2):\n",
    "    print(\"First argumet is :\",num1)\n",
    "    print(\"Second argument is :\",num2)"
   ]
  },
  {
   "cell_type": "code",
   "execution_count": 2,
   "id": "9e5dd8e6",
   "metadata": {},
   "outputs": [],
   "source": [
    "num1 = 8\n",
    "num2 = 2"
   ]
  },
  {
   "cell_type": "code",
   "execution_count": 3,
   "id": "ce54f536",
   "metadata": {},
   "outputs": [
    {
     "name": "stdout",
     "output_type": "stream",
     "text": [
      "First argumet is : 8\n",
      "Second argument is : 2\n"
     ]
    }
   ],
   "source": [
    "req_arg(num1,num2)"
   ]
  },
  {
   "cell_type": "code",
   "execution_count": 4,
   "id": "d220e29d",
   "metadata": {},
   "outputs": [
    {
     "ename": "TypeError",
     "evalue": "req_arg() missing 2 required positional arguments: 'num1' and 'num2'",
     "output_type": "error",
     "traceback": [
      "\u001b[1;31m---------------------------------------------------------------------------\u001b[0m",
      "\u001b[1;31mTypeError\u001b[0m                                 Traceback (most recent call last)",
      "\u001b[1;32m~\\AppData\\Local\\Temp\\ipykernel_7684\\395116957.py\u001b[0m in \u001b[0;36m<module>\u001b[1;34m\u001b[0m\n\u001b[1;32m----> 1\u001b[1;33m \u001b[0mreq_arg\u001b[0m\u001b[1;33m(\u001b[0m\u001b[1;33m)\u001b[0m\u001b[1;33m\u001b[0m\u001b[1;33m\u001b[0m\u001b[0m\n\u001b[0m",
      "\u001b[1;31mTypeError\u001b[0m: req_arg() missing 2 required positional arguments: 'num1' and 'num2'"
     ]
    }
   ],
   "source": [
    "req_arg()   #  If we have not pass arguments it will show error"
   ]
  },
  {
   "cell_type": "code",
   "execution_count": 6,
   "id": "985a8b31",
   "metadata": {},
   "outputs": [
    {
     "ename": "TypeError",
     "evalue": "req_arg() missing 1 required positional argument: 'num2'",
     "output_type": "error",
     "traceback": [
      "\u001b[1;31m---------------------------------------------------------------------------\u001b[0m",
      "\u001b[1;31mTypeError\u001b[0m                                 Traceback (most recent call last)",
      "\u001b[1;32m~\\AppData\\Local\\Temp\\ipykernel_7684\\2426100332.py\u001b[0m in \u001b[0;36m<module>\u001b[1;34m\u001b[0m\n\u001b[1;32m----> 1\u001b[1;33m \u001b[0mreq_arg\u001b[0m\u001b[1;33m(\u001b[0m\u001b[0mnum1\u001b[0m\u001b[1;33m)\u001b[0m  \u001b[1;31m# if we pass only one argument also will get an error\u001b[0m\u001b[1;33m\u001b[0m\u001b[1;33m\u001b[0m\u001b[0m\n\u001b[0m",
      "\u001b[1;31mTypeError\u001b[0m: req_arg() missing 1 required positional argument: 'num2'"
     ]
    }
   ],
   "source": [
    "req_arg(num1)  # if we pass only one argument also will get an error"
   ]
  },
  {
   "cell_type": "code",
   "execution_count": 7,
   "id": "3fcf2912",
   "metadata": {},
   "outputs": [
    {
     "name": "stdout",
     "output_type": "stream",
     "text": [
      "First argumet is : 3\n",
      "Second argument is : 5\n"
     ]
    }
   ],
   "source": [
    "req_arg(3,5)"
   ]
  },
  {
   "cell_type": "code",
   "execution_count": 15,
   "id": "8716265a",
   "metadata": {},
   "outputs": [],
   "source": [
    "def hello():\n",
    "    print(\"good morning\")"
   ]
  },
  {
   "cell_type": "code",
   "execution_count": 16,
   "id": "ff8da79b",
   "metadata": {},
   "outputs": [],
   "source": [
    "name = \"vijay\""
   ]
  },
  {
   "cell_type": "code",
   "execution_count": 17,
   "id": "74e2e949",
   "metadata": {},
   "outputs": [
    {
     "ename": "TypeError",
     "evalue": "hello() takes 0 positional arguments but 1 was given",
     "output_type": "error",
     "traceback": [
      "\u001b[1;31m---------------------------------------------------------------------------\u001b[0m",
      "\u001b[1;31mTypeError\u001b[0m                                 Traceback (most recent call last)",
      "\u001b[1;32m~\\AppData\\Local\\Temp\\ipykernel_7684\\2015900500.py\u001b[0m in \u001b[0;36m<module>\u001b[1;34m\u001b[0m\n\u001b[1;32m----> 1\u001b[1;33m \u001b[0mhello\u001b[0m\u001b[1;33m(\u001b[0m\u001b[0mname\u001b[0m\u001b[1;33m)\u001b[0m   \u001b[1;31m# as we have not defined argument while creating fun so it will give error\u001b[0m\u001b[1;33m\u001b[0m\u001b[1;33m\u001b[0m\u001b[0m\n\u001b[0m",
      "\u001b[1;31mTypeError\u001b[0m: hello() takes 0 positional arguments but 1 was given"
     ]
    }
   ],
   "source": [
    "\n",
    "hello(name)   # as we have not defined argument while creating fun so it will give error"
   ]
  },
  {
   "cell_type": "code",
   "execution_count": 18,
   "id": "09f845cd",
   "metadata": {},
   "outputs": [],
   "source": [
    "def hello1():\n",
    "    print(\"hii\",name,\"good morning\")"
   ]
  },
  {
   "cell_type": "code",
   "execution_count": 19,
   "id": "32b76435",
   "metadata": {},
   "outputs": [
    {
     "name": "stdout",
     "output_type": "stream",
     "text": [
      "hii vijay good morning\n"
     ]
    }
   ],
   "source": [
    "hello1()"
   ]
  },
  {
   "cell_type": "markdown",
   "id": "c61e1697",
   "metadata": {},
   "source": [
    "### 2. Keyword Arguments : "
   ]
  },
  {
   "cell_type": "markdown",
   "id": "2ecb2082",
   "metadata": {},
   "source": [
    " - When we call a function with some values, these values get assigned to the argument according to their position \n",
    "    \n",
    " - when we call function in this way, the order (position) of the arguments can be changed\n",
    "\n",
    " - such arguments called as keyword arguments"
   ]
  },
  {
   "cell_type": "code",
   "execution_count": 33,
   "id": "3c013cf4",
   "metadata": {},
   "outputs": [],
   "source": [
    "def employee(name, designation):\n",
    "    print(\"The name of employee is :\",name,\"\\n Designation is :\",designation)"
   ]
  },
  {
   "cell_type": "code",
   "execution_count": 34,
   "id": "e874f94d",
   "metadata": {},
   "outputs": [
    {
     "name": "stdout",
     "output_type": "stream",
     "text": [
      "The name of employee is : vijay \n",
      " Designation is : Engineer\n"
     ]
    }
   ],
   "source": [
    "employee(name = \"vijay\", designation = \"Engineer\")"
   ]
  },
  {
   "cell_type": "code",
   "execution_count": 35,
   "id": "8c93e171",
   "metadata": {},
   "outputs": [
    {
     "name": "stdout",
     "output_type": "stream",
     "text": [
      "The name of employee is : Engineer \n",
      " Designation is : vijay\n"
     ]
    }
   ],
   "source": [
    "employee(\"Engineer\",\"vijay\") # if you miss the position, it does matter so we need to be take care"
   ]
  },
  {
   "cell_type": "markdown",
   "id": "29ea7729",
   "metadata": {},
   "source": [
    "### 3. Default Arguments :"
   ]
  },
  {
   "cell_type": "markdown",
   "id": "091410d1",
   "metadata": {},
   "source": [
    " - default argument is a value provided in a function declaration that is automatically assigned by the ompiler\n",
    "\n",
    " - if the caller of the function doesn't provide a value for the argument it will take default value\n"
   ]
  },
  {
   "cell_type": "code",
   "execution_count": 36,
   "id": "72d5540c",
   "metadata": {},
   "outputs": [],
   "source": [
    "def emp(name, sal = 42000):\n",
    "    print(\"emp name -\",name)\n",
    "    print(\"emp salary -\",sal)"
   ]
  },
  {
   "cell_type": "code",
   "execution_count": 37,
   "id": "3ca522e6",
   "metadata": {},
   "outputs": [
    {
     "name": "stdout",
     "output_type": "stream",
     "text": [
      "emp name - vijay\n",
      "emp salary - 42000\n"
     ]
    }
   ],
   "source": [
    "emp(\"vijay\")"
   ]
  },
  {
   "cell_type": "code",
   "execution_count": 39,
   "id": "9dab07a9",
   "metadata": {},
   "outputs": [
    {
     "name": "stdout",
     "output_type": "stream",
     "text": [
      "emp name - vijay\n",
      "emp salary - 52000\n"
     ]
    }
   ],
   "source": [
    "emp(\"vijay\",52000) "
   ]
  },
  {
   "cell_type": "markdown",
   "id": "f7c72065",
   "metadata": {},
   "source": [
    "### 4. Variable Length Arguments"
   ]
  },
  {
   "cell_type": "markdown",
   "id": "b9a85879",
   "metadata": {},
   "source": [
    " - Use *args help you passing variable number of arguments\n",
    "    \n",
    " - this is specially is used when you don't knwo how many arguments to pass the function"
   ]
  },
  {
   "cell_type": "code",
   "execution_count": 40,
   "id": "b699e420",
   "metadata": {},
   "outputs": [],
   "source": [
    "def addition(*numbers):\n",
    "    add = 0\n",
    "    for i in numbers:\n",
    "        add = add + i\n",
    "    print(\"Addition of all numbers is :\",add)"
   ]
  },
  {
   "cell_type": "code",
   "execution_count": 41,
   "id": "c401449b",
   "metadata": {},
   "outputs": [
    {
     "name": "stdout",
     "output_type": "stream",
     "text": [
      "Addition of all numbers is : 15\n"
     ]
    }
   ],
   "source": [
    "addition(1,2,3,4,5)"
   ]
  },
  {
   "cell_type": "markdown",
   "id": "94047b2c",
   "metadata": {},
   "source": [
    "### 5. Variable length Keyworded Arguments:"
   ]
  },
  {
   "cell_type": "markdown",
   "id": "ef94729c",
   "metadata": {},
   "source": [
    " - **kwargs allows the users to pass keyword-ed arguments of variable length to a function"
   ]
  },
  {
   "cell_type": "code",
   "execution_count": 52,
   "id": "ecf4f6ff",
   "metadata": {},
   "outputs": [],
   "source": [
    "def employee_details(**details):\n",
    "    print(details)\n",
    "        "
   ]
  },
  {
   "cell_type": "code",
   "execution_count": 53,
   "id": "d7bd3bea",
   "metadata": {},
   "outputs": [
    {
     "name": "stdout",
     "output_type": "stream",
     "text": [
      "{'name': 'vijay'}\n"
     ]
    }
   ],
   "source": [
    "employee_details(name = 'vijay')"
   ]
  },
  {
   "cell_type": "code",
   "execution_count": 55,
   "id": "3864c9e1",
   "metadata": {},
   "outputs": [
    {
     "name": "stdout",
     "output_type": "stream",
     "text": [
      "{'name': 'vijay', 'salary': 52000, 'dept': 'data science'}\n"
     ]
    }
   ],
   "source": [
    "employee_details(name = 'vijay',salary = 52000, dept = 'data science')"
   ]
  },
  {
   "cell_type": "code",
   "execution_count": null,
   "id": "ab1832ee",
   "metadata": {},
   "outputs": [],
   "source": []
  }
 ],
 "metadata": {
  "kernelspec": {
   "display_name": "Python 3 (ipykernel)",
   "language": "python",
   "name": "python3"
  },
  "language_info": {
   "codemirror_mode": {
    "name": "ipython",
    "version": 3
   },
   "file_extension": ".py",
   "mimetype": "text/x-python",
   "name": "python",
   "nbconvert_exporter": "python",
   "pygments_lexer": "ipython3",
   "version": "3.9.13"
  }
 },
 "nbformat": 4,
 "nbformat_minor": 5
}
