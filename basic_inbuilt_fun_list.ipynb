{
 "cells": [
  {
   "cell_type": "code",
   "execution_count": 1,
   "id": "333c5b41",
   "metadata": {},
   "outputs": [],
   "source": [
    "s = \"sudh\""
   ]
  },
  {
   "cell_type": "code",
   "execution_count": 2,
   "id": "d73a2410",
   "metadata": {},
   "outputs": [
    {
     "data": {
      "text/plain": [
       "str"
      ]
     },
     "execution_count": 2,
     "metadata": {},
     "output_type": "execute_result"
    }
   ],
   "source": [
    "type(s)"
   ]
  },
  {
   "cell_type": "code",
   "execution_count": 3,
   "id": "6a0c641a",
   "metadata": {},
   "outputs": [
    {
     "data": {
      "text/plain": [
       "'s'"
      ]
     },
     "execution_count": 3,
     "metadata": {},
     "output_type": "execute_result"
    }
   ],
   "source": [
    "s[0]"
   ]
  },
  {
   "cell_type": "code",
   "execution_count": 4,
   "id": "88af8d38",
   "metadata": {},
   "outputs": [
    {
     "data": {
      "text/plain": [
       "'u'"
      ]
     },
     "execution_count": 4,
     "metadata": {},
     "output_type": "execute_result"
    }
   ],
   "source": [
    "s[1]"
   ]
  },
  {
   "cell_type": "code",
   "execution_count": 5,
   "id": "d1dd2db3",
   "metadata": {},
   "outputs": [
    {
     "data": {
      "text/plain": [
       "'d'"
      ]
     },
     "execution_count": 5,
     "metadata": {},
     "output_type": "execute_result"
    }
   ],
   "source": [
    "s[2]"
   ]
  },
  {
   "cell_type": "code",
   "execution_count": 6,
   "id": "b0758a9e",
   "metadata": {},
   "outputs": [
    {
     "data": {
      "text/plain": [
       "'h'"
      ]
     },
     "execution_count": 6,
     "metadata": {},
     "output_type": "execute_result"
    }
   ],
   "source": [
    "s[3]"
   ]
  },
  {
   "cell_type": "code",
   "execution_count": 7,
   "id": "9cea873e",
   "metadata": {},
   "outputs": [
    {
     "ename": "IndexError",
     "evalue": "string index out of range",
     "output_type": "error",
     "traceback": [
      "\u001b[1;31m---------------------------------------------------------------------------\u001b[0m",
      "\u001b[1;31mIndexError\u001b[0m                                Traceback (most recent call last)",
      "\u001b[1;32m~\\AppData\\Local\\Temp\\ipykernel_7324\\1232273192.py\u001b[0m in \u001b[0;36m<module>\u001b[1;34m\u001b[0m\n\u001b[1;32m----> 1\u001b[1;33m \u001b[0ms\u001b[0m\u001b[1;33m[\u001b[0m\u001b[1;36m4\u001b[0m\u001b[1;33m]\u001b[0m\u001b[1;33m\u001b[0m\u001b[1;33m\u001b[0m\u001b[0m\n\u001b[0m",
      "\u001b[1;31mIndexError\u001b[0m: string index out of range"
     ]
    }
   ],
   "source": [
    "s[4]"
   ]
  },
  {
   "cell_type": "code",
   "execution_count": 8,
   "id": "fd277c74",
   "metadata": {},
   "outputs": [
    {
     "data": {
      "text/plain": [
       "'s'"
      ]
     },
     "execution_count": 8,
     "metadata": {},
     "output_type": "execute_result"
    }
   ],
   "source": [
    "s[-4]"
   ]
  },
  {
   "cell_type": "code",
   "execution_count": 9,
   "id": "7bcc245c",
   "metadata": {},
   "outputs": [
    {
     "data": {
      "text/plain": [
       "'h'"
      ]
     },
     "execution_count": 9,
     "metadata": {},
     "output_type": "execute_result"
    }
   ],
   "source": [
    "s[-1]"
   ]
  },
  {
   "cell_type": "code",
   "execution_count": 10,
   "id": "85e4a8f9",
   "metadata": {},
   "outputs": [],
   "source": [
    "a = \"my name is sudh\""
   ]
  },
  {
   "cell_type": "code",
   "execution_count": 11,
   "id": "8a9c9aa3",
   "metadata": {},
   "outputs": [
    {
     "data": {
      "text/plain": [
       "'my na'"
      ]
     },
     "execution_count": 11,
     "metadata": {},
     "output_type": "execute_result"
    }
   ],
   "source": [
    "a[0:5]"
   ]
  },
  {
   "cell_type": "code",
   "execution_count": 12,
   "id": "3b1573a3",
   "metadata": {},
   "outputs": [],
   "source": [
    " b= 'vijay'"
   ]
  },
  {
   "cell_type": "code",
   "execution_count": 13,
   "id": "43847e5a",
   "metadata": {},
   "outputs": [
    {
     "data": {
      "text/plain": [
       "'j'"
      ]
     },
     "execution_count": 13,
     "metadata": {},
     "output_type": "execute_result"
    }
   ],
   "source": [
    "b[2]"
   ]
  },
  {
   "cell_type": "code",
   "execution_count": 14,
   "id": "676ade89",
   "metadata": {},
   "outputs": [
    {
     "data": {
      "text/plain": [
       "'my name is'"
      ]
     },
     "execution_count": 14,
     "metadata": {},
     "output_type": "execute_result"
    }
   ],
   "source": [
    "a[0:10]"
   ]
  },
  {
   "cell_type": "code",
   "execution_count": 15,
   "id": "406a6cb5",
   "metadata": {},
   "outputs": [],
   "source": [
    " b = 'ineuron'"
   ]
  },
  {
   "cell_type": "code",
   "execution_count": 16,
   "id": "73a1e1c0",
   "metadata": {},
   "outputs": [
    {
     "data": {
      "text/plain": [
       "'ine'"
      ]
     },
     "execution_count": 16,
     "metadata": {},
     "output_type": "execute_result"
    }
   ],
   "source": [
    "b[0:3]"
   ]
  },
  {
   "cell_type": "code",
   "execution_count": 17,
   "id": "41992e03",
   "metadata": {},
   "outputs": [
    {
     "data": {
      "text/plain": [
       "'ineuron'"
      ]
     },
     "execution_count": 17,
     "metadata": {},
     "output_type": "execute_result"
    }
   ],
   "source": [
    "b[0:300]"
   ]
  },
  {
   "cell_type": "code",
   "execution_count": 18,
   "id": "fed3af95",
   "metadata": {},
   "outputs": [
    {
     "data": {
      "text/plain": [
       "'n'"
      ]
     },
     "execution_count": 18,
     "metadata": {},
     "output_type": "execute_result"
    }
   ],
   "source": [
    "b[-1]"
   ]
  },
  {
   "cell_type": "code",
   "execution_count": 19,
   "id": "e1fea250",
   "metadata": {},
   "outputs": [
    {
     "data": {
      "text/plain": [
       "''"
      ]
     },
     "execution_count": 19,
     "metadata": {},
     "output_type": "execute_result"
    }
   ],
   "source": [
    "b[-1:-4]   # because of positive jump direction"
   ]
  },
  {
   "cell_type": "code",
   "execution_count": 20,
   "id": "089f3d38",
   "metadata": {},
   "outputs": [
    {
     "data": {
      "text/plain": [
       "'iern'"
      ]
     },
     "execution_count": 20,
     "metadata": {},
     "output_type": "execute_result"
    }
   ],
   "source": [
    "b[0:300:2]"
   ]
  },
  {
   "cell_type": "code",
   "execution_count": 21,
   "id": "143bb785",
   "metadata": {},
   "outputs": [
    {
     "data": {
      "text/plain": [
       "''"
      ]
     },
     "execution_count": 21,
     "metadata": {},
     "output_type": "execute_result"
    }
   ],
   "source": [
    "a[0:100:-1]"
   ]
  },
  {
   "cell_type": "code",
   "execution_count": 22,
   "id": "92d25da8",
   "metadata": {},
   "outputs": [
    {
     "data": {
      "text/plain": [
       "'ineuron'"
      ]
     },
     "execution_count": 22,
     "metadata": {},
     "output_type": "execute_result"
    }
   ],
   "source": [
    "b"
   ]
  },
  {
   "cell_type": "code",
   "execution_count": 23,
   "id": "414732b8",
   "metadata": {},
   "outputs": [
    {
     "data": {
      "text/plain": [
       "'ine'"
      ]
     },
     "execution_count": 23,
     "metadata": {},
     "output_type": "execute_result"
    }
   ],
   "source": [
    "b[0:-4]"
   ]
  },
  {
   "cell_type": "code",
   "execution_count": 24,
   "id": "adeb4eac",
   "metadata": {},
   "outputs": [],
   "source": [
    "c = \"kumar\""
   ]
  },
  {
   "cell_type": "code",
   "execution_count": 25,
   "id": "9daed928",
   "metadata": {},
   "outputs": [
    {
     "data": {
      "text/plain": [
       "'kmr'"
      ]
     },
     "execution_count": 25,
     "metadata": {},
     "output_type": "execute_result"
    }
   ],
   "source": [
    "c[0:300:2]"
   ]
  },
  {
   "cell_type": "code",
   "execution_count": 26,
   "id": "63aa29f0",
   "metadata": {},
   "outputs": [
    {
     "data": {
      "text/plain": [
       "''"
      ]
     },
     "execution_count": 26,
     "metadata": {},
     "output_type": "execute_result"
    }
   ],
   "source": [
    "c[-1:-4]"
   ]
  },
  {
   "cell_type": "code",
   "execution_count": 27,
   "id": "58642221",
   "metadata": {},
   "outputs": [
    {
     "data": {
      "text/plain": [
       "'ram'"
      ]
     },
     "execution_count": 27,
     "metadata": {},
     "output_type": "execute_result"
    }
   ],
   "source": [
    "c[-1:-4:-1]"
   ]
  },
  {
   "cell_type": "code",
   "execution_count": 28,
   "id": "cfa0c3c9",
   "metadata": {},
   "outputs": [
    {
     "data": {
      "text/plain": [
       "'k'"
      ]
     },
     "execution_count": 28,
     "metadata": {},
     "output_type": "execute_result"
    }
   ],
   "source": [
    "c[0:-10:-1]"
   ]
  },
  {
   "cell_type": "code",
   "execution_count": 29,
   "id": "3f9feb08",
   "metadata": {},
   "outputs": [
    {
     "data": {
      "text/plain": [
       "'kumar'"
      ]
     },
     "execution_count": 29,
     "metadata": {},
     "output_type": "execute_result"
    }
   ],
   "source": [
    "c[::]"
   ]
  },
  {
   "cell_type": "code",
   "execution_count": 30,
   "id": "ee6997cb",
   "metadata": {},
   "outputs": [
    {
     "data": {
      "text/plain": [
       "'kumar'"
      ]
     },
     "execution_count": 30,
     "metadata": {},
     "output_type": "execute_result"
    }
   ],
   "source": [
    "c[:8]"
   ]
  },
  {
   "cell_type": "code",
   "execution_count": 31,
   "id": "fc67b3b4",
   "metadata": {},
   "outputs": [
    {
     "data": {
      "text/plain": [
       "'ar'"
      ]
     },
     "execution_count": 31,
     "metadata": {},
     "output_type": "execute_result"
    }
   ],
   "source": [
    "c[-2:]"
   ]
  },
  {
   "cell_type": "code",
   "execution_count": 32,
   "id": "3c62f1a2",
   "metadata": {},
   "outputs": [
    {
     "data": {
      "text/plain": [
       "'a'"
      ]
     },
     "execution_count": 32,
     "metadata": {},
     "output_type": "execute_result"
    }
   ],
   "source": [
    "c[-2:-1]"
   ]
  },
  {
   "cell_type": "code",
   "execution_count": 33,
   "id": "7d4ddc99",
   "metadata": {},
   "outputs": [
    {
     "data": {
      "text/plain": [
       "'ramuk'"
      ]
     },
     "execution_count": 33,
     "metadata": {},
     "output_type": "execute_result"
    }
   ],
   "source": [
    "c[::-1]"
   ]
  },
  {
   "cell_type": "code",
   "execution_count": 34,
   "id": "498683c4",
   "metadata": {},
   "outputs": [
    {
     "data": {
      "text/plain": [
       "'ramuk'"
      ]
     },
     "execution_count": 34,
     "metadata": {},
     "output_type": "execute_result"
    }
   ],
   "source": [
    "c[-1::-1]"
   ]
  },
  {
   "cell_type": "code",
   "execution_count": 35,
   "id": "6adf8b80",
   "metadata": {},
   "outputs": [
    {
     "data": {
      "text/plain": [
       "'my name is sudh'"
      ]
     },
     "execution_count": 35,
     "metadata": {},
     "output_type": "execute_result"
    }
   ],
   "source": [
    "a"
   ]
  },
  {
   "cell_type": "code",
   "execution_count": 36,
   "id": "f7281c5b",
   "metadata": {},
   "outputs": [
    {
     "data": {
      "text/plain": [
       "'hdus si eman ym'"
      ]
     },
     "execution_count": 36,
     "metadata": {},
     "output_type": "execute_result"
    }
   ],
   "source": [
    "a[::-1]"
   ]
  },
  {
   "cell_type": "code",
   "execution_count": 37,
   "id": "06df4ad7",
   "metadata": {},
   "outputs": [
    {
     "data": {
      "text/plain": [
       "'my name is sudh'"
      ]
     },
     "execution_count": 37,
     "metadata": {},
     "output_type": "execute_result"
    }
   ],
   "source": [
    "a"
   ]
  },
  {
   "cell_type": "code",
   "execution_count": 38,
   "id": "0ebc488e",
   "metadata": {},
   "outputs": [
    {
     "data": {
      "text/plain": [
       "' si e'"
      ]
     },
     "execution_count": 38,
     "metadata": {},
     "output_type": "execute_result"
    }
   ],
   "source": [
    "a[-5:5:-1]"
   ]
  },
  {
   "cell_type": "code",
   "execution_count": 39,
   "id": "50ac8c7e",
   "metadata": {},
   "outputs": [
    {
     "data": {
      "text/plain": [
       "'sudhsudhsudh'"
      ]
     },
     "execution_count": 39,
     "metadata": {},
     "output_type": "execute_result"
    }
   ],
   "source": [
    "\"sudh\"*3"
   ]
  },
  {
   "cell_type": "code",
   "execution_count": 40,
   "id": "8a70cc22",
   "metadata": {},
   "outputs": [
    {
     "data": {
      "text/plain": [
       "'sudhkumar'"
      ]
     },
     "execution_count": 40,
     "metadata": {},
     "output_type": "execute_result"
    }
   ],
   "source": [
    "\"sudh\"+ \"kumar\""
   ]
  },
  {
   "cell_type": "code",
   "execution_count": 41,
   "id": "40e053ab",
   "metadata": {},
   "outputs": [
    {
     "data": {
      "text/plain": [
       "'my name is sudh'"
      ]
     },
     "execution_count": 41,
     "metadata": {},
     "output_type": "execute_result"
    }
   ],
   "source": [
    "a"
   ]
  },
  {
   "cell_type": "code",
   "execution_count": 42,
   "id": "d9a26b77",
   "metadata": {},
   "outputs": [
    {
     "data": {
      "text/plain": [
       "15"
      ]
     },
     "execution_count": 42,
     "metadata": {},
     "output_type": "execute_result"
    }
   ],
   "source": [
    "len(a) # length is including a space"
   ]
  },
  {
   "cell_type": "code",
   "execution_count": 43,
   "id": "cdbe59d2",
   "metadata": {},
   "outputs": [
    {
     "ename": "SyntaxError",
     "evalue": "invalid syntax (277709081.py, line 1)",
     "output_type": "error",
     "traceback": [
      "\u001b[1;36m  File \u001b[1;32m\"C:\\Users\\MR.GODHADE\\AppData\\Local\\Temp\\ipykernel_7324\\277709081.py\"\u001b[1;36m, line \u001b[1;32m1\u001b[0m\n\u001b[1;33m    a.find('m') it give first occurences\u001b[0m\n\u001b[1;37m                ^\u001b[0m\n\u001b[1;31mSyntaxError\u001b[0m\u001b[1;31m:\u001b[0m invalid syntax\n"
     ]
    }
   ],
   "source": [
    "a.find('m') it give first occurences"
   ]
  },
  {
   "cell_type": "code",
   "execution_count": 44,
   "id": "19f960ad",
   "metadata": {},
   "outputs": [
    {
     "data": {
      "text/plain": [
       "5"
      ]
     },
     "execution_count": 44,
     "metadata": {},
     "output_type": "execute_result"
    }
   ],
   "source": [
    "a.find('me')"
   ]
  },
  {
   "cell_type": "code",
   "execution_count": 45,
   "id": "7fa2f22d",
   "metadata": {},
   "outputs": [
    {
     "data": {
      "text/plain": [
       "-1"
      ]
     },
     "execution_count": 45,
     "metadata": {},
     "output_type": "execute_result"
    }
   ],
   "source": [
    "a.find('pa') # if it is not available it returns -1"
   ]
  },
  {
   "cell_type": "code",
   "execution_count": 46,
   "id": "b389585c",
   "metadata": {},
   "outputs": [
    {
     "data": {
      "text/plain": [
       "1"
      ]
     },
     "execution_count": 46,
     "metadata": {},
     "output_type": "execute_result"
    }
   ],
   "source": [
    "a.count('i') # "
   ]
  },
  {
   "cell_type": "code",
   "execution_count": 47,
   "id": "2c7494e4",
   "metadata": {},
   "outputs": [
    {
     "data": {
      "text/plain": [
       "'my name is sudh'"
      ]
     },
     "execution_count": 47,
     "metadata": {},
     "output_type": "execute_result"
    }
   ],
   "source": [
    "a"
   ]
  },
  {
   "cell_type": "code",
   "execution_count": 48,
   "id": "afccf9ff",
   "metadata": {},
   "outputs": [
    {
     "data": {
      "text/plain": [
       "2"
      ]
     },
     "execution_count": 48,
     "metadata": {},
     "output_type": "execute_result"
    }
   ],
   "source": [
    "a.count('m') # it returns the count of 'm' in string"
   ]
  },
  {
   "cell_type": "code",
   "execution_count": 49,
   "id": "0552bd0f",
   "metadata": {},
   "outputs": [
    {
     "data": {
      "text/plain": [
       "2"
      ]
     },
     "execution_count": 49,
     "metadata": {},
     "output_type": "execute_result"
    }
   ],
   "source": [
    "a.count('s')"
   ]
  },
  {
   "cell_type": "code",
   "execution_count": 50,
   "id": "ef50cd7b",
   "metadata": {},
   "outputs": [
    {
     "data": {
      "text/plain": [
       "['my', 'name', 'is', 'sudh']"
      ]
     },
     "execution_count": 50,
     "metadata": {},
     "output_type": "execute_result"
    }
   ],
   "source": [
    "a.split() # it returns the list"
   ]
  },
  {
   "cell_type": "code",
   "execution_count": 51,
   "id": "dde9cf92",
   "metadata": {},
   "outputs": [
    {
     "data": {
      "text/plain": [
       "list"
      ]
     },
     "execution_count": 51,
     "metadata": {},
     "output_type": "execute_result"
    }
   ],
   "source": [
    "type(a.split())"
   ]
  },
  {
   "cell_type": "code",
   "execution_count": 52,
   "id": "2344d02d",
   "metadata": {},
   "outputs": [],
   "source": [
    "l = a.split()"
   ]
  },
  {
   "cell_type": "code",
   "execution_count": 53,
   "id": "ec87a99e",
   "metadata": {},
   "outputs": [
    {
     "data": {
      "text/plain": [
       "['my', 'name', 'is', 'sudh']"
      ]
     },
     "execution_count": 53,
     "metadata": {},
     "output_type": "execute_result"
    }
   ],
   "source": [
    "l"
   ]
  },
  {
   "cell_type": "code",
   "execution_count": 54,
   "id": "6e73bb2e",
   "metadata": {},
   "outputs": [
    {
     "data": {
      "text/plain": [
       "'my'"
      ]
     },
     "execution_count": 54,
     "metadata": {},
     "output_type": "execute_result"
    }
   ],
   "source": [
    "l[0]"
   ]
  },
  {
   "cell_type": "code",
   "execution_count": 55,
   "id": "3c1972d9",
   "metadata": {},
   "outputs": [
    {
     "data": {
      "text/plain": [
       "'sudh'"
      ]
     },
     "execution_count": 55,
     "metadata": {},
     "output_type": "execute_result"
    }
   ],
   "source": [
    "l[3]"
   ]
  },
  {
   "cell_type": "code",
   "execution_count": 56,
   "id": "e4d2f462",
   "metadata": {},
   "outputs": [
    {
     "data": {
      "text/plain": [
       "['my', 'name', 'is']"
      ]
     },
     "execution_count": 56,
     "metadata": {},
     "output_type": "execute_result"
    }
   ],
   "source": [
    "l[0:3]"
   ]
  },
  {
   "cell_type": "code",
   "execution_count": 57,
   "id": "cd4e69b0",
   "metadata": {},
   "outputs": [
    {
     "data": {
      "text/plain": [
       "'my name is sudh'"
      ]
     },
     "execution_count": 57,
     "metadata": {},
     "output_type": "execute_result"
    }
   ],
   "source": [
    "a"
   ]
  },
  {
   "cell_type": "code",
   "execution_count": 58,
   "id": "08fe5277",
   "metadata": {},
   "outputs": [
    {
     "data": {
      "text/plain": [
       "['my ', 'ame is sudh']"
      ]
     },
     "execution_count": 58,
     "metadata": {},
     "output_type": "execute_result"
    }
   ],
   "source": [
    " a.split('n')   # wherever n is there split from there."
   ]
  },
  {
   "cell_type": "code",
   "execution_count": 59,
   "id": "82f1f89c",
   "metadata": {},
   "outputs": [
    {
     "data": {
      "text/plain": [
       "['my ', 'me is sudh']"
      ]
     },
     "execution_count": 59,
     "metadata": {},
     "output_type": "execute_result"
    }
   ],
   "source": [
    "a.split('na')   # # wherever 'na' is there split from there."
   ]
  },
  {
   "cell_type": "code",
   "execution_count": 60,
   "id": "9211073f",
   "metadata": {},
   "outputs": [
    {
     "data": {
      "text/plain": [
       "'MY NAME IS SUDH'"
      ]
     },
     "execution_count": 60,
     "metadata": {},
     "output_type": "execute_result"
    }
   ],
   "source": [
    "a.upper()     # All string is converted into uppercase"
   ]
  },
  {
   "cell_type": "code",
   "execution_count": 61,
   "id": "7c5a29ab",
   "metadata": {},
   "outputs": [],
   "source": [
    "s = \"SuDh\""
   ]
  },
  {
   "cell_type": "code",
   "execution_count": 62,
   "id": "48eab724",
   "metadata": {},
   "outputs": [
    {
     "data": {
      "text/plain": [
       "'sUdH'"
      ]
     },
     "execution_count": 62,
     "metadata": {},
     "output_type": "execute_result"
    }
   ],
   "source": [
    "s.swapcase()         # convert uppercase char into lower case and vice varsa"
   ]
  },
  {
   "cell_type": "code",
   "execution_count": 63,
   "id": "71f87c72",
   "metadata": {},
   "outputs": [
    {
     "data": {
      "text/plain": [
       "'Sudh'"
      ]
     },
     "execution_count": 63,
     "metadata": {},
     "output_type": "execute_result"
    }
   ],
   "source": [
    "s.title()        # each word first character is uppercase"
   ]
  },
  {
   "cell_type": "code",
   "execution_count": 64,
   "id": "32369b01",
   "metadata": {},
   "outputs": [
    {
     "data": {
      "text/plain": [
       "'Sudh'"
      ]
     },
     "execution_count": 64,
     "metadata": {},
     "output_type": "execute_result"
    }
   ],
   "source": [
    "s.capitalize()"
   ]
  },
  {
   "cell_type": "code",
   "execution_count": 65,
   "id": "927ad3e0",
   "metadata": {},
   "outputs": [
    {
     "data": {
      "text/plain": [
       "'ineuron'"
      ]
     },
     "execution_count": 65,
     "metadata": {},
     "output_type": "execute_result"
    }
   ],
   "source": [
    "b"
   ]
  },
  {
   "cell_type": "code",
   "execution_count": 66,
   "id": "7d646b94",
   "metadata": {},
   "outputs": [
    {
     "data": {
      "text/plain": [
       "'SuDh'"
      ]
     },
     "execution_count": 66,
     "metadata": {},
     "output_type": "execute_result"
    }
   ],
   "source": [
    "s"
   ]
  },
  {
   "cell_type": "code",
   "execution_count": 67,
   "id": "a5729671",
   "metadata": {},
   "outputs": [
    {
     "data": {
      "text/plain": [
       "'kineuronuineuronmineuronaineuronr'"
      ]
     },
     "execution_count": 67,
     "metadata": {},
     "output_type": "execute_result"
    }
   ],
   "source": [
    "b.join(c)"
   ]
  },
  {
   "cell_type": "code",
   "execution_count": 68,
   "id": "2eaf2b08",
   "metadata": {},
   "outputs": [
    {
     "data": {
      "text/plain": [
       "'s u d h'"
      ]
     },
     "execution_count": 68,
     "metadata": {},
     "output_type": "execute_result"
    }
   ],
   "source": [
    "\" \".join(\"sudh\")"
   ]
  },
  {
   "cell_type": "code",
   "execution_count": 69,
   "id": "34cdb980",
   "metadata": {},
   "outputs": [],
   "source": [
    "z=\" lenovo \""
   ]
  },
  {
   "cell_type": "code",
   "execution_count": 70,
   "id": "a974bc8b",
   "metadata": {},
   "outputs": [
    {
     "data": {
      "text/plain": [
       "' lenovo'"
      ]
     },
     "execution_count": 70,
     "metadata": {},
     "output_type": "execute_result"
    }
   ],
   "source": [
    "z.rstrip()"
   ]
  },
  {
   "cell_type": "code",
   "execution_count": 71,
   "id": "61a5cb28",
   "metadata": {},
   "outputs": [
    {
     "data": {
      "text/plain": [
       "'lenovo '"
      ]
     },
     "execution_count": 71,
     "metadata": {},
     "output_type": "execute_result"
    }
   ],
   "source": [
    "z.lstrip()"
   ]
  },
  {
   "cell_type": "code",
   "execution_count": 72,
   "id": "71340f65",
   "metadata": {},
   "outputs": [
    {
     "data": {
      "text/plain": [
       "' leabcovo '"
      ]
     },
     "execution_count": 72,
     "metadata": {},
     "output_type": "execute_result"
    }
   ],
   "source": [
    "z.replace(\"n\",\"abc\")"
   ]
  },
  {
   "cell_type": "code",
   "execution_count": 73,
   "id": "4899463d",
   "metadata": {},
   "outputs": [
    {
     "data": {
      "text/plain": [
       "'sudh    jumar'"
      ]
     },
     "execution_count": 73,
     "metadata": {},
     "output_type": "execute_result"
    }
   ],
   "source": [
    "\"sudh\\tjumar\".expandtabs()"
   ]
  },
  {
   "cell_type": "code",
   "execution_count": 74,
   "id": "454de506",
   "metadata": {},
   "outputs": [],
   "source": [
    "s = \"sudh\""
   ]
  },
  {
   "cell_type": "code",
   "execution_count": 75,
   "id": "36a7b000",
   "metadata": {},
   "outputs": [
    {
     "data": {
      "text/plain": [
       "'ttttttttttttttttttsudhtttttttttttttttttt'"
      ]
     },
     "execution_count": 75,
     "metadata": {},
     "output_type": "execute_result"
    }
   ],
   "source": [
    "s.center(40,'t')"
   ]
  },
  {
   "cell_type": "code",
   "execution_count": 76,
   "id": "ce932351",
   "metadata": {},
   "outputs": [
    {
     "data": {
      "text/plain": [
       "'##################sudh##################'"
      ]
     },
     "execution_count": 76,
     "metadata": {},
     "output_type": "execute_result"
    }
   ],
   "source": [
    "s.center(40,'#')"
   ]
  },
  {
   "cell_type": "code",
   "execution_count": 79,
   "id": "d5f7f1af",
   "metadata": {},
   "outputs": [
    {
     "data": {
      "text/plain": [
       "'sudh'"
      ]
     },
     "execution_count": 79,
     "metadata": {},
     "output_type": "execute_result"
    }
   ],
   "source": [
    "s"
   ]
  },
  {
   "cell_type": "code",
   "execution_count": 78,
   "id": "92c5c113",
   "metadata": {},
   "outputs": [
    {
     "data": {
      "text/plain": [
       "False"
      ]
     },
     "execution_count": 78,
     "metadata": {},
     "output_type": "execute_result"
    }
   ],
   "source": [
    "s.isupper()"
   ]
  },
  {
   "cell_type": "code",
   "execution_count": 80,
   "id": "c9858be6",
   "metadata": {},
   "outputs": [
    {
     "data": {
      "text/plain": [
       "True"
      ]
     },
     "execution_count": 80,
     "metadata": {},
     "output_type": "execute_result"
    }
   ],
   "source": [
    "s.islower()"
   ]
  },
  {
   "cell_type": "code",
   "execution_count": 81,
   "id": "51015a5d",
   "metadata": {},
   "outputs": [
    {
     "data": {
      "text/plain": [
       "False"
      ]
     },
     "execution_count": 81,
     "metadata": {},
     "output_type": "execute_result"
    }
   ],
   "source": [
    "s.isspace()"
   ]
  },
  {
   "cell_type": "code",
   "execution_count": 82,
   "id": "504d132c",
   "metadata": {},
   "outputs": [
    {
     "data": {
      "text/plain": [
       "'my name is sudh'"
      ]
     },
     "execution_count": 82,
     "metadata": {},
     "output_type": "execute_result"
    }
   ],
   "source": [
    "a"
   ]
  },
  {
   "cell_type": "code",
   "execution_count": 83,
   "id": "34a54404",
   "metadata": {},
   "outputs": [
    {
     "data": {
      "text/plain": [
       "False"
      ]
     },
     "execution_count": 83,
     "metadata": {},
     "output_type": "execute_result"
    }
   ],
   "source": [
    "a.isspace()"
   ]
  },
  {
   "cell_type": "code",
   "execution_count": 85,
   "id": "0699c4ee",
   "metadata": {},
   "outputs": [
    {
     "data": {
      "text/plain": [
       "'vijay Patil'"
      ]
     },
     "execution_count": 85,
     "metadata": {},
     "output_type": "execute_result"
    }
   ],
   "source": [
    "b = \"vijay Patil\"\n",
    "b"
   ]
  },
  {
   "cell_type": "code",
   "execution_count": 86,
   "id": "92c298dd",
   "metadata": {},
   "outputs": [
    {
     "data": {
      "text/plain": [
       "False"
      ]
     },
     "execution_count": 86,
     "metadata": {},
     "output_type": "execute_result"
    }
   ],
   "source": [
    "b.isspace()"
   ]
  },
  {
   "cell_type": "code",
   "execution_count": 88,
   "id": "30321ead",
   "metadata": {},
   "outputs": [
    {
     "data": {
      "text/plain": [
       "True"
      ]
     },
     "execution_count": 88,
     "metadata": {},
     "output_type": "execute_result"
    }
   ],
   "source": [
    "b.endswith('l')"
   ]
  },
  {
   "cell_type": "code",
   "execution_count": 89,
   "id": "4882bb4a",
   "metadata": {},
   "outputs": [
    {
     "data": {
      "text/plain": [
       "False"
      ]
     },
     "execution_count": 89,
     "metadata": {},
     "output_type": "execute_result"
    }
   ],
   "source": [
    "b.endswith('v')"
   ]
  },
  {
   "cell_type": "code",
   "execution_count": 90,
   "id": "24e4d3a6",
   "metadata": {},
   "outputs": [
    {
     "data": {
      "text/plain": [
       "True"
      ]
     },
     "execution_count": 90,
     "metadata": {},
     "output_type": "execute_result"
    }
   ],
   "source": [
    "b.startswith('v')"
   ]
  },
  {
   "cell_type": "code",
   "execution_count": 91,
   "id": "2cdd3976",
   "metadata": {},
   "outputs": [
    {
     "data": {
      "text/plain": [
       "False"
      ]
     },
     "execution_count": 91,
     "metadata": {},
     "output_type": "execute_result"
    }
   ],
   "source": [
    "b.startswith('p')"
   ]
  },
  {
   "cell_type": "code",
   "execution_count": 92,
   "id": "18aa327c",
   "metadata": {},
   "outputs": [
    {
     "data": {
      "text/plain": [
       "False"
      ]
     },
     "execution_count": 92,
     "metadata": {},
     "output_type": "execute_result"
    }
   ],
   "source": [
    "b.istitle()"
   ]
  },
  {
   "cell_type": "code",
   "execution_count": 93,
   "id": "2e8bca48",
   "metadata": {},
   "outputs": [],
   "source": [
    "l = [\"sudh\", \"kumar\", 345, 4+5j, True, 234.34]"
   ]
  },
  {
   "cell_type": "code",
   "execution_count": 94,
   "id": "63817167",
   "metadata": {},
   "outputs": [
    {
     "data": {
      "text/plain": [
       "list"
      ]
     },
     "execution_count": 94,
     "metadata": {},
     "output_type": "execute_result"
    }
   ],
   "source": [
    "type(l)"
   ]
  },
  {
   "cell_type": "code",
   "execution_count": 95,
   "id": "1258888c",
   "metadata": {},
   "outputs": [
    {
     "data": {
      "text/plain": [
       "str"
      ]
     },
     "execution_count": 95,
     "metadata": {},
     "output_type": "execute_result"
    }
   ],
   "source": [
    "type(l[0])"
   ]
  },
  {
   "cell_type": "code",
   "execution_count": 96,
   "id": "664bb26a",
   "metadata": {},
   "outputs": [
    {
     "data": {
      "text/plain": [
       "complex"
      ]
     },
     "execution_count": 96,
     "metadata": {},
     "output_type": "execute_result"
    }
   ],
   "source": [
    "type(l[3])"
   ]
  },
  {
   "cell_type": "code",
   "execution_count": 97,
   "id": "cde58ca5",
   "metadata": {},
   "outputs": [
    {
     "data": {
      "text/plain": [
       "'d'"
      ]
     },
     "execution_count": 97,
     "metadata": {},
     "output_type": "execute_result"
    }
   ],
   "source": [
    "l[0][2]"
   ]
  },
  {
   "cell_type": "code",
   "execution_count": 99,
   "id": "c0a7c43b",
   "metadata": {},
   "outputs": [
    {
     "data": {
      "text/plain": [
       "(4+5j)"
      ]
     },
     "execution_count": 99,
     "metadata": {},
     "output_type": "execute_result"
    }
   ],
   "source": [
    "l[3]"
   ]
  },
  {
   "cell_type": "code",
   "execution_count": 103,
   "id": "36a4ad2f",
   "metadata": {},
   "outputs": [
    {
     "data": {
      "text/plain": [
       "4.0"
      ]
     },
     "execution_count": 103,
     "metadata": {},
     "output_type": "execute_result"
    }
   ],
   "source": [
    "l[3].real"
   ]
  },
  {
   "cell_type": "code",
   "execution_count": 105,
   "id": "2a391d77",
   "metadata": {},
   "outputs": [
    {
     "name": "stdout",
     "output_type": "stream",
     "text": [
      "l1 =  ['sudh', 'kumar', 355]\n",
      "l2 =  ['xyz', 'pqr', 345.4]\n"
     ]
    }
   ],
   "source": [
    "l1= [\"sudh\", \"kumar\", 355]\n",
    "l2 = [\"xyz\", \"pqr\", 345.4]\n",
    "print(\"l1 = \",l1)\n",
    "print(\"l2 = \",l2)"
   ]
  },
  {
   "cell_type": "code",
   "execution_count": 106,
   "id": "b28922e1",
   "metadata": {},
   "outputs": [
    {
     "data": {
      "text/plain": [
       "['sudh', 'kumar', 355, 'xyz', 'pqr', 345.4]"
      ]
     },
     "execution_count": 106,
     "metadata": {},
     "output_type": "execute_result"
    }
   ],
   "source": [
    "l1 + l2 # concatination"
   ]
  },
  {
   "cell_type": "code",
   "execution_count": 111,
   "id": "953f0ac0",
   "metadata": {},
   "outputs": [
    {
     "data": {
      "text/plain": [
       "['sudh', 'kumar', 355, 'vjy']"
      ]
     },
     "execution_count": 111,
     "metadata": {},
     "output_type": "execute_result"
    }
   ],
   "source": [
    "l1 + [\"vjy\"]"
   ]
  },
  {
   "cell_type": "code",
   "execution_count": 112,
   "id": "76b2b777",
   "metadata": {},
   "outputs": [
    {
     "data": {
      "text/plain": [
       "['sudh', 'kumar', 355, 'sudh', 'kumar', 355]"
      ]
     },
     "execution_count": 112,
     "metadata": {},
     "output_type": "execute_result"
    }
   ],
   "source": [
    "l1*2"
   ]
  },
  {
   "cell_type": "code",
   "execution_count": 114,
   "id": "7b3c9f24",
   "metadata": {},
   "outputs": [
    {
     "data": {
      "text/plain": [
       "'sudh'"
      ]
     },
     "execution_count": 114,
     "metadata": {},
     "output_type": "execute_result"
    }
   ],
   "source": [
    "l1[0]"
   ]
  },
  {
   "cell_type": "code",
   "execution_count": 115,
   "id": "9a734094",
   "metadata": {},
   "outputs": [
    {
     "data": {
      "text/plain": [
       "['sudh', 'kumar', 355]"
      ]
     },
     "execution_count": 115,
     "metadata": {},
     "output_type": "execute_result"
    }
   ],
   "source": [
    "l1"
   ]
  },
  {
   "cell_type": "code",
   "execution_count": 116,
   "id": "7d12ab95",
   "metadata": {},
   "outputs": [
    {
     "data": {
      "text/plain": [
       "'kumar'"
      ]
     },
     "execution_count": 116,
     "metadata": {},
     "output_type": "execute_result"
    }
   ],
   "source": [
    "l1[1]"
   ]
  },
  {
   "cell_type": "code",
   "execution_count": 118,
   "id": "04b39655",
   "metadata": {},
   "outputs": [],
   "source": [
    "a = l1[1]"
   ]
  },
  {
   "cell_type": "code",
   "execution_count": 119,
   "id": "4127fc14",
   "metadata": {},
   "outputs": [
    {
     "data": {
      "text/plain": [
       "'kumar'"
      ]
     },
     "execution_count": 119,
     "metadata": {},
     "output_type": "execute_result"
    }
   ],
   "source": [
    "a"
   ]
  },
  {
   "cell_type": "code",
   "execution_count": 120,
   "id": "0c1364e2",
   "metadata": {},
   "outputs": [
    {
     "data": {
      "text/plain": [
       "'vumar'"
      ]
     },
     "execution_count": 120,
     "metadata": {},
     "output_type": "execute_result"
    }
   ],
   "source": [
    "a.replace(\"k\", \"v\")"
   ]
  },
  {
   "cell_type": "code",
   "execution_count": 121,
   "id": "a39b1d6f",
   "metadata": {},
   "outputs": [
    {
     "data": {
      "text/plain": [
       "True"
      ]
     },
     "execution_count": 121,
     "metadata": {},
     "output_type": "execute_result"
    }
   ],
   "source": [
    "\"kumar\" in l1"
   ]
  },
  {
   "cell_type": "code",
   "execution_count": 122,
   "id": "e887e3c4",
   "metadata": {},
   "outputs": [
    {
     "data": {
      "text/plain": [
       "['xyz', 'pqr', 345.4]"
      ]
     },
     "execution_count": 122,
     "metadata": {},
     "output_type": "execute_result"
    }
   ],
   "source": [
    "l2"
   ]
  },
  {
   "cell_type": "code",
   "execution_count": 123,
   "id": "b40425eb",
   "metadata": {},
   "outputs": [],
   "source": [
    "l2.append(\"vjy\")   # add element to the end of the list"
   ]
  },
  {
   "cell_type": "code",
   "execution_count": 127,
   "id": "f954b43b",
   "metadata": {},
   "outputs": [
    {
     "data": {
      "text/plain": [
       "['xyz', 'pqr', 345.4]"
      ]
     },
     "execution_count": 127,
     "metadata": {},
     "output_type": "execute_result"
    }
   ],
   "source": [
    "l2"
   ]
  },
  {
   "cell_type": "code",
   "execution_count": 125,
   "id": "e5e05e08",
   "metadata": {},
   "outputs": [
    {
     "data": {
      "text/plain": [
       "'vjy'"
      ]
     },
     "execution_count": 125,
     "metadata": {},
     "output_type": "execute_result"
    }
   ],
   "source": [
    "l2.pop()              # by default index is -1, so it remove last element "
   ]
  },
  {
   "cell_type": "code",
   "execution_count": 126,
   "id": "7bfcadee",
   "metadata": {},
   "outputs": [
    {
     "data": {
      "text/plain": [
       "['xyz', 'pqr', 345.4]"
      ]
     },
     "execution_count": 126,
     "metadata": {},
     "output_type": "execute_result"
    }
   ],
   "source": [
    "l2"
   ]
  },
  {
   "cell_type": "code",
   "execution_count": 129,
   "id": "170b6053",
   "metadata": {},
   "outputs": [
    {
     "data": {
      "text/plain": [
       "345.4"
      ]
     },
     "execution_count": 129,
     "metadata": {},
     "output_type": "execute_result"
    }
   ],
   "source": [
    "l2.pop(2)    # we can remove perticuar item from list by adding index inside a pop"
   ]
  },
  {
   "cell_type": "code",
   "execution_count": 130,
   "id": "8794d99f",
   "metadata": {},
   "outputs": [
    {
     "data": {
      "text/plain": [
       "['xyz', 'pqr']"
      ]
     },
     "execution_count": 130,
     "metadata": {},
     "output_type": "execute_result"
    }
   ],
   "source": [
    "l2"
   ]
  },
  {
   "cell_type": "code",
   "execution_count": 131,
   "id": "9ea5fe59",
   "metadata": {},
   "outputs": [],
   "source": [
    "l2.insert(1,\"vijay\")"
   ]
  },
  {
   "cell_type": "code",
   "execution_count": 132,
   "id": "1ec9fe14",
   "metadata": {},
   "outputs": [
    {
     "data": {
      "text/plain": [
       "['xyz', 'vijay', 'pqr']"
      ]
     },
     "execution_count": 132,
     "metadata": {},
     "output_type": "execute_result"
    }
   ],
   "source": [
    "l2"
   ]
  },
  {
   "cell_type": "code",
   "execution_count": 133,
   "id": "47ef1e76",
   "metadata": {},
   "outputs": [],
   "source": [
    "l2.extend([12,34,\"vp\"]) # if we want add multiple element in the list we can use extend "
   ]
  },
  {
   "cell_type": "code",
   "execution_count": 134,
   "id": "51231d3f",
   "metadata": {},
   "outputs": [
    {
     "data": {
      "text/plain": [
       "['xyz', 'vijay', 'pqr', 12, 34, 'vp']"
      ]
     },
     "execution_count": 134,
     "metadata": {},
     "output_type": "execute_result"
    }
   ],
   "source": [
    "l2"
   ]
  },
  {
   "cell_type": "code",
   "execution_count": 137,
   "id": "ccc581c2",
   "metadata": {},
   "outputs": [
    {
     "data": {
      "text/plain": [
       "'abcd    abc     pwn'"
      ]
     },
     "execution_count": 137,
     "metadata": {},
     "output_type": "execute_result"
    }
   ],
   "source": [
    "\"abcd\\tabc\\tpwn\".expandtabs()    # it will separate from \\t "
   ]
  },
  {
   "cell_type": "code",
   "execution_count": null,
   "id": "a15b68ff",
   "metadata": {},
   "outputs": [],
   "source": []
  }
 ],
 "metadata": {
  "kernelspec": {
   "display_name": "Python 3 (ipykernel)",
   "language": "python",
   "name": "python3"
  },
  "language_info": {
   "codemirror_mode": {
    "name": "ipython",
    "version": 3
   },
   "file_extension": ".py",
   "mimetype": "text/x-python",
   "name": "python",
   "nbconvert_exporter": "python",
   "pygments_lexer": "ipython3",
   "version": "3.9.13"
  }
 },
 "nbformat": 4,
 "nbformat_minor": 5
}
