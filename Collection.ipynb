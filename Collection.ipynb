{
 "cells": [
  {
   "cell_type": "markdown",
   "id": "abc08e75",
   "metadata": {},
   "source": [
    "## Tuple"
   ]
  },
  {
   "cell_type": "code",
   "execution_count": 1,
   "id": "58411561",
   "metadata": {},
   "outputs": [],
   "source": [
    "t = (1,2,3,4,5)"
   ]
  },
  {
   "cell_type": "code",
   "execution_count": 2,
   "id": "148aac6f",
   "metadata": {},
   "outputs": [
    {
     "data": {
      "text/plain": [
       "tuple"
      ]
     },
     "execution_count": 2,
     "metadata": {},
     "output_type": "execute_result"
    }
   ],
   "source": [
    "type(t)"
   ]
  },
  {
   "cell_type": "code",
   "execution_count": 3,
   "id": "57909496",
   "metadata": {},
   "outputs": [],
   "source": [
    "t1 = (\"viju\",345,45+78j,345.67,True)"
   ]
  },
  {
   "cell_type": "code",
   "execution_count": 4,
   "id": "1f5fcc2b",
   "metadata": {},
   "outputs": [
    {
     "data": {
      "text/plain": [
       "tuple"
      ]
     },
     "execution_count": 4,
     "metadata": {},
     "output_type": "execute_result"
    }
   ],
   "source": [
    "type(t1)"
   ]
  },
  {
   "cell_type": "code",
   "execution_count": 5,
   "id": "f24d04c1",
   "metadata": {},
   "outputs": [],
   "source": [
    "l = [\"viju\",345,45+78j,345.67,True]"
   ]
  },
  {
   "cell_type": "code",
   "execution_count": 6,
   "id": "845207cb",
   "metadata": {},
   "outputs": [
    {
     "data": {
      "text/plain": [
       "list"
      ]
     },
     "execution_count": 6,
     "metadata": {},
     "output_type": "execute_result"
    }
   ],
   "source": [
    "type(l)"
   ]
  },
  {
   "cell_type": "code",
   "execution_count": 7,
   "id": "6c0c9ee3",
   "metadata": {},
   "outputs": [],
   "source": [
    "t2 = ()"
   ]
  },
  {
   "cell_type": "code",
   "execution_count": 8,
   "id": "f78145d6",
   "metadata": {},
   "outputs": [
    {
     "data": {
      "text/plain": [
       "tuple"
      ]
     },
     "execution_count": 8,
     "metadata": {},
     "output_type": "execute_result"
    }
   ],
   "source": [
    "type(t2)"
   ]
  },
  {
   "cell_type": "code",
   "execution_count": 9,
   "id": "45ca4e28",
   "metadata": {},
   "outputs": [
    {
     "data": {
      "text/plain": [
       "('viju', 345, (45+78j), 345.67, True)"
      ]
     },
     "execution_count": 9,
     "metadata": {},
     "output_type": "execute_result"
    }
   ],
   "source": [
    "t1"
   ]
  },
  {
   "cell_type": "code",
   "execution_count": 10,
   "id": "e41f14e1",
   "metadata": {},
   "outputs": [
    {
     "data": {
      "text/plain": [
       "('viju', 345)"
      ]
     },
     "execution_count": 10,
     "metadata": {},
     "output_type": "execute_result"
    }
   ],
   "source": [
    "t1[0:2]"
   ]
  },
  {
   "cell_type": "code",
   "execution_count": 11,
   "id": "f0b4e533",
   "metadata": {},
   "outputs": [
    {
     "data": {
      "text/plain": [
       "['viju', 345]"
      ]
     },
     "execution_count": 11,
     "metadata": {},
     "output_type": "execute_result"
    }
   ],
   "source": [
    "l[0:2]"
   ]
  },
  {
   "cell_type": "code",
   "execution_count": 12,
   "id": "f8097c19",
   "metadata": {},
   "outputs": [
    {
     "data": {
      "text/plain": [
       "(True, 345.67, (45+78j), 345, 'viju')"
      ]
     },
     "execution_count": 12,
     "metadata": {},
     "output_type": "execute_result"
    }
   ],
   "source": [
    "t1[: : -1]"
   ]
  },
  {
   "cell_type": "code",
   "execution_count": 13,
   "id": "6b5a3da9",
   "metadata": {},
   "outputs": [
    {
     "data": {
      "text/plain": [
       "True"
      ]
     },
     "execution_count": 13,
     "metadata": {},
     "output_type": "execute_result"
    }
   ],
   "source": [
    "t1[-1]"
   ]
  },
  {
   "cell_type": "code",
   "execution_count": 14,
   "id": "9d2be846",
   "metadata": {},
   "outputs": [
    {
     "data": {
      "text/plain": [
       "('viju', (45+78j), True)"
      ]
     },
     "execution_count": 14,
     "metadata": {},
     "output_type": "execute_result"
    }
   ],
   "source": [
    "t1[0: :2]"
   ]
  },
  {
   "cell_type": "code",
   "execution_count": 15,
   "id": "755aaa4c",
   "metadata": {},
   "outputs": [
    {
     "data": {
      "text/plain": [
       "['viju', 345, (45+78j), 345.67, True]"
      ]
     },
     "execution_count": 15,
     "metadata": {},
     "output_type": "execute_result"
    }
   ],
   "source": [
    "l"
   ]
  },
  {
   "cell_type": "code",
   "execution_count": 16,
   "id": "379bad04",
   "metadata": {},
   "outputs": [
    {
     "data": {
      "text/plain": [
       "'viju'"
      ]
     },
     "execution_count": 16,
     "metadata": {},
     "output_type": "execute_result"
    }
   ],
   "source": [
    "l[0]"
   ]
  },
  {
   "cell_type": "code",
   "execution_count": 17,
   "id": "5940c3b4",
   "metadata": {},
   "outputs": [],
   "source": [
    "l[0] = \"Patil\" # Item reassignment bcz list is mutable"
   ]
  },
  {
   "cell_type": "code",
   "execution_count": 18,
   "id": "07ee6f14",
   "metadata": {},
   "outputs": [
    {
     "data": {
      "text/plain": [
       "['Patil', 345, (45+78j), 345.67, True]"
      ]
     },
     "execution_count": 18,
     "metadata": {},
     "output_type": "execute_result"
    }
   ],
   "source": [
    "l"
   ]
  },
  {
   "cell_type": "code",
   "execution_count": 19,
   "id": "234bc2d9",
   "metadata": {},
   "outputs": [
    {
     "data": {
      "text/plain": [
       "('viju', 345, (45+78j), 345.67, True)"
      ]
     },
     "execution_count": 19,
     "metadata": {},
     "output_type": "execute_result"
    }
   ],
   "source": [
    "t1"
   ]
  },
  {
   "cell_type": "code",
   "execution_count": 20,
   "id": "aae89ab7",
   "metadata": {},
   "outputs": [
    {
     "ename": "TypeError",
     "evalue": "'tuple' object does not support item assignment",
     "output_type": "error",
     "traceback": [
      "\u001b[1;31m---------------------------------------------------------------------------\u001b[0m",
      "\u001b[1;31mTypeError\u001b[0m                                 Traceback (most recent call last)",
      "\u001b[1;32m~\\AppData\\Local\\Temp\\ipykernel_9384\\977750230.py\u001b[0m in \u001b[0;36m<module>\u001b[1;34m\u001b[0m\n\u001b[1;32m----> 1\u001b[1;33m \u001b[0mt\u001b[0m\u001b[1;33m[\u001b[0m\u001b[1;36m1\u001b[0m\u001b[1;33m]\u001b[0m \u001b[1;33m=\u001b[0m \u001b[1;34m\"Patil\"\u001b[0m\u001b[1;33m\u001b[0m\u001b[1;33m\u001b[0m\u001b[0m\n\u001b[0m",
      "\u001b[1;31mTypeError\u001b[0m: 'tuple' object does not support item assignment"
     ]
    }
   ],
   "source": [
    "t[1] = \"Patil\""
   ]
  },
  {
   "cell_type": "code",
   "execution_count": 22,
   "id": "7950d1cb",
   "metadata": {},
   "outputs": [],
   "source": [
    "t2= (11,12,13,\"viju\")"
   ]
  },
  {
   "cell_type": "code",
   "execution_count": 23,
   "id": "8df1be38",
   "metadata": {},
   "outputs": [
    {
     "data": {
      "text/plain": [
       "('viju', 345, (45+78j), 345.67, True, 11, 12, 13, 'viju')"
      ]
     },
     "execution_count": 23,
     "metadata": {},
     "output_type": "execute_result"
    }
   ],
   "source": [
    "t1+t2 # concatenation"
   ]
  },
  {
   "cell_type": "code",
   "execution_count": 24,
   "id": "ea37ff66",
   "metadata": {},
   "outputs": [
    {
     "data": {
      "text/plain": [
       "('viju', 345, (45+78j), 345.67, True, 'viju', 345, (45+78j), 345.67, True)"
      ]
     },
     "execution_count": 24,
     "metadata": {},
     "output_type": "execute_result"
    }
   ],
   "source": [
    "t1*2 #multiplication"
   ]
  },
  {
   "cell_type": "code",
   "execution_count": 25,
   "id": "1a601102",
   "metadata": {},
   "outputs": [
    {
     "data": {
      "text/plain": [
       "1"
      ]
     },
     "execution_count": 25,
     "metadata": {},
     "output_type": "execute_result"
    }
   ],
   "source": [
    "t1.count(\"viju\")"
   ]
  },
  {
   "cell_type": "code",
   "execution_count": 26,
   "id": "07401933",
   "metadata": {},
   "outputs": [
    {
     "data": {
      "text/plain": [
       "1"
      ]
     },
     "execution_count": 26,
     "metadata": {},
     "output_type": "execute_result"
    }
   ],
   "source": [
    "t1.index(345)"
   ]
  },
  {
   "cell_type": "code",
   "execution_count": 27,
   "id": "a6e62b70",
   "metadata": {},
   "outputs": [],
   "source": [
    "t3 = (1,[1,2,3],\"viju\",\"patil\",(1,2,4,5),2,4,5)"
   ]
  },
  {
   "cell_type": "code",
   "execution_count": 28,
   "id": "6dd3b792",
   "metadata": {},
   "outputs": [
    {
     "data": {
      "text/plain": [
       "(1, [1, 2, 3], 'viju', 'patil', (1, 2, 4, 5), 2, 4, 5)"
      ]
     },
     "execution_count": 28,
     "metadata": {},
     "output_type": "execute_result"
    }
   ],
   "source": [
    "t3"
   ]
  },
  {
   "cell_type": "code",
   "execution_count": 29,
   "id": "82066b02",
   "metadata": {},
   "outputs": [
    {
     "data": {
      "text/plain": [
       "2"
      ]
     },
     "execution_count": 29,
     "metadata": {},
     "output_type": "execute_result"
    }
   ],
   "source": [
    "t3[1][1]"
   ]
  },
  {
   "cell_type": "code",
   "execution_count": 30,
   "id": "79fbdea8",
   "metadata": {},
   "outputs": [],
   "source": [
    "t3[1][2]= \"ab\""
   ]
  },
  {
   "cell_type": "code",
   "execution_count": 31,
   "id": "eb96d161",
   "metadata": {},
   "outputs": [
    {
     "data": {
      "text/plain": [
       "(1, [1, 2, 'ab'], 'viju', 'patil', (1, 2, 4, 5), 2, 4, 5)"
      ]
     },
     "execution_count": 31,
     "metadata": {},
     "output_type": "execute_result"
    }
   ],
   "source": [
    "t3"
   ]
  },
  {
   "cell_type": "code",
   "execution_count": 32,
   "id": "d62a6fae",
   "metadata": {},
   "outputs": [],
   "source": [
    "t4 =(23,34,56,2,3,4)"
   ]
  },
  {
   "cell_type": "code",
   "execution_count": 33,
   "id": "6079da76",
   "metadata": {},
   "outputs": [],
   "source": [
    "l1 = list(t4)"
   ]
  },
  {
   "cell_type": "code",
   "execution_count": 34,
   "id": "56632f93",
   "metadata": {},
   "outputs": [
    {
     "data": {
      "text/plain": [
       "[23, 34, 56, 2, 3, 4]"
      ]
     },
     "execution_count": 34,
     "metadata": {},
     "output_type": "execute_result"
    }
   ],
   "source": [
    "l1"
   ]
  },
  {
   "cell_type": "markdown",
   "id": "da379713",
   "metadata": {},
   "source": [
    "## Set- {}"
   ]
  },
  {
   "cell_type": "code",
   "execution_count": 35,
   "id": "8e6b44ba",
   "metadata": {},
   "outputs": [],
   "source": [
    "l2 = [1,2,3,3,3,4,5,5,5,4,3,3,6,6,7,8]"
   ]
  },
  {
   "cell_type": "code",
   "execution_count": 36,
   "id": "3d110567",
   "metadata": {},
   "outputs": [
    {
     "data": {
      "text/plain": [
       "[1, 2, 3, 3, 3, 4, 5, 5, 5, 4, 3, 3, 6, 6, 7, 8]"
      ]
     },
     "execution_count": 36,
     "metadata": {},
     "output_type": "execute_result"
    }
   ],
   "source": [
    "l2"
   ]
  },
  {
   "cell_type": "code",
   "execution_count": 37,
   "id": "4a0c5cbd",
   "metadata": {},
   "outputs": [],
   "source": [
    "s = set(l2)   # set Removed all the duplicates"
   ]
  },
  {
   "cell_type": "code",
   "execution_count": 38,
   "id": "4548ce76",
   "metadata": {},
   "outputs": [
    {
     "data": {
      "text/plain": [
       "{1, 2, 3, 4, 5, 6, 7, 8}"
      ]
     },
     "execution_count": 38,
     "metadata": {},
     "output_type": "execute_result"
    }
   ],
   "source": [
    "s"
   ]
  },
  {
   "cell_type": "code",
   "execution_count": 39,
   "id": "ce18509f",
   "metadata": {},
   "outputs": [],
   "source": [
    "s1 = {}"
   ]
  },
  {
   "cell_type": "code",
   "execution_count": 40,
   "id": "9896e6dd",
   "metadata": {},
   "outputs": [
    {
     "data": {
      "text/plain": [
       "dict"
      ]
     },
     "execution_count": 40,
     "metadata": {},
     "output_type": "execute_result"
    }
   ],
   "source": [
    "type(s1)"
   ]
  },
  {
   "cell_type": "code",
   "execution_count": 41,
   "id": "db4bc76e",
   "metadata": {},
   "outputs": [],
   "source": [
    "s1 = {1,2,3}"
   ]
  },
  {
   "cell_type": "code",
   "execution_count": 42,
   "id": "2c8ec350",
   "metadata": {},
   "outputs": [
    {
     "data": {
      "text/plain": [
       "set"
      ]
     },
     "execution_count": 42,
     "metadata": {},
     "output_type": "execute_result"
    }
   ],
   "source": [
    "type(s1)"
   ]
  },
  {
   "cell_type": "code",
   "execution_count": 43,
   "id": "7badff29",
   "metadata": {},
   "outputs": [],
   "source": [
    "s2 = {1,2,3,3,3,4,4,5,6,6,5,5,6,7}"
   ]
  },
  {
   "cell_type": "code",
   "execution_count": 44,
   "id": "560c84e1",
   "metadata": {},
   "outputs": [
    {
     "data": {
      "text/plain": [
       "{1, 2, 3, 4, 5, 6, 7}"
      ]
     },
     "execution_count": 44,
     "metadata": {},
     "output_type": "execute_result"
    }
   ],
   "source": [
    "s2"
   ]
  },
  {
   "cell_type": "code",
   "execution_count": 45,
   "id": "9773be1a",
   "metadata": {},
   "outputs": [
    {
     "data": {
      "text/plain": [
       "[1, 2, 3, 4, 5, 6, 7]"
      ]
     },
     "execution_count": 45,
     "metadata": {},
     "output_type": "execute_result"
    }
   ],
   "source": [
    "list(s2)"
   ]
  },
  {
   "cell_type": "code",
   "execution_count": 46,
   "id": "84285d8b",
   "metadata": {},
   "outputs": [
    {
     "ename": "TypeError",
     "evalue": "'set' object is not subscriptable",
     "output_type": "error",
     "traceback": [
      "\u001b[1;31m---------------------------------------------------------------------------\u001b[0m",
      "\u001b[1;31mTypeError\u001b[0m                                 Traceback (most recent call last)",
      "\u001b[1;32m~\\AppData\\Local\\Temp\\ipykernel_9384\\913632752.py\u001b[0m in \u001b[0;36m<module>\u001b[1;34m\u001b[0m\n\u001b[1;32m----> 1\u001b[1;33m \u001b[0ms2\u001b[0m\u001b[1;33m[\u001b[0m\u001b[1;36m0\u001b[0m\u001b[1;33m:\u001b[0m\u001b[1;36m2\u001b[0m\u001b[1;33m]\u001b[0m \u001b[1;31m# set doesnot support indexing and slicing opearation\u001b[0m\u001b[1;33m\u001b[0m\u001b[1;33m\u001b[0m\u001b[0m\n\u001b[0m",
      "\u001b[1;31mTypeError\u001b[0m: 'set' object is not subscriptable"
     ]
    }
   ],
   "source": [
    "s2[0:2] # set doesnot support indexing and slicing opearation"
   ]
  },
  {
   "cell_type": "code",
   "execution_count": 47,
   "id": "44e7649a",
   "metadata": {},
   "outputs": [],
   "source": [
    "s2.add(2341)"
   ]
  },
  {
   "cell_type": "code",
   "execution_count": 48,
   "id": "f2d26621",
   "metadata": {},
   "outputs": [
    {
     "data": {
      "text/plain": [
       "{1, 2, 3, 4, 5, 6, 7, 2341}"
      ]
     },
     "execution_count": 48,
     "metadata": {},
     "output_type": "execute_result"
    }
   ],
   "source": [
    "s2"
   ]
  },
  {
   "cell_type": "code",
   "execution_count": 49,
   "id": "124c8096",
   "metadata": {},
   "outputs": [],
   "source": [
    "s2.add(\"viju\")"
   ]
  },
  {
   "cell_type": "code",
   "execution_count": 50,
   "id": "0b31a30f",
   "metadata": {},
   "outputs": [
    {
     "data": {
      "text/plain": [
       "{1, 2, 2341, 3, 4, 5, 6, 7, 'viju'}"
      ]
     },
     "execution_count": 50,
     "metadata": {},
     "output_type": "execute_result"
    }
   ],
   "source": [
    "s2"
   ]
  },
  {
   "cell_type": "code",
   "execution_count": 51,
   "id": "64a4a040",
   "metadata": {},
   "outputs": [
    {
     "ename": "TypeError",
     "evalue": "unhashable type: 'list'",
     "output_type": "error",
     "traceback": [
      "\u001b[1;31m---------------------------------------------------------------------------\u001b[0m",
      "\u001b[1;31mTypeError\u001b[0m                                 Traceback (most recent call last)",
      "\u001b[1;32m~\\AppData\\Local\\Temp\\ipykernel_9384\\1596045451.py\u001b[0m in \u001b[0;36m<module>\u001b[1;34m\u001b[0m\n\u001b[1;32m----> 1\u001b[1;33m \u001b[0ms2\u001b[0m\u001b[1;33m.\u001b[0m\u001b[0madd\u001b[0m\u001b[1;33m(\u001b[0m\u001b[1;33m[\u001b[0m\u001b[1;36m1\u001b[0m\u001b[1;33m,\u001b[0m\u001b[1;36m2\u001b[0m\u001b[1;33m,\u001b[0m\u001b[1;36m3\u001b[0m\u001b[1;33m]\u001b[0m\u001b[1;33m)\u001b[0m \u001b[1;31m#\u001b[0m\u001b[1;33m\u001b[0m\u001b[1;33m\u001b[0m\u001b[0m\n\u001b[0m",
      "\u001b[1;31mTypeError\u001b[0m: unhashable type: 'list'"
     ]
    }
   ],
   "source": [
    "s2.add([1,2,3]) # "
   ]
  },
  {
   "cell_type": "code",
   "execution_count": 52,
   "id": "9ac7e3f2",
   "metadata": {},
   "outputs": [
    {
     "ename": "TypeError",
     "evalue": "unhashable type: 'list'",
     "output_type": "error",
     "traceback": [
      "\u001b[1;31m---------------------------------------------------------------------------\u001b[0m",
      "\u001b[1;31mTypeError\u001b[0m                                 Traceback (most recent call last)",
      "\u001b[1;32m~\\AppData\\Local\\Temp\\ipykernel_9384\\3356255103.py\u001b[0m in \u001b[0;36m<module>\u001b[1;34m\u001b[0m\n\u001b[1;32m----> 1\u001b[1;33m \u001b[1;33m{\u001b[0m\u001b[1;33m[\u001b[0m\u001b[1;36m1\u001b[0m\u001b[1;33m,\u001b[0m\u001b[1;36m2\u001b[0m\u001b[1;33m,\u001b[0m\u001b[1;36m3\u001b[0m\u001b[1;33m,\u001b[0m\u001b[1;36m4\u001b[0m\u001b[1;33m]\u001b[0m\u001b[1;33m,\u001b[0m\u001b[1;36m3\u001b[0m\u001b[1;33m,\u001b[0m\u001b[1;36m5\u001b[0m\u001b[1;33m,\u001b[0m\u001b[1;36m6\u001b[0m\u001b[1;33m,\u001b[0m\u001b[1;36m7\u001b[0m\u001b[1;33m,\u001b[0m\u001b[1;33m}\u001b[0m\u001b[1;33m\u001b[0m\u001b[1;33m\u001b[0m\u001b[0m\n\u001b[0m",
      "\u001b[1;31mTypeError\u001b[0m: unhashable type: 'list'"
     ]
    }
   ],
   "source": [
    "{[1,2,3,4],3,5,6,7,}"
   ]
  },
  {
   "cell_type": "code",
   "execution_count": 53,
   "id": "57f89894",
   "metadata": {},
   "outputs": [],
   "source": [
    "s3 = {(1,2,3,4),5,6,7,8}"
   ]
  },
  {
   "cell_type": "code",
   "execution_count": 54,
   "id": "c82e98b5",
   "metadata": {},
   "outputs": [],
   "source": [
    "s3.remove(7) # removed perticular element"
   ]
  },
  {
   "cell_type": "code",
   "execution_count": 55,
   "id": "f363c0f7",
   "metadata": {},
   "outputs": [
    {
     "data": {
      "text/plain": [
       "{(1, 2, 3, 4), 5, 6, 8}"
      ]
     },
     "execution_count": 55,
     "metadata": {},
     "output_type": "execute_result"
    }
   ],
   "source": [
    "s3"
   ]
  },
  {
   "cell_type": "code",
   "execution_count": 56,
   "id": "6467214d",
   "metadata": {},
   "outputs": [],
   "source": [
    "s3.discard(6)"
   ]
  },
  {
   "cell_type": "code",
   "execution_count": 57,
   "id": "c00489d4",
   "metadata": {},
   "outputs": [
    {
     "data": {
      "text/plain": [
       "{(1, 2, 3, 4), 5, 8}"
      ]
     },
     "execution_count": 57,
     "metadata": {},
     "output_type": "execute_result"
    }
   ],
   "source": [
    "s3"
   ]
  },
  {
   "cell_type": "code",
   "execution_count": 58,
   "id": "75932e2b",
   "metadata": {},
   "outputs": [],
   "source": [
    "s4 = {(1,2,3),3,4}"
   ]
  },
  {
   "cell_type": "code",
   "execution_count": 59,
   "id": "bafcb2cb",
   "metadata": {},
   "outputs": [],
   "source": [
    "s4.discard(45)"
   ]
  },
  {
   "cell_type": "code",
   "execution_count": 60,
   "id": "59857f48",
   "metadata": {},
   "outputs": [],
   "source": [
    "s5 = {'viju','Viju'}"
   ]
  },
  {
   "cell_type": "code",
   "execution_count": 61,
   "id": "17b7bb4e",
   "metadata": {},
   "outputs": [
    {
     "data": {
      "text/plain": [
       "{'Viju', 'viju'}"
      ]
     },
     "execution_count": 61,
     "metadata": {},
     "output_type": "execute_result"
    }
   ],
   "source": [
    "s5"
   ]
  },
  {
   "cell_type": "markdown",
   "id": "f8b9ff9b",
   "metadata": {},
   "source": [
    "## Dictionary"
   ]
  },
  {
   "cell_type": "code",
   "execution_count": 62,
   "id": "f5bd22f8",
   "metadata": {},
   "outputs": [],
   "source": [
    "d = {}"
   ]
  },
  {
   "cell_type": "code",
   "execution_count": 63,
   "id": "2fdb2496",
   "metadata": {},
   "outputs": [
    {
     "data": {
      "text/plain": [
       "dict"
      ]
     },
     "execution_count": 63,
     "metadata": {},
     "output_type": "execute_result"
    }
   ],
   "source": [
    "type(d)"
   ]
  },
  {
   "cell_type": "code",
   "execution_count": 64,
   "id": "a170b2f4",
   "metadata": {},
   "outputs": [],
   "source": [
    "d1={3,4}"
   ]
  },
  {
   "cell_type": "code",
   "execution_count": 65,
   "id": "03ffa4e0",
   "metadata": {},
   "outputs": [
    {
     "data": {
      "text/plain": [
       "set"
      ]
     },
     "execution_count": 65,
     "metadata": {},
     "output_type": "execute_result"
    }
   ],
   "source": [
    "type(d1)"
   ]
  },
  {
   "cell_type": "code",
   "execution_count": 66,
   "id": "e5f4984e",
   "metadata": {},
   "outputs": [],
   "source": [
    "d={4:\"sudh\"}"
   ]
  },
  {
   "cell_type": "code",
   "execution_count": 67,
   "id": "28228e1a",
   "metadata": {},
   "outputs": [
    {
     "data": {
      "text/plain": [
       "'sudh'"
      ]
     },
     "execution_count": 67,
     "metadata": {},
     "output_type": "execute_result"
    }
   ],
   "source": [
    "d[4]"
   ]
  },
  {
   "cell_type": "code",
   "execution_count": 68,
   "id": "494decd2",
   "metadata": {},
   "outputs": [],
   "source": [
    "d1={\"key1\": 345, \"key2\":\"viju\",45:[1,2,3]}"
   ]
  },
  {
   "cell_type": "code",
   "execution_count": 69,
   "id": "7d37fb1b",
   "metadata": {},
   "outputs": [
    {
     "data": {
      "text/plain": [
       "{'key1': 345, 'key2': 'viju', 45: [1, 2, 3]}"
      ]
     },
     "execution_count": 69,
     "metadata": {},
     "output_type": "execute_result"
    }
   ],
   "source": [
    "d1"
   ]
  },
  {
   "cell_type": "code",
   "execution_count": 70,
   "id": "199875ec",
   "metadata": {},
   "outputs": [
    {
     "data": {
      "text/plain": [
       "[1, 2, 3]"
      ]
     },
     "execution_count": 70,
     "metadata": {},
     "output_type": "execute_result"
    }
   ],
   "source": [
    "d1[45]"
   ]
  },
  {
   "cell_type": "code",
   "execution_count": 71,
   "id": "faa23c16",
   "metadata": {},
   "outputs": [],
   "source": [
    "d2={.4:123, 1:23}"
   ]
  },
  {
   "cell_type": "code",
   "execution_count": 72,
   "id": "4c3b717d",
   "metadata": {},
   "outputs": [
    {
     "data": {
      "text/plain": [
       "123"
      ]
     },
     "execution_count": 72,
     "metadata": {},
     "output_type": "execute_result"
    }
   ],
   "source": [
    "d2[.4]"
   ]
  },
  {
   "cell_type": "code",
   "execution_count": 73,
   "id": "64e58696",
   "metadata": {},
   "outputs": [],
   "source": [
    "d3 = {\"key1\":[2,3,4,5],\"key2\": \"viju\", \"key1\":45}"
   ]
  },
  {
   "cell_type": "code",
   "execution_count": 74,
   "id": "3e8273d9",
   "metadata": {},
   "outputs": [
    {
     "data": {
      "text/plain": [
       "{'key1': 45, 'key2': 'viju'}"
      ]
     },
     "execution_count": 74,
     "metadata": {},
     "output_type": "execute_result"
    }
   ],
   "source": [
    "d3"
   ]
  },
  {
   "cell_type": "code",
   "execution_count": 75,
   "id": "483c263a",
   "metadata": {},
   "outputs": [
    {
     "data": {
      "text/plain": [
       "45"
      ]
     },
     "execution_count": 75,
     "metadata": {},
     "output_type": "execute_result"
    }
   ],
   "source": [
    "d3[\"key1\"]"
   ]
  },
  {
   "cell_type": "code",
   "execution_count": 76,
   "id": "338330d6",
   "metadata": {},
   "outputs": [],
   "source": [
    "d4 = {'name': \"vijay\",\"mob_no\" : 23894733, \"mail_id\": \"vjy@gmail.com\", \"key1\": [4,5,6], \"key2\":(1,2,3,4), \"key3\" : {2,3,4,5,4,3,4}, \"key4\":{1:5, 2:5}}"
   ]
  },
  {
   "cell_type": "code",
   "execution_count": 77,
   "id": "fd864d20",
   "metadata": {},
   "outputs": [
    {
     "data": {
      "text/plain": [
       "{'name': 'vijay',\n",
       " 'mob_no': 23894733,\n",
       " 'mail_id': 'vjy@gmail.com',\n",
       " 'key1': [4, 5, 6],\n",
       " 'key2': (1, 2, 3, 4),\n",
       " 'key3': {2, 3, 4, 5},\n",
       " 'key4': {1: 5, 2: 5}}"
      ]
     },
     "execution_count": 77,
     "metadata": {},
     "output_type": "execute_result"
    }
   ],
   "source": [
    "d4"
   ]
  },
  {
   "cell_type": "code",
   "execution_count": 78,
   "id": "7bf63ac8",
   "metadata": {},
   "outputs": [
    {
     "data": {
      "text/plain": [
       "{1: 5, 2: 5}"
      ]
     },
     "execution_count": 78,
     "metadata": {},
     "output_type": "execute_result"
    }
   ],
   "source": [
    "d4[\"key4\"]"
   ]
  },
  {
   "cell_type": "code",
   "execution_count": 79,
   "id": "0a5f6b33",
   "metadata": {},
   "outputs": [
    {
     "data": {
      "text/plain": [
       "5"
      ]
     },
     "execution_count": 79,
     "metadata": {},
     "output_type": "execute_result"
    }
   ],
   "source": [
    "d4[\"key4\"][2]"
   ]
  },
  {
   "cell_type": "code",
   "execution_count": 80,
   "id": "a9e305c2",
   "metadata": {},
   "outputs": [
    {
     "data": {
      "text/plain": [
       "dict_values(['vijay', 23894733, 'vjy@gmail.com', [4, 5, 6], (1, 2, 3, 4), {2, 3, 4, 5}, {1: 5, 2: 5}])"
      ]
     },
     "execution_count": 80,
     "metadata": {},
     "output_type": "execute_result"
    }
   ],
   "source": [
    "d4.values()"
   ]
  },
  {
   "cell_type": "code",
   "execution_count": 81,
   "id": "d661a05a",
   "metadata": {},
   "outputs": [
    {
     "data": {
      "text/plain": [
       "dict_values"
      ]
     },
     "execution_count": 81,
     "metadata": {},
     "output_type": "execute_result"
    }
   ],
   "source": [
    "type(d4.values())"
   ]
  },
  {
   "cell_type": "code",
   "execution_count": 82,
   "id": "aa37d419",
   "metadata": {},
   "outputs": [
    {
     "data": {
      "text/plain": [
       "dict_items([('name', 'vijay'), ('mob_no', 23894733), ('mail_id', 'vjy@gmail.com'), ('key1', [4, 5, 6]), ('key2', (1, 2, 3, 4)), ('key3', {2, 3, 4, 5}), ('key4', {1: 5, 2: 5})])"
      ]
     },
     "execution_count": 82,
     "metadata": {},
     "output_type": "execute_result"
    }
   ],
   "source": [
    "d4.items()"
   ]
  },
  {
   "cell_type": "code",
   "execution_count": 83,
   "id": "29218eb2",
   "metadata": {},
   "outputs": [
    {
     "data": {
      "text/plain": [
       "dict_items"
      ]
     },
     "execution_count": 83,
     "metadata": {},
     "output_type": "execute_result"
    }
   ],
   "source": [
    "type(d4.items())"
   ]
  },
  {
   "cell_type": "code",
   "execution_count": 84,
   "id": "75842b61",
   "metadata": {},
   "outputs": [],
   "source": [
    "d5 = {\"key1\": \"viju\", \"key2\": [1,2,3,4]}"
   ]
  },
  {
   "cell_type": "code",
   "execution_count": 86,
   "id": "708e765e",
   "metadata": {},
   "outputs": [],
   "source": [
    "d5['key3'] = \"kumar\""
   ]
  },
  {
   "cell_type": "code",
   "execution_count": 88,
   "id": "2f544d65",
   "metadata": {},
   "outputs": [
    {
     "data": {
      "text/plain": [
       "{'key1': 'viju', 'key2': [1, 2, 3, 4], 'key3': 'kumar'}"
      ]
     },
     "execution_count": 88,
     "metadata": {},
     "output_type": "execute_result"
    }
   ],
   "source": [
    "d5"
   ]
  },
  {
   "cell_type": "code",
   "execution_count": 91,
   "id": "aea946a7",
   "metadata": {},
   "outputs": [],
   "source": [
    "del d5[\"key3\"]"
   ]
  },
  {
   "cell_type": "code",
   "execution_count": 92,
   "id": "88c2b09f",
   "metadata": {},
   "outputs": [
    {
     "data": {
      "text/plain": [
       "{'key1': 'viju', 'key2': [1, 2, 3, 4]}"
      ]
     },
     "execution_count": 92,
     "metadata": {},
     "output_type": "execute_result"
    }
   ],
   "source": [
    "d5"
   ]
  },
  {
   "cell_type": "code",
   "execution_count": 93,
   "id": "585fb4c1",
   "metadata": {},
   "outputs": [],
   "source": [
    "d5[(1,2,3)] = \"tuple\""
   ]
  },
  {
   "cell_type": "code",
   "execution_count": 94,
   "id": "30fa3f9b",
   "metadata": {},
   "outputs": [
    {
     "data": {
      "text/plain": [
       "{'key1': 'viju', 'key2': [1, 2, 3, 4], (1, 2, 3): 'tuple'}"
      ]
     },
     "execution_count": 94,
     "metadata": {},
     "output_type": "execute_result"
    }
   ],
   "source": [
    "d5"
   ]
  },
  {
   "cell_type": "code",
   "execution_count": 95,
   "id": "bd8e7344",
   "metadata": {},
   "outputs": [
    {
     "data": {
      "text/plain": [
       "[1, 2, 3, 4]"
      ]
     },
     "execution_count": 95,
     "metadata": {},
     "output_type": "execute_result"
    }
   ],
   "source": [
    "d5.get('key2')"
   ]
  },
  {
   "cell_type": "code",
   "execution_count": 96,
   "id": "f94c6dbb",
   "metadata": {},
   "outputs": [],
   "source": [
    "d6 = {\"key3\": \"patil\", \"key4\":[1,2,3]}"
   ]
  },
  {
   "cell_type": "code",
   "execution_count": 97,
   "id": "0c3086f4",
   "metadata": {},
   "outputs": [],
   "source": [
    "d5.update(d6)"
   ]
  },
  {
   "cell_type": "code",
   "execution_count": 98,
   "id": "85a3f7c3",
   "metadata": {},
   "outputs": [
    {
     "data": {
      "text/plain": [
       "{'key1': 'viju',\n",
       " 'key2': [1, 2, 3, 4],\n",
       " (1, 2, 3): 'tuple',\n",
       " 'key3': 'patil',\n",
       " 'key4': [1, 2, 3]}"
      ]
     },
     "execution_count": 98,
     "metadata": {},
     "output_type": "execute_result"
    }
   ],
   "source": [
    "d5"
   ]
  },
  {
   "cell_type": "code",
   "execution_count": null,
   "id": "db26f410",
   "metadata": {},
   "outputs": [],
   "source": []
  }
 ],
 "metadata": {
  "kernelspec": {
   "display_name": "Python 3 (ipykernel)",
   "language": "python",
   "name": "python3"
  },
  "language_info": {
   "codemirror_mode": {
    "name": "ipython",
    "version": 3
   },
   "file_extension": ".py",
   "mimetype": "text/x-python",
   "name": "python",
   "nbconvert_exporter": "python",
   "pygments_lexer": "ipython3",
   "version": "3.9.13"
  }
 },
 "nbformat": 4,
 "nbformat_minor": 5
}
