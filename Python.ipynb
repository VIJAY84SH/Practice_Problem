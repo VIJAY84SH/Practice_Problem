{
 "cells": [
  {
   "cell_type": "markdown",
   "id": "80a04581",
   "metadata": {},
   "source": [
    "# Basics of Python"
   ]
  },
  {
   "cell_type": "markdown",
   "id": "b59ed898",
   "metadata": {},
   "source": [
    "### Variables\n",
    "\n",
    "- Variables are reserved memory that store data\n",
    "- Variables are containers for storing data values\n",
    "- Variables do not need to be declared with any particular type, and can even change type after they have been set.\n",
    "- Variable name cant be start with number or special character\n",
    "- A variable name must start with a letter or the underscore character\n",
    "- A variable name cannot start with a number\n",
    "- A variable name can only contain alpha-numeric characters and underscores (A-z, 0-9, and _ )\n",
    "- Variable names are case-sensitive (age, Age and AGE are three different variables)\n",
    "- A variable name cannot be any of the Python keywords"
   ]
  },
  {
   "cell_type": "markdown",
   "id": "3bf7b84c",
   "metadata": {},
   "source": [
    "print('basic of python')"
   ]
  },
  {
   "cell_type": "code",
   "execution_count": 27,
   "id": "498fca70",
   "metadata": {},
   "outputs": [],
   "source": [
    "name = 10;"
   ]
  },
  {
   "cell_type": "code",
   "execution_count": 28,
   "id": "84b68998",
   "metadata": {},
   "outputs": [
    {
     "data": {
      "text/plain": [
       "int"
      ]
     },
     "execution_count": 28,
     "metadata": {},
     "output_type": "execute_result"
    }
   ],
   "source": [
    "type(name)"
   ]
  },
  {
   "cell_type": "code",
   "execution_count": 29,
   "id": "71534b9f",
   "metadata": {},
   "outputs": [],
   "source": [
    "nam = 10.2"
   ]
  },
  {
   "cell_type": "code",
   "execution_count": 30,
   "id": "d0571e3e",
   "metadata": {},
   "outputs": [
    {
     "data": {
      "text/plain": [
       "float"
      ]
     },
     "execution_count": 30,
     "metadata": {},
     "output_type": "execute_result"
    }
   ],
   "source": [
    "type(nam)"
   ]
  },
  {
   "cell_type": "code",
   "execution_count": 31,
   "id": "0b985162",
   "metadata": {},
   "outputs": [],
   "source": [
    "name1 = name*1.2"
   ]
  },
  {
   "cell_type": "code",
   "execution_count": 32,
   "id": "f5cba9b4",
   "metadata": {},
   "outputs": [
    {
     "data": {
      "text/plain": [
       "12.0"
      ]
     },
     "execution_count": 32,
     "metadata": {},
     "output_type": "execute_result"
    }
   ],
   "source": [
    "name1"
   ]
  },
  {
   "cell_type": "code",
   "execution_count": 34,
   "id": "7fe2a508",
   "metadata": {},
   "outputs": [],
   "source": [
    "a = 'vijay'"
   ]
  },
  {
   "cell_type": "code",
   "execution_count": 36,
   "id": "ddc0842c",
   "metadata": {},
   "outputs": [
    {
     "data": {
      "text/plain": [
       "str"
      ]
     },
     "execution_count": 36,
     "metadata": {},
     "output_type": "execute_result"
    }
   ],
   "source": [
    "type(a)"
   ]
  },
  {
   "cell_type": "code",
   "execution_count": 44,
   "id": "c5cfd5ca",
   "metadata": {},
   "outputs": [
    {
     "ename": "SyntaxError",
     "evalue": "cannot assign to literal (4017616921.py, line 1)",
     "output_type": "error",
     "traceback": [
      "\u001b[1;36m  File \u001b[1;32m\"C:\\Users\\MR.GODHADE\\AppData\\Local\\Temp\\ipykernel_4184\\4017616921.py\"\u001b[1;36m, line \u001b[1;32m1\u001b[0m\n\u001b[1;33m    3= 'vijay'\u001b[0m\n\u001b[1;37m    ^\u001b[0m\n\u001b[1;31mSyntaxError\u001b[0m\u001b[1;31m:\u001b[0m cannot assign to literal\n"
     ]
    }
   ],
   "source": [
    "3= 'vijay'"
   ]
  },
  {
   "cell_type": "markdown",
   "id": "a3fd09cf",
   "metadata": {},
   "source": [
    "  File \"C:\\Users\\MR.GODHADE\\AppData\\Local\\Temp\\ipykernel_4184\\4017616921.py\", line 1\n",
    "    3= 'vijay'\n",
    "    \n",
    "    ^\n",
    "SyntaxError: cannot assign to literal"
   ]
  },
  {
   "cell_type": "markdown",
   "id": "7a70d69f",
   "metadata": {},
   "source": [
    "### MULTIPLE VARIABLE ASSIGNMENT"
   ]
  },
  {
   "cell_type": "markdown",
   "id": "7bb15cf1",
   "metadata": {},
   "source": [
    "- Many Values to Multiple Variables"
   ]
  },
  {
   "cell_type": "code",
   "execution_count": 39,
   "id": "2cba16ab",
   "metadata": {},
   "outputs": [],
   "source": [
    "a,b,c,d = 1,2,3,4"
   ]
  },
  {
   "cell_type": "code",
   "execution_count": 40,
   "id": "3c34240f",
   "metadata": {},
   "outputs": [
    {
     "data": {
      "text/plain": [
       "1"
      ]
     },
     "execution_count": 40,
     "metadata": {},
     "output_type": "execute_result"
    }
   ],
   "source": [
    "a"
   ]
  },
  {
   "cell_type": "code",
   "execution_count": 41,
   "id": "99306528",
   "metadata": {},
   "outputs": [
    {
     "data": {
      "text/plain": [
       "2"
      ]
     },
     "execution_count": 41,
     "metadata": {},
     "output_type": "execute_result"
    }
   ],
   "source": [
    "b"
   ]
  },
  {
   "cell_type": "code",
   "execution_count": 42,
   "id": "0b515292",
   "metadata": {},
   "outputs": [
    {
     "data": {
      "text/plain": [
       "3"
      ]
     },
     "execution_count": 42,
     "metadata": {},
     "output_type": "execute_result"
    }
   ],
   "source": [
    "c"
   ]
  },
  {
   "cell_type": "code",
   "execution_count": 43,
   "id": "048a3bd7",
   "metadata": {},
   "outputs": [
    {
     "data": {
      "text/plain": [
       "4"
      ]
     },
     "execution_count": 43,
     "metadata": {},
     "output_type": "execute_result"
    }
   ],
   "source": [
    "d"
   ]
  },
  {
   "cell_type": "markdown",
   "id": "919aa393",
   "metadata": {},
   "source": [
    "- One Value to Multiple Variables"
   ]
  },
  {
   "cell_type": "code",
   "execution_count": 45,
   "id": "2f90bcb1",
   "metadata": {},
   "outputs": [],
   "source": [
    "x=y=z='vijay'"
   ]
  },
  {
   "cell_type": "code",
   "execution_count": 46,
   "id": "79c67509",
   "metadata": {},
   "outputs": [
    {
     "data": {
      "text/plain": [
       "'vijay'"
      ]
     },
     "execution_count": 46,
     "metadata": {},
     "output_type": "execute_result"
    }
   ],
   "source": [
    "x"
   ]
  },
  {
   "cell_type": "code",
   "execution_count": 47,
   "id": "298fcbd9",
   "metadata": {},
   "outputs": [
    {
     "data": {
      "text/plain": [
       "'vijay'"
      ]
     },
     "execution_count": 47,
     "metadata": {},
     "output_type": "execute_result"
    }
   ],
   "source": [
    "y"
   ]
  },
  {
   "cell_type": "code",
   "execution_count": 48,
   "id": "f3fa3ebe",
   "metadata": {},
   "outputs": [
    {
     "data": {
      "text/plain": [
       "'vijay'"
      ]
     },
     "execution_count": 48,
     "metadata": {},
     "output_type": "execute_result"
    }
   ],
   "source": [
    "z"
   ]
  },
  {
   "cell_type": "markdown",
   "id": "33588958",
   "metadata": {},
   "source": [
    "## Data_types"
   ]
  },
  {
   "cell_type": "markdown",
   "id": "268b8ea1",
   "metadata": {},
   "source": [
    "- str\n",
    "- Numeric ->      int, float, complex\n",
    "- Collection  ->  list, tuple,dictionary, set\n",
    "- Boolean"
   ]
  },
  {
   "cell_type": "code",
   "execution_count": 49,
   "id": "c8c98662",
   "metadata": {},
   "outputs": [],
   "source": [
    "result = 10>20"
   ]
  },
  {
   "cell_type": "code",
   "execution_count": 50,
   "id": "7b790b29",
   "metadata": {},
   "outputs": [
    {
     "data": {
      "text/plain": [
       "False"
      ]
     },
     "execution_count": 50,
     "metadata": {},
     "output_type": "execute_result"
    }
   ],
   "source": [
    "result"
   ]
  },
  {
   "cell_type": "code",
   "execution_count": 52,
   "id": "c6151894",
   "metadata": {},
   "outputs": [
    {
     "data": {
      "text/plain": [
       "bool"
      ]
     },
     "execution_count": 52,
     "metadata": {},
     "output_type": "execute_result"
    }
   ],
   "source": [
    "type(result)"
   ]
  },
  {
   "cell_type": "code",
   "execution_count": 53,
   "id": "455e688d",
   "metadata": {},
   "outputs": [
    {
     "data": {
      "text/plain": [
       "True"
      ]
     },
     "execution_count": 53,
     "metadata": {},
     "output_type": "execute_result"
    }
   ],
   "source": [
    "bool(10)   # anything apart from 0, getting True"
   ]
  },
  {
   "cell_type": "code",
   "execution_count": 54,
   "id": "1d6446bc",
   "metadata": {},
   "outputs": [
    {
     "data": {
      "text/plain": [
       "False"
      ]
     },
     "execution_count": 54,
     "metadata": {},
     "output_type": "execute_result"
    }
   ],
   "source": [
    "bool(0)"
   ]
  },
  {
   "cell_type": "code",
   "execution_count": 55,
   "id": "210f0449",
   "metadata": {},
   "outputs": [
    {
     "data": {
      "text/plain": [
       "True"
      ]
     },
     "execution_count": 55,
     "metadata": {},
     "output_type": "execute_result"
    }
   ],
   "source": [
    "bool(-1)"
   ]
  },
  {
   "cell_type": "markdown",
   "id": "4203a9b0",
   "metadata": {},
   "source": [
    "## Implicite type casting"
   ]
  },
  {
   "cell_type": "markdown",
   "id": "63a2f7c5",
   "metadata": {},
   "source": [
    "it will change type automatically acording to need of opertion"
   ]
  },
  {
   "cell_type": "code",
   "execution_count": 56,
   "id": "007e12fa",
   "metadata": {},
   "outputs": [
    {
     "data": {
      "text/plain": [
       "int"
      ]
     },
     "execution_count": 56,
     "metadata": {},
     "output_type": "execute_result"
    }
   ],
   "source": [
    "v = 10\n",
    "type(v)"
   ]
  },
  {
   "cell_type": "code",
   "execution_count": 57,
   "id": "fa66203d",
   "metadata": {},
   "outputs": [],
   "source": [
    "v = v*2.0\n"
   ]
  },
  {
   "cell_type": "code",
   "execution_count": 58,
   "id": "e19a2ee1",
   "metadata": {},
   "outputs": [
    {
     "data": {
      "text/plain": [
       "20.0"
      ]
     },
     "execution_count": 58,
     "metadata": {},
     "output_type": "execute_result"
    }
   ],
   "source": [
    "v"
   ]
  },
  {
   "cell_type": "code",
   "execution_count": 59,
   "id": "907b2253",
   "metadata": {},
   "outputs": [
    {
     "data": {
      "text/plain": [
       "float"
      ]
     },
     "execution_count": 59,
     "metadata": {},
     "output_type": "execute_result"
    }
   ],
   "source": [
    "type(v)"
   ]
  },
  {
   "cell_type": "code",
   "execution_count": null,
   "id": "b3188a53",
   "metadata": {},
   "outputs": [],
   "source": []
  }
 ],
 "metadata": {
  "kernelspec": {
   "display_name": "Python 3 (ipykernel)",
   "language": "python",
   "name": "python3"
  },
  "language_info": {
   "codemirror_mode": {
    "name": "ipython",
    "version": 3
   },
   "file_extension": ".py",
   "mimetype": "text/x-python",
   "name": "python",
   "nbconvert_exporter": "python",
   "pygments_lexer": "ipython3",
   "version": "3.9.13"
  }
 },
 "nbformat": 4,
 "nbformat_minor": 5
}
