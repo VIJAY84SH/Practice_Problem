{
 "cells": [
  {
   "cell_type": "markdown",
   "id": "d50fedf2",
   "metadata": {},
   "source": [
    "### Function"
   ]
  },
  {
   "cell_type": "code",
   "execution_count": 1,
   "id": "62d38463",
   "metadata": {},
   "outputs": [],
   "source": [
    "def test(a,b,c,d,e):\n",
    "    return a,b,c,d,e"
   ]
  },
  {
   "cell_type": "code",
   "execution_count": 2,
   "id": "daf29671",
   "metadata": {},
   "outputs": [
    {
     "data": {
      "text/plain": [
       "(23, 45, 23, 45, 65)"
      ]
     },
     "execution_count": 2,
     "metadata": {},
     "output_type": "execute_result"
    }
   ],
   "source": [
    "test(23,45,23,45,65)"
   ]
  },
  {
   "cell_type": "code",
   "execution_count": 3,
   "id": "81eaf9cb",
   "metadata": {},
   "outputs": [],
   "source": [
    "def test1(*args):   # unlimited arguments we can pass\n",
    "    return args"
   ]
  },
  {
   "cell_type": "code",
   "execution_count": 4,
   "id": "06462965",
   "metadata": {},
   "outputs": [
    {
     "data": {
      "text/plain": [
       "(12, 23, 34, 23, 123, 2, 31, 32, 3123, 23, 23, 123, 2)"
      ]
     },
     "execution_count": 4,
     "metadata": {},
     "output_type": "execute_result"
    }
   ],
   "source": [
    "test1(12,23,34,23,123,2,31,32,3123,23,23,123,2)"
   ]
  },
  {
   "cell_type": "code",
   "execution_count": 5,
   "id": "5949d60c",
   "metadata": {},
   "outputs": [
    {
     "data": {
      "text/plain": [
       "(12, 23, 'vjy')"
      ]
     },
     "execution_count": 5,
     "metadata": {},
     "output_type": "execute_result"
    }
   ],
   "source": [
    "test1(12,23,\"vjy\")"
   ]
  },
  {
   "cell_type": "code",
   "execution_count": 6,
   "id": "b9e5f554",
   "metadata": {},
   "outputs": [
    {
     "data": {
      "text/plain": [
       "(1, 2, 3, (4, 5, 6), [2, 3, 4], 'vijay')"
      ]
     },
     "execution_count": 6,
     "metadata": {},
     "output_type": "execute_result"
    }
   ],
   "source": [
    "test1(1,2,3,(4,5,6),[2,3,4],'vijay')"
   ]
  },
  {
   "cell_type": "code",
   "execution_count": 7,
   "id": "56c6a554",
   "metadata": {},
   "outputs": [],
   "source": [
    "def test2(*vijay):\n",
    "    return vijay"
   ]
  },
  {
   "cell_type": "code",
   "execution_count": 8,
   "id": "27f07c91",
   "metadata": {},
   "outputs": [
    {
     "data": {
      "text/plain": [
       "('vijay', 1, 2, 3, [4, 5])"
      ]
     },
     "execution_count": 8,
     "metadata": {},
     "output_type": "execute_result"
    }
   ],
   "source": [
    "test2(\"vijay\",1,2,3,[4,5])"
   ]
  },
  {
   "cell_type": "code",
   "execution_count": 9,
   "id": "af469f07",
   "metadata": {},
   "outputs": [],
   "source": [
    "def test3(*vjy,a): \n",
    "    return vjy,a"
   ]
  },
  {
   "cell_type": "code",
   "execution_count": 10,
   "id": "d318c73c",
   "metadata": {},
   "outputs": [
    {
     "ename": "TypeError",
     "evalue": "test3() missing 1 required keyword-only argument: 'a'",
     "output_type": "error",
     "traceback": [
      "\u001b[1;31m---------------------------------------------------------------------------\u001b[0m",
      "\u001b[1;31mTypeError\u001b[0m                                 Traceback (most recent call last)",
      "\u001b[1;32m~\\AppData\\Local\\Temp\\ipykernel_5732\\1712782666.py\u001b[0m in \u001b[0;36m<module>\u001b[1;34m\u001b[0m\n\u001b[1;32m----> 1\u001b[1;33m \u001b[0mtest3\u001b[0m\u001b[1;33m(\u001b[0m\u001b[1;36m23\u001b[0m\u001b[1;33m,\u001b[0m\u001b[1;36m43\u001b[0m\u001b[1;33m,\u001b[0m\u001b[1;36m34\u001b[0m\u001b[1;33m)\u001b[0m \u001b[1;31m# we need to specify value for argument a\u001b[0m\u001b[1;33m\u001b[0m\u001b[1;33m\u001b[0m\u001b[0m\n\u001b[0m",
      "\u001b[1;31mTypeError\u001b[0m: test3() missing 1 required keyword-only argument: 'a'"
     ]
    }
   ],
   "source": [
    "test3(23,43,34) # we need to specify value for argument a"
   ]
  },
  {
   "cell_type": "code",
   "execution_count": 18,
   "id": "ce8b1554",
   "metadata": {},
   "outputs": [],
   "source": [
    "def test3c(a,*vjy):\n",
    "    return a,vjy"
   ]
  },
  {
   "cell_type": "code",
   "execution_count": 19,
   "id": "3b18015d",
   "metadata": {},
   "outputs": [
    {
     "data": {
      "text/plain": [
       "(12, (243, 243, 23))"
      ]
     },
     "execution_count": 19,
     "metadata": {},
     "output_type": "execute_result"
    }
   ],
   "source": [
    "test3c(12,243,243,23)"
   ]
  },
  {
   "cell_type": "code",
   "execution_count": null,
   "id": "90c6796f",
   "metadata": {},
   "outputs": [],
   "source": [
    "def test3a(*vjy,a=84): # need to be care if u specified a argument name\n",
    "    return vjy,a"
   ]
  },
  {
   "cell_type": "code",
   "execution_count": null,
   "id": "729645e4",
   "metadata": {},
   "outputs": [],
   "source": [
    "test3a(12,34,34,23)"
   ]
  },
  {
   "cell_type": "code",
   "execution_count": null,
   "id": "815d8fd3",
   "metadata": {},
   "outputs": [],
   "source": [
    "def test3b(*vjy,a,b,c,d):\n",
    "    return vjy,a,b,c,d"
   ]
  },
  {
   "cell_type": "code",
   "execution_count": 17,
   "id": "a40658fe",
   "metadata": {},
   "outputs": [
    {
     "data": {
      "text/plain": [
       "((1, 2, 3, 4), [2, 3], 'vjy', 2, 4.5)"
      ]
     },
     "execution_count": 17,
     "metadata": {},
     "output_type": "execute_result"
    }
   ],
   "source": [
    "test3b(1,2,3,4,a=[2,3],b='vjy',c=2,d=4.5)"
   ]
  },
  {
   "cell_type": "code",
   "execution_count": null,
   "id": "d4a5a3b8",
   "metadata": {},
   "outputs": [],
   "source": []
  },
  {
   "cell_type": "code",
   "execution_count": 20,
   "id": "c59d8676",
   "metadata": {},
   "outputs": [],
   "source": [
    "def test4(**kwargs):   \n",
    "    return kwargs"
   ]
  },
  {
   "cell_type": "code",
   "execution_count": 22,
   "id": "c021a5e2",
   "metadata": {},
   "outputs": [
    {
     "data": {
      "text/plain": [
       "{'a': 23, 'b': 334, 'c': 23, 'd': 32}"
      ]
     },
     "execution_count": 22,
     "metadata": {},
     "output_type": "execute_result"
    }
   ],
   "source": [
    "test4(a =23,b = 334,c=23,d=32)"
   ]
  },
  {
   "cell_type": "code",
   "execution_count": 23,
   "id": "b2f68713",
   "metadata": {},
   "outputs": [],
   "source": [
    "def test4a(**vjy):\n",
    "    return vjy"
   ]
  },
  {
   "cell_type": "code",
   "execution_count": 25,
   "id": "49217356",
   "metadata": {},
   "outputs": [
    {
     "data": {
      "text/plain": [
       "{'name': 'vijay', 'age': 27, 'ph_no': 8484}"
      ]
     },
     "execution_count": 25,
     "metadata": {},
     "output_type": "execute_result"
    }
   ],
   "source": [
    "test4a(name=\"vijay\", age = 27, ph_no = 8484)"
   ]
  },
  {
   "cell_type": "code",
   "execution_count": 30,
   "id": "53dfa994",
   "metadata": {},
   "outputs": [
    {
     "ename": "SyntaxError",
     "evalue": "invalid syntax (3824428411.py, line 1)",
     "output_type": "error",
     "traceback": [
      "\u001b[1;36m  File \u001b[1;32m\"C:\\Users\\MR.GODHADE\\AppData\\Local\\Temp\\ipykernel_5732\\3824428411.py\"\u001b[1;36m, line \u001b[1;32m1\u001b[0m\n\u001b[1;33m    def test4b(a,**vjy,*vjyp):\u001b[0m\n\u001b[1;37m                       ^\u001b[0m\n\u001b[1;31mSyntaxError\u001b[0m\u001b[1;31m:\u001b[0m invalid syntax\n"
     ]
    }
   ],
   "source": [
    "def test4b(a,**vjy,*vjyp):\n",
    "    return a,vjy,vjyp    "
   ]
  },
  {
   "cell_type": "code",
   "execution_count": 31,
   "id": "bb75e127",
   "metadata": {},
   "outputs": [],
   "source": [
    "def test4b(a,*vjy,**vjyp):\n",
    "    return a,vjy,vjyp "
   ]
  },
  {
   "cell_type": "code",
   "execution_count": 33,
   "id": "6f77cb4c",
   "metadata": {},
   "outputs": [
    {
     "data": {
      "text/plain": [
       "(23, (3, 4, 32, 2, 44), {'c': 34, 'b': 84})"
      ]
     },
     "execution_count": 33,
     "metadata": {},
     "output_type": "execute_result"
    }
   ],
   "source": [
    "test4b(23,3,4,32,2,44,c=34,b=84)"
   ]
  },
  {
   "cell_type": "markdown",
   "id": "c9dbdd91",
   "metadata": {},
   "source": [
    "### Lambda"
   ]
  },
  {
   "cell_type": "code",
   "execution_count": 40,
   "id": "63498f22",
   "metadata": {},
   "outputs": [],
   "source": [
    "lam_fun = lambda a,b:a*b"
   ]
  },
  {
   "cell_type": "code",
   "execution_count": 41,
   "id": "0e1722be",
   "metadata": {},
   "outputs": [
    {
     "data": {
      "text/plain": [
       "46"
      ]
     },
     "execution_count": 41,
     "metadata": {},
     "output_type": "execute_result"
    }
   ],
   "source": [
    "lam_fun(23,2)"
   ]
  },
  {
   "cell_type": "code",
   "execution_count": 42,
   "id": "1d719e1e",
   "metadata": {},
   "outputs": [],
   "source": [
    "lam_fun1 = lambda *a:a  # lambda with n number of arguments"
   ]
  },
  {
   "cell_type": "code",
   "execution_count": 43,
   "id": "19194c34",
   "metadata": {},
   "outputs": [
    {
     "data": {
      "text/plain": [
       "(1, 2, 3, 4, 4)"
      ]
     },
     "execution_count": 43,
     "metadata": {},
     "output_type": "execute_result"
    }
   ],
   "source": [
    "lam_fun1(1,2,3,4,4)"
   ]
  },
  {
   "cell_type": "code",
   "execution_count": 52,
   "id": "76b89562",
   "metadata": {},
   "outputs": [],
   "source": [
    "x = lambda *a :a*2   #lambda fun understand whatever we pass that is tuple so tuple to tuple can't multiply"
   ]
  },
  {
   "cell_type": "code",
   "execution_count": 53,
   "id": "347b13f2",
   "metadata": {},
   "outputs": [
    {
     "data": {
      "text/plain": [
       "(2, 3, 4, 5, 2, 3, 4, 5)"
      ]
     },
     "execution_count": 53,
     "metadata": {},
     "output_type": "execute_result"
    }
   ],
   "source": [
    "x(2,3,4,5)"
   ]
  },
  {
   "cell_type": "code",
   "execution_count": 60,
   "id": "357679eb",
   "metadata": {},
   "outputs": [],
   "source": [
    "x1 = lambda *a :a*2"
   ]
  },
  {
   "cell_type": "code",
   "execution_count": 62,
   "id": "3fbce32f",
   "metadata": {},
   "outputs": [
    {
     "data": {
      "text/plain": [
       "(2, 3, 4, 2, 3, 4)"
      ]
     },
     "execution_count": 62,
     "metadata": {},
     "output_type": "execute_result"
    }
   ],
   "source": [
    "x1(2,3,4)"
   ]
  },
  {
   "cell_type": "code",
   "execution_count": 73,
   "id": "b4e9633a",
   "metadata": {},
   "outputs": [],
   "source": [
    "x = lambda x:[i for i in x]  # if  you are going to store series of value then you have"
   ]
  },
  {
   "cell_type": "code",
   "execution_count": 72,
   "id": "5fc38f74",
   "metadata": {},
   "outputs": [
    {
     "name": "stdout",
     "output_type": "stream",
     "text": [
      "2\n",
      "3\n",
      "4\n",
      "5\n"
     ]
    },
    {
     "data": {
      "text/plain": [
       "[None, None, None, None]"
      ]
     },
     "execution_count": 72,
     "metadata": {},
     "output_type": "execute_result"
    }
   ],
   "source": [
    "x([2,3,4,5])"
   ]
  },
  {
   "cell_type": "code",
   "execution_count": 91,
   "id": "518bacc9",
   "metadata": {},
   "outputs": [],
   "source": [
    "x1 = lambda **vjy:vjy"
   ]
  },
  {
   "cell_type": "code",
   "execution_count": 93,
   "id": "338bdb1a",
   "metadata": {},
   "outputs": [
    {
     "data": {
      "text/plain": [
       "{'a': 34, 'b': 23}"
      ]
     },
     "execution_count": 93,
     "metadata": {},
     "output_type": "execute_result"
    }
   ],
   "source": [
    "x1(a=34,b=23)\n"
   ]
  },
  {
   "cell_type": "code",
   "execution_count": 94,
   "id": "aa0188b0",
   "metadata": {},
   "outputs": [],
   "source": [
    "a = 10\n",
    "def test5(c,d):\n",
    "    return c*d"
   ]
  },
  {
   "cell_type": "code",
   "execution_count": 96,
   "id": "41d2b519",
   "metadata": {},
   "outputs": [
    {
     "data": {
      "text/plain": [
       "200"
      ]
     },
     "execution_count": 96,
     "metadata": {},
     "output_type": "execute_result"
    }
   ],
   "source": [
    "test5(a,20)"
   ]
  },
  {
   "cell_type": "code",
   "execution_count": 102,
   "id": "d6c4dbbe",
   "metadata": {},
   "outputs": [],
   "source": [
    "a = 10\n",
    "def test5a(c,d):\n",
    "    a=5\n",
    "    return c*d"
   ]
  },
  {
   "cell_type": "code",
   "execution_count": 103,
   "id": "de599cc1",
   "metadata": {},
   "outputs": [
    {
     "data": {
      "text/plain": [
       "200"
      ]
     },
     "execution_count": 103,
     "metadata": {},
     "output_type": "execute_result"
    }
   ],
   "source": [
    "test5a(a,20)"
   ]
  },
  {
   "cell_type": "code",
   "execution_count": 105,
   "id": "337606b2",
   "metadata": {},
   "outputs": [],
   "source": [
    "a = 10\n",
    "def test5b(c,d):\n",
    "    c=5\n",
    "    return c*d"
   ]
  },
  {
   "cell_type": "code",
   "execution_count": 107,
   "id": "d96da213",
   "metadata": {},
   "outputs": [
    {
     "data": {
      "text/plain": [
       "100"
      ]
     },
     "execution_count": 107,
     "metadata": {},
     "output_type": "execute_result"
    }
   ],
   "source": [
    "test5b(2,20)"
   ]
  },
  {
   "cell_type": "code",
   "execution_count": 112,
   "id": "93da2bfc",
   "metadata": {},
   "outputs": [],
   "source": [
    "c = 10  # this is flobal declaration\n",
    "def test5c(c,d):\n",
    "    c=5         #scope of this c is within a function itself\n",
    "    return c*d"
   ]
  },
  {
   "cell_type": "code",
   "execution_count": 113,
   "id": "31ee6492",
   "metadata": {},
   "outputs": [
    {
     "data": {
      "text/plain": [
       "100"
      ]
     },
     "execution_count": 113,
     "metadata": {},
     "output_type": "execute_result"
    }
   ],
   "source": [
    "test5c(10,20)"
   ]
  },
  {
   "cell_type": "code",
   "execution_count": null,
   "id": "c2f52ff9",
   "metadata": {},
   "outputs": [],
   "source": []
  }
 ],
 "metadata": {
  "kernelspec": {
   "display_name": "Python 3 (ipykernel)",
   "language": "python",
   "name": "python3"
  },
  "language_info": {
   "codemirror_mode": {
    "name": "ipython",
    "version": 3
   },
   "file_extension": ".py",
   "mimetype": "text/x-python",
   "name": "python",
   "nbconvert_exporter": "python",
   "pygments_lexer": "ipython3",
   "version": "3.9.13"
  }
 },
 "nbformat": 4,
 "nbformat_minor": 5
}
